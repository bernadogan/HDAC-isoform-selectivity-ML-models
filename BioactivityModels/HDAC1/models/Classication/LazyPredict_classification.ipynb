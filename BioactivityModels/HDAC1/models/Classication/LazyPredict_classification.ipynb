{
 "cells": [
  {
   "cell_type": "code",
   "execution_count": 1,
   "id": "a5782b42",
   "metadata": {
    "execution": {
     "iopub.execute_input": "2022-10-16T12:04:03.290233Z",
     "iopub.status.busy": "2022-10-16T12:04:03.290101Z",
     "iopub.status.idle": "2022-10-16T12:04:04.123273Z",
     "shell.execute_reply": "2022-10-16T12:04:04.122987Z"
    }
   },
   "outputs": [
    {
     "name": "stderr",
     "output_type": "stream",
     "text": [
      "C:\\Users\\berna\\AppData\\Roaming\\Python\\Python38\\site-packages\\sklearn\\utils\\deprecation.py:143: FutureWarning: The sklearn.utils.testing module is  deprecated in version 0.22 and will be removed in version 0.24. The corresponding classes / functions should instead be imported from sklearn.utils. Anything that cannot be imported from sklearn.utils is now part of the private API.\n",
      "  warnings.warn(message, FutureWarning)\n",
      "C:\\Users\\berna\\anaconda3\\envs\\teachopencadd\\lib\\site-packages\\xgboost\\compat.py:36: FutureWarning: pandas.Int64Index is deprecated and will be removed from pandas in a future version. Use pandas.Index with the appropriate dtype instead.\n",
      "  from pandas import MultiIndex, Int64Index\n"
     ]
    }
   ],
   "source": [
    "import pandas as pd\n",
    "import numpy as np\n",
    "import matplotlib.pyplot as plt\n",
    "import seaborn as sns\n",
    "from sklearn.model_selection import train_test_split\n",
    "import lazypredict\n",
    "from lazypredict.Supervised import LazyClassifier\n",
    "from pathlib import Path\n",
    "import warnings\n",
    "warnings.filterwarnings('ignore')"
   ]
  },
  {
   "cell_type": "code",
   "execution_count": 2,
   "id": "c94d26f9",
   "metadata": {
    "execution": {
     "iopub.execute_input": "2022-10-16T12:04:04.124726Z",
     "iopub.status.busy": "2022-10-16T12:04:04.124560Z",
     "iopub.status.idle": "2022-10-16T12:04:04.126669Z",
     "shell.execute_reply": "2022-10-16T12:04:04.126429Z"
    }
   },
   "outputs": [],
   "source": [
    "# Set path to this notebook\n",
    "HERE = Path(_dh[-1])\n",
    "HDAC1 = Path(HERE).resolve().parents[1]/'input'\n",
    "output = HERE/'OUTPUT'"
   ]
  },
  {
   "cell_type": "code",
   "execution_count": 3,
   "id": "16d195ac",
   "metadata": {
    "execution": {
     "iopub.execute_input": "2022-10-16T12:04:04.128040Z",
     "iopub.status.busy": "2022-10-16T12:04:04.127939Z",
     "iopub.status.idle": "2022-10-16T12:04:04.183343Z",
     "shell.execute_reply": "2022-10-16T12:04:04.183025Z"
    }
   },
   "outputs": [
    {
     "data": {
      "text/html": [
       "<div>\n",
       "<style scoped>\n",
       "    .dataframe tbody tr th:only-of-type {\n",
       "        vertical-align: middle;\n",
       "    }\n",
       "\n",
       "    .dataframe tbody tr th {\n",
       "        vertical-align: top;\n",
       "    }\n",
       "\n",
       "    .dataframe thead th {\n",
       "        text-align: right;\n",
       "    }\n",
       "</style>\n",
       "<table border=\"1\" class=\"dataframe\">\n",
       "  <thead>\n",
       "    <tr style=\"text-align: right;\">\n",
       "      <th></th>\n",
       "      <th>molecule_chembl_id</th>\n",
       "      <th>fp_MACCS</th>\n",
       "      <th>fp_Morgan3</th>\n",
       "      <th>fp_MorganF</th>\n",
       "      <th>fp_MAP4</th>\n",
       "      <th>pChEMBL_HDAC1</th>\n",
       "    </tr>\n",
       "  </thead>\n",
       "  <tbody>\n",
       "    <tr>\n",
       "      <th>0</th>\n",
       "      <td>CHEMBL474693</td>\n",
       "      <td>[0, 0, 0, 0, 0, 0, 0, 0, 0, 0, 0, 0, 0, 0, 0, ...</td>\n",
       "      <td>[0, 0, 0, 0, 0, 0, 0, 0, 0, 0, 0, 0, 0, 0, 0, ...</td>\n",
       "      <td>[1, 1, 1, 1, 1, 0, 0, 0, 0, 0, 1, 0, 0, 0, 0, ...</td>\n",
       "      <td>[3192076, 3087414, 1578989, 9391761, 7347340, ...</td>\n",
       "      <td>6.01</td>\n",
       "    </tr>\n",
       "    <tr>\n",
       "      <th>1</th>\n",
       "      <td>CHEMBL3918218</td>\n",
       "      <td>[0, 0, 0, 0, 0, 0, 0, 0, 0, 0, 0, 0, 0, 0, 0, ...</td>\n",
       "      <td>[0, 0, 0, 0, 0, 0, 0, 0, 1, 0, 0, 0, 0, 0, 0, ...</td>\n",
       "      <td>[1, 1, 1, 0, 1, 0, 0, 0, 0, 0, 1, 1, 0, 0, 0, ...</td>\n",
       "      <td>[9593141, 2349897, 1098538, 7467572, 19368319,...</td>\n",
       "      <td>5.42</td>\n",
       "    </tr>\n",
       "    <tr>\n",
       "      <th>2</th>\n",
       "      <td>CHEMBL3689854</td>\n",
       "      <td>[0, 0, 0, 0, 0, 0, 0, 0, 0, 0, 0, 0, 0, 0, 0, ...</td>\n",
       "      <td>[0, 0, 0, 0, 0, 1, 0, 0, 0, 0, 0, 0, 0, 0, 0, ...</td>\n",
       "      <td>[1, 1, 1, 1, 1, 0, 1, 0, 0, 0, 0, 0, 0, 0, 0, ...</td>\n",
       "      <td>[12893645, 6538203, 7998790, 18475925, 9830328...</td>\n",
       "      <td>6.48</td>\n",
       "    </tr>\n",
       "    <tr>\n",
       "      <th>3</th>\n",
       "      <td>CHEMBL2022826</td>\n",
       "      <td>[0, 0, 0, 0, 0, 0, 0, 0, 0, 0, 0, 0, 0, 0, 1, ...</td>\n",
       "      <td>[1, 1, 0, 0, 0, 0, 0, 0, 0, 0, 0, 0, 0, 0, 0, ...</td>\n",
       "      <td>[1, 1, 1, 0, 1, 0, 1, 0, 0, 0, 1, 1, 0, 0, 0, ...</td>\n",
       "      <td>[145521, 10511, 2475943, 9391761, 9038104, 554...</td>\n",
       "      <td>7.15</td>\n",
       "    </tr>\n",
       "    <tr>\n",
       "      <th>4</th>\n",
       "      <td>CHEMBL393117</td>\n",
       "      <td>[0, 0, 0, 0, 0, 0, 0, 0, 0, 0, 0, 0, 0, 0, 0, ...</td>\n",
       "      <td>[0, 0, 0, 1, 0, 0, 0, 0, 0, 0, 0, 0, 0, 0, 0, ...</td>\n",
       "      <td>[1, 1, 1, 0, 1, 0, 1, 0, 0, 0, 1, 0, 0, 0, 0, ...</td>\n",
       "      <td>[3300235, 2685452, 7299922, 599760, 28861, 115...</td>\n",
       "      <td>7.04</td>\n",
       "    </tr>\n",
       "  </tbody>\n",
       "</table>\n",
       "</div>"
      ],
      "text/plain": [
       "  molecule_chembl_id                                           fp_MACCS  \\\n",
       "0       CHEMBL474693  [0, 0, 0, 0, 0, 0, 0, 0, 0, 0, 0, 0, 0, 0, 0, ...   \n",
       "1      CHEMBL3918218  [0, 0, 0, 0, 0, 0, 0, 0, 0, 0, 0, 0, 0, 0, 0, ...   \n",
       "2      CHEMBL3689854  [0, 0, 0, 0, 0, 0, 0, 0, 0, 0, 0, 0, 0, 0, 0, ...   \n",
       "3      CHEMBL2022826  [0, 0, 0, 0, 0, 0, 0, 0, 0, 0, 0, 0, 0, 0, 1, ...   \n",
       "4       CHEMBL393117  [0, 0, 0, 0, 0, 0, 0, 0, 0, 0, 0, 0, 0, 0, 0, ...   \n",
       "\n",
       "                                          fp_Morgan3  \\\n",
       "0  [0, 0, 0, 0, 0, 0, 0, 0, 0, 0, 0, 0, 0, 0, 0, ...   \n",
       "1  [0, 0, 0, 0, 0, 0, 0, 0, 1, 0, 0, 0, 0, 0, 0, ...   \n",
       "2  [0, 0, 0, 0, 0, 1, 0, 0, 0, 0, 0, 0, 0, 0, 0, ...   \n",
       "3  [1, 1, 0, 0, 0, 0, 0, 0, 0, 0, 0, 0, 0, 0, 0, ...   \n",
       "4  [0, 0, 0, 1, 0, 0, 0, 0, 0, 0, 0, 0, 0, 0, 0, ...   \n",
       "\n",
       "                                          fp_MorganF  \\\n",
       "0  [1, 1, 1, 1, 1, 0, 0, 0, 0, 0, 1, 0, 0, 0, 0, ...   \n",
       "1  [1, 1, 1, 0, 1, 0, 0, 0, 0, 0, 1, 1, 0, 0, 0, ...   \n",
       "2  [1, 1, 1, 1, 1, 0, 1, 0, 0, 0, 0, 0, 0, 0, 0, ...   \n",
       "3  [1, 1, 1, 0, 1, 0, 1, 0, 0, 0, 1, 1, 0, 0, 0, ...   \n",
       "4  [1, 1, 1, 0, 1, 0, 1, 0, 0, 0, 1, 0, 0, 0, 0, ...   \n",
       "\n",
       "                                             fp_MAP4  pChEMBL_HDAC1  \n",
       "0  [3192076, 3087414, 1578989, 9391761, 7347340, ...           6.01  \n",
       "1  [9593141, 2349897, 1098538, 7467572, 19368319,...           5.42  \n",
       "2  [12893645, 6538203, 7998790, 18475925, 9830328...           6.48  \n",
       "3  [145521, 10511, 2475943, 9391761, 9038104, 554...           7.15  \n",
       "4  [3300235, 2685452, 7299922, 599760, 28861, 115...           7.04  "
      ]
     },
     "execution_count": 3,
     "metadata": {},
     "output_type": "execute_result"
    }
   ],
   "source": [
    "df1 = pd.read_pickle(HDAC1/\"HDAC1_1024B.csv\")\n",
    "df1 = df1.sample(frac=1).reset_index(drop=True)\n",
    "df1.head(5)"
   ]
  },
  {
   "cell_type": "code",
   "execution_count": 4,
   "id": "a8f6e20b",
   "metadata": {
    "execution": {
     "iopub.execute_input": "2022-10-16T12:04:04.193679Z",
     "iopub.status.busy": "2022-10-16T12:04:04.193559Z",
     "iopub.status.idle": "2022-10-16T12:04:04.197078Z",
     "shell.execute_reply": "2022-10-16T12:04:04.196844Z"
    }
   },
   "outputs": [
    {
     "name": "stdout",
     "output_type": "stream",
     "text": [
      "Number of active compounds: 2361\n",
      "Number of inactive compounds: 2131\n"
     ]
    }
   ],
   "source": [
    "# Add column for activity\n",
    "df1[\"activity\"] = np.zeros(len(df1))\n",
    "\n",
    "# Mark every molecule as active with an pIC50 of >= 6.6, 0 otherwise\n",
    "df1.loc[df1[df1.pChEMBL_HDAC1 >= 6.6].index, \"activity\"] = 1.0\n",
    "\n",
    "# NBVAL_CHECK_OUTPUT\n",
    "print(\"Number of active compounds:\", int(df1.activity.sum()))\n",
    "print(\"Number of inactive compounds:\", len(df1) - int(df1.activity.sum()))"
   ]
  },
  {
   "cell_type": "code",
   "execution_count": 5,
   "id": "75cdb440",
   "metadata": {
    "execution": {
     "iopub.execute_input": "2022-10-16T12:04:04.198460Z",
     "iopub.status.busy": "2022-10-16T12:04:04.198328Z",
     "iopub.status.idle": "2022-10-16T12:04:04.212116Z",
     "shell.execute_reply": "2022-10-16T12:04:04.211890Z"
    }
   },
   "outputs": [
    {
     "data": {
      "text/html": [
       "<div>\n",
       "<style scoped>\n",
       "    .dataframe tbody tr th:only-of-type {\n",
       "        vertical-align: middle;\n",
       "    }\n",
       "\n",
       "    .dataframe tbody tr th {\n",
       "        vertical-align: top;\n",
       "    }\n",
       "\n",
       "    .dataframe thead th {\n",
       "        text-align: right;\n",
       "    }\n",
       "</style>\n",
       "<table border=\"1\" class=\"dataframe\">\n",
       "  <thead>\n",
       "    <tr style=\"text-align: right;\">\n",
       "      <th></th>\n",
       "      <th>molecule_chembl_id</th>\n",
       "      <th>fp_MACCS</th>\n",
       "      <th>fp_Morgan3</th>\n",
       "      <th>fp_MorganF</th>\n",
       "      <th>fp_MAP4</th>\n",
       "      <th>pChEMBL_HDAC1</th>\n",
       "      <th>activity</th>\n",
       "    </tr>\n",
       "  </thead>\n",
       "  <tbody>\n",
       "    <tr>\n",
       "      <th>0</th>\n",
       "      <td>CHEMBL474693</td>\n",
       "      <td>[0, 0, 0, 0, 0, 0, 0, 0, 0, 0, 0, 0, 0, 0, 0, ...</td>\n",
       "      <td>[0, 0, 0, 0, 0, 0, 0, 0, 0, 0, 0, 0, 0, 0, 0, ...</td>\n",
       "      <td>[1, 1, 1, 1, 1, 0, 0, 0, 0, 0, 1, 0, 0, 0, 0, ...</td>\n",
       "      <td>[3192076, 3087414, 1578989, 9391761, 7347340, ...</td>\n",
       "      <td>6.01</td>\n",
       "      <td>0.00</td>\n",
       "    </tr>\n",
       "    <tr>\n",
       "      <th>1</th>\n",
       "      <td>CHEMBL3918218</td>\n",
       "      <td>[0, 0, 0, 0, 0, 0, 0, 0, 0, 0, 0, 0, 0, 0, 0, ...</td>\n",
       "      <td>[0, 0, 0, 0, 0, 0, 0, 0, 1, 0, 0, 0, 0, 0, 0, ...</td>\n",
       "      <td>[1, 1, 1, 0, 1, 0, 0, 0, 0, 0, 1, 1, 0, 0, 0, ...</td>\n",
       "      <td>[9593141, 2349897, 1098538, 7467572, 19368319,...</td>\n",
       "      <td>5.42</td>\n",
       "      <td>0.00</td>\n",
       "    </tr>\n",
       "    <tr>\n",
       "      <th>2</th>\n",
       "      <td>CHEMBL3689854</td>\n",
       "      <td>[0, 0, 0, 0, 0, 0, 0, 0, 0, 0, 0, 0, 0, 0, 0, ...</td>\n",
       "      <td>[0, 0, 0, 0, 0, 1, 0, 0, 0, 0, 0, 0, 0, 0, 0, ...</td>\n",
       "      <td>[1, 1, 1, 1, 1, 0, 1, 0, 0, 0, 0, 0, 0, 0, 0, ...</td>\n",
       "      <td>[12893645, 6538203, 7998790, 18475925, 9830328...</td>\n",
       "      <td>6.48</td>\n",
       "      <td>0.00</td>\n",
       "    </tr>\n",
       "    <tr>\n",
       "      <th>3</th>\n",
       "      <td>CHEMBL2022826</td>\n",
       "      <td>[0, 0, 0, 0, 0, 0, 0, 0, 0, 0, 0, 0, 0, 0, 1, ...</td>\n",
       "      <td>[1, 1, 0, 0, 0, 0, 0, 0, 0, 0, 0, 0, 0, 0, 0, ...</td>\n",
       "      <td>[1, 1, 1, 0, 1, 0, 1, 0, 0, 0, 1, 1, 0, 0, 0, ...</td>\n",
       "      <td>[145521, 10511, 2475943, 9391761, 9038104, 554...</td>\n",
       "      <td>7.15</td>\n",
       "      <td>1.00</td>\n",
       "    </tr>\n",
       "    <tr>\n",
       "      <th>4</th>\n",
       "      <td>CHEMBL393117</td>\n",
       "      <td>[0, 0, 0, 0, 0, 0, 0, 0, 0, 0, 0, 0, 0, 0, 0, ...</td>\n",
       "      <td>[0, 0, 0, 1, 0, 0, 0, 0, 0, 0, 0, 0, 0, 0, 0, ...</td>\n",
       "      <td>[1, 1, 1, 0, 1, 0, 1, 0, 0, 0, 1, 0, 0, 0, 0, ...</td>\n",
       "      <td>[3300235, 2685452, 7299922, 599760, 28861, 115...</td>\n",
       "      <td>7.04</td>\n",
       "      <td>1.00</td>\n",
       "    </tr>\n",
       "  </tbody>\n",
       "</table>\n",
       "</div>"
      ],
      "text/plain": [
       "  molecule_chembl_id                                           fp_MACCS  \\\n",
       "0       CHEMBL474693  [0, 0, 0, 0, 0, 0, 0, 0, 0, 0, 0, 0, 0, 0, 0, ...   \n",
       "1      CHEMBL3918218  [0, 0, 0, 0, 0, 0, 0, 0, 0, 0, 0, 0, 0, 0, 0, ...   \n",
       "2      CHEMBL3689854  [0, 0, 0, 0, 0, 0, 0, 0, 0, 0, 0, 0, 0, 0, 0, ...   \n",
       "3      CHEMBL2022826  [0, 0, 0, 0, 0, 0, 0, 0, 0, 0, 0, 0, 0, 0, 1, ...   \n",
       "4       CHEMBL393117  [0, 0, 0, 0, 0, 0, 0, 0, 0, 0, 0, 0, 0, 0, 0, ...   \n",
       "\n",
       "                                          fp_Morgan3  \\\n",
       "0  [0, 0, 0, 0, 0, 0, 0, 0, 0, 0, 0, 0, 0, 0, 0, ...   \n",
       "1  [0, 0, 0, 0, 0, 0, 0, 0, 1, 0, 0, 0, 0, 0, 0, ...   \n",
       "2  [0, 0, 0, 0, 0, 1, 0, 0, 0, 0, 0, 0, 0, 0, 0, ...   \n",
       "3  [1, 1, 0, 0, 0, 0, 0, 0, 0, 0, 0, 0, 0, 0, 0, ...   \n",
       "4  [0, 0, 0, 1, 0, 0, 0, 0, 0, 0, 0, 0, 0, 0, 0, ...   \n",
       "\n",
       "                                          fp_MorganF  \\\n",
       "0  [1, 1, 1, 1, 1, 0, 0, 0, 0, 0, 1, 0, 0, 0, 0, ...   \n",
       "1  [1, 1, 1, 0, 1, 0, 0, 0, 0, 0, 1, 1, 0, 0, 0, ...   \n",
       "2  [1, 1, 1, 1, 1, 0, 1, 0, 0, 0, 0, 0, 0, 0, 0, ...   \n",
       "3  [1, 1, 1, 0, 1, 0, 1, 0, 0, 0, 1, 1, 0, 0, 0, ...   \n",
       "4  [1, 1, 1, 0, 1, 0, 1, 0, 0, 0, 1, 0, 0, 0, 0, ...   \n",
       "\n",
       "                                             fp_MAP4  pChEMBL_HDAC1  activity  \n",
       "0  [3192076, 3087414, 1578989, 9391761, 7347340, ...           6.01      0.00  \n",
       "1  [9593141, 2349897, 1098538, 7467572, 19368319,...           5.42      0.00  \n",
       "2  [12893645, 6538203, 7998790, 18475925, 9830328...           6.48      0.00  \n",
       "3  [145521, 10511, 2475943, 9391761, 9038104, 554...           7.15      1.00  \n",
       "4  [3300235, 2685452, 7299922, 599760, 28861, 115...           7.04      1.00  "
      ]
     },
     "execution_count": 5,
     "metadata": {},
     "output_type": "execute_result"
    }
   ],
   "source": [
    "df1.head(5)"
   ]
  },
  {
   "cell_type": "markdown",
   "id": "5c59d3ae",
   "metadata": {},
   "source": [
    "#### By using MACCS fingerprints that are 166 bits "
   ]
  },
  {
   "cell_type": "code",
   "execution_count": 6,
   "id": "7b909b48",
   "metadata": {
    "execution": {
     "iopub.execute_input": "2022-10-16T12:04:04.213503Z",
     "iopub.status.busy": "2022-10-16T12:04:04.213403Z",
     "iopub.status.idle": "2022-10-16T12:04:04.218546Z",
     "shell.execute_reply": "2022-10-16T12:04:04.218294Z"
    }
   },
   "outputs": [],
   "source": [
    "X1 = np.array(list((df1['fp_MACCS']))).astype(float)\n",
    "#X.shape\n",
    "Y1 = df1[\"activity\"].values\n",
    "#y.shape"
   ]
  },
  {
   "cell_type": "code",
   "execution_count": 7,
   "id": "1597418b",
   "metadata": {
    "execution": {
     "iopub.execute_input": "2022-10-16T12:04:04.219842Z",
     "iopub.status.busy": "2022-10-16T12:04:04.219740Z",
     "iopub.status.idle": "2022-10-16T12:04:04.223009Z",
     "shell.execute_reply": "2022-10-16T12:04:04.222783Z"
    }
   },
   "outputs": [
    {
     "name": "stdout",
     "output_type": "stream",
     "text": [
      "Shape of training data: (3593, 167)\n",
      "Shape of test data: (899, 167)\n"
     ]
    }
   ],
   "source": [
    "# Split the data into training and test set\n",
    "# Perform data splitting using 80/20 ratio\n",
    "X_train1, X_test1, Y_train1, Y_test1 = train_test_split(X1, Y1, test_size=0.2, random_state=42)\n",
    "\n",
    "# Print the shape of training and testing data\n",
    "print(\"Shape of training data:\", X_train1.shape)\n",
    "print(\"Shape of test data:\", X_test1.shape)\n",
    "# NBVAL_CHECK_OUTPUT"
   ]
  },
  {
   "cell_type": "code",
   "execution_count": 8,
   "id": "6c7d9723",
   "metadata": {
    "execution": {
     "iopub.execute_input": "2022-10-16T12:04:04.224228Z",
     "iopub.status.busy": "2022-10-16T12:04:04.224128Z",
     "iopub.status.idle": "2022-10-16T12:06:15.393567Z",
     "shell.execute_reply": "2022-10-16T12:06:15.393219Z"
    }
   },
   "outputs": [
    {
     "name": "stderr",
     "output_type": "stream",
     "text": [
      " 90%|█████████████████████████████████████████████████████████████████████████▌        | 26/29 [00:20<00:02,  1.01it/s]"
     ]
    },
    {
     "name": "stdout",
     "output_type": "stream",
     "text": [
      "[13:00:54] WARNING: C:/Users/Administrator/workspace/xgboost-win64_release_1.5.1/src/learner.cc:1115: Starting in XGBoost 1.3.0, the default evaluation metric used with the objective 'binary:logistic' was changed from 'error' to 'logloss'. Explicitly set eval_metric if you'd like to restore the old behavior.\n"
     ]
    },
    {
     "name": "stderr",
     "output_type": "stream",
     "text": [
      "100%|██████████████████████████████████████████████████████████████████████████████████| 29/29 [00:22<00:00,  1.31it/s]\n"
     ]
    }
   ],
   "source": [
    "# Defines and builds the LazyClassifier\n",
    "clf1 =  LazyClassifier(verbose=0,ignore_warnings=True, custom_metric=None)\n",
    "model1,predictions1 = clf1.fit(X_train1, X_test1, Y_train1, Y_test1)"
   ]
  },
  {
   "cell_type": "code",
   "execution_count": 9,
   "id": "05fde095",
   "metadata": {
    "execution": {
     "iopub.execute_input": "2022-10-16T12:06:15.394903Z",
     "iopub.status.busy": "2022-10-16T12:06:15.394795Z",
     "iopub.status.idle": "2022-10-16T12:06:15.399282Z",
     "shell.execute_reply": "2022-10-16T12:06:15.399005Z"
    }
   },
   "outputs": [
    {
     "data": {
      "text/html": [
       "<div>\n",
       "<style scoped>\n",
       "    .dataframe tbody tr th:only-of-type {\n",
       "        vertical-align: middle;\n",
       "    }\n",
       "\n",
       "    .dataframe tbody tr th {\n",
       "        vertical-align: top;\n",
       "    }\n",
       "\n",
       "    .dataframe thead th {\n",
       "        text-align: right;\n",
       "    }\n",
       "</style>\n",
       "<table border=\"1\" class=\"dataframe\">\n",
       "  <thead>\n",
       "    <tr style=\"text-align: right;\">\n",
       "      <th></th>\n",
       "      <th>Accuracy</th>\n",
       "      <th>Balanced Accuracy</th>\n",
       "      <th>ROC AUC</th>\n",
       "      <th>F1 Score</th>\n",
       "      <th>Time Taken</th>\n",
       "    </tr>\n",
       "    <tr>\n",
       "      <th>Model</th>\n",
       "      <th></th>\n",
       "      <th></th>\n",
       "      <th></th>\n",
       "      <th></th>\n",
       "      <th></th>\n",
       "    </tr>\n",
       "  </thead>\n",
       "  <tbody>\n",
       "    <tr>\n",
       "      <th>LGBMClassifier</th>\n",
       "      <td>0.83</td>\n",
       "      <td>0.83</td>\n",
       "      <td>0.83</td>\n",
       "      <td>0.83</td>\n",
       "      <td>0.39</td>\n",
       "    </tr>\n",
       "    <tr>\n",
       "      <th>XGBClassifier</th>\n",
       "      <td>0.83</td>\n",
       "      <td>0.82</td>\n",
       "      <td>0.82</td>\n",
       "      <td>0.83</td>\n",
       "      <td>0.88</td>\n",
       "    </tr>\n",
       "    <tr>\n",
       "      <th>RandomForestClassifier</th>\n",
       "      <td>0.82</td>\n",
       "      <td>0.81</td>\n",
       "      <td>0.81</td>\n",
       "      <td>0.82</td>\n",
       "      <td>0.67</td>\n",
       "    </tr>\n",
       "    <tr>\n",
       "      <th>ExtraTreesClassifier</th>\n",
       "      <td>0.81</td>\n",
       "      <td>0.81</td>\n",
       "      <td>0.81</td>\n",
       "      <td>0.81</td>\n",
       "      <td>0.77</td>\n",
       "    </tr>\n",
       "    <tr>\n",
       "      <th>NuSVC</th>\n",
       "      <td>0.81</td>\n",
       "      <td>0.81</td>\n",
       "      <td>0.81</td>\n",
       "      <td>0.81</td>\n",
       "      <td>3.05</td>\n",
       "    </tr>\n",
       "    <tr>\n",
       "      <th>KNeighborsClassifier</th>\n",
       "      <td>0.81</td>\n",
       "      <td>0.80</td>\n",
       "      <td>0.80</td>\n",
       "      <td>0.81</td>\n",
       "      <td>1.05</td>\n",
       "    </tr>\n",
       "    <tr>\n",
       "      <th>BaggingClassifier</th>\n",
       "      <td>0.80</td>\n",
       "      <td>0.80</td>\n",
       "      <td>0.80</td>\n",
       "      <td>0.80</td>\n",
       "      <td>0.42</td>\n",
       "    </tr>\n",
       "    <tr>\n",
       "      <th>SVC</th>\n",
       "      <td>0.79</td>\n",
       "      <td>0.79</td>\n",
       "      <td>0.79</td>\n",
       "      <td>0.79</td>\n",
       "      <td>2.74</td>\n",
       "    </tr>\n",
       "    <tr>\n",
       "      <th>ExtraTreeClassifier</th>\n",
       "      <td>0.78</td>\n",
       "      <td>0.78</td>\n",
       "      <td>0.78</td>\n",
       "      <td>0.78</td>\n",
       "      <td>0.06</td>\n",
       "    </tr>\n",
       "    <tr>\n",
       "      <th>DecisionTreeClassifier</th>\n",
       "      <td>0.76</td>\n",
       "      <td>0.76</td>\n",
       "      <td>0.76</td>\n",
       "      <td>0.76</td>\n",
       "      <td>0.10</td>\n",
       "    </tr>\n",
       "  </tbody>\n",
       "</table>\n",
       "</div>"
      ],
      "text/plain": [
       "                        Accuracy  Balanced Accuracy  ROC AUC  F1 Score  \\\n",
       "Model                                                                    \n",
       "LGBMClassifier              0.83               0.83     0.83      0.83   \n",
       "XGBClassifier               0.83               0.82     0.82      0.83   \n",
       "RandomForestClassifier      0.82               0.81     0.81      0.82   \n",
       "ExtraTreesClassifier        0.81               0.81     0.81      0.81   \n",
       "NuSVC                       0.81               0.81     0.81      0.81   \n",
       "KNeighborsClassifier        0.81               0.80     0.80      0.81   \n",
       "BaggingClassifier           0.80               0.80     0.80      0.80   \n",
       "SVC                         0.79               0.79     0.79      0.79   \n",
       "ExtraTreeClassifier         0.78               0.78     0.78      0.78   \n",
       "DecisionTreeClassifier      0.76               0.76     0.76      0.76   \n",
       "\n",
       "                        Time Taken  \n",
       "Model                               \n",
       "LGBMClassifier                0.39  \n",
       "XGBClassifier                 0.88  \n",
       "RandomForestClassifier        0.67  \n",
       "ExtraTreesClassifier          0.77  \n",
       "NuSVC                         3.05  \n",
       "KNeighborsClassifier          1.05  \n",
       "BaggingClassifier             0.42  \n",
       "SVC                           2.74  \n",
       "ExtraTreeClassifier           0.06  \n",
       "DecisionTreeClassifier        0.10  "
      ]
     },
     "execution_count": 9,
     "metadata": {},
     "output_type": "execute_result"
    }
   ],
   "source": [
    "predictions1.sort_values(by=\"F1 Score\", ascending=False).head(10)"
   ]
  },
  {
   "cell_type": "markdown",
   "id": "78ef1632",
   "metadata": {},
   "source": [
    "### USING 1024 BITS FINGERPRINTS"
   ]
  },
  {
   "cell_type": "code",
   "execution_count": 10,
   "id": "ffe8b4e1",
   "metadata": {
    "execution": {
     "iopub.execute_input": "2022-10-16T12:06:15.404070Z",
     "iopub.status.busy": "2022-10-16T12:06:15.403974Z",
     "iopub.status.idle": "2022-10-16T12:06:15.413615Z",
     "shell.execute_reply": "2022-10-16T12:06:15.413248Z"
    }
   },
   "outputs": [],
   "source": [
    "#By using Morgan fingerprints with radius of 3 and 1024 bits\n",
    "X2 = np.array(list((df1['fp_Morgan3']))).astype(float)\n",
    "#X.shape\n",
    "Y2 = df1[\"activity\"].values\n",
    "#y.shape"
   ]
  },
  {
   "cell_type": "code",
   "execution_count": 11,
   "id": "3a28de69",
   "metadata": {
    "execution": {
     "iopub.execute_input": "2022-10-16T12:06:15.414951Z",
     "iopub.status.busy": "2022-10-16T12:06:15.414844Z",
     "iopub.status.idle": "2022-10-16T12:06:15.421558Z",
     "shell.execute_reply": "2022-10-16T12:06:15.421231Z"
    }
   },
   "outputs": [
    {
     "name": "stdout",
     "output_type": "stream",
     "text": [
      "Shape of training data: (3593, 1024)\n",
      "Shape of test data: (899, 1024)\n"
     ]
    }
   ],
   "source": [
    "# Split the data into training and test set\n",
    "# Perform data splitting using 80/20 ratio\n",
    "X_train2, X_test2, Y_train2, Y_test2 = train_test_split(X2, Y2, test_size=0.2, random_state=42)\n",
    "\n",
    "# Print the shape of training and testing data\n",
    "print(\"Shape of training data:\", X_train2.shape)\n",
    "print(\"Shape of test data:\", X_test2.shape)\n",
    "# NBVAL_CHECK_OUTPUT"
   ]
  },
  {
   "cell_type": "code",
   "execution_count": 12,
   "id": "5f84b274",
   "metadata": {
    "execution": {
     "iopub.execute_input": "2022-10-16T12:06:15.422777Z",
     "iopub.status.busy": "2022-10-16T12:06:15.422659Z",
     "iopub.status.idle": "2022-10-16T12:09:36.280661Z",
     "shell.execute_reply": "2022-10-16T12:09:36.280238Z"
    }
   },
   "outputs": [
    {
     "name": "stderr",
     "output_type": "stream",
     "text": [
      " 90%|█████████████████████████████████████████████████████████████████████████▌        | 26/29 [01:26<00:18,  6.21s/it]"
     ]
    },
    {
     "name": "stdout",
     "output_type": "stream",
     "text": [
      "[13:02:22] WARNING: C:/Users/Administrator/workspace/xgboost-win64_release_1.5.1/src/learner.cc:1115: Starting in XGBoost 1.3.0, the default evaluation metric used with the objective 'binary:logistic' was changed from 'error' to 'logloss'. Explicitly set eval_metric if you'd like to restore the old behavior.\n"
     ]
    },
    {
     "name": "stderr",
     "output_type": "stream",
     "text": [
      "100%|██████████████████████████████████████████████████████████████████████████████████| 29/29 [01:31<00:00,  3.17s/it]\n"
     ]
    }
   ],
   "source": [
    "clf2 = LazyClassifier(verbose=0,ignore_warnings=True, custom_metric=None)\n",
    "models2, predictions2 = clf2.fit(X_train2, X_test2, Y_train2, Y_test2)"
   ]
  },
  {
   "cell_type": "code",
   "execution_count": 13,
   "id": "557eab56",
   "metadata": {
    "execution": {
     "iopub.execute_input": "2022-10-16T12:09:36.282215Z",
     "iopub.status.busy": "2022-10-16T12:09:36.282104Z",
     "iopub.status.idle": "2022-10-16T12:09:36.286867Z",
     "shell.execute_reply": "2022-10-16T12:09:36.286568Z"
    }
   },
   "outputs": [
    {
     "data": {
      "text/html": [
       "<div>\n",
       "<style scoped>\n",
       "    .dataframe tbody tr th:only-of-type {\n",
       "        vertical-align: middle;\n",
       "    }\n",
       "\n",
       "    .dataframe tbody tr th {\n",
       "        vertical-align: top;\n",
       "    }\n",
       "\n",
       "    .dataframe thead th {\n",
       "        text-align: right;\n",
       "    }\n",
       "</style>\n",
       "<table border=\"1\" class=\"dataframe\">\n",
       "  <thead>\n",
       "    <tr style=\"text-align: right;\">\n",
       "      <th></th>\n",
       "      <th>Accuracy</th>\n",
       "      <th>Balanced Accuracy</th>\n",
       "      <th>ROC AUC</th>\n",
       "      <th>F1 Score</th>\n",
       "      <th>Time Taken</th>\n",
       "    </tr>\n",
       "    <tr>\n",
       "      <th>Model</th>\n",
       "      <th></th>\n",
       "      <th></th>\n",
       "      <th></th>\n",
       "      <th></th>\n",
       "      <th></th>\n",
       "    </tr>\n",
       "  </thead>\n",
       "  <tbody>\n",
       "    <tr>\n",
       "      <th>ExtraTreesClassifier</th>\n",
       "      <td>0.84</td>\n",
       "      <td>0.83</td>\n",
       "      <td>0.83</td>\n",
       "      <td>0.84</td>\n",
       "      <td>2.53</td>\n",
       "    </tr>\n",
       "    <tr>\n",
       "      <th>RandomForestClassifier</th>\n",
       "      <td>0.83</td>\n",
       "      <td>0.83</td>\n",
       "      <td>0.83</td>\n",
       "      <td>0.83</td>\n",
       "      <td>1.86</td>\n",
       "    </tr>\n",
       "    <tr>\n",
       "      <th>LGBMClassifier</th>\n",
       "      <td>0.83</td>\n",
       "      <td>0.82</td>\n",
       "      <td>0.82</td>\n",
       "      <td>0.83</td>\n",
       "      <td>1.80</td>\n",
       "    </tr>\n",
       "    <tr>\n",
       "      <th>XGBClassifier</th>\n",
       "      <td>0.83</td>\n",
       "      <td>0.82</td>\n",
       "      <td>0.82</td>\n",
       "      <td>0.82</td>\n",
       "      <td>3.81</td>\n",
       "    </tr>\n",
       "    <tr>\n",
       "      <th>BaggingClassifier</th>\n",
       "      <td>0.82</td>\n",
       "      <td>0.82</td>\n",
       "      <td>0.82</td>\n",
       "      <td>0.82</td>\n",
       "      <td>5.00</td>\n",
       "    </tr>\n",
       "    <tr>\n",
       "      <th>NuSVC</th>\n",
       "      <td>0.81</td>\n",
       "      <td>0.81</td>\n",
       "      <td>0.81</td>\n",
       "      <td>0.81</td>\n",
       "      <td>19.29</td>\n",
       "    </tr>\n",
       "    <tr>\n",
       "      <th>SVC</th>\n",
       "      <td>0.81</td>\n",
       "      <td>0.80</td>\n",
       "      <td>0.80</td>\n",
       "      <td>0.80</td>\n",
       "      <td>17.40</td>\n",
       "    </tr>\n",
       "    <tr>\n",
       "      <th>KNeighborsClassifier</th>\n",
       "      <td>0.78</td>\n",
       "      <td>0.78</td>\n",
       "      <td>0.78</td>\n",
       "      <td>0.78</td>\n",
       "      <td>6.77</td>\n",
       "    </tr>\n",
       "    <tr>\n",
       "      <th>QuadraticDiscriminantAnalysis</th>\n",
       "      <td>0.78</td>\n",
       "      <td>0.78</td>\n",
       "      <td>0.78</td>\n",
       "      <td>0.78</td>\n",
       "      <td>1.34</td>\n",
       "    </tr>\n",
       "    <tr>\n",
       "      <th>RidgeClassifierCV</th>\n",
       "      <td>0.77</td>\n",
       "      <td>0.77</td>\n",
       "      <td>0.77</td>\n",
       "      <td>0.77</td>\n",
       "      <td>1.03</td>\n",
       "    </tr>\n",
       "  </tbody>\n",
       "</table>\n",
       "</div>"
      ],
      "text/plain": [
       "                               Accuracy  Balanced Accuracy  ROC AUC  F1 Score  \\\n",
       "Model                                                                           \n",
       "ExtraTreesClassifier               0.84               0.83     0.83      0.84   \n",
       "RandomForestClassifier             0.83               0.83     0.83      0.83   \n",
       "LGBMClassifier                     0.83               0.82     0.82      0.83   \n",
       "XGBClassifier                      0.83               0.82     0.82      0.82   \n",
       "BaggingClassifier                  0.82               0.82     0.82      0.82   \n",
       "NuSVC                              0.81               0.81     0.81      0.81   \n",
       "SVC                                0.81               0.80     0.80      0.80   \n",
       "KNeighborsClassifier               0.78               0.78     0.78      0.78   \n",
       "QuadraticDiscriminantAnalysis      0.78               0.78     0.78      0.78   \n",
       "RidgeClassifierCV                  0.77               0.77     0.77      0.77   \n",
       "\n",
       "                               Time Taken  \n",
       "Model                                      \n",
       "ExtraTreesClassifier                 2.53  \n",
       "RandomForestClassifier               1.86  \n",
       "LGBMClassifier                       1.80  \n",
       "XGBClassifier                        3.81  \n",
       "BaggingClassifier                    5.00  \n",
       "NuSVC                               19.29  \n",
       "SVC                                 17.40  \n",
       "KNeighborsClassifier                 6.77  \n",
       "QuadraticDiscriminantAnalysis        1.34  \n",
       "RidgeClassifierCV                    1.03  "
      ]
     },
     "execution_count": 13,
     "metadata": {},
     "output_type": "execute_result"
    }
   ],
   "source": [
    "predictions2.sort_values(by=\"F1 Score\", ascending=False).head(10)"
   ]
  },
  {
   "cell_type": "code",
   "execution_count": 14,
   "id": "6677c15f",
   "metadata": {
    "execution": {
     "iopub.execute_input": "2022-10-16T12:09:36.291731Z",
     "iopub.status.busy": "2022-10-16T12:09:36.291629Z",
     "iopub.status.idle": "2022-10-16T12:09:36.300527Z",
     "shell.execute_reply": "2022-10-16T12:09:36.300089Z"
    }
   },
   "outputs": [],
   "source": [
    "#By using Morgan fingerprints with radius of 3 and 1024 bits and feautures\n",
    "X3 = np.array(list((df1['fp_MorganF']))).astype(float)\n",
    "#X.shape\n",
    "Y3 = df1[\"activity\"].values\n",
    "#y.shape"
   ]
  },
  {
   "cell_type": "code",
   "execution_count": 15,
   "id": "038fddb6",
   "metadata": {
    "execution": {
     "iopub.execute_input": "2022-10-16T12:09:36.302320Z",
     "iopub.status.busy": "2022-10-16T12:09:36.302212Z",
     "iopub.status.idle": "2022-10-16T12:09:36.307820Z",
     "shell.execute_reply": "2022-10-16T12:09:36.307501Z"
    }
   },
   "outputs": [
    {
     "name": "stdout",
     "output_type": "stream",
     "text": [
      "Shape of training data: (3593, 1024)\n",
      "Shape of test data: (899, 1024)\n"
     ]
    }
   ],
   "source": [
    "# Split the data into training and test set\n",
    "# Perform data splitting using 80/20 ratio\n",
    "X_train3, X_test3, Y_train3, Y_test3 = train_test_split(X3, Y3, test_size=0.2, random_state=42)\n",
    "\n",
    "# Print the shape of training and testing data\n",
    "print(\"Shape of training data:\", X_train3.shape)\n",
    "print(\"Shape of test data:\", X_test3.shape)\n",
    "# NBVAL_CHECK_OUTPUT"
   ]
  },
  {
   "cell_type": "code",
   "execution_count": 16,
   "id": "7cd3d92a",
   "metadata": {
    "execution": {
     "iopub.execute_input": "2022-10-16T12:09:36.309330Z",
     "iopub.status.busy": "2022-10-16T12:09:36.309092Z",
     "iopub.status.idle": "2022-10-16T12:12:37.655829Z",
     "shell.execute_reply": "2022-10-16T12:12:37.655430Z"
    }
   },
   "outputs": [
    {
     "name": "stderr",
     "output_type": "stream",
     "text": [
      " 90%|█████████████████████████████████████████████████████████████████████████▌        | 26/29 [01:25<00:18,  6.03s/it]"
     ]
    },
    {
     "name": "stdout",
     "output_type": "stream",
     "text": [
      "[13:03:54] WARNING: C:/Users/Administrator/workspace/xgboost-win64_release_1.5.1/src/learner.cc:1115: Starting in XGBoost 1.3.0, the default evaluation metric used with the objective 'binary:logistic' was changed from 'error' to 'logloss'. Explicitly set eval_metric if you'd like to restore the old behavior.\n"
     ]
    },
    {
     "name": "stderr",
     "output_type": "stream",
     "text": [
      "100%|██████████████████████████████████████████████████████████████████████████████████| 29/29 [01:31<00:00,  3.17s/it]\n"
     ]
    }
   ],
   "source": [
    "clf3 = LazyClassifier(verbose=0,ignore_warnings=True, custom_metric=None)\n",
    "models3, predictions3 = clf3.fit(X_train3, X_test3, Y_train3, Y_test3)"
   ]
  },
  {
   "cell_type": "code",
   "execution_count": 17,
   "id": "32cedba5",
   "metadata": {
    "execution": {
     "iopub.execute_input": "2022-10-16T12:12:37.657285Z",
     "iopub.status.busy": "2022-10-16T12:12:37.657123Z",
     "iopub.status.idle": "2022-10-16T12:12:37.661843Z",
     "shell.execute_reply": "2022-10-16T12:12:37.661553Z"
    }
   },
   "outputs": [
    {
     "data": {
      "text/html": [
       "<div>\n",
       "<style scoped>\n",
       "    .dataframe tbody tr th:only-of-type {\n",
       "        vertical-align: middle;\n",
       "    }\n",
       "\n",
       "    .dataframe tbody tr th {\n",
       "        vertical-align: top;\n",
       "    }\n",
       "\n",
       "    .dataframe thead th {\n",
       "        text-align: right;\n",
       "    }\n",
       "</style>\n",
       "<table border=\"1\" class=\"dataframe\">\n",
       "  <thead>\n",
       "    <tr style=\"text-align: right;\">\n",
       "      <th></th>\n",
       "      <th>Accuracy</th>\n",
       "      <th>Balanced Accuracy</th>\n",
       "      <th>ROC AUC</th>\n",
       "      <th>F1 Score</th>\n",
       "      <th>Time Taken</th>\n",
       "    </tr>\n",
       "    <tr>\n",
       "      <th>Model</th>\n",
       "      <th></th>\n",
       "      <th></th>\n",
       "      <th></th>\n",
       "      <th></th>\n",
       "      <th></th>\n",
       "    </tr>\n",
       "  </thead>\n",
       "  <tbody>\n",
       "    <tr>\n",
       "      <th>RandomForestClassifier</th>\n",
       "      <td>0.83</td>\n",
       "      <td>0.82</td>\n",
       "      <td>0.82</td>\n",
       "      <td>0.83</td>\n",
       "      <td>1.87</td>\n",
       "    </tr>\n",
       "    <tr>\n",
       "      <th>LGBMClassifier</th>\n",
       "      <td>0.83</td>\n",
       "      <td>0.82</td>\n",
       "      <td>0.82</td>\n",
       "      <td>0.83</td>\n",
       "      <td>1.60</td>\n",
       "    </tr>\n",
       "    <tr>\n",
       "      <th>ExtraTreesClassifier</th>\n",
       "      <td>0.82</td>\n",
       "      <td>0.82</td>\n",
       "      <td>0.82</td>\n",
       "      <td>0.82</td>\n",
       "      <td>2.56</td>\n",
       "    </tr>\n",
       "    <tr>\n",
       "      <th>NuSVC</th>\n",
       "      <td>0.82</td>\n",
       "      <td>0.82</td>\n",
       "      <td>0.82</td>\n",
       "      <td>0.82</td>\n",
       "      <td>18.87</td>\n",
       "    </tr>\n",
       "    <tr>\n",
       "      <th>SVC</th>\n",
       "      <td>0.82</td>\n",
       "      <td>0.82</td>\n",
       "      <td>0.82</td>\n",
       "      <td>0.82</td>\n",
       "      <td>16.84</td>\n",
       "    </tr>\n",
       "    <tr>\n",
       "      <th>XGBClassifier</th>\n",
       "      <td>0.81</td>\n",
       "      <td>0.81</td>\n",
       "      <td>0.81</td>\n",
       "      <td>0.81</td>\n",
       "      <td>4.43</td>\n",
       "    </tr>\n",
       "    <tr>\n",
       "      <th>BaggingClassifier</th>\n",
       "      <td>0.81</td>\n",
       "      <td>0.81</td>\n",
       "      <td>0.81</td>\n",
       "      <td>0.81</td>\n",
       "      <td>4.47</td>\n",
       "    </tr>\n",
       "    <tr>\n",
       "      <th>KNeighborsClassifier</th>\n",
       "      <td>0.79</td>\n",
       "      <td>0.79</td>\n",
       "      <td>0.79</td>\n",
       "      <td>0.79</td>\n",
       "      <td>6.71</td>\n",
       "    </tr>\n",
       "    <tr>\n",
       "      <th>QuadraticDiscriminantAnalysis</th>\n",
       "      <td>0.78</td>\n",
       "      <td>0.77</td>\n",
       "      <td>0.77</td>\n",
       "      <td>0.78</td>\n",
       "      <td>1.43</td>\n",
       "    </tr>\n",
       "    <tr>\n",
       "      <th>DecisionTreeClassifier</th>\n",
       "      <td>0.78</td>\n",
       "      <td>0.77</td>\n",
       "      <td>0.77</td>\n",
       "      <td>0.78</td>\n",
       "      <td>0.72</td>\n",
       "    </tr>\n",
       "  </tbody>\n",
       "</table>\n",
       "</div>"
      ],
      "text/plain": [
       "                               Accuracy  Balanced Accuracy  ROC AUC  F1 Score  \\\n",
       "Model                                                                           \n",
       "RandomForestClassifier             0.83               0.82     0.82      0.83   \n",
       "LGBMClassifier                     0.83               0.82     0.82      0.83   \n",
       "ExtraTreesClassifier               0.82               0.82     0.82      0.82   \n",
       "NuSVC                              0.82               0.82     0.82      0.82   \n",
       "SVC                                0.82               0.82     0.82      0.82   \n",
       "XGBClassifier                      0.81               0.81     0.81      0.81   \n",
       "BaggingClassifier                  0.81               0.81     0.81      0.81   \n",
       "KNeighborsClassifier               0.79               0.79     0.79      0.79   \n",
       "QuadraticDiscriminantAnalysis      0.78               0.77     0.77      0.78   \n",
       "DecisionTreeClassifier             0.78               0.77     0.77      0.78   \n",
       "\n",
       "                               Time Taken  \n",
       "Model                                      \n",
       "RandomForestClassifier               1.87  \n",
       "LGBMClassifier                       1.60  \n",
       "ExtraTreesClassifier                 2.56  \n",
       "NuSVC                               18.87  \n",
       "SVC                                 16.84  \n",
       "XGBClassifier                        4.43  \n",
       "BaggingClassifier                    4.47  \n",
       "KNeighborsClassifier                 6.71  \n",
       "QuadraticDiscriminantAnalysis        1.43  \n",
       "DecisionTreeClassifier               0.72  "
      ]
     },
     "execution_count": 17,
     "metadata": {},
     "output_type": "execute_result"
    }
   ],
   "source": [
    "predictions3.sort_values(by=\"F1 Score\", ascending=False).head(10)"
   ]
  },
  {
   "cell_type": "code",
   "execution_count": 18,
   "id": "e9c9899d",
   "metadata": {
    "execution": {
     "iopub.execute_input": "2022-10-16T12:12:37.666354Z",
     "iopub.status.busy": "2022-10-16T12:12:37.666246Z",
     "iopub.status.idle": "2022-10-16T12:12:37.674661Z",
     "shell.execute_reply": "2022-10-16T12:12:37.674229Z"
    }
   },
   "outputs": [],
   "source": [
    "#By using MAP4 fingerprints with 1024 bits\n",
    "X4 = np.array(list((df1['fp_MAP4']))).astype(float)\n",
    "#X.shape\n",
    "Y4 = df1[\"activity\"].values\n",
    "#y.shape"
   ]
  },
  {
   "cell_type": "code",
   "execution_count": 19,
   "id": "0d21006a",
   "metadata": {
    "execution": {
     "iopub.execute_input": "2022-10-16T12:12:37.676279Z",
     "iopub.status.busy": "2022-10-16T12:12:37.676170Z",
     "iopub.status.idle": "2022-10-16T12:12:37.688337Z",
     "shell.execute_reply": "2022-10-16T12:12:37.687955Z"
    }
   },
   "outputs": [
    {
     "name": "stdout",
     "output_type": "stream",
     "text": [
      "Shape of training data: (3593, 1024)\n",
      "Shape of test data: (899, 1024)\n"
     ]
    }
   ],
   "source": [
    "# Split the data into training and test set\n",
    "# Perform data splitting using 80/20 ratio\n",
    "X_train4, X_test4, Y_train4, Y_test4 = train_test_split(X4, Y4, test_size=0.2, random_state=42)\n",
    "\n",
    "# Print the shape of training and testing data\n",
    "print(\"Shape of training data:\", X_train4.shape)\n",
    "print(\"Shape of test data:\", X_test4.shape)\n",
    "# NBVAL_CHECK_OUTPUT"
   ]
  },
  {
   "cell_type": "code",
   "execution_count": 20,
   "id": "956dd5c2",
   "metadata": {
    "execution": {
     "iopub.execute_input": "2022-10-16T12:12:37.689662Z",
     "iopub.status.busy": "2022-10-16T12:12:37.689553Z",
     "iopub.status.idle": "2022-10-16T12:16:45.387924Z",
     "shell.execute_reply": "2022-10-16T12:16:45.387597Z"
    }
   },
   "outputs": [
    {
     "name": "stderr",
     "output_type": "stream",
     "text": [
      " 90%|█████████████████████████████████████████████████████████████████████████▌        | 26/29 [02:04<00:20,  6.75s/it]"
     ]
    },
    {
     "name": "stdout",
     "output_type": "stream",
     "text": [
      "[13:06:05] WARNING: C:/Users/Administrator/workspace/xgboost-win64_release_1.5.1/src/learner.cc:1115: Starting in XGBoost 1.3.0, the default evaluation metric used with the objective 'binary:logistic' was changed from 'error' to 'logloss'. Explicitly set eval_metric if you'd like to restore the old behavior.\n"
     ]
    },
    {
     "name": "stderr",
     "output_type": "stream",
     "text": [
      "100%|██████████████████████████████████████████████████████████████████████████████████| 29/29 [02:31<00:00,  5.23s/it]\n"
     ]
    }
   ],
   "source": [
    "# Defines and builds the lazyclassifier\n",
    "clf4 = LazyClassifier(verbose=0,ignore_warnings=True, custom_metric=None)\n",
    "models4, predictions4 = clf4.fit(X_train4, X_test4, Y_train4, Y_test4)"
   ]
  },
  {
   "cell_type": "code",
   "execution_count": 21,
   "id": "7c2e1c7f",
   "metadata": {
    "execution": {
     "iopub.execute_input": "2022-10-16T12:16:45.389280Z",
     "iopub.status.busy": "2022-10-16T12:16:45.389171Z",
     "iopub.status.idle": "2022-10-16T12:16:45.394120Z",
     "shell.execute_reply": "2022-10-16T12:16:45.393846Z"
    }
   },
   "outputs": [
    {
     "data": {
      "text/html": [
       "<div>\n",
       "<style scoped>\n",
       "    .dataframe tbody tr th:only-of-type {\n",
       "        vertical-align: middle;\n",
       "    }\n",
       "\n",
       "    .dataframe tbody tr th {\n",
       "        vertical-align: top;\n",
       "    }\n",
       "\n",
       "    .dataframe thead th {\n",
       "        text-align: right;\n",
       "    }\n",
       "</style>\n",
       "<table border=\"1\" class=\"dataframe\">\n",
       "  <thead>\n",
       "    <tr style=\"text-align: right;\">\n",
       "      <th></th>\n",
       "      <th>Accuracy</th>\n",
       "      <th>Balanced Accuracy</th>\n",
       "      <th>ROC AUC</th>\n",
       "      <th>F1 Score</th>\n",
       "      <th>Time Taken</th>\n",
       "    </tr>\n",
       "    <tr>\n",
       "      <th>Model</th>\n",
       "      <th></th>\n",
       "      <th></th>\n",
       "      <th></th>\n",
       "      <th></th>\n",
       "      <th></th>\n",
       "    </tr>\n",
       "  </thead>\n",
       "  <tbody>\n",
       "    <tr>\n",
       "      <th>XGBClassifier</th>\n",
       "      <td>0.83</td>\n",
       "      <td>0.83</td>\n",
       "      <td>0.83</td>\n",
       "      <td>0.83</td>\n",
       "      <td>12.08</td>\n",
       "    </tr>\n",
       "    <tr>\n",
       "      <th>RandomForestClassifier</th>\n",
       "      <td>0.82</td>\n",
       "      <td>0.82</td>\n",
       "      <td>0.82</td>\n",
       "      <td>0.82</td>\n",
       "      <td>7.50</td>\n",
       "    </tr>\n",
       "    <tr>\n",
       "      <th>LGBMClassifier</th>\n",
       "      <td>0.82</td>\n",
       "      <td>0.82</td>\n",
       "      <td>0.82</td>\n",
       "      <td>0.82</td>\n",
       "      <td>15.59</td>\n",
       "    </tr>\n",
       "    <tr>\n",
       "      <th>ExtraTreesClassifier</th>\n",
       "      <td>0.82</td>\n",
       "      <td>0.81</td>\n",
       "      <td>0.81</td>\n",
       "      <td>0.82</td>\n",
       "      <td>2.59</td>\n",
       "    </tr>\n",
       "    <tr>\n",
       "      <th>BaggingClassifier</th>\n",
       "      <td>0.78</td>\n",
       "      <td>0.78</td>\n",
       "      <td>0.78</td>\n",
       "      <td>0.78</td>\n",
       "      <td>21.34</td>\n",
       "    </tr>\n",
       "    <tr>\n",
       "      <th>NuSVC</th>\n",
       "      <td>0.78</td>\n",
       "      <td>0.77</td>\n",
       "      <td>0.77</td>\n",
       "      <td>0.78</td>\n",
       "      <td>19.56</td>\n",
       "    </tr>\n",
       "    <tr>\n",
       "      <th>SVC</th>\n",
       "      <td>0.78</td>\n",
       "      <td>0.77</td>\n",
       "      <td>0.77</td>\n",
       "      <td>0.77</td>\n",
       "      <td>17.88</td>\n",
       "    </tr>\n",
       "    <tr>\n",
       "      <th>QuadraticDiscriminantAnalysis</th>\n",
       "      <td>0.77</td>\n",
       "      <td>0.77</td>\n",
       "      <td>0.77</td>\n",
       "      <td>0.77</td>\n",
       "      <td>1.31</td>\n",
       "    </tr>\n",
       "    <tr>\n",
       "      <th>KNeighborsClassifier</th>\n",
       "      <td>0.77</td>\n",
       "      <td>0.76</td>\n",
       "      <td>0.76</td>\n",
       "      <td>0.76</td>\n",
       "      <td>7.01</td>\n",
       "    </tr>\n",
       "    <tr>\n",
       "      <th>AdaBoostClassifier</th>\n",
       "      <td>0.74</td>\n",
       "      <td>0.74</td>\n",
       "      <td>0.74</td>\n",
       "      <td>0.74</td>\n",
       "      <td>14.07</td>\n",
       "    </tr>\n",
       "  </tbody>\n",
       "</table>\n",
       "</div>"
      ],
      "text/plain": [
       "                               Accuracy  Balanced Accuracy  ROC AUC  F1 Score  \\\n",
       "Model                                                                           \n",
       "XGBClassifier                      0.83               0.83     0.83      0.83   \n",
       "RandomForestClassifier             0.82               0.82     0.82      0.82   \n",
       "LGBMClassifier                     0.82               0.82     0.82      0.82   \n",
       "ExtraTreesClassifier               0.82               0.81     0.81      0.82   \n",
       "BaggingClassifier                  0.78               0.78     0.78      0.78   \n",
       "NuSVC                              0.78               0.77     0.77      0.78   \n",
       "SVC                                0.78               0.77     0.77      0.77   \n",
       "QuadraticDiscriminantAnalysis      0.77               0.77     0.77      0.77   \n",
       "KNeighborsClassifier               0.77               0.76     0.76      0.76   \n",
       "AdaBoostClassifier                 0.74               0.74     0.74      0.74   \n",
       "\n",
       "                               Time Taken  \n",
       "Model                                      \n",
       "XGBClassifier                       12.08  \n",
       "RandomForestClassifier               7.50  \n",
       "LGBMClassifier                      15.59  \n",
       "ExtraTreesClassifier                 2.59  \n",
       "BaggingClassifier                   21.34  \n",
       "NuSVC                               19.56  \n",
       "SVC                                 17.88  \n",
       "QuadraticDiscriminantAnalysis        1.31  \n",
       "KNeighborsClassifier                 7.01  \n",
       "AdaBoostClassifier                  14.07  "
      ]
     },
     "execution_count": 21,
     "metadata": {},
     "output_type": "execute_result"
    }
   ],
   "source": [
    "predictions4.sort_values(by=\"F1 Score\", ascending=False).head(10)"
   ]
  },
  {
   "cell_type": "markdown",
   "id": "137ad30b",
   "metadata": {},
   "source": [
    "## USE 2048 BITS FINGERPRINTS"
   ]
  },
  {
   "cell_type": "code",
   "execution_count": 22,
   "id": "832cec48",
   "metadata": {
    "execution": {
     "iopub.execute_input": "2022-10-16T12:16:45.398724Z",
     "iopub.status.busy": "2022-10-16T12:16:45.398625Z",
     "iopub.status.idle": "2022-10-16T12:16:45.453466Z",
     "shell.execute_reply": "2022-10-16T12:16:45.453059Z"
    }
   },
   "outputs": [
    {
     "data": {
      "text/html": [
       "<div>\n",
       "<style scoped>\n",
       "    .dataframe tbody tr th:only-of-type {\n",
       "        vertical-align: middle;\n",
       "    }\n",
       "\n",
       "    .dataframe tbody tr th {\n",
       "        vertical-align: top;\n",
       "    }\n",
       "\n",
       "    .dataframe thead th {\n",
       "        text-align: right;\n",
       "    }\n",
       "</style>\n",
       "<table border=\"1\" class=\"dataframe\">\n",
       "  <thead>\n",
       "    <tr style=\"text-align: right;\">\n",
       "      <th></th>\n",
       "      <th>molecule_chembl_id</th>\n",
       "      <th>fp_Morgan3</th>\n",
       "      <th>fp_MorganF</th>\n",
       "      <th>fp_MAP4</th>\n",
       "      <th>pChEMBL_HDAC1</th>\n",
       "    </tr>\n",
       "  </thead>\n",
       "  <tbody>\n",
       "    <tr>\n",
       "      <th>0</th>\n",
       "      <td>CHEMBL4177129</td>\n",
       "      <td>[0, 0, 0, 1, 0, 0, 0, 0, 0, 0, 0, 0, 0, 0, 0, ...</td>\n",
       "      <td>[1, 1, 1, 1, 1, 0, 0, 0, 0, 0, 0, 1, 0, 0, 0, ...</td>\n",
       "      <td>[5976924, 7882477, 6095547, 453610, 30496230, ...</td>\n",
       "      <td>5.54</td>\n",
       "    </tr>\n",
       "    <tr>\n",
       "      <th>1</th>\n",
       "      <td>CHEMBL511984</td>\n",
       "      <td>[0, 0, 0, 0, 0, 0, 0, 0, 0, 0, 0, 0, 0, 0, 1, ...</td>\n",
       "      <td>[1, 1, 1, 0, 1, 0, 1, 0, 0, 0, 0, 0, 0, 0, 0, ...</td>\n",
       "      <td>[952475, 206868, 2417431, 3934995, 28861, 6934...</td>\n",
       "      <td>7.89</td>\n",
       "    </tr>\n",
       "    <tr>\n",
       "      <th>2</th>\n",
       "      <td>CHEMBL1083441</td>\n",
       "      <td>[0, 0, 0, 0, 0, 0, 0, 0, 0, 0, 0, 1, 0, 0, 0, ...</td>\n",
       "      <td>[1, 1, 1, 1, 1, 0, 0, 0, 0, 0, 0, 0, 0, 0, 0, ...</td>\n",
       "      <td>[10517078, 5398951, 8033062, 7467572, 34588650...</td>\n",
       "      <td>7.01</td>\n",
       "    </tr>\n",
       "    <tr>\n",
       "      <th>3</th>\n",
       "      <td>CHEMBL3925939</td>\n",
       "      <td>[0, 0, 0, 0, 0, 0, 0, 0, 0, 0, 0, 0, 0, 0, 0, ...</td>\n",
       "      <td>[1, 1, 1, 1, 1, 0, 1, 0, 1, 0, 0, 0, 0, 0, 0, ...</td>\n",
       "      <td>[145521, 3650390, 3771845, 2469425, 163308, 85...</td>\n",
       "      <td>8.24</td>\n",
       "    </tr>\n",
       "    <tr>\n",
       "      <th>4</th>\n",
       "      <td>CHEMBL4250891</td>\n",
       "      <td>[0, 0, 0, 0, 0, 0, 0, 0, 0, 0, 0, 1, 0, 1, 0, ...</td>\n",
       "      <td>[1, 1, 1, 1, 1, 1, 1, 0, 0, 0, 0, 1, 0, 0, 0, ...</td>\n",
       "      <td>[382204, 3821889, 137380, 2385390, 7332227, 82...</td>\n",
       "      <td>7.20</td>\n",
       "    </tr>\n",
       "    <tr>\n",
       "      <th>...</th>\n",
       "      <td>...</td>\n",
       "      <td>...</td>\n",
       "      <td>...</td>\n",
       "      <td>...</td>\n",
       "      <td>...</td>\n",
       "    </tr>\n",
       "    <tr>\n",
       "      <th>4487</th>\n",
       "      <td>CHEMBL226817</td>\n",
       "      <td>[0, 0, 0, 0, 0, 0, 0, 1, 0, 0, 0, 0, 1, 0, 0, ...</td>\n",
       "      <td>[1, 0, 0, 0, 1, 0, 0, 0, 0, 0, 0, 0, 0, 0, 0, ...</td>\n",
       "      <td>[7416012, 1279692, 1475424, 1916654, 13312514,...</td>\n",
       "      <td>6.28</td>\n",
       "    </tr>\n",
       "    <tr>\n",
       "      <th>4488</th>\n",
       "      <td>CHEMBL3689797</td>\n",
       "      <td>[0, 1, 0, 0, 0, 0, 0, 0, 0, 0, 0, 0, 0, 0, 0, ...</td>\n",
       "      <td>[1, 1, 1, 1, 1, 0, 1, 0, 0, 0, 0, 0, 0, 0, 0, ...</td>\n",
       "      <td>[3865478, 3827191, 6095547, 7378093, 2498914, ...</td>\n",
       "      <td>6.23</td>\n",
       "    </tr>\n",
       "    <tr>\n",
       "      <th>4489</th>\n",
       "      <td>CHEMBL246589</td>\n",
       "      <td>[0, 1, 0, 0, 0, 0, 0, 0, 0, 0, 0, 1, 0, 0, 0, ...</td>\n",
       "      <td>[1, 1, 1, 1, 1, 0, 0, 0, 0, 0, 0, 0, 0, 0, 0, ...</td>\n",
       "      <td>[3094461, 783386, 1975369, 5548928, 9038104, 1...</td>\n",
       "      <td>7.32</td>\n",
       "    </tr>\n",
       "    <tr>\n",
       "      <th>4490</th>\n",
       "      <td>CHEMBL251336</td>\n",
       "      <td>[0, 1, 0, 0, 0, 0, 0, 0, 0, 0, 0, 0, 0, 0, 0, ...</td>\n",
       "      <td>[1, 1, 1, 0, 1, 0, 0, 0, 1, 0, 0, 1, 0, 0, 0, ...</td>\n",
       "      <td>[8732066, 2349897, 8033062, 5974416, 18234500,...</td>\n",
       "      <td>7.25</td>\n",
       "    </tr>\n",
       "    <tr>\n",
       "      <th>4491</th>\n",
       "      <td>CHEMBL406927</td>\n",
       "      <td>[0, 1, 0, 0, 0, 0, 0, 0, 0, 0, 0, 0, 0, 0, 0, ...</td>\n",
       "      <td>[1, 1, 1, 0, 1, 1, 1, 0, 1, 0, 0, 0, 0, 0, 0, ...</td>\n",
       "      <td>[14231141, 2349897, 1052992, 4554342, 674115, ...</td>\n",
       "      <td>6.17</td>\n",
       "    </tr>\n",
       "  </tbody>\n",
       "</table>\n",
       "<p>4492 rows × 5 columns</p>\n",
       "</div>"
      ],
      "text/plain": [
       "     molecule_chembl_id                                         fp_Morgan3  \\\n",
       "0         CHEMBL4177129  [0, 0, 0, 1, 0, 0, 0, 0, 0, 0, 0, 0, 0, 0, 0, ...   \n",
       "1          CHEMBL511984  [0, 0, 0, 0, 0, 0, 0, 0, 0, 0, 0, 0, 0, 0, 1, ...   \n",
       "2         CHEMBL1083441  [0, 0, 0, 0, 0, 0, 0, 0, 0, 0, 0, 1, 0, 0, 0, ...   \n",
       "3         CHEMBL3925939  [0, 0, 0, 0, 0, 0, 0, 0, 0, 0, 0, 0, 0, 0, 0, ...   \n",
       "4         CHEMBL4250891  [0, 0, 0, 0, 0, 0, 0, 0, 0, 0, 0, 1, 0, 1, 0, ...   \n",
       "...                 ...                                                ...   \n",
       "4487       CHEMBL226817  [0, 0, 0, 0, 0, 0, 0, 1, 0, 0, 0, 0, 1, 0, 0, ...   \n",
       "4488      CHEMBL3689797  [0, 1, 0, 0, 0, 0, 0, 0, 0, 0, 0, 0, 0, 0, 0, ...   \n",
       "4489       CHEMBL246589  [0, 1, 0, 0, 0, 0, 0, 0, 0, 0, 0, 1, 0, 0, 0, ...   \n",
       "4490       CHEMBL251336  [0, 1, 0, 0, 0, 0, 0, 0, 0, 0, 0, 0, 0, 0, 0, ...   \n",
       "4491       CHEMBL406927  [0, 1, 0, 0, 0, 0, 0, 0, 0, 0, 0, 0, 0, 0, 0, ...   \n",
       "\n",
       "                                             fp_MorganF  \\\n",
       "0     [1, 1, 1, 1, 1, 0, 0, 0, 0, 0, 0, 1, 0, 0, 0, ...   \n",
       "1     [1, 1, 1, 0, 1, 0, 1, 0, 0, 0, 0, 0, 0, 0, 0, ...   \n",
       "2     [1, 1, 1, 1, 1, 0, 0, 0, 0, 0, 0, 0, 0, 0, 0, ...   \n",
       "3     [1, 1, 1, 1, 1, 0, 1, 0, 1, 0, 0, 0, 0, 0, 0, ...   \n",
       "4     [1, 1, 1, 1, 1, 1, 1, 0, 0, 0, 0, 1, 0, 0, 0, ...   \n",
       "...                                                 ...   \n",
       "4487  [1, 0, 0, 0, 1, 0, 0, 0, 0, 0, 0, 0, 0, 0, 0, ...   \n",
       "4488  [1, 1, 1, 1, 1, 0, 1, 0, 0, 0, 0, 0, 0, 0, 0, ...   \n",
       "4489  [1, 1, 1, 1, 1, 0, 0, 0, 0, 0, 0, 0, 0, 0, 0, ...   \n",
       "4490  [1, 1, 1, 0, 1, 0, 0, 0, 1, 0, 0, 1, 0, 0, 0, ...   \n",
       "4491  [1, 1, 1, 0, 1, 1, 1, 0, 1, 0, 0, 0, 0, 0, 0, ...   \n",
       "\n",
       "                                                fp_MAP4  pChEMBL_HDAC1  \n",
       "0     [5976924, 7882477, 6095547, 453610, 30496230, ...           5.54  \n",
       "1     [952475, 206868, 2417431, 3934995, 28861, 6934...           7.89  \n",
       "2     [10517078, 5398951, 8033062, 7467572, 34588650...           7.01  \n",
       "3     [145521, 3650390, 3771845, 2469425, 163308, 85...           8.24  \n",
       "4     [382204, 3821889, 137380, 2385390, 7332227, 82...           7.20  \n",
       "...                                                 ...            ...  \n",
       "4487  [7416012, 1279692, 1475424, 1916654, 13312514,...           6.28  \n",
       "4488  [3865478, 3827191, 6095547, 7378093, 2498914, ...           6.23  \n",
       "4489  [3094461, 783386, 1975369, 5548928, 9038104, 1...           7.32  \n",
       "4490  [8732066, 2349897, 8033062, 5974416, 18234500,...           7.25  \n",
       "4491  [14231141, 2349897, 1052992, 4554342, 674115, ...           6.17  \n",
       "\n",
       "[4492 rows x 5 columns]"
      ]
     },
     "execution_count": 22,
     "metadata": {},
     "output_type": "execute_result"
    }
   ],
   "source": [
    "df2 = pd.read_pickle(HDAC1/\"HDAC1_2048B.csv\")\n",
    "df2 = df2.sample(frac=1).reset_index(drop=True)\n",
    "df2"
   ]
  },
  {
   "cell_type": "code",
   "execution_count": 23,
   "id": "a364760d",
   "metadata": {
    "execution": {
     "iopub.execute_input": "2022-10-16T12:16:45.454958Z",
     "iopub.status.busy": "2022-10-16T12:16:45.454842Z",
     "iopub.status.idle": "2022-10-16T12:16:45.458951Z",
     "shell.execute_reply": "2022-10-16T12:16:45.458579Z"
    }
   },
   "outputs": [
    {
     "name": "stdout",
     "output_type": "stream",
     "text": [
      "Number of active compounds: 2361\n",
      "Number of inactive compounds: 2131\n"
     ]
    }
   ],
   "source": [
    "# Add column for activity\n",
    "df2[\"activity\"] = np.zeros(len(df2))\n",
    "\n",
    "# Mark every molecule as active with an pIC50 of >= 6.6, 0 otherwise\n",
    "df2.loc[df2[df2.pChEMBL_HDAC1 >= 6.6].index, \"activity\"] = 1.0\n",
    "\n",
    "# NBVAL_CHECK_OUTPUT\n",
    "print(\"Number of active compounds:\", int(df2.activity.sum()))\n",
    "print(\"Number of inactive compounds:\", len(df2) - int(df2.activity.sum()))"
   ]
  },
  {
   "cell_type": "code",
   "execution_count": 24,
   "id": "1b2dd0c7",
   "metadata": {
    "execution": {
     "iopub.execute_input": "2022-10-16T12:16:45.460349Z",
     "iopub.status.busy": "2022-10-16T12:16:45.460203Z",
     "iopub.status.idle": "2022-10-16T12:16:45.475358Z",
     "shell.execute_reply": "2022-10-16T12:16:45.474912Z"
    }
   },
   "outputs": [],
   "source": [
    "#2048 bits Morgan fingerprints with radius of 3\n",
    "X5 = np.array(list((df2['fp_Morgan3']))).astype(float)\n",
    "#X.shape\n",
    "Y5 = df2[\"activity\"].values\n",
    "#y.shape"
   ]
  },
  {
   "cell_type": "code",
   "execution_count": 25,
   "id": "96dafe9d",
   "metadata": {
    "execution": {
     "iopub.execute_input": "2022-10-16T12:16:45.476858Z",
     "iopub.status.busy": "2022-10-16T12:16:45.476707Z",
     "iopub.status.idle": "2022-10-16T12:16:45.488117Z",
     "shell.execute_reply": "2022-10-16T12:16:45.487667Z"
    }
   },
   "outputs": [
    {
     "name": "stdout",
     "output_type": "stream",
     "text": [
      "Shape of training data: (3593, 2048)\n",
      "Shape of test data: (899, 2048)\n"
     ]
    }
   ],
   "source": [
    "# Split the data into training and test set\n",
    "# Perform data splitting using 80/20 ratio\n",
    "X_train5, X_test5, Y_train5, Y_test5 = train_test_split(X5, Y5, test_size=0.2, random_state=42)\n",
    "\n",
    "# Print the shape of training and testing data\n",
    "print(\"Shape of training data:\", X_train5.shape)\n",
    "print(\"Shape of test data:\", X_test5.shape)\n",
    "# NBVAL_CHECK_OUTPUT"
   ]
  },
  {
   "cell_type": "code",
   "execution_count": 26,
   "id": "06f96090",
   "metadata": {
    "execution": {
     "iopub.execute_input": "2022-10-16T12:16:45.489573Z",
     "iopub.status.busy": "2022-10-16T12:16:45.489444Z",
     "iopub.status.idle": "2022-10-16T12:20:45.149968Z",
     "shell.execute_reply": "2022-10-16T12:20:45.149653Z"
    }
   },
   "outputs": [
    {
     "name": "stderr",
     "output_type": "stream",
     "text": [
      " 90%|█████████████████████████████████████████████████████████████████████████▌        | 26/29 [03:16<00:41, 13.76s/it]"
     ]
    },
    {
     "name": "stdout",
     "output_type": "stream",
     "text": [
      "[13:09:50] WARNING: C:/Users/Administrator/workspace/xgboost-win64_release_1.5.1/src/learner.cc:1115: Starting in XGBoost 1.3.0, the default evaluation metric used with the objective 'binary:logistic' was changed from 'error' to 'logloss'. Explicitly set eval_metric if you'd like to restore the old behavior.\n"
     ]
    },
    {
     "name": "stderr",
     "output_type": "stream",
     "text": [
      "100%|██████████████████████████████████████████████████████████████████████████████████| 29/29 [03:28<00:00,  7.19s/it]\n"
     ]
    }
   ],
   "source": [
    "clf5 = LazyClassifier(verbose=0,ignore_warnings=True, custom_metric=None)\n",
    "models5, predictions5 = clf5.fit(X_train5, X_test5, Y_train5, Y_test5)"
   ]
  },
  {
   "cell_type": "code",
   "execution_count": 27,
   "id": "a788d0a0",
   "metadata": {
    "execution": {
     "iopub.execute_input": "2022-10-16T12:20:45.151377Z",
     "iopub.status.busy": "2022-10-16T12:20:45.151184Z",
     "iopub.status.idle": "2022-10-16T12:20:45.155820Z",
     "shell.execute_reply": "2022-10-16T12:20:45.155577Z"
    }
   },
   "outputs": [
    {
     "data": {
      "text/html": [
       "<div>\n",
       "<style scoped>\n",
       "    .dataframe tbody tr th:only-of-type {\n",
       "        vertical-align: middle;\n",
       "    }\n",
       "\n",
       "    .dataframe tbody tr th {\n",
       "        vertical-align: top;\n",
       "    }\n",
       "\n",
       "    .dataframe thead th {\n",
       "        text-align: right;\n",
       "    }\n",
       "</style>\n",
       "<table border=\"1\" class=\"dataframe\">\n",
       "  <thead>\n",
       "    <tr style=\"text-align: right;\">\n",
       "      <th></th>\n",
       "      <th>Accuracy</th>\n",
       "      <th>Balanced Accuracy</th>\n",
       "      <th>ROC AUC</th>\n",
       "      <th>F1 Score</th>\n",
       "      <th>Time Taken</th>\n",
       "    </tr>\n",
       "    <tr>\n",
       "      <th>Model</th>\n",
       "      <th></th>\n",
       "      <th></th>\n",
       "      <th></th>\n",
       "      <th></th>\n",
       "      <th></th>\n",
       "    </tr>\n",
       "  </thead>\n",
       "  <tbody>\n",
       "    <tr>\n",
       "      <th>RandomForestClassifier</th>\n",
       "      <td>0.85</td>\n",
       "      <td>0.85</td>\n",
       "      <td>0.85</td>\n",
       "      <td>0.85</td>\n",
       "      <td>3.71</td>\n",
       "    </tr>\n",
       "    <tr>\n",
       "      <th>ExtraTreesClassifier</th>\n",
       "      <td>0.84</td>\n",
       "      <td>0.84</td>\n",
       "      <td>0.84</td>\n",
       "      <td>0.84</td>\n",
       "      <td>4.51</td>\n",
       "    </tr>\n",
       "    <tr>\n",
       "      <th>LGBMClassifier</th>\n",
       "      <td>0.83</td>\n",
       "      <td>0.83</td>\n",
       "      <td>0.83</td>\n",
       "      <td>0.83</td>\n",
       "      <td>2.95</td>\n",
       "    </tr>\n",
       "    <tr>\n",
       "      <th>XGBClassifier</th>\n",
       "      <td>0.82</td>\n",
       "      <td>0.82</td>\n",
       "      <td>0.82</td>\n",
       "      <td>0.82</td>\n",
       "      <td>8.68</td>\n",
       "    </tr>\n",
       "    <tr>\n",
       "      <th>SVC</th>\n",
       "      <td>0.82</td>\n",
       "      <td>0.81</td>\n",
       "      <td>0.81</td>\n",
       "      <td>0.82</td>\n",
       "      <td>37.01</td>\n",
       "    </tr>\n",
       "    <tr>\n",
       "      <th>BaggingClassifier</th>\n",
       "      <td>0.81</td>\n",
       "      <td>0.81</td>\n",
       "      <td>0.81</td>\n",
       "      <td>0.81</td>\n",
       "      <td>9.89</td>\n",
       "    </tr>\n",
       "    <tr>\n",
       "      <th>NuSVC</th>\n",
       "      <td>0.81</td>\n",
       "      <td>0.81</td>\n",
       "      <td>0.81</td>\n",
       "      <td>0.81</td>\n",
       "      <td>43.45</td>\n",
       "    </tr>\n",
       "    <tr>\n",
       "      <th>DecisionTreeClassifier</th>\n",
       "      <td>0.78</td>\n",
       "      <td>0.78</td>\n",
       "      <td>0.78</td>\n",
       "      <td>0.78</td>\n",
       "      <td>1.65</td>\n",
       "    </tr>\n",
       "    <tr>\n",
       "      <th>ExtraTreeClassifier</th>\n",
       "      <td>0.77</td>\n",
       "      <td>0.77</td>\n",
       "      <td>0.77</td>\n",
       "      <td>0.77</td>\n",
       "      <td>0.52</td>\n",
       "    </tr>\n",
       "    <tr>\n",
       "      <th>KNeighborsClassifier</th>\n",
       "      <td>0.77</td>\n",
       "      <td>0.77</td>\n",
       "      <td>0.77</td>\n",
       "      <td>0.77</td>\n",
       "      <td>13.45</td>\n",
       "    </tr>\n",
       "  </tbody>\n",
       "</table>\n",
       "</div>"
      ],
      "text/plain": [
       "                        Accuracy  Balanced Accuracy  ROC AUC  F1 Score  \\\n",
       "Model                                                                    \n",
       "RandomForestClassifier      0.85               0.85     0.85      0.85   \n",
       "ExtraTreesClassifier        0.84               0.84     0.84      0.84   \n",
       "LGBMClassifier              0.83               0.83     0.83      0.83   \n",
       "XGBClassifier               0.82               0.82     0.82      0.82   \n",
       "SVC                         0.82               0.81     0.81      0.82   \n",
       "BaggingClassifier           0.81               0.81     0.81      0.81   \n",
       "NuSVC                       0.81               0.81     0.81      0.81   \n",
       "DecisionTreeClassifier      0.78               0.78     0.78      0.78   \n",
       "ExtraTreeClassifier         0.77               0.77     0.77      0.77   \n",
       "KNeighborsClassifier        0.77               0.77     0.77      0.77   \n",
       "\n",
       "                        Time Taken  \n",
       "Model                               \n",
       "RandomForestClassifier        3.71  \n",
       "ExtraTreesClassifier          4.51  \n",
       "LGBMClassifier                2.95  \n",
       "XGBClassifier                 8.68  \n",
       "SVC                          37.01  \n",
       "BaggingClassifier             9.89  \n",
       "NuSVC                        43.45  \n",
       "DecisionTreeClassifier        1.65  \n",
       "ExtraTreeClassifier           0.52  \n",
       "KNeighborsClassifier         13.45  "
      ]
     },
     "execution_count": 27,
     "metadata": {},
     "output_type": "execute_result"
    }
   ],
   "source": [
    "predictions5.sort_values(by=\"F1 Score\", ascending=False).head(10)"
   ]
  },
  {
   "cell_type": "code",
   "execution_count": 28,
   "id": "98206b37",
   "metadata": {
    "execution": {
     "iopub.execute_input": "2022-10-16T12:20:45.160107Z",
     "iopub.status.busy": "2022-10-16T12:20:45.160007Z",
     "iopub.status.idle": "2022-10-16T12:20:45.171573Z",
     "shell.execute_reply": "2022-10-16T12:20:45.171201Z"
    }
   },
   "outputs": [],
   "source": [
    "#2048 bits Morgan fingerprints with feautures\n",
    "X6 = np.array(list((df2['fp_MorganF']))).astype(float)\n",
    "#X.shape\n",
    "Y6 = df2[\"activity\"].values\n",
    "#y.shape"
   ]
  },
  {
   "cell_type": "code",
   "execution_count": 29,
   "id": "9ad46f2d",
   "metadata": {
    "execution": {
     "iopub.execute_input": "2022-10-16T12:20:45.173224Z",
     "iopub.status.busy": "2022-10-16T12:20:45.173099Z",
     "iopub.status.idle": "2022-10-16T12:20:45.181960Z",
     "shell.execute_reply": "2022-10-16T12:20:45.181685Z"
    }
   },
   "outputs": [
    {
     "name": "stdout",
     "output_type": "stream",
     "text": [
      "Shape of training data: (3593, 2048)\n",
      "Shape of test data: (899, 2048)\n"
     ]
    }
   ],
   "source": [
    "# Split the data into training and test set\n",
    "# Perform data splitting using 80/20 ratio\n",
    "X_train6, X_test6, Y_train6, Y_test6 = train_test_split(X6, Y6, test_size=0.2, random_state=42)\n",
    "\n",
    "# Print the shape of training and testing data\n",
    "print(\"Shape of training data:\", X_train6.shape)\n",
    "print(\"Shape of test data:\", X_test6.shape)\n",
    "# NBVAL_CHECK_OUTPUT"
   ]
  },
  {
   "cell_type": "code",
   "execution_count": 30,
   "id": "34689bb2",
   "metadata": {
    "execution": {
     "iopub.execute_input": "2022-10-16T12:20:45.183156Z",
     "iopub.status.busy": "2022-10-16T12:20:45.183048Z",
     "iopub.status.idle": "2022-10-16T12:24:23.242140Z",
     "shell.execute_reply": "2022-10-16T12:24:23.241702Z"
    }
   },
   "outputs": [
    {
     "name": "stderr",
     "output_type": "stream",
     "text": [
      " 90%|█████████████████████████████████████████████████████████████████████████▌        | 26/29 [03:12<00:40, 13.52s/it]"
     ]
    },
    {
     "name": "stdout",
     "output_type": "stream",
     "text": [
      "[13:13:15] WARNING: C:/Users/Administrator/workspace/xgboost-win64_release_1.5.1/src/learner.cc:1115: Starting in XGBoost 1.3.0, the default evaluation metric used with the objective 'binary:logistic' was changed from 'error' to 'logloss'. Explicitly set eval_metric if you'd like to restore the old behavior.\n"
     ]
    },
    {
     "name": "stderr",
     "output_type": "stream",
     "text": [
      "100%|██████████████████████████████████████████████████████████████████████████████████| 29/29 [03:23<00:00,  7.03s/it]\n"
     ]
    }
   ],
   "source": [
    "clf6 = LazyClassifier(verbose=0,ignore_warnings=True, custom_metric=None)\n",
    "models6, predictions6 = clf6.fit(X_train6, X_test6, Y_train6, Y_test6)"
   ]
  },
  {
   "cell_type": "code",
   "execution_count": 31,
   "id": "53a54756",
   "metadata": {
    "execution": {
     "iopub.execute_input": "2022-10-16T12:24:23.243996Z",
     "iopub.status.busy": "2022-10-16T12:24:23.243677Z",
     "iopub.status.idle": "2022-10-16T12:24:23.249203Z",
     "shell.execute_reply": "2022-10-16T12:24:23.248869Z"
    }
   },
   "outputs": [
    {
     "data": {
      "text/html": [
       "<div>\n",
       "<style scoped>\n",
       "    .dataframe tbody tr th:only-of-type {\n",
       "        vertical-align: middle;\n",
       "    }\n",
       "\n",
       "    .dataframe tbody tr th {\n",
       "        vertical-align: top;\n",
       "    }\n",
       "\n",
       "    .dataframe thead th {\n",
       "        text-align: right;\n",
       "    }\n",
       "</style>\n",
       "<table border=\"1\" class=\"dataframe\">\n",
       "  <thead>\n",
       "    <tr style=\"text-align: right;\">\n",
       "      <th></th>\n",
       "      <th>Accuracy</th>\n",
       "      <th>Balanced Accuracy</th>\n",
       "      <th>ROC AUC</th>\n",
       "      <th>F1 Score</th>\n",
       "      <th>Time Taken</th>\n",
       "    </tr>\n",
       "    <tr>\n",
       "      <th>Model</th>\n",
       "      <th></th>\n",
       "      <th></th>\n",
       "      <th></th>\n",
       "      <th></th>\n",
       "      <th></th>\n",
       "    </tr>\n",
       "  </thead>\n",
       "  <tbody>\n",
       "    <tr>\n",
       "      <th>ExtraTreesClassifier</th>\n",
       "      <td>0.85</td>\n",
       "      <td>0.85</td>\n",
       "      <td>0.85</td>\n",
       "      <td>0.85</td>\n",
       "      <td>4.57</td>\n",
       "    </tr>\n",
       "    <tr>\n",
       "      <th>RandomForestClassifier</th>\n",
       "      <td>0.85</td>\n",
       "      <td>0.84</td>\n",
       "      <td>0.84</td>\n",
       "      <td>0.84</td>\n",
       "      <td>3.20</td>\n",
       "    </tr>\n",
       "    <tr>\n",
       "      <th>BaggingClassifier</th>\n",
       "      <td>0.84</td>\n",
       "      <td>0.84</td>\n",
       "      <td>0.84</td>\n",
       "      <td>0.84</td>\n",
       "      <td>8.85</td>\n",
       "    </tr>\n",
       "    <tr>\n",
       "      <th>LGBMClassifier</th>\n",
       "      <td>0.83</td>\n",
       "      <td>0.83</td>\n",
       "      <td>0.83</td>\n",
       "      <td>0.83</td>\n",
       "      <td>2.24</td>\n",
       "    </tr>\n",
       "    <tr>\n",
       "      <th>XGBClassifier</th>\n",
       "      <td>0.83</td>\n",
       "      <td>0.82</td>\n",
       "      <td>0.82</td>\n",
       "      <td>0.83</td>\n",
       "      <td>9.45</td>\n",
       "    </tr>\n",
       "    <tr>\n",
       "      <th>NuSVC</th>\n",
       "      <td>0.82</td>\n",
       "      <td>0.82</td>\n",
       "      <td>0.82</td>\n",
       "      <td>0.82</td>\n",
       "      <td>38.25</td>\n",
       "    </tr>\n",
       "    <tr>\n",
       "      <th>SVC</th>\n",
       "      <td>0.82</td>\n",
       "      <td>0.81</td>\n",
       "      <td>0.81</td>\n",
       "      <td>0.81</td>\n",
       "      <td>36.16</td>\n",
       "    </tr>\n",
       "    <tr>\n",
       "      <th>DecisionTreeClassifier</th>\n",
       "      <td>0.80</td>\n",
       "      <td>0.79</td>\n",
       "      <td>0.79</td>\n",
       "      <td>0.80</td>\n",
       "      <td>1.51</td>\n",
       "    </tr>\n",
       "    <tr>\n",
       "      <th>ExtraTreeClassifier</th>\n",
       "      <td>0.79</td>\n",
       "      <td>0.79</td>\n",
       "      <td>0.79</td>\n",
       "      <td>0.79</td>\n",
       "      <td>0.54</td>\n",
       "    </tr>\n",
       "    <tr>\n",
       "      <th>KNeighborsClassifier</th>\n",
       "      <td>0.77</td>\n",
       "      <td>0.77</td>\n",
       "      <td>0.77</td>\n",
       "      <td>0.77</td>\n",
       "      <td>13.04</td>\n",
       "    </tr>\n",
       "  </tbody>\n",
       "</table>\n",
       "</div>"
      ],
      "text/plain": [
       "                        Accuracy  Balanced Accuracy  ROC AUC  F1 Score  \\\n",
       "Model                                                                    \n",
       "ExtraTreesClassifier        0.85               0.85     0.85      0.85   \n",
       "RandomForestClassifier      0.85               0.84     0.84      0.84   \n",
       "BaggingClassifier           0.84               0.84     0.84      0.84   \n",
       "LGBMClassifier              0.83               0.83     0.83      0.83   \n",
       "XGBClassifier               0.83               0.82     0.82      0.83   \n",
       "NuSVC                       0.82               0.82     0.82      0.82   \n",
       "SVC                         0.82               0.81     0.81      0.81   \n",
       "DecisionTreeClassifier      0.80               0.79     0.79      0.80   \n",
       "ExtraTreeClassifier         0.79               0.79     0.79      0.79   \n",
       "KNeighborsClassifier        0.77               0.77     0.77      0.77   \n",
       "\n",
       "                        Time Taken  \n",
       "Model                               \n",
       "ExtraTreesClassifier          4.57  \n",
       "RandomForestClassifier        3.20  \n",
       "BaggingClassifier             8.85  \n",
       "LGBMClassifier                2.24  \n",
       "XGBClassifier                 9.45  \n",
       "NuSVC                        38.25  \n",
       "SVC                          36.16  \n",
       "DecisionTreeClassifier        1.51  \n",
       "ExtraTreeClassifier           0.54  \n",
       "KNeighborsClassifier         13.04  "
      ]
     },
     "execution_count": 31,
     "metadata": {},
     "output_type": "execute_result"
    }
   ],
   "source": [
    "predictions6.sort_values(by=\"F1 Score\", ascending=False).head(10)"
   ]
  },
  {
   "cell_type": "code",
   "execution_count": 32,
   "id": "b6400fb5",
   "metadata": {
    "execution": {
     "iopub.execute_input": "2022-10-16T12:24:23.254097Z",
     "iopub.status.busy": "2022-10-16T12:24:23.253912Z",
     "iopub.status.idle": "2022-10-16T12:24:23.269892Z",
     "shell.execute_reply": "2022-10-16T12:24:23.269441Z"
    }
   },
   "outputs": [],
   "source": [
    "#2048 bits MAP4 fingerprints\n",
    "X7 = np.array(list((df2['fp_MAP4']))).astype(float)\n",
    "#X.shape\n",
    "Y7 = df2[\"activity\"].values\n",
    "#y.shape"
   ]
  },
  {
   "cell_type": "code",
   "execution_count": 33,
   "id": "93648d5d",
   "metadata": {
    "execution": {
     "iopub.execute_input": "2022-10-16T12:24:23.271409Z",
     "iopub.status.busy": "2022-10-16T12:24:23.271212Z",
     "iopub.status.idle": "2022-10-16T12:24:23.283483Z",
     "shell.execute_reply": "2022-10-16T12:24:23.283042Z"
    }
   },
   "outputs": [
    {
     "name": "stdout",
     "output_type": "stream",
     "text": [
      "Shape of training data: (3593, 2048)\n",
      "Shape of test data: (899, 2048)\n"
     ]
    }
   ],
   "source": [
    "# Split the data into training and test set\n",
    "# Perform data splitting using 80/20 ratio\n",
    "X_train7, X_test7, Y_train7, Y_test7 = train_test_split(X7, Y7, test_size=0.2, random_state=42)\n",
    "\n",
    "# Print the shape of training and testing data\n",
    "print(\"Shape of training data:\", X_train7.shape)\n",
    "print(\"Shape of test data:\", X_test7.shape)\n",
    "# NBVAL_CHECK_OUTPUT"
   ]
  },
  {
   "cell_type": "code",
   "execution_count": 34,
   "id": "5950c58f",
   "metadata": {
    "execution": {
     "iopub.execute_input": "2022-10-16T12:24:23.284790Z",
     "iopub.status.busy": "2022-10-16T12:24:23.284644Z",
     "iopub.status.idle": "2022-10-16T12:30:21.264268Z",
     "shell.execute_reply": "2022-10-16T12:30:21.263957Z"
    }
   },
   "outputs": [
    {
     "name": "stderr",
     "output_type": "stream",
     "text": [
      " 90%|█████████████████████████████████████████████████████████████████████████▌        | 26/29 [04:26<00:42, 14.22s/it]"
     ]
    },
    {
     "name": "stdout",
     "output_type": "stream",
     "text": [
      "[13:17:53] WARNING: C:/Users/Administrator/workspace/xgboost-win64_release_1.5.1/src/learner.cc:1115: Starting in XGBoost 1.3.0, the default evaluation metric used with the objective 'binary:logistic' was changed from 'error' to 'logloss'. Explicitly set eval_metric if you'd like to restore the old behavior.\n"
     ]
    },
    {
     "name": "stderr",
     "output_type": "stream",
     "text": [
      "100%|██████████████████████████████████████████████████████████████████████████████████| 29/29 [05:24<00:00, 11.20s/it]\n"
     ]
    }
   ],
   "source": [
    "# Defines and builds the lazyclassifier\n",
    "clf7 = LazyClassifier(verbose=0,ignore_warnings=True, custom_metric=None)\n",
    "models7, predictions7 = clf7.fit(X_train7, X_test7, Y_train7, Y_test7)"
   ]
  },
  {
   "cell_type": "code",
   "execution_count": 35,
   "id": "a447e411",
   "metadata": {
    "execution": {
     "iopub.execute_input": "2022-10-16T12:30:21.265561Z",
     "iopub.status.busy": "2022-10-16T12:30:21.265453Z",
     "iopub.status.idle": "2022-10-16T12:30:21.269880Z",
     "shell.execute_reply": "2022-10-16T12:30:21.269639Z"
    }
   },
   "outputs": [
    {
     "data": {
      "text/html": [
       "<div>\n",
       "<style scoped>\n",
       "    .dataframe tbody tr th:only-of-type {\n",
       "        vertical-align: middle;\n",
       "    }\n",
       "\n",
       "    .dataframe tbody tr th {\n",
       "        vertical-align: top;\n",
       "    }\n",
       "\n",
       "    .dataframe thead th {\n",
       "        text-align: right;\n",
       "    }\n",
       "</style>\n",
       "<table border=\"1\" class=\"dataframe\">\n",
       "  <thead>\n",
       "    <tr style=\"text-align: right;\">\n",
       "      <th></th>\n",
       "      <th>Accuracy</th>\n",
       "      <th>Balanced Accuracy</th>\n",
       "      <th>ROC AUC</th>\n",
       "      <th>F1 Score</th>\n",
       "      <th>Time Taken</th>\n",
       "    </tr>\n",
       "    <tr>\n",
       "      <th>Model</th>\n",
       "      <th></th>\n",
       "      <th></th>\n",
       "      <th></th>\n",
       "      <th></th>\n",
       "      <th></th>\n",
       "    </tr>\n",
       "  </thead>\n",
       "  <tbody>\n",
       "    <tr>\n",
       "      <th>XGBClassifier</th>\n",
       "      <td>0.86</td>\n",
       "      <td>0.85</td>\n",
       "      <td>0.85</td>\n",
       "      <td>0.86</td>\n",
       "      <td>25.58</td>\n",
       "    </tr>\n",
       "    <tr>\n",
       "      <th>RandomForestClassifier</th>\n",
       "      <td>0.84</td>\n",
       "      <td>0.84</td>\n",
       "      <td>0.84</td>\n",
       "      <td>0.84</td>\n",
       "      <td>9.73</td>\n",
       "    </tr>\n",
       "    <tr>\n",
       "      <th>LGBMClassifier</th>\n",
       "      <td>0.84</td>\n",
       "      <td>0.84</td>\n",
       "      <td>0.84</td>\n",
       "      <td>0.84</td>\n",
       "      <td>32.96</td>\n",
       "    </tr>\n",
       "    <tr>\n",
       "      <th>ExtraTreesClassifier</th>\n",
       "      <td>0.83</td>\n",
       "      <td>0.83</td>\n",
       "      <td>0.83</td>\n",
       "      <td>0.83</td>\n",
       "      <td>3.96</td>\n",
       "    </tr>\n",
       "    <tr>\n",
       "      <th>BaggingClassifier</th>\n",
       "      <td>0.82</td>\n",
       "      <td>0.82</td>\n",
       "      <td>0.82</td>\n",
       "      <td>0.82</td>\n",
       "      <td>48.83</td>\n",
       "    </tr>\n",
       "    <tr>\n",
       "      <th>NuSVC</th>\n",
       "      <td>0.82</td>\n",
       "      <td>0.81</td>\n",
       "      <td>0.81</td>\n",
       "      <td>0.82</td>\n",
       "      <td>38.58</td>\n",
       "    </tr>\n",
       "    <tr>\n",
       "      <th>SVC</th>\n",
       "      <td>0.81</td>\n",
       "      <td>0.80</td>\n",
       "      <td>0.80</td>\n",
       "      <td>0.80</td>\n",
       "      <td>37.07</td>\n",
       "    </tr>\n",
       "    <tr>\n",
       "      <th>KNeighborsClassifier</th>\n",
       "      <td>0.80</td>\n",
       "      <td>0.79</td>\n",
       "      <td>0.79</td>\n",
       "      <td>0.80</td>\n",
       "      <td>13.99</td>\n",
       "    </tr>\n",
       "    <tr>\n",
       "      <th>AdaBoostClassifier</th>\n",
       "      <td>0.75</td>\n",
       "      <td>0.75</td>\n",
       "      <td>0.75</td>\n",
       "      <td>0.75</td>\n",
       "      <td>30.98</td>\n",
       "    </tr>\n",
       "    <tr>\n",
       "      <th>Perceptron</th>\n",
       "      <td>0.74</td>\n",
       "      <td>0.74</td>\n",
       "      <td>0.74</td>\n",
       "      <td>0.74</td>\n",
       "      <td>0.83</td>\n",
       "    </tr>\n",
       "  </tbody>\n",
       "</table>\n",
       "</div>"
      ],
      "text/plain": [
       "                        Accuracy  Balanced Accuracy  ROC AUC  F1 Score  \\\n",
       "Model                                                                    \n",
       "XGBClassifier               0.86               0.85     0.85      0.86   \n",
       "RandomForestClassifier      0.84               0.84     0.84      0.84   \n",
       "LGBMClassifier              0.84               0.84     0.84      0.84   \n",
       "ExtraTreesClassifier        0.83               0.83     0.83      0.83   \n",
       "BaggingClassifier           0.82               0.82     0.82      0.82   \n",
       "NuSVC                       0.82               0.81     0.81      0.82   \n",
       "SVC                         0.81               0.80     0.80      0.80   \n",
       "KNeighborsClassifier        0.80               0.79     0.79      0.80   \n",
       "AdaBoostClassifier          0.75               0.75     0.75      0.75   \n",
       "Perceptron                  0.74               0.74     0.74      0.74   \n",
       "\n",
       "                        Time Taken  \n",
       "Model                               \n",
       "XGBClassifier                25.58  \n",
       "RandomForestClassifier        9.73  \n",
       "LGBMClassifier               32.96  \n",
       "ExtraTreesClassifier          3.96  \n",
       "BaggingClassifier            48.83  \n",
       "NuSVC                        38.58  \n",
       "SVC                          37.07  \n",
       "KNeighborsClassifier         13.99  \n",
       "AdaBoostClassifier           30.98  \n",
       "Perceptron                    0.83  "
      ]
     },
     "execution_count": 35,
     "metadata": {},
     "output_type": "execute_result"
    }
   ],
   "source": [
    "predictions7.sort_values(by=\"F1 Score\", ascending=False).head(10)"
   ]
  },
  {
   "cell_type": "code",
   "execution_count": 36,
   "id": "1b336810",
   "metadata": {
    "execution": {
     "iopub.execute_input": "2022-10-16T12:56:46.779336Z",
     "iopub.status.busy": "2022-10-16T12:56:46.779111Z",
     "iopub.status.idle": "2022-10-16T12:56:46.781410Z",
     "shell.execute_reply": "2022-10-16T12:56:46.781120Z"
    }
   },
   "outputs": [],
   "source": [
    "with pd.ExcelWriter(output/\"LazyPredictResults.xlsx\") as writer:\n",
    "   \n",
    "    # use to_excel function and specify the sheet_name and index \n",
    "    # to store the dataframe in specified sheet\n",
    "    predictions1.to_excel(writer, sheet_name=\"MACCS\", )\n",
    "    predictions2.to_excel(writer, sheet_name=\"Morgan 1024 Bits\", )\n",
    "    predictions3.to_excel(writer, sheet_name=\"MorganF 1024 Bits\", )\n",
    "    predictions4.to_excel(writer, sheet_name=\"MAP4 1024 Bits\", )\n",
    "    predictions5.to_excel(writer, sheet_name=\"Morgan 2048 Bits\", )\n",
    "    predictions6.to_excel(writer, sheet_name=\"MorganF 2048 Bits\", )\n",
    "    predictions7.to_excel(writer, sheet_name=\"MAP4 2048 Bits\", )\n",
    "    "
   ]
  }
 ],
 "metadata": {
  "kernelspec": {
   "display_name": "Python 3 (ipykernel)",
   "language": "python",
   "name": "python3"
  },
  "language_info": {
   "codemirror_mode": {
    "name": "ipython",
    "version": 3
   },
   "file_extension": ".py",
   "mimetype": "text/x-python",
   "name": "python",
   "nbconvert_exporter": "python",
   "pygments_lexer": "ipython3",
   "version": "3.8.13"
  }
 },
 "nbformat": 4,
 "nbformat_minor": 5
}
