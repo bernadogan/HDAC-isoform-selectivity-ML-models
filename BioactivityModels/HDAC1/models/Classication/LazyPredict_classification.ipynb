{
 "cells": [
  {
   "cell_type": "code",
   "execution_count": 1,
   "id": "a5782b42",
   "metadata": {
    "execution": {
     "iopub.execute_input": "2022-10-16T12:04:03.290233Z",
     "iopub.status.busy": "2022-10-16T12:04:03.290101Z",
     "iopub.status.idle": "2022-10-16T12:04:04.123273Z",
     "shell.execute_reply": "2022-10-16T12:04:04.122987Z"
    }
   },
   "outputs": [
    {
     "name": "stderr",
     "output_type": "stream",
     "text": [
      "C:\\Users\\berna\\AppData\\Roaming\\Python\\Python38\\site-packages\\sklearn\\utils\\deprecation.py:143: FutureWarning: The sklearn.utils.testing module is  deprecated in version 0.22 and will be removed in version 0.24. The corresponding classes / functions should instead be imported from sklearn.utils. Anything that cannot be imported from sklearn.utils is now part of the private API.\n",
      "  warnings.warn(message, FutureWarning)\n",
      "C:\\Users\\berna\\anaconda3\\envs\\teachopencadd\\lib\\site-packages\\xgboost\\compat.py:36: FutureWarning: pandas.Int64Index is deprecated and will be removed from pandas in a future version. Use pandas.Index with the appropriate dtype instead.\n",
      "  from pandas import MultiIndex, Int64Index\n"
     ]
    }
   ],
   "source": [
    "import pandas as pd\n",
    "import numpy as np\n",
    "import matplotlib.pyplot as plt\n",
    "import seaborn as sns\n",
    "from sklearn.model_selection import train_test_split\n",
    "import lazypredict\n",
    "from lazypredict.Supervised import LazyClassifier\n",
    "from pathlib import Path\n",
    "import warnings\n",
    "warnings.filterwarnings('ignore')"
   ]
  },
  {
   "cell_type": "code",
   "execution_count": 2,
   "id": "c94d26f9",
   "metadata": {
    "execution": {
     "iopub.execute_input": "2022-10-16T12:04:04.124726Z",
     "iopub.status.busy": "2022-10-16T12:04:04.124560Z",
     "iopub.status.idle": "2022-10-16T12:04:04.126669Z",
     "shell.execute_reply": "2022-10-16T12:04:04.126429Z"
    }
   },
   "outputs": [
    {
     "data": {
      "text/plain": [
       "WindowsPath('C:/Users/berna/Documents/Projects/BAP_2021/teachopencadd-master-latest/teachopencadd/talktorials/HDAC-89dan/BioactivityModels/HDAC1/input')"
      ]
     },
     "execution_count": 2,
     "metadata": {},
     "output_type": "execute_result"
    }
   ],
   "source": [
    "# Set path to this notebook\n",
    "HERE = Path(_dh[-1])\n",
    "levels_up = 2\n",
    "HDAC1= HERE.parents[levels_up-1]/'input'\n",
    "HDAC1"
   ]
  },
  {
   "cell_type": "code",
   "execution_count": 3,
   "id": "16d195ac",
   "metadata": {
    "execution": {
     "iopub.execute_input": "2022-10-16T12:04:04.128040Z",
     "iopub.status.busy": "2022-10-16T12:04:04.127939Z",
     "iopub.status.idle": "2022-10-16T12:04:04.183343Z",
     "shell.execute_reply": "2022-10-16T12:04:04.183025Z"
    }
   },
   "outputs": [
    {
     "data": {
      "text/html": [
       "<div>\n",
       "<style scoped>\n",
       "    .dataframe tbody tr th:only-of-type {\n",
       "        vertical-align: middle;\n",
       "    }\n",
       "\n",
       "    .dataframe tbody tr th {\n",
       "        vertical-align: top;\n",
       "    }\n",
       "\n",
       "    .dataframe thead th {\n",
       "        text-align: right;\n",
       "    }\n",
       "</style>\n",
       "<table border=\"1\" class=\"dataframe\">\n",
       "  <thead>\n",
       "    <tr style=\"text-align: right;\">\n",
       "      <th></th>\n",
       "      <th>molecule_chembl_id</th>\n",
       "      <th>fp_MACCS</th>\n",
       "      <th>fp_Morgan3</th>\n",
       "      <th>fp_MorganF</th>\n",
       "      <th>fp_MAP4</th>\n",
       "      <th>molecular_weight</th>\n",
       "      <th>n_rot</th>\n",
       "      <th>n_heavy</th>\n",
       "      <th>n_hba</th>\n",
       "      <th>n_hbd</th>\n",
       "      <th>logp</th>\n",
       "      <th>num_ar</th>\n",
       "      <th>num_sa</th>\n",
       "      <th>num_alip</th>\n",
       "      <th>pChEMBL_HDAC1</th>\n",
       "    </tr>\n",
       "  </thead>\n",
       "  <tbody>\n",
       "    <tr>\n",
       "      <th>0</th>\n",
       "      <td>CHEMBL4579774</td>\n",
       "      <td>[0, 0, 0, 0, 0, 0, 0, 0, 0, 0, 0, 0, 0, 0, 0, ...</td>\n",
       "      <td>[0, 0, 0, 0, 0, 0, 0, 1, 0, 0, 0, 1, 0, 0, 0, ...</td>\n",
       "      <td>[1, 1, 1, 1, 1, 1, 1, 0, 1, 0, 0, 0, 0, 1, 0, ...</td>\n",
       "      <td>[1546832, 196319, 548421, 1456686, 1474683, 40...</td>\n",
       "      <td>898.32</td>\n",
       "      <td>17.00</td>\n",
       "      <td>63.00</td>\n",
       "      <td>12.00</td>\n",
       "      <td>5.00</td>\n",
       "      <td>8.30</td>\n",
       "      <td>5.00</td>\n",
       "      <td>1.00</td>\n",
       "      <td>2.00</td>\n",
       "      <td>6.07</td>\n",
       "    </tr>\n",
       "    <tr>\n",
       "      <th>1</th>\n",
       "      <td>CHEMBL3655934</td>\n",
       "      <td>[0, 0, 0, 0, 0, 0, 0, 0, 0, 0, 0, 0, 0, 0, 0, ...</td>\n",
       "      <td>[0, 0, 0, 0, 0, 0, 0, 0, 0, 0, 0, 1, 0, 0, 0, ...</td>\n",
       "      <td>[1, 1, 1, 1, 1, 0, 1, 0, 0, 1, 0, 0, 0, 0, 0, ...</td>\n",
       "      <td>[17966510, 2478511, 10872982, 33025828, 119321...</td>\n",
       "      <td>304.12</td>\n",
       "      <td>6.00</td>\n",
       "      <td>22.00</td>\n",
       "      <td>7.00</td>\n",
       "      <td>5.00</td>\n",
       "      <td>0.19</td>\n",
       "      <td>2.00</td>\n",
       "      <td>0.00</td>\n",
       "      <td>0.00</td>\n",
       "      <td>6.33</td>\n",
       "    </tr>\n",
       "    <tr>\n",
       "      <th>2</th>\n",
       "      <td>CHEMBL4103874</td>\n",
       "      <td>[0, 0, 0, 0, 0, 0, 0, 0, 0, 0, 0, 0, 0, 0, 0, ...</td>\n",
       "      <td>[0, 0, 0, 0, 0, 0, 0, 0, 0, 0, 0, 0, 0, 0, 0, ...</td>\n",
       "      <td>[1, 1, 1, 0, 1, 0, 0, 0, 0, 0, 1, 1, 0, 0, 0, ...</td>\n",
       "      <td>[5296414, 3821889, 137380, 1835646, 7332227, 6...</td>\n",
       "      <td>468.20</td>\n",
       "      <td>11.00</td>\n",
       "      <td>34.00</td>\n",
       "      <td>7.00</td>\n",
       "      <td>3.00</td>\n",
       "      <td>4.21</td>\n",
       "      <td>2.00</td>\n",
       "      <td>0.00</td>\n",
       "      <td>1.00</td>\n",
       "      <td>6.54</td>\n",
       "    </tr>\n",
       "    <tr>\n",
       "      <th>3</th>\n",
       "      <td>CHEMBL4173137</td>\n",
       "      <td>[0, 0, 0, 0, 0, 0, 0, 0, 0, 0, 0, 0, 0, 0, 0, ...</td>\n",
       "      <td>[0, 0, 0, 0, 0, 0, 0, 0, 0, 0, 0, 0, 0, 0, 0, ...</td>\n",
       "      <td>[1, 1, 1, 0, 1, 0, 0, 0, 1, 0, 1, 1, 0, 0, 0, ...</td>\n",
       "      <td>[2620858, 1112196, 137380, 1288122, 28861, 132...</td>\n",
       "      <td>377.15</td>\n",
       "      <td>6.00</td>\n",
       "      <td>28.00</td>\n",
       "      <td>3.00</td>\n",
       "      <td>3.00</td>\n",
       "      <td>4.23</td>\n",
       "      <td>3.00</td>\n",
       "      <td>0.00</td>\n",
       "      <td>0.00</td>\n",
       "      <td>5.92</td>\n",
       "    </tr>\n",
       "    <tr>\n",
       "      <th>4</th>\n",
       "      <td>CHEMBL97387</td>\n",
       "      <td>[0, 0, 0, 0, 0, 0, 0, 0, 0, 0, 0, 0, 0, 0, 0, ...</td>\n",
       "      <td>[0, 0, 0, 0, 0, 0, 0, 0, 0, 0, 0, 0, 0, 0, 0, ...</td>\n",
       "      <td>[1, 1, 1, 1, 1, 0, 0, 0, 0, 0, 0, 0, 0, 0, 0, ...</td>\n",
       "      <td>[7048323, 2421530, 3771845, 37564616, 2140073,...</td>\n",
       "      <td>332.08</td>\n",
       "      <td>5.00</td>\n",
       "      <td>23.00</td>\n",
       "      <td>4.00</td>\n",
       "      <td>2.00</td>\n",
       "      <td>2.03</td>\n",
       "      <td>2.00</td>\n",
       "      <td>0.00</td>\n",
       "      <td>0.00</td>\n",
       "      <td>6.23</td>\n",
       "    </tr>\n",
       "  </tbody>\n",
       "</table>\n",
       "</div>"
      ],
      "text/plain": [
       "  molecule_chembl_id                                           fp_MACCS  \\\n",
       "0      CHEMBL4579774  [0, 0, 0, 0, 0, 0, 0, 0, 0, 0, 0, 0, 0, 0, 0, ...   \n",
       "1      CHEMBL3655934  [0, 0, 0, 0, 0, 0, 0, 0, 0, 0, 0, 0, 0, 0, 0, ...   \n",
       "2      CHEMBL4103874  [0, 0, 0, 0, 0, 0, 0, 0, 0, 0, 0, 0, 0, 0, 0, ...   \n",
       "3      CHEMBL4173137  [0, 0, 0, 0, 0, 0, 0, 0, 0, 0, 0, 0, 0, 0, 0, ...   \n",
       "4        CHEMBL97387  [0, 0, 0, 0, 0, 0, 0, 0, 0, 0, 0, 0, 0, 0, 0, ...   \n",
       "\n",
       "                                          fp_Morgan3  \\\n",
       "0  [0, 0, 0, 0, 0, 0, 0, 1, 0, 0, 0, 1, 0, 0, 0, ...   \n",
       "1  [0, 0, 0, 0, 0, 0, 0, 0, 0, 0, 0, 1, 0, 0, 0, ...   \n",
       "2  [0, 0, 0, 0, 0, 0, 0, 0, 0, 0, 0, 0, 0, 0, 0, ...   \n",
       "3  [0, 0, 0, 0, 0, 0, 0, 0, 0, 0, 0, 0, 0, 0, 0, ...   \n",
       "4  [0, 0, 0, 0, 0, 0, 0, 0, 0, 0, 0, 0, 0, 0, 0, ...   \n",
       "\n",
       "                                          fp_MorganF  \\\n",
       "0  [1, 1, 1, 1, 1, 1, 1, 0, 1, 0, 0, 0, 0, 1, 0, ...   \n",
       "1  [1, 1, 1, 1, 1, 0, 1, 0, 0, 1, 0, 0, 0, 0, 0, ...   \n",
       "2  [1, 1, 1, 0, 1, 0, 0, 0, 0, 0, 1, 1, 0, 0, 0, ...   \n",
       "3  [1, 1, 1, 0, 1, 0, 0, 0, 1, 0, 1, 1, 0, 0, 0, ...   \n",
       "4  [1, 1, 1, 1, 1, 0, 0, 0, 0, 0, 0, 0, 0, 0, 0, ...   \n",
       "\n",
       "                                             fp_MAP4  molecular_weight  n_rot  \\\n",
       "0  [1546832, 196319, 548421, 1456686, 1474683, 40...            898.32  17.00   \n",
       "1  [17966510, 2478511, 10872982, 33025828, 119321...            304.12   6.00   \n",
       "2  [5296414, 3821889, 137380, 1835646, 7332227, 6...            468.20  11.00   \n",
       "3  [2620858, 1112196, 137380, 1288122, 28861, 132...            377.15   6.00   \n",
       "4  [7048323, 2421530, 3771845, 37564616, 2140073,...            332.08   5.00   \n",
       "\n",
       "   n_heavy  n_hba  n_hbd  logp  num_ar  num_sa  num_alip  pChEMBL_HDAC1  \n",
       "0    63.00  12.00   5.00  8.30    5.00    1.00      2.00           6.07  \n",
       "1    22.00   7.00   5.00  0.19    2.00    0.00      0.00           6.33  \n",
       "2    34.00   7.00   3.00  4.21    2.00    0.00      1.00           6.54  \n",
       "3    28.00   3.00   3.00  4.23    3.00    0.00      0.00           5.92  \n",
       "4    23.00   4.00   2.00  2.03    2.00    0.00      0.00           6.23  "
      ]
     },
     "execution_count": 3,
     "metadata": {},
     "output_type": "execute_result"
    }
   ],
   "source": [
    "df1 = pd.read_pickle(HDAC1/\"HDAC1_1024B.csv\")\n",
    "df1 = df1.sample(frac=1).reset_index(drop=True)\n",
    "df1.head(5)"
   ]
  },
  {
   "cell_type": "code",
   "execution_count": 4,
   "id": "a8f6e20b",
   "metadata": {
    "execution": {
     "iopub.execute_input": "2022-10-16T12:04:04.193679Z",
     "iopub.status.busy": "2022-10-16T12:04:04.193559Z",
     "iopub.status.idle": "2022-10-16T12:04:04.197078Z",
     "shell.execute_reply": "2022-10-16T12:04:04.196844Z"
    }
   },
   "outputs": [
    {
     "name": "stdout",
     "output_type": "stream",
     "text": [
      "Number of active compounds: 2362\n",
      "Number of inactive compounds: 2130\n"
     ]
    }
   ],
   "source": [
    "# Add column for activity\n",
    "df1[\"activity\"] = np.zeros(len(df1))\n",
    "\n",
    "# Mark every molecule as active with an pIC50 of >= 6.6, 0 otherwise\n",
    "df1.loc[df1[df1.pchembl >= 6.6].index, \"activity\"] = 1.0\n",
    "\n",
    "# NBVAL_CHECK_OUTPUT\n",
    "print(\"Number of active compounds:\", int(df1.activity.sum()))\n",
    "print(\"Number of inactive compounds:\", len(df1) - int(df1.activity.sum()))"
   ]
  },
  {
   "cell_type": "code",
   "execution_count": 5,
   "id": "75cdb440",
   "metadata": {
    "execution": {
     "iopub.execute_input": "2022-10-16T12:04:04.198460Z",
     "iopub.status.busy": "2022-10-16T12:04:04.198328Z",
     "iopub.status.idle": "2022-10-16T12:04:04.212116Z",
     "shell.execute_reply": "2022-10-16T12:04:04.211890Z"
    }
   },
   "outputs": [
    {
     "data": {
      "text/html": [
       "<div>\n",
       "<style scoped>\n",
       "    .dataframe tbody tr th:only-of-type {\n",
       "        vertical-align: middle;\n",
       "    }\n",
       "\n",
       "    .dataframe tbody tr th {\n",
       "        vertical-align: top;\n",
       "    }\n",
       "\n",
       "    .dataframe thead th {\n",
       "        text-align: right;\n",
       "    }\n",
       "</style>\n",
       "<table border=\"1\" class=\"dataframe\">\n",
       "  <thead>\n",
       "    <tr style=\"text-align: right;\">\n",
       "      <th></th>\n",
       "      <th>molecule_chembl_id</th>\n",
       "      <th>fp_MACCS</th>\n",
       "      <th>fp_Morgan3</th>\n",
       "      <th>fp_MorganF</th>\n",
       "      <th>fp_MAP4</th>\n",
       "      <th>molecular_weight</th>\n",
       "      <th>n_rot</th>\n",
       "      <th>n_heavy</th>\n",
       "      <th>n_hba</th>\n",
       "      <th>n_hbd</th>\n",
       "      <th>logp</th>\n",
       "      <th>num_ar</th>\n",
       "      <th>num_sa</th>\n",
       "      <th>num_alip</th>\n",
       "      <th>pchembl</th>\n",
       "      <th>activity</th>\n",
       "    </tr>\n",
       "  </thead>\n",
       "  <tbody>\n",
       "    <tr>\n",
       "      <th>0</th>\n",
       "      <td>CHEMBL3655935</td>\n",
       "      <td>[0, 0, 0, 0, 0, 0, 0, 0, 0, 0, 0, 0, 0, 0, 0, ...</td>\n",
       "      <td>[0, 0, 0, 0, 0, 0, 0, 0, 0, 0, 0, 0, 0, 0, 0, ...</td>\n",
       "      <td>[1, 1, 1, 1, 1, 0, 1, 0, 1, 1, 0, 0, 0, 0, 0, ...</td>\n",
       "      <td>[569161, 2478511, 10872982, 15618770, 11932100...</td>\n",
       "      <td>292.07</td>\n",
       "      <td>4.00</td>\n",
       "      <td>20.00</td>\n",
       "      <td>5.00</td>\n",
       "      <td>3.00</td>\n",
       "      <td>2.17</td>\n",
       "      <td>2.00</td>\n",
       "      <td>0.00</td>\n",
       "      <td>0.00</td>\n",
       "      <td>6.73</td>\n",
       "      <td>1.00</td>\n",
       "    </tr>\n",
       "    <tr>\n",
       "      <th>1</th>\n",
       "      <td>CHEMBL3655945</td>\n",
       "      <td>[0, 0, 0, 0, 0, 0, 0, 0, 0, 0, 0, 0, 0, 0, 0, ...</td>\n",
       "      <td>[0, 0, 0, 0, 0, 0, 0, 0, 0, 0, 0, 0, 0, 0, 0, ...</td>\n",
       "      <td>[1, 1, 1, 1, 1, 0, 1, 0, 1, 1, 0, 0, 0, 0, 0, ...</td>\n",
       "      <td>[35600637, 2478511, 10872982, 16070626, 119321...</td>\n",
       "      <td>326.03</td>\n",
       "      <td>5.00</td>\n",
       "      <td>21.00</td>\n",
       "      <td>5.00</td>\n",
       "      <td>3.00</td>\n",
       "      <td>2.56</td>\n",
       "      <td>2.00</td>\n",
       "      <td>0.00</td>\n",
       "      <td>0.00</td>\n",
       "      <td>5.84</td>\n",
       "      <td>0.00</td>\n",
       "    </tr>\n",
       "    <tr>\n",
       "      <th>2</th>\n",
       "      <td>CHEMBL3339031</td>\n",
       "      <td>[0, 0, 0, 0, 0, 0, 0, 0, 0, 0, 0, 0, 0, 0, 0, ...</td>\n",
       "      <td>[0, 0, 1, 0, 1, 0, 0, 0, 0, 0, 0, 1, 0, 0, 0, ...</td>\n",
       "      <td>[1, 1, 1, 1, 1, 0, 1, 0, 1, 0, 1, 1, 0, 0, 0, ...</td>\n",
       "      <td>[1705, 13925431, 5032800, 4181618, 729515, 693...</td>\n",
       "      <td>514.22</td>\n",
       "      <td>11.00</td>\n",
       "      <td>36.00</td>\n",
       "      <td>8.00</td>\n",
       "      <td>4.00</td>\n",
       "      <td>5.35</td>\n",
       "      <td>3.00</td>\n",
       "      <td>1.00</td>\n",
       "      <td>1.00</td>\n",
       "      <td>8.27</td>\n",
       "      <td>1.00</td>\n",
       "    </tr>\n",
       "    <tr>\n",
       "      <th>3</th>\n",
       "      <td>CHEMBL2018448</td>\n",
       "      <td>[0, 0, 0, 0, 0, 0, 0, 0, 0, 0, 0, 0, 0, 0, 0, ...</td>\n",
       "      <td>[0, 0, 0, 0, 0, 0, 0, 0, 0, 0, 0, 0, 0, 0, 0, ...</td>\n",
       "      <td>[1, 1, 1, 1, 1, 0, 1, 0, 0, 0, 0, 0, 0, 0, 0, ...</td>\n",
       "      <td>[5976924, 3913535, 8033062, 2817337, 33707642,...</td>\n",
       "      <td>378.17</td>\n",
       "      <td>5.00</td>\n",
       "      <td>28.00</td>\n",
       "      <td>5.00</td>\n",
       "      <td>3.00</td>\n",
       "      <td>1.65</td>\n",
       "      <td>3.00</td>\n",
       "      <td>0.00</td>\n",
       "      <td>1.00</td>\n",
       "      <td>5.40</td>\n",
       "      <td>0.00</td>\n",
       "    </tr>\n",
       "    <tr>\n",
       "      <th>4</th>\n",
       "      <td>CHEMBL4062908</td>\n",
       "      <td>[0, 0, 0, 0, 0, 0, 0, 0, 0, 0, 0, 0, 0, 0, 0, ...</td>\n",
       "      <td>[0, 0, 0, 0, 0, 0, 0, 0, 0, 0, 0, 1, 0, 0, 0, ...</td>\n",
       "      <td>[1, 1, 1, 1, 1, 0, 1, 0, 0, 0, 0, 0, 0, 0, 0, ...</td>\n",
       "      <td>[1705, 16948577, 10242645, 7125875, 338217, 11...</td>\n",
       "      <td>441.18</td>\n",
       "      <td>11.00</td>\n",
       "      <td>31.00</td>\n",
       "      <td>7.00</td>\n",
       "      <td>4.00</td>\n",
       "      <td>4.78</td>\n",
       "      <td>3.00</td>\n",
       "      <td>0.00</td>\n",
       "      <td>0.00</td>\n",
       "      <td>6.59</td>\n",
       "      <td>0.00</td>\n",
       "    </tr>\n",
       "  </tbody>\n",
       "</table>\n",
       "</div>"
      ],
      "text/plain": [
       "  molecule_chembl_id                                           fp_MACCS  \\\n",
       "0      CHEMBL3655935  [0, 0, 0, 0, 0, 0, 0, 0, 0, 0, 0, 0, 0, 0, 0, ...   \n",
       "1      CHEMBL3655945  [0, 0, 0, 0, 0, 0, 0, 0, 0, 0, 0, 0, 0, 0, 0, ...   \n",
       "2      CHEMBL3339031  [0, 0, 0, 0, 0, 0, 0, 0, 0, 0, 0, 0, 0, 0, 0, ...   \n",
       "3      CHEMBL2018448  [0, 0, 0, 0, 0, 0, 0, 0, 0, 0, 0, 0, 0, 0, 0, ...   \n",
       "4      CHEMBL4062908  [0, 0, 0, 0, 0, 0, 0, 0, 0, 0, 0, 0, 0, 0, 0, ...   \n",
       "\n",
       "                                          fp_Morgan3  \\\n",
       "0  [0, 0, 0, 0, 0, 0, 0, 0, 0, 0, 0, 0, 0, 0, 0, ...   \n",
       "1  [0, 0, 0, 0, 0, 0, 0, 0, 0, 0, 0, 0, 0, 0, 0, ...   \n",
       "2  [0, 0, 1, 0, 1, 0, 0, 0, 0, 0, 0, 1, 0, 0, 0, ...   \n",
       "3  [0, 0, 0, 0, 0, 0, 0, 0, 0, 0, 0, 0, 0, 0, 0, ...   \n",
       "4  [0, 0, 0, 0, 0, 0, 0, 0, 0, 0, 0, 1, 0, 0, 0, ...   \n",
       "\n",
       "                                          fp_MorganF  \\\n",
       "0  [1, 1, 1, 1, 1, 0, 1, 0, 1, 1, 0, 0, 0, 0, 0, ...   \n",
       "1  [1, 1, 1, 1, 1, 0, 1, 0, 1, 1, 0, 0, 0, 0, 0, ...   \n",
       "2  [1, 1, 1, 1, 1, 0, 1, 0, 1, 0, 1, 1, 0, 0, 0, ...   \n",
       "3  [1, 1, 1, 1, 1, 0, 1, 0, 0, 0, 0, 0, 0, 0, 0, ...   \n",
       "4  [1, 1, 1, 1, 1, 0, 1, 0, 0, 0, 0, 0, 0, 0, 0, ...   \n",
       "\n",
       "                                             fp_MAP4  molecular_weight  n_rot  \\\n",
       "0  [569161, 2478511, 10872982, 15618770, 11932100...            292.07   4.00   \n",
       "1  [35600637, 2478511, 10872982, 16070626, 119321...            326.03   5.00   \n",
       "2  [1705, 13925431, 5032800, 4181618, 729515, 693...            514.22  11.00   \n",
       "3  [5976924, 3913535, 8033062, 2817337, 33707642,...            378.17   5.00   \n",
       "4  [1705, 16948577, 10242645, 7125875, 338217, 11...            441.18  11.00   \n",
       "\n",
       "   n_heavy  n_hba  n_hbd  logp  num_ar  num_sa  num_alip  pchembl  activity  \n",
       "0    20.00   5.00   3.00  2.17    2.00    0.00      0.00     6.73      1.00  \n",
       "1    21.00   5.00   3.00  2.56    2.00    0.00      0.00     5.84      0.00  \n",
       "2    36.00   8.00   4.00  5.35    3.00    1.00      1.00     8.27      1.00  \n",
       "3    28.00   5.00   3.00  1.65    3.00    0.00      1.00     5.40      0.00  \n",
       "4    31.00   7.00   4.00  4.78    3.00    0.00      0.00     6.59      0.00  "
      ]
     },
     "execution_count": 5,
     "metadata": {},
     "output_type": "execute_result"
    }
   ],
   "source": [
    "df1.head(5)"
   ]
  },
  {
   "cell_type": "markdown",
   "id": "5c59d3ae",
   "metadata": {},
   "source": [
    "#### By using MACCS fingerprints that are 166 bits "
   ]
  },
  {
   "cell_type": "code",
   "execution_count": 6,
   "id": "7b909b48",
   "metadata": {
    "execution": {
     "iopub.execute_input": "2022-10-16T12:04:04.213503Z",
     "iopub.status.busy": "2022-10-16T12:04:04.213403Z",
     "iopub.status.idle": "2022-10-16T12:04:04.218546Z",
     "shell.execute_reply": "2022-10-16T12:04:04.218294Z"
    }
   },
   "outputs": [],
   "source": [
    "X1 = np.array(list((df1['fp_MACCS']))).astype(float)\n",
    "#X.shape\n",
    "Y1 = df1[\"activity\"].values\n",
    "#y.shape"
   ]
  },
  {
   "cell_type": "code",
   "execution_count": 7,
   "id": "1597418b",
   "metadata": {
    "execution": {
     "iopub.execute_input": "2022-10-16T12:04:04.219842Z",
     "iopub.status.busy": "2022-10-16T12:04:04.219740Z",
     "iopub.status.idle": "2022-10-16T12:04:04.223009Z",
     "shell.execute_reply": "2022-10-16T12:04:04.222783Z"
    }
   },
   "outputs": [
    {
     "name": "stdout",
     "output_type": "stream",
     "text": [
      "Shape of training data: (3593, 167)\n",
      "Shape of test data: (899, 167)\n"
     ]
    }
   ],
   "source": [
    "# Split the data into training and test set\n",
    "# Perform data splitting using 80/20 ratio\n",
    "X_train1, X_test1, Y_train1, Y_test1 = train_test_split(X1, Y1, test_size=0.2, random_state=42)\n",
    "\n",
    "# Print the shape of training and testing data\n",
    "print(\"Shape of training data:\", X_train1.shape)\n",
    "print(\"Shape of test data:\", X_test1.shape)\n",
    "# NBVAL_CHECK_OUTPUT"
   ]
  },
  {
   "cell_type": "code",
   "execution_count": 8,
   "id": "6c7d9723",
   "metadata": {
    "execution": {
     "iopub.execute_input": "2022-10-16T12:04:04.224228Z",
     "iopub.status.busy": "2022-10-16T12:04:04.224128Z",
     "iopub.status.idle": "2022-10-16T12:06:15.393567Z",
     "shell.execute_reply": "2022-10-16T12:06:15.393219Z"
    }
   },
   "outputs": [
    {
     "name": "stderr",
     "output_type": "stream",
     "text": [
      " 97%|████████████████████████████████████████████████████████████████████████████████████████████████████████████████████████████████████████████████████████████████████████      | 28/29 [00:09<00:00,  3.26it/s]"
     ]
    },
    {
     "name": "stdout",
     "output_type": "stream",
     "text": [
      "[16:50:51] WARNING: ../src/learner.cc:1115: Starting in XGBoost 1.3.0, the default evaluation metric used with the objective 'binary:logistic' was changed from 'error' to 'logloss'. Explicitly set eval_metric if you'd like to restore the old behavior.\n"
     ]
    },
    {
     "name": "stderr",
     "output_type": "stream",
     "text": [
      "100%|██████████████████████████████████████████████████████████████████████████████████████████████████████████████████████████████████████████████████████████████████████████████| 29/29 [00:09<00:00,  2.96it/s]\n"
     ]
    }
   ],
   "source": [
    "# Defines and builds the LazyClassifier\n",
    "clf1 =  LazyClassifier(verbose=0,ignore_warnings=True, custom_metric=None)\n",
    "model1,predictions1 = clf1.fit(X_train1, X_test1, Y_train1, Y_test1)"
   ]
  },
  {
   "cell_type": "code",
   "execution_count": 9,
   "id": "05fde095",
   "metadata": {
    "execution": {
     "iopub.execute_input": "2022-10-16T12:06:15.394903Z",
     "iopub.status.busy": "2022-10-16T12:06:15.394795Z",
     "iopub.status.idle": "2022-10-16T12:06:15.399282Z",
     "shell.execute_reply": "2022-10-16T12:06:15.399005Z"
    }
   },
   "outputs": [
    {
     "data": {
      "text/html": [
       "<div>\n",
       "<style scoped>\n",
       "    .dataframe tbody tr th:only-of-type {\n",
       "        vertical-align: middle;\n",
       "    }\n",
       "\n",
       "    .dataframe tbody tr th {\n",
       "        vertical-align: top;\n",
       "    }\n",
       "\n",
       "    .dataframe thead th {\n",
       "        text-align: right;\n",
       "    }\n",
       "</style>\n",
       "<table border=\"1\" class=\"dataframe\">\n",
       "  <thead>\n",
       "    <tr style=\"text-align: right;\">\n",
       "      <th></th>\n",
       "      <th>Accuracy</th>\n",
       "      <th>Balanced Accuracy</th>\n",
       "      <th>ROC AUC</th>\n",
       "      <th>F1 Score</th>\n",
       "      <th>Time Taken</th>\n",
       "    </tr>\n",
       "    <tr>\n",
       "      <th>Model</th>\n",
       "      <th></th>\n",
       "      <th></th>\n",
       "      <th></th>\n",
       "      <th></th>\n",
       "      <th></th>\n",
       "    </tr>\n",
       "  </thead>\n",
       "  <tbody>\n",
       "    <tr>\n",
       "      <th>XGBClassifier</th>\n",
       "      <td>0.82</td>\n",
       "      <td>0.82</td>\n",
       "      <td>0.82</td>\n",
       "      <td>0.82</td>\n",
       "      <td>0.20</td>\n",
       "    </tr>\n",
       "    <tr>\n",
       "      <th>RandomForestClassifier</th>\n",
       "      <td>0.82</td>\n",
       "      <td>0.82</td>\n",
       "      <td>0.82</td>\n",
       "      <td>0.82</td>\n",
       "      <td>0.32</td>\n",
       "    </tr>\n",
       "    <tr>\n",
       "      <th>LGBMClassifier</th>\n",
       "      <td>0.82</td>\n",
       "      <td>0.82</td>\n",
       "      <td>0.82</td>\n",
       "      <td>0.82</td>\n",
       "      <td>0.18</td>\n",
       "    </tr>\n",
       "    <tr>\n",
       "      <th>ExtraTreesClassifier</th>\n",
       "      <td>0.82</td>\n",
       "      <td>0.81</td>\n",
       "      <td>0.81</td>\n",
       "      <td>0.82</td>\n",
       "      <td>0.34</td>\n",
       "    </tr>\n",
       "    <tr>\n",
       "      <th>NuSVC</th>\n",
       "      <td>0.81</td>\n",
       "      <td>0.81</td>\n",
       "      <td>0.81</td>\n",
       "      <td>0.81</td>\n",
       "      <td>1.51</td>\n",
       "    </tr>\n",
       "    <tr>\n",
       "      <th>SVC</th>\n",
       "      <td>0.80</td>\n",
       "      <td>0.80</td>\n",
       "      <td>0.80</td>\n",
       "      <td>0.80</td>\n",
       "      <td>1.36</td>\n",
       "    </tr>\n",
       "    <tr>\n",
       "      <th>BaggingClassifier</th>\n",
       "      <td>0.80</td>\n",
       "      <td>0.80</td>\n",
       "      <td>0.80</td>\n",
       "      <td>0.80</td>\n",
       "      <td>0.17</td>\n",
       "    </tr>\n",
       "    <tr>\n",
       "      <th>KNeighborsClassifier</th>\n",
       "      <td>0.79</td>\n",
       "      <td>0.79</td>\n",
       "      <td>0.79</td>\n",
       "      <td>0.79</td>\n",
       "      <td>0.45</td>\n",
       "    </tr>\n",
       "    <tr>\n",
       "      <th>ExtraTreeClassifier</th>\n",
       "      <td>0.78</td>\n",
       "      <td>0.77</td>\n",
       "      <td>0.77</td>\n",
       "      <td>0.78</td>\n",
       "      <td>0.02</td>\n",
       "    </tr>\n",
       "    <tr>\n",
       "      <th>DecisionTreeClassifier</th>\n",
       "      <td>0.77</td>\n",
       "      <td>0.77</td>\n",
       "      <td>0.77</td>\n",
       "      <td>0.77</td>\n",
       "      <td>0.06</td>\n",
       "    </tr>\n",
       "  </tbody>\n",
       "</table>\n",
       "</div>"
      ],
      "text/plain": [
       "                        Accuracy  Balanced Accuracy  ROC AUC  F1 Score  \\\n",
       "Model                                                                    \n",
       "XGBClassifier               0.82               0.82     0.82      0.82   \n",
       "RandomForestClassifier      0.82               0.82     0.82      0.82   \n",
       "LGBMClassifier              0.82               0.82     0.82      0.82   \n",
       "ExtraTreesClassifier        0.82               0.81     0.81      0.82   \n",
       "NuSVC                       0.81               0.81     0.81      0.81   \n",
       "SVC                         0.80               0.80     0.80      0.80   \n",
       "BaggingClassifier           0.80               0.80     0.80      0.80   \n",
       "KNeighborsClassifier        0.79               0.79     0.79      0.79   \n",
       "ExtraTreeClassifier         0.78               0.77     0.77      0.78   \n",
       "DecisionTreeClassifier      0.77               0.77     0.77      0.77   \n",
       "\n",
       "                        Time Taken  \n",
       "Model                               \n",
       "XGBClassifier                 0.20  \n",
       "RandomForestClassifier        0.32  \n",
       "LGBMClassifier                0.18  \n",
       "ExtraTreesClassifier          0.34  \n",
       "NuSVC                         1.51  \n",
       "SVC                           1.36  \n",
       "BaggingClassifier             0.17  \n",
       "KNeighborsClassifier          0.45  \n",
       "ExtraTreeClassifier           0.02  \n",
       "DecisionTreeClassifier        0.06  "
      ]
     },
     "execution_count": 9,
     "metadata": {},
     "output_type": "execute_result"
    }
   ],
   "source": [
    "predictions1.sort_values(by=\"F1 Score\", ascending=False).head(10)"
   ]
  },
  {
   "cell_type": "code",
   "execution_count": 10,
   "id": "944cc58b",
   "metadata": {
    "execution": {
     "iopub.execute_input": "2022-10-16T12:06:15.400494Z",
     "iopub.status.busy": "2022-10-16T12:06:15.400311Z",
     "iopub.status.idle": "2022-10-16T12:06:15.402860Z",
     "shell.execute_reply": "2022-10-16T12:06:15.402584Z"
    }
   },
   "outputs": [],
   "source": [
    "predictions1.to_csv('LazyPredict_MACCS.csv')"
   ]
  },
  {
   "cell_type": "markdown",
   "id": "78ef1632",
   "metadata": {},
   "source": [
    "### USING 1024 BITS FINGERPRINTS"
   ]
  },
  {
   "cell_type": "code",
   "execution_count": 11,
   "id": "ffe8b4e1",
   "metadata": {
    "execution": {
     "iopub.execute_input": "2022-10-16T12:06:15.404070Z",
     "iopub.status.busy": "2022-10-16T12:06:15.403974Z",
     "iopub.status.idle": "2022-10-16T12:06:15.413615Z",
     "shell.execute_reply": "2022-10-16T12:06:15.413248Z"
    }
   },
   "outputs": [],
   "source": [
    "#By using Morgan fingerprints with radius of 3 and 1024 bits\n",
    "X2 = np.array(list((df1['fp_Morgan3']))).astype(float)\n",
    "#X.shape\n",
    "Y2 = df1[\"activity\"].values\n",
    "#y.shape"
   ]
  },
  {
   "cell_type": "code",
   "execution_count": 12,
   "id": "3a28de69",
   "metadata": {
    "execution": {
     "iopub.execute_input": "2022-10-16T12:06:15.414951Z",
     "iopub.status.busy": "2022-10-16T12:06:15.414844Z",
     "iopub.status.idle": "2022-10-16T12:06:15.421558Z",
     "shell.execute_reply": "2022-10-16T12:06:15.421231Z"
    }
   },
   "outputs": [
    {
     "name": "stdout",
     "output_type": "stream",
     "text": [
      "Shape of training data: (3593, 1024)\n",
      "Shape of test data: (899, 1024)\n"
     ]
    }
   ],
   "source": [
    "# Split the data into training and test set\n",
    "# Perform data splitting using 80/20 ratio\n",
    "X_train2, X_test2, Y_train2, Y_test2 = train_test_split(X2, Y2, test_size=0.2, random_state=42)\n",
    "\n",
    "# Print the shape of training and testing data\n",
    "print(\"Shape of training data:\", X_train2.shape)\n",
    "print(\"Shape of test data:\", X_test2.shape)\n",
    "# NBVAL_CHECK_OUTPUT"
   ]
  },
  {
   "cell_type": "code",
   "execution_count": 13,
   "id": "5f84b274",
   "metadata": {
    "execution": {
     "iopub.execute_input": "2022-10-16T12:06:15.422777Z",
     "iopub.status.busy": "2022-10-16T12:06:15.422659Z",
     "iopub.status.idle": "2022-10-16T12:09:36.280661Z",
     "shell.execute_reply": "2022-10-16T12:09:36.280238Z"
    }
   },
   "outputs": [
    {
     "name": "stderr",
     "output_type": "stream",
     "text": [
      " 90%|████████████████████████████████████████████████████████████████████████████████████████████████████████████████████████████████████████████████████████████                  | 26/29 [00:40<00:08,  2.94s/it]"
     ]
    },
    {
     "name": "stdout",
     "output_type": "stream",
     "text": [
      "[16:51:32] WARNING: ../src/learner.cc:1115: Starting in XGBoost 1.3.0, the default evaluation metric used with the objective 'binary:logistic' was changed from 'error' to 'logloss'. Explicitly set eval_metric if you'd like to restore the old behavior.\n"
     ]
    },
    {
     "name": "stderr",
     "output_type": "stream",
     "text": [
      "100%|██████████████████████████████████████████████████████████████████████████████████████████████████████████████████████████████████████████████████████████████████████████████| 29/29 [00:41<00:00,  1.43s/it]\n"
     ]
    }
   ],
   "source": [
    "clf2 = LazyClassifier(verbose=0,ignore_warnings=True, custom_metric=None)\n",
    "models2, predictions2 = clf2.fit(X_train2, X_test2, Y_train2, Y_test2)"
   ]
  },
  {
   "cell_type": "code",
   "execution_count": 14,
   "id": "557eab56",
   "metadata": {
    "execution": {
     "iopub.execute_input": "2022-10-16T12:09:36.282215Z",
     "iopub.status.busy": "2022-10-16T12:09:36.282104Z",
     "iopub.status.idle": "2022-10-16T12:09:36.286867Z",
     "shell.execute_reply": "2022-10-16T12:09:36.286568Z"
    }
   },
   "outputs": [
    {
     "data": {
      "text/html": [
       "<div>\n",
       "<style scoped>\n",
       "    .dataframe tbody tr th:only-of-type {\n",
       "        vertical-align: middle;\n",
       "    }\n",
       "\n",
       "    .dataframe tbody tr th {\n",
       "        vertical-align: top;\n",
       "    }\n",
       "\n",
       "    .dataframe thead th {\n",
       "        text-align: right;\n",
       "    }\n",
       "</style>\n",
       "<table border=\"1\" class=\"dataframe\">\n",
       "  <thead>\n",
       "    <tr style=\"text-align: right;\">\n",
       "      <th></th>\n",
       "      <th>Accuracy</th>\n",
       "      <th>Balanced Accuracy</th>\n",
       "      <th>ROC AUC</th>\n",
       "      <th>F1 Score</th>\n",
       "      <th>Time Taken</th>\n",
       "    </tr>\n",
       "    <tr>\n",
       "      <th>Model</th>\n",
       "      <th></th>\n",
       "      <th></th>\n",
       "      <th></th>\n",
       "      <th></th>\n",
       "      <th></th>\n",
       "    </tr>\n",
       "  </thead>\n",
       "  <tbody>\n",
       "    <tr>\n",
       "      <th>ExtraTreesClassifier</th>\n",
       "      <td>0.85</td>\n",
       "      <td>0.84</td>\n",
       "      <td>0.84</td>\n",
       "      <td>0.85</td>\n",
       "      <td>1.12</td>\n",
       "    </tr>\n",
       "    <tr>\n",
       "      <th>RandomForestClassifier</th>\n",
       "      <td>0.84</td>\n",
       "      <td>0.83</td>\n",
       "      <td>0.83</td>\n",
       "      <td>0.84</td>\n",
       "      <td>0.92</td>\n",
       "    </tr>\n",
       "    <tr>\n",
       "      <th>NuSVC</th>\n",
       "      <td>0.82</td>\n",
       "      <td>0.82</td>\n",
       "      <td>0.82</td>\n",
       "      <td>0.82</td>\n",
       "      <td>9.11</td>\n",
       "    </tr>\n",
       "    <tr>\n",
       "      <th>LGBMClassifier</th>\n",
       "      <td>0.82</td>\n",
       "      <td>0.82</td>\n",
       "      <td>0.82</td>\n",
       "      <td>0.82</td>\n",
       "      <td>0.36</td>\n",
       "    </tr>\n",
       "    <tr>\n",
       "      <th>XGBClassifier</th>\n",
       "      <td>0.82</td>\n",
       "      <td>0.81</td>\n",
       "      <td>0.81</td>\n",
       "      <td>0.82</td>\n",
       "      <td>1.10</td>\n",
       "    </tr>\n",
       "    <tr>\n",
       "      <th>SVC</th>\n",
       "      <td>0.82</td>\n",
       "      <td>0.81</td>\n",
       "      <td>0.81</td>\n",
       "      <td>0.82</td>\n",
       "      <td>8.20</td>\n",
       "    </tr>\n",
       "    <tr>\n",
       "      <th>BaggingClassifier</th>\n",
       "      <td>0.82</td>\n",
       "      <td>0.81</td>\n",
       "      <td>0.81</td>\n",
       "      <td>0.82</td>\n",
       "      <td>1.38</td>\n",
       "    </tr>\n",
       "    <tr>\n",
       "      <th>QuadraticDiscriminantAnalysis</th>\n",
       "      <td>0.80</td>\n",
       "      <td>0.80</td>\n",
       "      <td>0.80</td>\n",
       "      <td>0.80</td>\n",
       "      <td>1.07</td>\n",
       "    </tr>\n",
       "    <tr>\n",
       "      <th>KNeighborsClassifier</th>\n",
       "      <td>0.79</td>\n",
       "      <td>0.79</td>\n",
       "      <td>0.79</td>\n",
       "      <td>0.79</td>\n",
       "      <td>2.86</td>\n",
       "    </tr>\n",
       "    <tr>\n",
       "      <th>LinearDiscriminantAnalysis</th>\n",
       "      <td>0.79</td>\n",
       "      <td>0.78</td>\n",
       "      <td>0.78</td>\n",
       "      <td>0.79</td>\n",
       "      <td>0.79</td>\n",
       "    </tr>\n",
       "  </tbody>\n",
       "</table>\n",
       "</div>"
      ],
      "text/plain": [
       "                               Accuracy  Balanced Accuracy  ROC AUC  F1 Score  \\\n",
       "Model                                                                           \n",
       "ExtraTreesClassifier               0.85               0.84     0.84      0.85   \n",
       "RandomForestClassifier             0.84               0.83     0.83      0.84   \n",
       "NuSVC                              0.82               0.82     0.82      0.82   \n",
       "LGBMClassifier                     0.82               0.82     0.82      0.82   \n",
       "XGBClassifier                      0.82               0.81     0.81      0.82   \n",
       "SVC                                0.82               0.81     0.81      0.82   \n",
       "BaggingClassifier                  0.82               0.81     0.81      0.82   \n",
       "QuadraticDiscriminantAnalysis      0.80               0.80     0.80      0.80   \n",
       "KNeighborsClassifier               0.79               0.79     0.79      0.79   \n",
       "LinearDiscriminantAnalysis         0.79               0.78     0.78      0.79   \n",
       "\n",
       "                               Time Taken  \n",
       "Model                                      \n",
       "ExtraTreesClassifier                 1.12  \n",
       "RandomForestClassifier               0.92  \n",
       "NuSVC                                9.11  \n",
       "LGBMClassifier                       0.36  \n",
       "XGBClassifier                        1.10  \n",
       "SVC                                  8.20  \n",
       "BaggingClassifier                    1.38  \n",
       "QuadraticDiscriminantAnalysis        1.07  \n",
       "KNeighborsClassifier                 2.86  \n",
       "LinearDiscriminantAnalysis           0.79  "
      ]
     },
     "execution_count": 14,
     "metadata": {},
     "output_type": "execute_result"
    }
   ],
   "source": [
    "predictions2.sort_values(by=\"F1 Score\", ascending=False).head(10)"
   ]
  },
  {
   "cell_type": "code",
   "execution_count": 15,
   "id": "aab840ef",
   "metadata": {
    "execution": {
     "iopub.execute_input": "2022-10-16T12:09:36.288318Z",
     "iopub.status.busy": "2022-10-16T12:09:36.288094Z",
     "iopub.status.idle": "2022-10-16T12:09:36.290440Z",
     "shell.execute_reply": "2022-10-16T12:09:36.290109Z"
    }
   },
   "outputs": [],
   "source": [
    "predictions2.to_csv('LazyPredict_Morgan3.csv')"
   ]
  },
  {
   "cell_type": "code",
   "execution_count": 16,
   "id": "6677c15f",
   "metadata": {
    "execution": {
     "iopub.execute_input": "2022-10-16T12:09:36.291731Z",
     "iopub.status.busy": "2022-10-16T12:09:36.291629Z",
     "iopub.status.idle": "2022-10-16T12:09:36.300527Z",
     "shell.execute_reply": "2022-10-16T12:09:36.300089Z"
    }
   },
   "outputs": [],
   "source": [
    "#By using Morgan fingerprints with radius of 3 and 1024 bits and feautures\n",
    "X3 = np.array(list((df1['fp_MorganF']))).astype(float)\n",
    "#X.shape\n",
    "Y3 = df1[\"activity\"].values\n",
    "#y.shape"
   ]
  },
  {
   "cell_type": "code",
   "execution_count": 17,
   "id": "038fddb6",
   "metadata": {
    "execution": {
     "iopub.execute_input": "2022-10-16T12:09:36.302320Z",
     "iopub.status.busy": "2022-10-16T12:09:36.302212Z",
     "iopub.status.idle": "2022-10-16T12:09:36.307820Z",
     "shell.execute_reply": "2022-10-16T12:09:36.307501Z"
    }
   },
   "outputs": [
    {
     "name": "stdout",
     "output_type": "stream",
     "text": [
      "Shape of training data: (3593, 1024)\n",
      "Shape of test data: (899, 1024)\n"
     ]
    }
   ],
   "source": [
    "# Split the data into training and test set\n",
    "# Perform data splitting using 80/20 ratio\n",
    "X_train3, X_test3, Y_train3, Y_test3 = train_test_split(X3, Y3, test_size=0.2, random_state=42)\n",
    "\n",
    "# Print the shape of training and testing data\n",
    "print(\"Shape of training data:\", X_train3.shape)\n",
    "print(\"Shape of test data:\", X_test3.shape)\n",
    "# NBVAL_CHECK_OUTPUT"
   ]
  },
  {
   "cell_type": "code",
   "execution_count": 18,
   "id": "7cd3d92a",
   "metadata": {
    "execution": {
     "iopub.execute_input": "2022-10-16T12:09:36.309330Z",
     "iopub.status.busy": "2022-10-16T12:09:36.309092Z",
     "iopub.status.idle": "2022-10-16T12:12:37.655829Z",
     "shell.execute_reply": "2022-10-16T12:12:37.655430Z"
    }
   },
   "outputs": [
    {
     "name": "stderr",
     "output_type": "stream",
     "text": [
      " 90%|████████████████████████████████████████████████████████████████████████████████████████████████████████████████████████████████████████████████████████████                  | 26/29 [00:40<00:08,  2.97s/it]"
     ]
    },
    {
     "name": "stdout",
     "output_type": "stream",
     "text": [
      "[16:52:13] WARNING: ../src/learner.cc:1115: Starting in XGBoost 1.3.0, the default evaluation metric used with the objective 'binary:logistic' was changed from 'error' to 'logloss'. Explicitly set eval_metric if you'd like to restore the old behavior.\n"
     ]
    },
    {
     "name": "stderr",
     "output_type": "stream",
     "text": [
      "100%|██████████████████████████████████████████████████████████████████████████████████████████████████████████████████████████████████████████████████████████████████████████████| 29/29 [00:42<00:00,  1.45s/it]\n"
     ]
    }
   ],
   "source": [
    "clf3 = LazyClassifier(verbose=0,ignore_warnings=True, custom_metric=None)\n",
    "models3, predictions3 = clf3.fit(X_train3, X_test3, Y_train3, Y_test3)"
   ]
  },
  {
   "cell_type": "code",
   "execution_count": 19,
   "id": "32cedba5",
   "metadata": {
    "execution": {
     "iopub.execute_input": "2022-10-16T12:12:37.657285Z",
     "iopub.status.busy": "2022-10-16T12:12:37.657123Z",
     "iopub.status.idle": "2022-10-16T12:12:37.661843Z",
     "shell.execute_reply": "2022-10-16T12:12:37.661553Z"
    }
   },
   "outputs": [
    {
     "data": {
      "text/html": [
       "<div>\n",
       "<style scoped>\n",
       "    .dataframe tbody tr th:only-of-type {\n",
       "        vertical-align: middle;\n",
       "    }\n",
       "\n",
       "    .dataframe tbody tr th {\n",
       "        vertical-align: top;\n",
       "    }\n",
       "\n",
       "    .dataframe thead th {\n",
       "        text-align: right;\n",
       "    }\n",
       "</style>\n",
       "<table border=\"1\" class=\"dataframe\">\n",
       "  <thead>\n",
       "    <tr style=\"text-align: right;\">\n",
       "      <th></th>\n",
       "      <th>Accuracy</th>\n",
       "      <th>Balanced Accuracy</th>\n",
       "      <th>ROC AUC</th>\n",
       "      <th>F1 Score</th>\n",
       "      <th>Time Taken</th>\n",
       "    </tr>\n",
       "    <tr>\n",
       "      <th>Model</th>\n",
       "      <th></th>\n",
       "      <th></th>\n",
       "      <th></th>\n",
       "      <th></th>\n",
       "      <th></th>\n",
       "    </tr>\n",
       "  </thead>\n",
       "  <tbody>\n",
       "    <tr>\n",
       "      <th>ExtraTreesClassifier</th>\n",
       "      <td>0.83</td>\n",
       "      <td>0.83</td>\n",
       "      <td>0.83</td>\n",
       "      <td>0.83</td>\n",
       "      <td>1.15</td>\n",
       "    </tr>\n",
       "    <tr>\n",
       "      <th>RandomForestClassifier</th>\n",
       "      <td>0.83</td>\n",
       "      <td>0.83</td>\n",
       "      <td>0.83</td>\n",
       "      <td>0.83</td>\n",
       "      <td>0.92</td>\n",
       "    </tr>\n",
       "    <tr>\n",
       "      <th>XGBClassifier</th>\n",
       "      <td>0.82</td>\n",
       "      <td>0.82</td>\n",
       "      <td>0.82</td>\n",
       "      <td>0.82</td>\n",
       "      <td>1.64</td>\n",
       "    </tr>\n",
       "    <tr>\n",
       "      <th>NuSVC</th>\n",
       "      <td>0.82</td>\n",
       "      <td>0.82</td>\n",
       "      <td>0.82</td>\n",
       "      <td>0.82</td>\n",
       "      <td>8.99</td>\n",
       "    </tr>\n",
       "    <tr>\n",
       "      <th>SVC</th>\n",
       "      <td>0.82</td>\n",
       "      <td>0.82</td>\n",
       "      <td>0.82</td>\n",
       "      <td>0.82</td>\n",
       "      <td>8.04</td>\n",
       "    </tr>\n",
       "    <tr>\n",
       "      <th>LGBMClassifier</th>\n",
       "      <td>0.82</td>\n",
       "      <td>0.81</td>\n",
       "      <td>0.81</td>\n",
       "      <td>0.82</td>\n",
       "      <td>0.43</td>\n",
       "    </tr>\n",
       "    <tr>\n",
       "      <th>BaggingClassifier</th>\n",
       "      <td>0.80</td>\n",
       "      <td>0.80</td>\n",
       "      <td>0.80</td>\n",
       "      <td>0.80</td>\n",
       "      <td>1.27</td>\n",
       "    </tr>\n",
       "    <tr>\n",
       "      <th>QuadraticDiscriminantAnalysis</th>\n",
       "      <td>0.79</td>\n",
       "      <td>0.79</td>\n",
       "      <td>0.79</td>\n",
       "      <td>0.79</td>\n",
       "      <td>1.08</td>\n",
       "    </tr>\n",
       "    <tr>\n",
       "      <th>DecisionTreeClassifier</th>\n",
       "      <td>0.79</td>\n",
       "      <td>0.79</td>\n",
       "      <td>0.79</td>\n",
       "      <td>0.79</td>\n",
       "      <td>0.38</td>\n",
       "    </tr>\n",
       "    <tr>\n",
       "      <th>KNeighborsClassifier</th>\n",
       "      <td>0.78</td>\n",
       "      <td>0.78</td>\n",
       "      <td>0.78</td>\n",
       "      <td>0.78</td>\n",
       "      <td>2.83</td>\n",
       "    </tr>\n",
       "  </tbody>\n",
       "</table>\n",
       "</div>"
      ],
      "text/plain": [
       "                               Accuracy  Balanced Accuracy  ROC AUC  F1 Score  \\\n",
       "Model                                                                           \n",
       "ExtraTreesClassifier               0.83               0.83     0.83      0.83   \n",
       "RandomForestClassifier             0.83               0.83     0.83      0.83   \n",
       "XGBClassifier                      0.82               0.82     0.82      0.82   \n",
       "NuSVC                              0.82               0.82     0.82      0.82   \n",
       "SVC                                0.82               0.82     0.82      0.82   \n",
       "LGBMClassifier                     0.82               0.81     0.81      0.82   \n",
       "BaggingClassifier                  0.80               0.80     0.80      0.80   \n",
       "QuadraticDiscriminantAnalysis      0.79               0.79     0.79      0.79   \n",
       "DecisionTreeClassifier             0.79               0.79     0.79      0.79   \n",
       "KNeighborsClassifier               0.78               0.78     0.78      0.78   \n",
       "\n",
       "                               Time Taken  \n",
       "Model                                      \n",
       "ExtraTreesClassifier                 1.15  \n",
       "RandomForestClassifier               0.92  \n",
       "XGBClassifier                        1.64  \n",
       "NuSVC                                8.99  \n",
       "SVC                                  8.04  \n",
       "LGBMClassifier                       0.43  \n",
       "BaggingClassifier                    1.27  \n",
       "QuadraticDiscriminantAnalysis        1.08  \n",
       "DecisionTreeClassifier               0.38  \n",
       "KNeighborsClassifier                 2.83  "
      ]
     },
     "execution_count": 19,
     "metadata": {},
     "output_type": "execute_result"
    }
   ],
   "source": [
    "predictions3.sort_values(by=\"F1 Score\", ascending=False).head(10)"
   ]
  },
  {
   "cell_type": "code",
   "execution_count": 20,
   "id": "f904c492",
   "metadata": {
    "execution": {
     "iopub.execute_input": "2022-10-16T12:12:37.663168Z",
     "iopub.status.busy": "2022-10-16T12:12:37.662902Z",
     "iopub.status.idle": "2022-10-16T12:12:37.665200Z",
     "shell.execute_reply": "2022-10-16T12:12:37.664902Z"
    }
   },
   "outputs": [],
   "source": [
    "predictions3.to_csv('LazyPredict_MorganF.csv')"
   ]
  },
  {
   "cell_type": "code",
   "execution_count": 21,
   "id": "e9c9899d",
   "metadata": {
    "execution": {
     "iopub.execute_input": "2022-10-16T12:12:37.666354Z",
     "iopub.status.busy": "2022-10-16T12:12:37.666246Z",
     "iopub.status.idle": "2022-10-16T12:12:37.674661Z",
     "shell.execute_reply": "2022-10-16T12:12:37.674229Z"
    }
   },
   "outputs": [],
   "source": [
    "#By using MAP4 fingerprints with 1024 bits\n",
    "X4 = np.array(list((df1['fp_MAP4']))).astype(float)\n",
    "#X.shape\n",
    "Y4 = df1[\"activity\"].values\n",
    "#y.shape"
   ]
  },
  {
   "cell_type": "code",
   "execution_count": 22,
   "id": "0d21006a",
   "metadata": {
    "execution": {
     "iopub.execute_input": "2022-10-16T12:12:37.676279Z",
     "iopub.status.busy": "2022-10-16T12:12:37.676170Z",
     "iopub.status.idle": "2022-10-16T12:12:37.688337Z",
     "shell.execute_reply": "2022-10-16T12:12:37.687955Z"
    }
   },
   "outputs": [
    {
     "name": "stdout",
     "output_type": "stream",
     "text": [
      "Shape of training data: (3593, 1024)\n",
      "Shape of test data: (899, 1024)\n"
     ]
    }
   ],
   "source": [
    "# Split the data into training and test set\n",
    "# Perform data splitting using 80/20 ratio\n",
    "X_train4, X_test4, Y_train4, Y_test4 = train_test_split(X4, Y4, test_size=0.2, random_state=42)\n",
    "\n",
    "# Print the shape of training and testing data\n",
    "print(\"Shape of training data:\", X_train4.shape)\n",
    "print(\"Shape of test data:\", X_test4.shape)\n",
    "# NBVAL_CHECK_OUTPUT"
   ]
  },
  {
   "cell_type": "code",
   "execution_count": 23,
   "id": "956dd5c2",
   "metadata": {
    "execution": {
     "iopub.execute_input": "2022-10-16T12:12:37.689662Z",
     "iopub.status.busy": "2022-10-16T12:12:37.689553Z",
     "iopub.status.idle": "2022-10-16T12:16:45.387924Z",
     "shell.execute_reply": "2022-10-16T12:16:45.387597Z"
    }
   },
   "outputs": [
    {
     "name": "stderr",
     "output_type": "stream",
     "text": [
      " 90%|████████████████████████████████████████████████████████████████████████████████████████████████████████████████████████████████████████████████████████████                  | 26/29 [01:07<00:09,  3.29s/it]"
     ]
    },
    {
     "name": "stdout",
     "output_type": "stream",
     "text": [
      "[16:53:22] WARNING: ../src/learner.cc:1115: Starting in XGBoost 1.3.0, the default evaluation metric used with the objective 'binary:logistic' was changed from 'error' to 'logloss'. Explicitly set eval_metric if you'd like to restore the old behavior.\n"
     ]
    },
    {
     "name": "stderr",
     "output_type": "stream",
     "text": [
      "100%|██████████████████████████████████████████████████████████████████████████████████████████████████████████████████████████████████████████████████████████████████████████████| 29/29 [01:12<00:00,  2.50s/it]\n"
     ]
    }
   ],
   "source": [
    "# Defines and builds the lazyclassifier\n",
    "clf4 = LazyClassifier(verbose=0,ignore_warnings=True, custom_metric=None)\n",
    "models4, predictions4 = clf4.fit(X_train4, X_test4, Y_train4, Y_test4)"
   ]
  },
  {
   "cell_type": "code",
   "execution_count": 24,
   "id": "7c2e1c7f",
   "metadata": {
    "execution": {
     "iopub.execute_input": "2022-10-16T12:16:45.389280Z",
     "iopub.status.busy": "2022-10-16T12:16:45.389171Z",
     "iopub.status.idle": "2022-10-16T12:16:45.394120Z",
     "shell.execute_reply": "2022-10-16T12:16:45.393846Z"
    }
   },
   "outputs": [
    {
     "data": {
      "text/html": [
       "<div>\n",
       "<style scoped>\n",
       "    .dataframe tbody tr th:only-of-type {\n",
       "        vertical-align: middle;\n",
       "    }\n",
       "\n",
       "    .dataframe tbody tr th {\n",
       "        vertical-align: top;\n",
       "    }\n",
       "\n",
       "    .dataframe thead th {\n",
       "        text-align: right;\n",
       "    }\n",
       "</style>\n",
       "<table border=\"1\" class=\"dataframe\">\n",
       "  <thead>\n",
       "    <tr style=\"text-align: right;\">\n",
       "      <th></th>\n",
       "      <th>Accuracy</th>\n",
       "      <th>Balanced Accuracy</th>\n",
       "      <th>ROC AUC</th>\n",
       "      <th>F1 Score</th>\n",
       "      <th>Time Taken</th>\n",
       "    </tr>\n",
       "    <tr>\n",
       "      <th>Model</th>\n",
       "      <th></th>\n",
       "      <th></th>\n",
       "      <th></th>\n",
       "      <th></th>\n",
       "      <th></th>\n",
       "    </tr>\n",
       "  </thead>\n",
       "  <tbody>\n",
       "    <tr>\n",
       "      <th>RandomForestClassifier</th>\n",
       "      <td>0.82</td>\n",
       "      <td>0.82</td>\n",
       "      <td>0.82</td>\n",
       "      <td>0.82</td>\n",
       "      <td>4.04</td>\n",
       "    </tr>\n",
       "    <tr>\n",
       "      <th>XGBClassifier</th>\n",
       "      <td>0.82</td>\n",
       "      <td>0.82</td>\n",
       "      <td>0.82</td>\n",
       "      <td>0.82</td>\n",
       "      <td>2.86</td>\n",
       "    </tr>\n",
       "    <tr>\n",
       "      <th>LGBMClassifier</th>\n",
       "      <td>0.82</td>\n",
       "      <td>0.82</td>\n",
       "      <td>0.82</td>\n",
       "      <td>0.82</td>\n",
       "      <td>2.70</td>\n",
       "    </tr>\n",
       "    <tr>\n",
       "      <th>ExtraTreesClassifier</th>\n",
       "      <td>0.81</td>\n",
       "      <td>0.81</td>\n",
       "      <td>0.81</td>\n",
       "      <td>0.81</td>\n",
       "      <td>1.18</td>\n",
       "    </tr>\n",
       "    <tr>\n",
       "      <th>KNeighborsClassifier</th>\n",
       "      <td>0.81</td>\n",
       "      <td>0.80</td>\n",
       "      <td>0.80</td>\n",
       "      <td>0.80</td>\n",
       "      <td>2.98</td>\n",
       "    </tr>\n",
       "    <tr>\n",
       "      <th>NuSVC</th>\n",
       "      <td>0.79</td>\n",
       "      <td>0.79</td>\n",
       "      <td>0.79</td>\n",
       "      <td>0.79</td>\n",
       "      <td>9.41</td>\n",
       "    </tr>\n",
       "    <tr>\n",
       "      <th>SVC</th>\n",
       "      <td>0.79</td>\n",
       "      <td>0.78</td>\n",
       "      <td>0.78</td>\n",
       "      <td>0.78</td>\n",
       "      <td>8.48</td>\n",
       "    </tr>\n",
       "    <tr>\n",
       "      <th>BaggingClassifier</th>\n",
       "      <td>0.77</td>\n",
       "      <td>0.78</td>\n",
       "      <td>0.78</td>\n",
       "      <td>0.77</td>\n",
       "      <td>13.88</td>\n",
       "    </tr>\n",
       "    <tr>\n",
       "      <th>QuadraticDiscriminantAnalysis</th>\n",
       "      <td>0.76</td>\n",
       "      <td>0.76</td>\n",
       "      <td>0.76</td>\n",
       "      <td>0.76</td>\n",
       "      <td>1.05</td>\n",
       "    </tr>\n",
       "    <tr>\n",
       "      <th>DecisionTreeClassifier</th>\n",
       "      <td>0.73</td>\n",
       "      <td>0.73</td>\n",
       "      <td>0.73</td>\n",
       "      <td>0.73</td>\n",
       "      <td>2.67</td>\n",
       "    </tr>\n",
       "  </tbody>\n",
       "</table>\n",
       "</div>"
      ],
      "text/plain": [
       "                               Accuracy  Balanced Accuracy  ROC AUC  F1 Score  \\\n",
       "Model                                                                           \n",
       "RandomForestClassifier             0.82               0.82     0.82      0.82   \n",
       "XGBClassifier                      0.82               0.82     0.82      0.82   \n",
       "LGBMClassifier                     0.82               0.82     0.82      0.82   \n",
       "ExtraTreesClassifier               0.81               0.81     0.81      0.81   \n",
       "KNeighborsClassifier               0.81               0.80     0.80      0.80   \n",
       "NuSVC                              0.79               0.79     0.79      0.79   \n",
       "SVC                                0.79               0.78     0.78      0.78   \n",
       "BaggingClassifier                  0.77               0.78     0.78      0.77   \n",
       "QuadraticDiscriminantAnalysis      0.76               0.76     0.76      0.76   \n",
       "DecisionTreeClassifier             0.73               0.73     0.73      0.73   \n",
       "\n",
       "                               Time Taken  \n",
       "Model                                      \n",
       "RandomForestClassifier               4.04  \n",
       "XGBClassifier                        2.86  \n",
       "LGBMClassifier                       2.70  \n",
       "ExtraTreesClassifier                 1.18  \n",
       "KNeighborsClassifier                 2.98  \n",
       "NuSVC                                9.41  \n",
       "SVC                                  8.48  \n",
       "BaggingClassifier                   13.88  \n",
       "QuadraticDiscriminantAnalysis        1.05  \n",
       "DecisionTreeClassifier               2.67  "
      ]
     },
     "execution_count": 24,
     "metadata": {},
     "output_type": "execute_result"
    }
   ],
   "source": [
    "predictions4.sort_values(by=\"F1 Score\", ascending=False).head(10)"
   ]
  },
  {
   "cell_type": "code",
   "execution_count": 25,
   "id": "e5309235",
   "metadata": {
    "execution": {
     "iopub.execute_input": "2022-10-16T12:16:45.395347Z",
     "iopub.status.busy": "2022-10-16T12:16:45.395247Z",
     "iopub.status.idle": "2022-10-16T12:16:45.397523Z",
     "shell.execute_reply": "2022-10-16T12:16:45.397272Z"
    }
   },
   "outputs": [],
   "source": [
    "predictions4.to_csv('LazyPredict_MAP4.csv')"
   ]
  },
  {
   "cell_type": "markdown",
   "id": "137ad30b",
   "metadata": {},
   "source": [
    "## USE 2048 BITS FINGERPRINTS"
   ]
  },
  {
   "cell_type": "code",
   "execution_count": 26,
   "id": "832cec48",
   "metadata": {
    "execution": {
     "iopub.execute_input": "2022-10-16T12:16:45.398724Z",
     "iopub.status.busy": "2022-10-16T12:16:45.398625Z",
     "iopub.status.idle": "2022-10-16T12:16:45.453466Z",
     "shell.execute_reply": "2022-10-16T12:16:45.453059Z"
    }
   },
   "outputs": [
    {
     "data": {
      "text/html": [
       "<div>\n",
       "<style scoped>\n",
       "    .dataframe tbody tr th:only-of-type {\n",
       "        vertical-align: middle;\n",
       "    }\n",
       "\n",
       "    .dataframe tbody tr th {\n",
       "        vertical-align: top;\n",
       "    }\n",
       "\n",
       "    .dataframe thead th {\n",
       "        text-align: right;\n",
       "    }\n",
       "</style>\n",
       "<table border=\"1\" class=\"dataframe\">\n",
       "  <thead>\n",
       "    <tr style=\"text-align: right;\">\n",
       "      <th></th>\n",
       "      <th>molecule_chembl_id</th>\n",
       "      <th>fp_Morgan3</th>\n",
       "      <th>fp_MorganF</th>\n",
       "      <th>fp_MAP4</th>\n",
       "      <th>molecular_weight</th>\n",
       "      <th>n_rot</th>\n",
       "      <th>n_heavy</th>\n",
       "      <th>n_hba</th>\n",
       "      <th>n_hbd</th>\n",
       "      <th>logp</th>\n",
       "      <th>num_ar</th>\n",
       "      <th>num_sa</th>\n",
       "      <th>num_alip</th>\n",
       "      <th>pchembl</th>\n",
       "    </tr>\n",
       "  </thead>\n",
       "  <tbody>\n",
       "    <tr>\n",
       "      <th>0</th>\n",
       "      <td>CHEMBL2023527</td>\n",
       "      <td>[0, 0, 0, 0, 0, 0, 0, 0, 0, 0, 0, 1, 0, 0, 0, ...</td>\n",
       "      <td>[1, 1, 1, 1, 1, 0, 1, 0, 0, 0, 0, 0, 0, 0, 0, ...</td>\n",
       "      <td>[371106, 106027, 1055378, 943140, 1666919, 191...</td>\n",
       "      <td>799.31</td>\n",
       "      <td>13.00</td>\n",
       "      <td>58.00</td>\n",
       "      <td>16.00</td>\n",
       "      <td>7.00</td>\n",
       "      <td>2.79</td>\n",
       "      <td>4.00</td>\n",
       "      <td>1.00</td>\n",
       "      <td>3.00</td>\n",
       "      <td>5.34</td>\n",
       "    </tr>\n",
       "    <tr>\n",
       "      <th>1</th>\n",
       "      <td>CHEMBL3585975</td>\n",
       "      <td>[0, 1, 0, 0, 0, 0, 0, 0, 0, 0, 0, 0, 0, 0, 0, ...</td>\n",
       "      <td>[1, 1, 1, 0, 1, 0, 1, 0, 1, 0, 0, 1, 0, 0, 0, ...</td>\n",
       "      <td>[2612565, 10511, 5141245, 12778580, 7332227, 3...</td>\n",
       "      <td>398.15</td>\n",
       "      <td>9.00</td>\n",
       "      <td>28.00</td>\n",
       "      <td>5.00</td>\n",
       "      <td>2.00</td>\n",
       "      <td>5.10</td>\n",
       "      <td>3.00</td>\n",
       "      <td>0.00</td>\n",
       "      <td>0.00</td>\n",
       "      <td>5.38</td>\n",
       "    </tr>\n",
       "    <tr>\n",
       "      <th>2</th>\n",
       "      <td>CHEMBL3287021</td>\n",
       "      <td>[0, 0, 0, 0, 0, 0, 0, 0, 1, 0, 0, 1, 0, 0, 0, ...</td>\n",
       "      <td>[1, 1, 1, 1, 1, 0, 1, 0, 0, 0, 0, 0, 0, 0, 0, ...</td>\n",
       "      <td>[13333824, 1798302, 28570269, 4298697, 3063821...</td>\n",
       "      <td>326.05</td>\n",
       "      <td>7.00</td>\n",
       "      <td>21.00</td>\n",
       "      <td>7.00</td>\n",
       "      <td>3.00</td>\n",
       "      <td>1.67</td>\n",
       "      <td>2.00</td>\n",
       "      <td>0.00</td>\n",
       "      <td>0.00</td>\n",
       "      <td>6.20</td>\n",
       "    </tr>\n",
       "    <tr>\n",
       "      <th>3</th>\n",
       "      <td>CHEMBL3287264</td>\n",
       "      <td>[0, 0, 0, 0, 0, 0, 0, 0, 1, 0, 0, 1, 0, 0, 1, ...</td>\n",
       "      <td>[1, 1, 1, 1, 1, 0, 1, 0, 0, 0, 0, 0, 0, 0, 0, ...</td>\n",
       "      <td>[13333824, 11837907, 2172950, 218190, 8864663,...</td>\n",
       "      <td>380.10</td>\n",
       "      <td>8.00</td>\n",
       "      <td>25.00</td>\n",
       "      <td>7.00</td>\n",
       "      <td>3.00</td>\n",
       "      <td>3.10</td>\n",
       "      <td>2.00</td>\n",
       "      <td>0.00</td>\n",
       "      <td>0.00</td>\n",
       "      <td>6.77</td>\n",
       "    </tr>\n",
       "    <tr>\n",
       "      <th>4</th>\n",
       "      <td>CHEMBL3689802</td>\n",
       "      <td>[0, 0, 0, 0, 0, 0, 0, 0, 0, 0, 0, 0, 0, 0, 0, ...</td>\n",
       "      <td>[1, 1, 1, 1, 1, 0, 1, 0, 0, 0, 0, 0, 0, 0, 0, ...</td>\n",
       "      <td>[9461852, 4568935, 7998790, 5513169, 9830328, ...</td>\n",
       "      <td>302.17</td>\n",
       "      <td>7.00</td>\n",
       "      <td>22.00</td>\n",
       "      <td>5.00</td>\n",
       "      <td>3.00</td>\n",
       "      <td>2.05</td>\n",
       "      <td>2.00</td>\n",
       "      <td>0.00</td>\n",
       "      <td>0.00</td>\n",
       "      <td>6.80</td>\n",
       "    </tr>\n",
       "    <tr>\n",
       "      <th>...</th>\n",
       "      <td>...</td>\n",
       "      <td>...</td>\n",
       "      <td>...</td>\n",
       "      <td>...</td>\n",
       "      <td>...</td>\n",
       "      <td>...</td>\n",
       "      <td>...</td>\n",
       "      <td>...</td>\n",
       "      <td>...</td>\n",
       "      <td>...</td>\n",
       "      <td>...</td>\n",
       "      <td>...</td>\n",
       "      <td>...</td>\n",
       "      <td>...</td>\n",
       "    </tr>\n",
       "    <tr>\n",
       "      <th>4487</th>\n",
       "      <td>CHEMBL2011672</td>\n",
       "      <td>[0, 1, 0, 0, 0, 0, 0, 0, 0, 0, 0, 0, 0, 0, 0, ...</td>\n",
       "      <td>[1, 1, 1, 0, 1, 0, 0, 0, 0, 0, 0, 0, 0, 0, 0, ...</td>\n",
       "      <td>[5456017, 756812, 2475943, 4368278, 5668350, 1...</td>\n",
       "      <td>416.19</td>\n",
       "      <td>11.00</td>\n",
       "      <td>30.00</td>\n",
       "      <td>5.00</td>\n",
       "      <td>3.00</td>\n",
       "      <td>2.51</td>\n",
       "      <td>1.00</td>\n",
       "      <td>0.00</td>\n",
       "      <td>0.00</td>\n",
       "      <td>4.32</td>\n",
       "    </tr>\n",
       "    <tr>\n",
       "      <th>4488</th>\n",
       "      <td>CHEMBL241757</td>\n",
       "      <td>[0, 0, 0, 0, 0, 0, 0, 0, 0, 0, 0, 0, 0, 0, 1, ...</td>\n",
       "      <td>[1, 1, 1, 0, 1, 0, 1, 0, 0, 0, 0, 0, 0, 0, 0, ...</td>\n",
       "      <td>[25259155, 3346815, 2314293, 11956864, 1856549...</td>\n",
       "      <td>376.10</td>\n",
       "      <td>4.00</td>\n",
       "      <td>27.00</td>\n",
       "      <td>6.00</td>\n",
       "      <td>2.00</td>\n",
       "      <td>3.34</td>\n",
       "      <td>4.00</td>\n",
       "      <td>0.00</td>\n",
       "      <td>0.00</td>\n",
       "      <td>6.70</td>\n",
       "    </tr>\n",
       "    <tr>\n",
       "      <th>4489</th>\n",
       "      <td>CHEMBL481955</td>\n",
       "      <td>[0, 0, 0, 0, 1, 0, 0, 0, 0, 0, 0, 0, 0, 0, 0, ...</td>\n",
       "      <td>[1, 1, 1, 0, 1, 0, 0, 0, 1, 0, 0, 0, 0, 0, 0, ...</td>\n",
       "      <td>[15212094, 14728336, 9368997, 4066765, 2140073...</td>\n",
       "      <td>444.97</td>\n",
       "      <td>7.00</td>\n",
       "      <td>26.00</td>\n",
       "      <td>6.00</td>\n",
       "      <td>1.00</td>\n",
       "      <td>5.09</td>\n",
       "      <td>2.00</td>\n",
       "      <td>0.00</td>\n",
       "      <td>0.00</td>\n",
       "      <td>5.46</td>\n",
       "    </tr>\n",
       "    <tr>\n",
       "      <th>4490</th>\n",
       "      <td>CHEMBL3287262</td>\n",
       "      <td>[0, 0, 0, 0, 0, 0, 0, 0, 1, 0, 0, 1, 0, 0, 1, ...</td>\n",
       "      <td>[1, 1, 1, 1, 1, 0, 1, 0, 0, 0, 0, 0, 0, 0, 0, ...</td>\n",
       "      <td>[13333824, 11837907, 9564045, 218190, 6876230,...</td>\n",
       "      <td>416.10</td>\n",
       "      <td>9.00</td>\n",
       "      <td>28.00</td>\n",
       "      <td>7.00</td>\n",
       "      <td>3.00</td>\n",
       "      <td>3.26</td>\n",
       "      <td>3.00</td>\n",
       "      <td>0.00</td>\n",
       "      <td>0.00</td>\n",
       "      <td>7.23</td>\n",
       "    </tr>\n",
       "    <tr>\n",
       "      <th>4491</th>\n",
       "      <td>CHEMBL4102954</td>\n",
       "      <td>[0, 0, 0, 0, 0, 0, 0, 0, 0, 0, 0, 0, 0, 0, 0, ...</td>\n",
       "      <td>[1, 1, 1, 0, 1, 0, 1, 0, 0, 0, 0, 0, 0, 0, 0, ...</td>\n",
       "      <td>[10284498, 6912357, 4703614, 6083913, 961154, ...</td>\n",
       "      <td>549.19</td>\n",
       "      <td>9.00</td>\n",
       "      <td>41.00</td>\n",
       "      <td>7.00</td>\n",
       "      <td>3.00</td>\n",
       "      <td>5.15</td>\n",
       "      <td>5.00</td>\n",
       "      <td>0.00</td>\n",
       "      <td>0.00</td>\n",
       "      <td>6.15</td>\n",
       "    </tr>\n",
       "  </tbody>\n",
       "</table>\n",
       "<p>4492 rows × 14 columns</p>\n",
       "</div>"
      ],
      "text/plain": [
       "     molecule_chembl_id                                         fp_Morgan3  \\\n",
       "0         CHEMBL2023527  [0, 0, 0, 0, 0, 0, 0, 0, 0, 0, 0, 1, 0, 0, 0, ...   \n",
       "1         CHEMBL3585975  [0, 1, 0, 0, 0, 0, 0, 0, 0, 0, 0, 0, 0, 0, 0, ...   \n",
       "2         CHEMBL3287021  [0, 0, 0, 0, 0, 0, 0, 0, 1, 0, 0, 1, 0, 0, 0, ...   \n",
       "3         CHEMBL3287264  [0, 0, 0, 0, 0, 0, 0, 0, 1, 0, 0, 1, 0, 0, 1, ...   \n",
       "4         CHEMBL3689802  [0, 0, 0, 0, 0, 0, 0, 0, 0, 0, 0, 0, 0, 0, 0, ...   \n",
       "...                 ...                                                ...   \n",
       "4487      CHEMBL2011672  [0, 1, 0, 0, 0, 0, 0, 0, 0, 0, 0, 0, 0, 0, 0, ...   \n",
       "4488       CHEMBL241757  [0, 0, 0, 0, 0, 0, 0, 0, 0, 0, 0, 0, 0, 0, 1, ...   \n",
       "4489       CHEMBL481955  [0, 0, 0, 0, 1, 0, 0, 0, 0, 0, 0, 0, 0, 0, 0, ...   \n",
       "4490      CHEMBL3287262  [0, 0, 0, 0, 0, 0, 0, 0, 1, 0, 0, 1, 0, 0, 1, ...   \n",
       "4491      CHEMBL4102954  [0, 0, 0, 0, 0, 0, 0, 0, 0, 0, 0, 0, 0, 0, 0, ...   \n",
       "\n",
       "                                             fp_MorganF  \\\n",
       "0     [1, 1, 1, 1, 1, 0, 1, 0, 0, 0, 0, 0, 0, 0, 0, ...   \n",
       "1     [1, 1, 1, 0, 1, 0, 1, 0, 1, 0, 0, 1, 0, 0, 0, ...   \n",
       "2     [1, 1, 1, 1, 1, 0, 1, 0, 0, 0, 0, 0, 0, 0, 0, ...   \n",
       "3     [1, 1, 1, 1, 1, 0, 1, 0, 0, 0, 0, 0, 0, 0, 0, ...   \n",
       "4     [1, 1, 1, 1, 1, 0, 1, 0, 0, 0, 0, 0, 0, 0, 0, ...   \n",
       "...                                                 ...   \n",
       "4487  [1, 1, 1, 0, 1, 0, 0, 0, 0, 0, 0, 0, 0, 0, 0, ...   \n",
       "4488  [1, 1, 1, 0, 1, 0, 1, 0, 0, 0, 0, 0, 0, 0, 0, ...   \n",
       "4489  [1, 1, 1, 0, 1, 0, 0, 0, 1, 0, 0, 0, 0, 0, 0, ...   \n",
       "4490  [1, 1, 1, 1, 1, 0, 1, 0, 0, 0, 0, 0, 0, 0, 0, ...   \n",
       "4491  [1, 1, 1, 0, 1, 0, 1, 0, 0, 0, 0, 0, 0, 0, 0, ...   \n",
       "\n",
       "                                                fp_MAP4  molecular_weight  \\\n",
       "0     [371106, 106027, 1055378, 943140, 1666919, 191...            799.31   \n",
       "1     [2612565, 10511, 5141245, 12778580, 7332227, 3...            398.15   \n",
       "2     [13333824, 1798302, 28570269, 4298697, 3063821...            326.05   \n",
       "3     [13333824, 11837907, 2172950, 218190, 8864663,...            380.10   \n",
       "4     [9461852, 4568935, 7998790, 5513169, 9830328, ...            302.17   \n",
       "...                                                 ...               ...   \n",
       "4487  [5456017, 756812, 2475943, 4368278, 5668350, 1...            416.19   \n",
       "4488  [25259155, 3346815, 2314293, 11956864, 1856549...            376.10   \n",
       "4489  [15212094, 14728336, 9368997, 4066765, 2140073...            444.97   \n",
       "4490  [13333824, 11837907, 9564045, 218190, 6876230,...            416.10   \n",
       "4491  [10284498, 6912357, 4703614, 6083913, 961154, ...            549.19   \n",
       "\n",
       "      n_rot  n_heavy  n_hba  n_hbd  logp  num_ar  num_sa  num_alip  pchembl  \n",
       "0     13.00    58.00  16.00   7.00  2.79    4.00    1.00      3.00     5.34  \n",
       "1      9.00    28.00   5.00   2.00  5.10    3.00    0.00      0.00     5.38  \n",
       "2      7.00    21.00   7.00   3.00  1.67    2.00    0.00      0.00     6.20  \n",
       "3      8.00    25.00   7.00   3.00  3.10    2.00    0.00      0.00     6.77  \n",
       "4      7.00    22.00   5.00   3.00  2.05    2.00    0.00      0.00     6.80  \n",
       "...     ...      ...    ...    ...   ...     ...     ...       ...      ...  \n",
       "4487  11.00    30.00   5.00   3.00  2.51    1.00    0.00      0.00     4.32  \n",
       "4488   4.00    27.00   6.00   2.00  3.34    4.00    0.00      0.00     6.70  \n",
       "4489   7.00    26.00   6.00   1.00  5.09    2.00    0.00      0.00     5.46  \n",
       "4490   9.00    28.00   7.00   3.00  3.26    3.00    0.00      0.00     7.23  \n",
       "4491   9.00    41.00   7.00   3.00  5.15    5.00    0.00      0.00     6.15  \n",
       "\n",
       "[4492 rows x 14 columns]"
      ]
     },
     "execution_count": 26,
     "metadata": {},
     "output_type": "execute_result"
    }
   ],
   "source": [
    "df2 = pd.read_pickle(HDAC1/\"HDAC1_2048B.csv\")\n",
    "df2 = df2.sample(frac=1).reset_index(drop=True)\n",
    "df2"
   ]
  },
  {
   "cell_type": "code",
   "execution_count": 27,
   "id": "a364760d",
   "metadata": {
    "execution": {
     "iopub.execute_input": "2022-10-16T12:16:45.454958Z",
     "iopub.status.busy": "2022-10-16T12:16:45.454842Z",
     "iopub.status.idle": "2022-10-16T12:16:45.458951Z",
     "shell.execute_reply": "2022-10-16T12:16:45.458579Z"
    }
   },
   "outputs": [
    {
     "name": "stdout",
     "output_type": "stream",
     "text": [
      "Number of active compounds: 2362\n",
      "Number of inactive compounds: 2130\n"
     ]
    }
   ],
   "source": [
    "# Add column for activity\n",
    "df2[\"activity\"] = np.zeros(len(df2))\n",
    "\n",
    "# Mark every molecule as active with an pIC50 of >= 6.6, 0 otherwise\n",
    "df2.loc[df2[df2.pchembl >= 6.6].index, \"activity\"] = 1.0\n",
    "\n",
    "# NBVAL_CHECK_OUTPUT\n",
    "print(\"Number of active compounds:\", int(df2.activity.sum()))\n",
    "print(\"Number of inactive compounds:\", len(df2) - int(df2.activity.sum()))"
   ]
  },
  {
   "cell_type": "code",
   "execution_count": 28,
   "id": "1b2dd0c7",
   "metadata": {
    "execution": {
     "iopub.execute_input": "2022-10-16T12:16:45.460349Z",
     "iopub.status.busy": "2022-10-16T12:16:45.460203Z",
     "iopub.status.idle": "2022-10-16T12:16:45.475358Z",
     "shell.execute_reply": "2022-10-16T12:16:45.474912Z"
    }
   },
   "outputs": [],
   "source": [
    "#2048 bits Morgan fingerprints with radius of 3\n",
    "X5 = np.array(list((df2['fp_Morgan3']))).astype(float)\n",
    "#X.shape\n",
    "Y5 = df2[\"activity\"].values\n",
    "#y.shape"
   ]
  },
  {
   "cell_type": "code",
   "execution_count": 29,
   "id": "96dafe9d",
   "metadata": {
    "execution": {
     "iopub.execute_input": "2022-10-16T12:16:45.476858Z",
     "iopub.status.busy": "2022-10-16T12:16:45.476707Z",
     "iopub.status.idle": "2022-10-16T12:16:45.488117Z",
     "shell.execute_reply": "2022-10-16T12:16:45.487667Z"
    }
   },
   "outputs": [
    {
     "name": "stdout",
     "output_type": "stream",
     "text": [
      "Shape of training data: (3593, 2048)\n",
      "Shape of test data: (899, 2048)\n"
     ]
    }
   ],
   "source": [
    "# Split the data into training and test set\n",
    "# Perform data splitting using 80/20 ratio\n",
    "X_train5, X_test5, Y_train5, Y_test5 = train_test_split(X5, Y5, test_size=0.2, random_state=42)\n",
    "\n",
    "# Print the shape of training and testing data\n",
    "print(\"Shape of training data:\", X_train5.shape)\n",
    "print(\"Shape of test data:\", X_test5.shape)\n",
    "# NBVAL_CHECK_OUTPUT"
   ]
  },
  {
   "cell_type": "code",
   "execution_count": 30,
   "id": "06f96090",
   "metadata": {
    "execution": {
     "iopub.execute_input": "2022-10-16T12:16:45.489573Z",
     "iopub.status.busy": "2022-10-16T12:16:45.489444Z",
     "iopub.status.idle": "2022-10-16T12:20:45.149968Z",
     "shell.execute_reply": "2022-10-16T12:20:45.149653Z"
    }
   },
   "outputs": [
    {
     "name": "stderr",
     "output_type": "stream",
     "text": [
      " 90%|████████████████████████████████████████████████████████████████████████████████████████████████████████████████████████████████████████████████████████████                  | 26/29 [01:27<00:19,  6.58s/it]"
     ]
    },
    {
     "name": "stdout",
     "output_type": "stream",
     "text": [
      "[16:54:56] WARNING: ../src/learner.cc:1115: Starting in XGBoost 1.3.0, the default evaluation metric used with the objective 'binary:logistic' was changed from 'error' to 'logloss'. Explicitly set eval_metric if you'd like to restore the old behavior.\n"
     ]
    },
    {
     "name": "stderr",
     "output_type": "stream",
     "text": [
      "100%|██████████████████████████████████████████████████████████████████████████████████████████████████████████████████████████████████████████████████████████████████████████████| 29/29 [01:30<00:00,  3.12s/it]\n"
     ]
    }
   ],
   "source": [
    "clf5 = LazyClassifier(verbose=0,ignore_warnings=True, custom_metric=None)\n",
    "models5, predictions5 = clf5.fit(X_train5, X_test5, Y_train5, Y_test5)"
   ]
  },
  {
   "cell_type": "code",
   "execution_count": 31,
   "id": "a788d0a0",
   "metadata": {
    "execution": {
     "iopub.execute_input": "2022-10-16T12:20:45.151377Z",
     "iopub.status.busy": "2022-10-16T12:20:45.151184Z",
     "iopub.status.idle": "2022-10-16T12:20:45.155820Z",
     "shell.execute_reply": "2022-10-16T12:20:45.155577Z"
    }
   },
   "outputs": [
    {
     "data": {
      "text/html": [
       "<div>\n",
       "<style scoped>\n",
       "    .dataframe tbody tr th:only-of-type {\n",
       "        vertical-align: middle;\n",
       "    }\n",
       "\n",
       "    .dataframe tbody tr th {\n",
       "        vertical-align: top;\n",
       "    }\n",
       "\n",
       "    .dataframe thead th {\n",
       "        text-align: right;\n",
       "    }\n",
       "</style>\n",
       "<table border=\"1\" class=\"dataframe\">\n",
       "  <thead>\n",
       "    <tr style=\"text-align: right;\">\n",
       "      <th></th>\n",
       "      <th>Accuracy</th>\n",
       "      <th>Balanced Accuracy</th>\n",
       "      <th>ROC AUC</th>\n",
       "      <th>F1 Score</th>\n",
       "      <th>Time Taken</th>\n",
       "    </tr>\n",
       "    <tr>\n",
       "      <th>Model</th>\n",
       "      <th></th>\n",
       "      <th></th>\n",
       "      <th></th>\n",
       "      <th></th>\n",
       "      <th></th>\n",
       "    </tr>\n",
       "  </thead>\n",
       "  <tbody>\n",
       "    <tr>\n",
       "      <th>ExtraTreesClassifier</th>\n",
       "      <td>0.87</td>\n",
       "      <td>0.87</td>\n",
       "      <td>0.87</td>\n",
       "      <td>0.87</td>\n",
       "      <td>1.85</td>\n",
       "    </tr>\n",
       "    <tr>\n",
       "      <th>RandomForestClassifier</th>\n",
       "      <td>0.86</td>\n",
       "      <td>0.85</td>\n",
       "      <td>0.85</td>\n",
       "      <td>0.86</td>\n",
       "      <td>1.46</td>\n",
       "    </tr>\n",
       "    <tr>\n",
       "      <th>LGBMClassifier</th>\n",
       "      <td>0.84</td>\n",
       "      <td>0.84</td>\n",
       "      <td>0.84</td>\n",
       "      <td>0.84</td>\n",
       "      <td>0.64</td>\n",
       "    </tr>\n",
       "    <tr>\n",
       "      <th>XGBClassifier</th>\n",
       "      <td>0.83</td>\n",
       "      <td>0.83</td>\n",
       "      <td>0.83</td>\n",
       "      <td>0.83</td>\n",
       "      <td>1.94</td>\n",
       "    </tr>\n",
       "    <tr>\n",
       "      <th>BaggingClassifier</th>\n",
       "      <td>0.83</td>\n",
       "      <td>0.83</td>\n",
       "      <td>0.83</td>\n",
       "      <td>0.83</td>\n",
       "      <td>3.01</td>\n",
       "    </tr>\n",
       "    <tr>\n",
       "      <th>SVC</th>\n",
       "      <td>0.82</td>\n",
       "      <td>0.82</td>\n",
       "      <td>0.82</td>\n",
       "      <td>0.82</td>\n",
       "      <td>17.97</td>\n",
       "    </tr>\n",
       "    <tr>\n",
       "      <th>NuSVC</th>\n",
       "      <td>0.82</td>\n",
       "      <td>0.82</td>\n",
       "      <td>0.82</td>\n",
       "      <td>0.82</td>\n",
       "      <td>19.74</td>\n",
       "    </tr>\n",
       "    <tr>\n",
       "      <th>DecisionTreeClassifier</th>\n",
       "      <td>0.80</td>\n",
       "      <td>0.80</td>\n",
       "      <td>0.80</td>\n",
       "      <td>0.80</td>\n",
       "      <td>0.84</td>\n",
       "    </tr>\n",
       "    <tr>\n",
       "      <th>CalibratedClassifierCV</th>\n",
       "      <td>0.80</td>\n",
       "      <td>0.80</td>\n",
       "      <td>0.80</td>\n",
       "      <td>0.80</td>\n",
       "      <td>17.16</td>\n",
       "    </tr>\n",
       "    <tr>\n",
       "      <th>LogisticRegression</th>\n",
       "      <td>0.79</td>\n",
       "      <td>0.79</td>\n",
       "      <td>0.79</td>\n",
       "      <td>0.79</td>\n",
       "      <td>0.41</td>\n",
       "    </tr>\n",
       "  </tbody>\n",
       "</table>\n",
       "</div>"
      ],
      "text/plain": [
       "                        Accuracy  Balanced Accuracy  ROC AUC  F1 Score  \\\n",
       "Model                                                                    \n",
       "ExtraTreesClassifier        0.87               0.87     0.87      0.87   \n",
       "RandomForestClassifier      0.86               0.85     0.85      0.86   \n",
       "LGBMClassifier              0.84               0.84     0.84      0.84   \n",
       "XGBClassifier               0.83               0.83     0.83      0.83   \n",
       "BaggingClassifier           0.83               0.83     0.83      0.83   \n",
       "SVC                         0.82               0.82     0.82      0.82   \n",
       "NuSVC                       0.82               0.82     0.82      0.82   \n",
       "DecisionTreeClassifier      0.80               0.80     0.80      0.80   \n",
       "CalibratedClassifierCV      0.80               0.80     0.80      0.80   \n",
       "LogisticRegression          0.79               0.79     0.79      0.79   \n",
       "\n",
       "                        Time Taken  \n",
       "Model                               \n",
       "ExtraTreesClassifier          1.85  \n",
       "RandomForestClassifier        1.46  \n",
       "LGBMClassifier                0.64  \n",
       "XGBClassifier                 1.94  \n",
       "BaggingClassifier             3.01  \n",
       "SVC                          17.97  \n",
       "NuSVC                        19.74  \n",
       "DecisionTreeClassifier        0.84  \n",
       "CalibratedClassifierCV       17.16  \n",
       "LogisticRegression            0.41  "
      ]
     },
     "execution_count": 31,
     "metadata": {},
     "output_type": "execute_result"
    }
   ],
   "source": [
    "predictions5.sort_values(by=\"F1 Score\", ascending=False).head(10)"
   ]
  },
  {
   "cell_type": "code",
   "execution_count": 32,
   "id": "656838a0",
   "metadata": {
    "execution": {
     "iopub.execute_input": "2022-10-16T12:20:45.156919Z",
     "iopub.status.busy": "2022-10-16T12:20:45.156817Z",
     "iopub.status.idle": "2022-10-16T12:20:45.158984Z",
     "shell.execute_reply": "2022-10-16T12:20:45.158733Z"
    }
   },
   "outputs": [],
   "source": [
    "predictions5.to_csv('LazyPredict_Morgan3_2048.csv')"
   ]
  },
  {
   "cell_type": "code",
   "execution_count": 33,
   "id": "98206b37",
   "metadata": {
    "execution": {
     "iopub.execute_input": "2022-10-16T12:20:45.160107Z",
     "iopub.status.busy": "2022-10-16T12:20:45.160007Z",
     "iopub.status.idle": "2022-10-16T12:20:45.171573Z",
     "shell.execute_reply": "2022-10-16T12:20:45.171201Z"
    }
   },
   "outputs": [],
   "source": [
    "#2048 bits Morgan fingerprints with feautures\n",
    "X6 = np.array(list((df2['fp_MorganF']))).astype(float)\n",
    "#X.shape\n",
    "Y6 = df2[\"activity\"].values\n",
    "#y.shape"
   ]
  },
  {
   "cell_type": "code",
   "execution_count": 34,
   "id": "9ad46f2d",
   "metadata": {
    "execution": {
     "iopub.execute_input": "2022-10-16T12:20:45.173224Z",
     "iopub.status.busy": "2022-10-16T12:20:45.173099Z",
     "iopub.status.idle": "2022-10-16T12:20:45.181960Z",
     "shell.execute_reply": "2022-10-16T12:20:45.181685Z"
    }
   },
   "outputs": [
    {
     "name": "stdout",
     "output_type": "stream",
     "text": [
      "Shape of training data: (3593, 2048)\n",
      "Shape of test data: (899, 2048)\n"
     ]
    }
   ],
   "source": [
    "# Split the data into training and test set\n",
    "# Perform data splitting using 80/20 ratio\n",
    "X_train6, X_test6, Y_train6, Y_test6 = train_test_split(X6, Y6, test_size=0.2, random_state=42)\n",
    "\n",
    "# Print the shape of training and testing data\n",
    "print(\"Shape of training data:\", X_train6.shape)\n",
    "print(\"Shape of test data:\", X_test6.shape)\n",
    "# NBVAL_CHECK_OUTPUT"
   ]
  },
  {
   "cell_type": "code",
   "execution_count": 35,
   "id": "34689bb2",
   "metadata": {
    "execution": {
     "iopub.execute_input": "2022-10-16T12:20:45.183156Z",
     "iopub.status.busy": "2022-10-16T12:20:45.183048Z",
     "iopub.status.idle": "2022-10-16T12:24:23.242140Z",
     "shell.execute_reply": "2022-10-16T12:24:23.241702Z"
    }
   },
   "outputs": [
    {
     "name": "stderr",
     "output_type": "stream",
     "text": [
      " 90%|████████████████████████████████████████████████████████████████████████████████████████████████████████████████████████████████████████████████████████████                  | 26/29 [01:26<00:19,  6.41s/it]"
     ]
    },
    {
     "name": "stdout",
     "output_type": "stream",
     "text": [
      "[16:56:25] WARNING: ../src/learner.cc:1115: Starting in XGBoost 1.3.0, the default evaluation metric used with the objective 'binary:logistic' was changed from 'error' to 'logloss'. Explicitly set eval_metric if you'd like to restore the old behavior.\n"
     ]
    },
    {
     "name": "stderr",
     "output_type": "stream",
     "text": [
      "100%|██████████████████████████████████████████████████████████████████████████████████████████████████████████████████████████████████████████████████████████████████████████████| 29/29 [01:29<00:00,  3.07s/it]\n"
     ]
    }
   ],
   "source": [
    "clf6 = LazyClassifier(verbose=0,ignore_warnings=True, custom_metric=None)\n",
    "models6, predictions6 = clf6.fit(X_train6, X_test6, Y_train6, Y_test6)"
   ]
  },
  {
   "cell_type": "code",
   "execution_count": 36,
   "id": "53a54756",
   "metadata": {
    "execution": {
     "iopub.execute_input": "2022-10-16T12:24:23.243996Z",
     "iopub.status.busy": "2022-10-16T12:24:23.243677Z",
     "iopub.status.idle": "2022-10-16T12:24:23.249203Z",
     "shell.execute_reply": "2022-10-16T12:24:23.248869Z"
    }
   },
   "outputs": [
    {
     "data": {
      "text/html": [
       "<div>\n",
       "<style scoped>\n",
       "    .dataframe tbody tr th:only-of-type {\n",
       "        vertical-align: middle;\n",
       "    }\n",
       "\n",
       "    .dataframe tbody tr th {\n",
       "        vertical-align: top;\n",
       "    }\n",
       "\n",
       "    .dataframe thead th {\n",
       "        text-align: right;\n",
       "    }\n",
       "</style>\n",
       "<table border=\"1\" class=\"dataframe\">\n",
       "  <thead>\n",
       "    <tr style=\"text-align: right;\">\n",
       "      <th></th>\n",
       "      <th>Accuracy</th>\n",
       "      <th>Balanced Accuracy</th>\n",
       "      <th>ROC AUC</th>\n",
       "      <th>F1 Score</th>\n",
       "      <th>Time Taken</th>\n",
       "    </tr>\n",
       "    <tr>\n",
       "      <th>Model</th>\n",
       "      <th></th>\n",
       "      <th></th>\n",
       "      <th></th>\n",
       "      <th></th>\n",
       "      <th></th>\n",
       "    </tr>\n",
       "  </thead>\n",
       "  <tbody>\n",
       "    <tr>\n",
       "      <th>ExtraTreesClassifier</th>\n",
       "      <td>0.84</td>\n",
       "      <td>0.84</td>\n",
       "      <td>0.84</td>\n",
       "      <td>0.84</td>\n",
       "      <td>1.74</td>\n",
       "    </tr>\n",
       "    <tr>\n",
       "      <th>RandomForestClassifier</th>\n",
       "      <td>0.83</td>\n",
       "      <td>0.83</td>\n",
       "      <td>0.83</td>\n",
       "      <td>0.83</td>\n",
       "      <td>1.45</td>\n",
       "    </tr>\n",
       "    <tr>\n",
       "      <th>LGBMClassifier</th>\n",
       "      <td>0.83</td>\n",
       "      <td>0.83</td>\n",
       "      <td>0.83</td>\n",
       "      <td>0.83</td>\n",
       "      <td>0.52</td>\n",
       "    </tr>\n",
       "    <tr>\n",
       "      <th>XGBClassifier</th>\n",
       "      <td>0.83</td>\n",
       "      <td>0.83</td>\n",
       "      <td>0.83</td>\n",
       "      <td>0.83</td>\n",
       "      <td>1.86</td>\n",
       "    </tr>\n",
       "    <tr>\n",
       "      <th>BaggingClassifier</th>\n",
       "      <td>0.83</td>\n",
       "      <td>0.83</td>\n",
       "      <td>0.83</td>\n",
       "      <td>0.83</td>\n",
       "      <td>2.39</td>\n",
       "    </tr>\n",
       "    <tr>\n",
       "      <th>SVC</th>\n",
       "      <td>0.82</td>\n",
       "      <td>0.82</td>\n",
       "      <td>0.82</td>\n",
       "      <td>0.82</td>\n",
       "      <td>17.43</td>\n",
       "    </tr>\n",
       "    <tr>\n",
       "      <th>NuSVC</th>\n",
       "      <td>0.82</td>\n",
       "      <td>0.82</td>\n",
       "      <td>0.82</td>\n",
       "      <td>0.82</td>\n",
       "      <td>19.05</td>\n",
       "    </tr>\n",
       "    <tr>\n",
       "      <th>DecisionTreeClassifier</th>\n",
       "      <td>0.81</td>\n",
       "      <td>0.81</td>\n",
       "      <td>0.81</td>\n",
       "      <td>0.81</td>\n",
       "      <td>0.78</td>\n",
       "    </tr>\n",
       "    <tr>\n",
       "      <th>KNeighborsClassifier</th>\n",
       "      <td>0.80</td>\n",
       "      <td>0.80</td>\n",
       "      <td>0.80</td>\n",
       "      <td>0.80</td>\n",
       "      <td>5.57</td>\n",
       "    </tr>\n",
       "    <tr>\n",
       "      <th>ExtraTreeClassifier</th>\n",
       "      <td>0.79</td>\n",
       "      <td>0.79</td>\n",
       "      <td>0.79</td>\n",
       "      <td>0.79</td>\n",
       "      <td>0.17</td>\n",
       "    </tr>\n",
       "  </tbody>\n",
       "</table>\n",
       "</div>"
      ],
      "text/plain": [
       "                        Accuracy  Balanced Accuracy  ROC AUC  F1 Score  \\\n",
       "Model                                                                    \n",
       "ExtraTreesClassifier        0.84               0.84     0.84      0.84   \n",
       "RandomForestClassifier      0.83               0.83     0.83      0.83   \n",
       "LGBMClassifier              0.83               0.83     0.83      0.83   \n",
       "XGBClassifier               0.83               0.83     0.83      0.83   \n",
       "BaggingClassifier           0.83               0.83     0.83      0.83   \n",
       "SVC                         0.82               0.82     0.82      0.82   \n",
       "NuSVC                       0.82               0.82     0.82      0.82   \n",
       "DecisionTreeClassifier      0.81               0.81     0.81      0.81   \n",
       "KNeighborsClassifier        0.80               0.80     0.80      0.80   \n",
       "ExtraTreeClassifier         0.79               0.79     0.79      0.79   \n",
       "\n",
       "                        Time Taken  \n",
       "Model                               \n",
       "ExtraTreesClassifier          1.74  \n",
       "RandomForestClassifier        1.45  \n",
       "LGBMClassifier                0.52  \n",
       "XGBClassifier                 1.86  \n",
       "BaggingClassifier             2.39  \n",
       "SVC                          17.43  \n",
       "NuSVC                        19.05  \n",
       "DecisionTreeClassifier        0.78  \n",
       "KNeighborsClassifier          5.57  \n",
       "ExtraTreeClassifier           0.17  "
      ]
     },
     "execution_count": 36,
     "metadata": {},
     "output_type": "execute_result"
    }
   ],
   "source": [
    "predictions6.sort_values(by=\"F1 Score\", ascending=False).head(10)"
   ]
  },
  {
   "cell_type": "code",
   "execution_count": 37,
   "id": "24c16b06",
   "metadata": {
    "execution": {
     "iopub.execute_input": "2022-10-16T12:24:23.250508Z",
     "iopub.status.busy": "2022-10-16T12:24:23.250359Z",
     "iopub.status.idle": "2022-10-16T12:24:23.252860Z",
     "shell.execute_reply": "2022-10-16T12:24:23.252527Z"
    }
   },
   "outputs": [],
   "source": [
    "predictions6.to_csv('LazyPredict_MorganF_2048.csv')"
   ]
  },
  {
   "cell_type": "code",
   "execution_count": 38,
   "id": "b6400fb5",
   "metadata": {
    "execution": {
     "iopub.execute_input": "2022-10-16T12:24:23.254097Z",
     "iopub.status.busy": "2022-10-16T12:24:23.253912Z",
     "iopub.status.idle": "2022-10-16T12:24:23.269892Z",
     "shell.execute_reply": "2022-10-16T12:24:23.269441Z"
    }
   },
   "outputs": [],
   "source": [
    "#2048 bits MAP4 fingerprints\n",
    "X7 = np.array(list((df2['fp_MAP4']))).astype(float)\n",
    "#X.shape\n",
    "Y7 = df2[\"activity\"].values\n",
    "#y.shape"
   ]
  },
  {
   "cell_type": "code",
   "execution_count": 39,
   "id": "93648d5d",
   "metadata": {
    "execution": {
     "iopub.execute_input": "2022-10-16T12:24:23.271409Z",
     "iopub.status.busy": "2022-10-16T12:24:23.271212Z",
     "iopub.status.idle": "2022-10-16T12:24:23.283483Z",
     "shell.execute_reply": "2022-10-16T12:24:23.283042Z"
    }
   },
   "outputs": [
    {
     "name": "stdout",
     "output_type": "stream",
     "text": [
      "Shape of training data: (3593, 2048)\n",
      "Shape of test data: (899, 2048)\n"
     ]
    }
   ],
   "source": [
    "# Split the data into training and test set\n",
    "# Perform data splitting using 80/20 ratio\n",
    "X_train7, X_test7, Y_train7, Y_test7 = train_test_split(X7, Y7, test_size=0.2, random_state=42)\n",
    "\n",
    "# Print the shape of training and testing data\n",
    "print(\"Shape of training data:\", X_train7.shape)\n",
    "print(\"Shape of test data:\", X_test7.shape)\n",
    "# NBVAL_CHECK_OUTPUT"
   ]
  },
  {
   "cell_type": "code",
   "execution_count": 40,
   "id": "5950c58f",
   "metadata": {
    "execution": {
     "iopub.execute_input": "2022-10-16T12:24:23.284790Z",
     "iopub.status.busy": "2022-10-16T12:24:23.284644Z",
     "iopub.status.idle": "2022-10-16T12:30:21.264268Z",
     "shell.execute_reply": "2022-10-16T12:30:21.263957Z"
    }
   },
   "outputs": [
    {
     "name": "stderr",
     "output_type": "stream",
     "text": [
      " 90%|████████████████████████████████████████████████████████████████████████████████████████████████████████████████████████████████████████████████████████████                  | 26/29 [02:14<00:20,  6.90s/it]"
     ]
    },
    {
     "name": "stdout",
     "output_type": "stream",
     "text": [
      "[16:58:43] WARNING: ../src/learner.cc:1115: Starting in XGBoost 1.3.0, the default evaluation metric used with the objective 'binary:logistic' was changed from 'error' to 'logloss'. Explicitly set eval_metric if you'd like to restore the old behavior.\n"
     ]
    },
    {
     "name": "stderr",
     "output_type": "stream",
     "text": [
      "100%|██████████████████████████████████████████████████████████████████████████████████████████████████████████████████████████████████████████████████████████████████████████████| 29/29 [02:25<00:00,  5.01s/it]\n"
     ]
    }
   ],
   "source": [
    "# Defines and builds the lazyclassifier\n",
    "clf7 = LazyClassifier(verbose=0,ignore_warnings=True, custom_metric=None)\n",
    "models7, predictions7 = clf7.fit(X_train7, X_test7, Y_train7, Y_test7)"
   ]
  },
  {
   "cell_type": "code",
   "execution_count": 41,
   "id": "a447e411",
   "metadata": {
    "execution": {
     "iopub.execute_input": "2022-10-16T12:30:21.265561Z",
     "iopub.status.busy": "2022-10-16T12:30:21.265453Z",
     "iopub.status.idle": "2022-10-16T12:30:21.269880Z",
     "shell.execute_reply": "2022-10-16T12:30:21.269639Z"
    }
   },
   "outputs": [
    {
     "data": {
      "text/html": [
       "<div>\n",
       "<style scoped>\n",
       "    .dataframe tbody tr th:only-of-type {\n",
       "        vertical-align: middle;\n",
       "    }\n",
       "\n",
       "    .dataframe tbody tr th {\n",
       "        vertical-align: top;\n",
       "    }\n",
       "\n",
       "    .dataframe thead th {\n",
       "        text-align: right;\n",
       "    }\n",
       "</style>\n",
       "<table border=\"1\" class=\"dataframe\">\n",
       "  <thead>\n",
       "    <tr style=\"text-align: right;\">\n",
       "      <th></th>\n",
       "      <th>Accuracy</th>\n",
       "      <th>Balanced Accuracy</th>\n",
       "      <th>ROC AUC</th>\n",
       "      <th>F1 Score</th>\n",
       "      <th>Time Taken</th>\n",
       "    </tr>\n",
       "    <tr>\n",
       "      <th>Model</th>\n",
       "      <th></th>\n",
       "      <th></th>\n",
       "      <th></th>\n",
       "      <th></th>\n",
       "      <th></th>\n",
       "    </tr>\n",
       "  </thead>\n",
       "  <tbody>\n",
       "    <tr>\n",
       "      <th>XGBClassifier</th>\n",
       "      <td>0.84</td>\n",
       "      <td>0.84</td>\n",
       "      <td>0.84</td>\n",
       "      <td>0.84</td>\n",
       "      <td>4.60</td>\n",
       "    </tr>\n",
       "    <tr>\n",
       "      <th>LGBMClassifier</th>\n",
       "      <td>0.84</td>\n",
       "      <td>0.84</td>\n",
       "      <td>0.84</td>\n",
       "      <td>0.84</td>\n",
       "      <td>5.86</td>\n",
       "    </tr>\n",
       "    <tr>\n",
       "      <th>RandomForestClassifier</th>\n",
       "      <td>0.83</td>\n",
       "      <td>0.83</td>\n",
       "      <td>0.83</td>\n",
       "      <td>0.83</td>\n",
       "      <td>5.64</td>\n",
       "    </tr>\n",
       "    <tr>\n",
       "      <th>ExtraTreesClassifier</th>\n",
       "      <td>0.83</td>\n",
       "      <td>0.83</td>\n",
       "      <td>0.83</td>\n",
       "      <td>0.83</td>\n",
       "      <td>1.69</td>\n",
       "    </tr>\n",
       "    <tr>\n",
       "      <th>NuSVC</th>\n",
       "      <td>0.82</td>\n",
       "      <td>0.81</td>\n",
       "      <td>0.81</td>\n",
       "      <td>0.82</td>\n",
       "      <td>19.10</td>\n",
       "    </tr>\n",
       "    <tr>\n",
       "      <th>SVC</th>\n",
       "      <td>0.80</td>\n",
       "      <td>0.80</td>\n",
       "      <td>0.80</td>\n",
       "      <td>0.80</td>\n",
       "      <td>18.07</td>\n",
       "    </tr>\n",
       "    <tr>\n",
       "      <th>KNeighborsClassifier</th>\n",
       "      <td>0.80</td>\n",
       "      <td>0.79</td>\n",
       "      <td>0.79</td>\n",
       "      <td>0.80</td>\n",
       "      <td>6.15</td>\n",
       "    </tr>\n",
       "    <tr>\n",
       "      <th>BaggingClassifier</th>\n",
       "      <td>0.80</td>\n",
       "      <td>0.80</td>\n",
       "      <td>0.80</td>\n",
       "      <td>0.80</td>\n",
       "      <td>26.67</td>\n",
       "    </tr>\n",
       "    <tr>\n",
       "      <th>AdaBoostClassifier</th>\n",
       "      <td>0.78</td>\n",
       "      <td>0.78</td>\n",
       "      <td>0.78</td>\n",
       "      <td>0.78</td>\n",
       "      <td>16.71</td>\n",
       "    </tr>\n",
       "    <tr>\n",
       "      <th>DecisionTreeClassifier</th>\n",
       "      <td>0.76</td>\n",
       "      <td>0.76</td>\n",
       "      <td>0.76</td>\n",
       "      <td>0.76</td>\n",
       "      <td>5.78</td>\n",
       "    </tr>\n",
       "  </tbody>\n",
       "</table>\n",
       "</div>"
      ],
      "text/plain": [
       "                        Accuracy  Balanced Accuracy  ROC AUC  F1 Score  \\\n",
       "Model                                                                    \n",
       "XGBClassifier               0.84               0.84     0.84      0.84   \n",
       "LGBMClassifier              0.84               0.84     0.84      0.84   \n",
       "RandomForestClassifier      0.83               0.83     0.83      0.83   \n",
       "ExtraTreesClassifier        0.83               0.83     0.83      0.83   \n",
       "NuSVC                       0.82               0.81     0.81      0.82   \n",
       "SVC                         0.80               0.80     0.80      0.80   \n",
       "KNeighborsClassifier        0.80               0.79     0.79      0.80   \n",
       "BaggingClassifier           0.80               0.80     0.80      0.80   \n",
       "AdaBoostClassifier          0.78               0.78     0.78      0.78   \n",
       "DecisionTreeClassifier      0.76               0.76     0.76      0.76   \n",
       "\n",
       "                        Time Taken  \n",
       "Model                               \n",
       "XGBClassifier                 4.60  \n",
       "LGBMClassifier                5.86  \n",
       "RandomForestClassifier        5.64  \n",
       "ExtraTreesClassifier          1.69  \n",
       "NuSVC                        19.10  \n",
       "SVC                          18.07  \n",
       "KNeighborsClassifier          6.15  \n",
       "BaggingClassifier            26.67  \n",
       "AdaBoostClassifier           16.71  \n",
       "DecisionTreeClassifier        5.78  "
      ]
     },
     "execution_count": 41,
     "metadata": {},
     "output_type": "execute_result"
    }
   ],
   "source": [
    "predictions7.sort_values(by=\"F1 Score\", ascending=False).head(10)"
   ]
  },
  {
   "cell_type": "code",
   "execution_count": 42,
   "id": "3122c49f",
   "metadata": {
    "execution": {
     "iopub.execute_input": "2022-10-16T12:30:21.271012Z",
     "iopub.status.busy": "2022-10-16T12:30:21.270888Z",
     "iopub.status.idle": "2022-10-16T12:30:21.272982Z",
     "shell.execute_reply": "2022-10-16T12:30:21.272735Z"
    }
   },
   "outputs": [],
   "source": [
    "predictions7.to_csv('LazyPredict_MAP4_2048.csv')"
   ]
  },
  {
   "cell_type": "markdown",
   "id": "ec3baf4f",
   "metadata": {},
   "source": [
    "### By combining 1D descriptors - 9 of them -  with fingerprints of 1024 bits"
   ]
  },
  {
   "cell_type": "code",
   "execution_count": 43,
   "id": "86bea132",
   "metadata": {
    "execution": {
     "iopub.execute_input": "2022-10-16T12:30:21.274085Z",
     "iopub.status.busy": "2022-10-16T12:30:21.273985Z",
     "iopub.status.idle": "2022-10-16T12:30:21.280303Z",
     "shell.execute_reply": "2022-10-16T12:30:21.280062Z"
    }
   },
   "outputs": [
    {
     "data": {
      "text/plain": [
       "(4492, 176)"
      ]
     },
     "execution_count": 43,
     "metadata": {},
     "output_type": "execute_result"
    }
   ],
   "source": [
    "fp = np.array(list((df1['fp_MACCS']))).astype(float)\n",
    "oneD = np.array((df1[['molecular_weight', 'n_rot','n_heavy', 'n_hba', 'n_hbd', 'logp', 'num_ar', 'num_sa', 'num_alip' ]])).astype(float)\n",
    "X8 = np.column_stack((fp,oneD))\n",
    "Y8 = df1[\"activity\"].values\n",
    "X8.shape"
   ]
  },
  {
   "cell_type": "code",
   "execution_count": 44,
   "id": "77954df9",
   "metadata": {
    "execution": {
     "iopub.execute_input": "2022-10-16T12:30:21.281554Z",
     "iopub.status.busy": "2022-10-16T12:30:21.281385Z",
     "iopub.status.idle": "2022-10-16T12:30:21.284575Z",
     "shell.execute_reply": "2022-10-16T12:30:21.284306Z"
    }
   },
   "outputs": [
    {
     "name": "stdout",
     "output_type": "stream",
     "text": [
      "Shape of training data: (3593, 176)\n",
      "Shape of test data: (899, 176)\n"
     ]
    }
   ],
   "source": [
    "# Split the data into training and test set\n",
    "# Perform data splitting using 80/20 ratio\n",
    "X_train8, X_test8, Y_train8, Y_test8 = train_test_split(X8, Y8, test_size=0.2, random_state=42)\n",
    "\n",
    "# Print the shape of training and testing data\n",
    "print(\"Shape of training data:\", X_train8.shape)\n",
    "print(\"Shape of test data:\", X_test8.shape)\n",
    "# NBVAL_CHECK_OUTPUT"
   ]
  },
  {
   "cell_type": "code",
   "execution_count": 45,
   "id": "76c01796",
   "metadata": {
    "execution": {
     "iopub.execute_input": "2022-10-16T12:30:21.285649Z",
     "iopub.status.busy": "2022-10-16T12:30:21.285549Z",
     "iopub.status.idle": "2022-10-16T12:32:18.817833Z",
     "shell.execute_reply": "2022-10-16T12:32:18.817506Z"
    }
   },
   "outputs": [
    {
     "name": "stderr",
     "output_type": "stream",
     "text": [
      " 90%|████████████████████████████████████████████████████████████████████████████████████████████████████████████████████████████████████████████████████████████                  | 26/29 [00:09<00:01,  2.12it/s]"
     ]
    },
    {
     "name": "stdout",
     "output_type": "stream",
     "text": [
      "[16:59:03] WARNING: ../src/learner.cc:1115: Starting in XGBoost 1.3.0, the default evaluation metric used with the objective 'binary:logistic' was changed from 'error' to 'logloss'. Explicitly set eval_metric if you'd like to restore the old behavior.\n"
     ]
    },
    {
     "name": "stderr",
     "output_type": "stream",
     "text": [
      "100%|██████████████████████████████████████████████████████████████████████████████████████████████████████████████████████████████████████████████████████████████████████████████| 29/29 [00:10<00:00,  2.78it/s]\n"
     ]
    }
   ],
   "source": [
    "# Defines and builds the lazyclassifier\n",
    "clf8 = LazyClassifier(verbose=0,ignore_warnings=True, custom_metric=None)\n",
    "models8, predictions8 = clf8.fit(X_train8, X_test8, Y_train8, Y_test8)"
   ]
  },
  {
   "cell_type": "code",
   "execution_count": 46,
   "id": "45b0123c",
   "metadata": {
    "execution": {
     "iopub.execute_input": "2022-10-16T12:32:18.819254Z",
     "iopub.status.busy": "2022-10-16T12:32:18.819072Z",
     "iopub.status.idle": "2022-10-16T12:32:18.823787Z",
     "shell.execute_reply": "2022-10-16T12:32:18.823543Z"
    }
   },
   "outputs": [
    {
     "data": {
      "text/html": [
       "<div>\n",
       "<style scoped>\n",
       "    .dataframe tbody tr th:only-of-type {\n",
       "        vertical-align: middle;\n",
       "    }\n",
       "\n",
       "    .dataframe tbody tr th {\n",
       "        vertical-align: top;\n",
       "    }\n",
       "\n",
       "    .dataframe thead th {\n",
       "        text-align: right;\n",
       "    }\n",
       "</style>\n",
       "<table border=\"1\" class=\"dataframe\">\n",
       "  <thead>\n",
       "    <tr style=\"text-align: right;\">\n",
       "      <th></th>\n",
       "      <th>Accuracy</th>\n",
       "      <th>Balanced Accuracy</th>\n",
       "      <th>ROC AUC</th>\n",
       "      <th>F1 Score</th>\n",
       "      <th>Time Taken</th>\n",
       "    </tr>\n",
       "    <tr>\n",
       "      <th>Model</th>\n",
       "      <th></th>\n",
       "      <th></th>\n",
       "      <th></th>\n",
       "      <th></th>\n",
       "      <th></th>\n",
       "    </tr>\n",
       "  </thead>\n",
       "  <tbody>\n",
       "    <tr>\n",
       "      <th>ExtraTreesClassifier</th>\n",
       "      <td>0.82</td>\n",
       "      <td>0.82</td>\n",
       "      <td>0.82</td>\n",
       "      <td>0.82</td>\n",
       "      <td>0.36</td>\n",
       "    </tr>\n",
       "    <tr>\n",
       "      <th>NuSVC</th>\n",
       "      <td>0.82</td>\n",
       "      <td>0.82</td>\n",
       "      <td>0.82</td>\n",
       "      <td>0.82</td>\n",
       "      <td>1.55</td>\n",
       "    </tr>\n",
       "    <tr>\n",
       "      <th>RandomForestClassifier</th>\n",
       "      <td>0.81</td>\n",
       "      <td>0.81</td>\n",
       "      <td>0.81</td>\n",
       "      <td>0.81</td>\n",
       "      <td>0.35</td>\n",
       "    </tr>\n",
       "    <tr>\n",
       "      <th>LGBMClassifier</th>\n",
       "      <td>0.80</td>\n",
       "      <td>0.80</td>\n",
       "      <td>0.80</td>\n",
       "      <td>0.80</td>\n",
       "      <td>0.14</td>\n",
       "    </tr>\n",
       "    <tr>\n",
       "      <th>BaggingClassifier</th>\n",
       "      <td>0.80</td>\n",
       "      <td>0.80</td>\n",
       "      <td>0.80</td>\n",
       "      <td>0.80</td>\n",
       "      <td>0.24</td>\n",
       "    </tr>\n",
       "    <tr>\n",
       "      <th>SVC</th>\n",
       "      <td>0.80</td>\n",
       "      <td>0.80</td>\n",
       "      <td>0.80</td>\n",
       "      <td>0.80</td>\n",
       "      <td>1.39</td>\n",
       "    </tr>\n",
       "    <tr>\n",
       "      <th>XGBClassifier</th>\n",
       "      <td>0.80</td>\n",
       "      <td>0.80</td>\n",
       "      <td>0.80</td>\n",
       "      <td>0.80</td>\n",
       "      <td>0.38</td>\n",
       "    </tr>\n",
       "    <tr>\n",
       "      <th>KNeighborsClassifier</th>\n",
       "      <td>0.80</td>\n",
       "      <td>0.79</td>\n",
       "      <td>0.79</td>\n",
       "      <td>0.79</td>\n",
       "      <td>0.48</td>\n",
       "    </tr>\n",
       "    <tr>\n",
       "      <th>ExtraTreeClassifier</th>\n",
       "      <td>0.76</td>\n",
       "      <td>0.76</td>\n",
       "      <td>0.76</td>\n",
       "      <td>0.76</td>\n",
       "      <td>0.02</td>\n",
       "    </tr>\n",
       "    <tr>\n",
       "      <th>LabelPropagation</th>\n",
       "      <td>0.75</td>\n",
       "      <td>0.76</td>\n",
       "      <td>0.76</td>\n",
       "      <td>0.75</td>\n",
       "      <td>0.28</td>\n",
       "    </tr>\n",
       "  </tbody>\n",
       "</table>\n",
       "</div>"
      ],
      "text/plain": [
       "                        Accuracy  Balanced Accuracy  ROC AUC  F1 Score  \\\n",
       "Model                                                                    \n",
       "ExtraTreesClassifier        0.82               0.82     0.82      0.82   \n",
       "NuSVC                       0.82               0.82     0.82      0.82   \n",
       "RandomForestClassifier      0.81               0.81     0.81      0.81   \n",
       "LGBMClassifier              0.80               0.80     0.80      0.80   \n",
       "BaggingClassifier           0.80               0.80     0.80      0.80   \n",
       "SVC                         0.80               0.80     0.80      0.80   \n",
       "XGBClassifier               0.80               0.80     0.80      0.80   \n",
       "KNeighborsClassifier        0.80               0.79     0.79      0.79   \n",
       "ExtraTreeClassifier         0.76               0.76     0.76      0.76   \n",
       "LabelPropagation            0.75               0.76     0.76      0.75   \n",
       "\n",
       "                        Time Taken  \n",
       "Model                               \n",
       "ExtraTreesClassifier          0.36  \n",
       "NuSVC                         1.55  \n",
       "RandomForestClassifier        0.35  \n",
       "LGBMClassifier                0.14  \n",
       "BaggingClassifier             0.24  \n",
       "SVC                           1.39  \n",
       "XGBClassifier                 0.38  \n",
       "KNeighborsClassifier          0.48  \n",
       "ExtraTreeClassifier           0.02  \n",
       "LabelPropagation              0.28  "
      ]
     },
     "execution_count": 46,
     "metadata": {},
     "output_type": "execute_result"
    }
   ],
   "source": [
    "predictions8.sort_values(by=\"F1 Score\", ascending=False).head(10)"
   ]
  },
  {
   "cell_type": "code",
   "execution_count": 47,
   "id": "9ded912c",
   "metadata": {
    "execution": {
     "iopub.execute_input": "2022-10-16T12:32:18.824899Z",
     "iopub.status.busy": "2022-10-16T12:32:18.824796Z",
     "iopub.status.idle": "2022-10-16T12:32:18.826986Z",
     "shell.execute_reply": "2022-10-16T12:32:18.826738Z"
    }
   },
   "outputs": [],
   "source": [
    "predictions8.to_csv('LazyPredict_MACCS_1Dadded.csv')"
   ]
  },
  {
   "cell_type": "code",
   "execution_count": 48,
   "id": "134519d7",
   "metadata": {
    "execution": {
     "iopub.execute_input": "2022-10-16T12:32:18.828075Z",
     "iopub.status.busy": "2022-10-16T12:32:18.827974Z",
     "iopub.status.idle": "2022-10-16T12:32:18.842650Z",
     "shell.execute_reply": "2022-10-16T12:32:18.842358Z"
    }
   },
   "outputs": [
    {
     "data": {
      "text/plain": [
       "(4492, 1033)"
      ]
     },
     "execution_count": 48,
     "metadata": {},
     "output_type": "execute_result"
    }
   ],
   "source": [
    "#with Morgan 1024 bits fingerprints\n",
    "fp = np.array(list((df1['fp_Morgan3']))).astype(float)\n",
    "oneD = np.array((df1[['molecular_weight', 'n_rot','n_heavy', 'n_hba', 'n_hbd', 'logp', 'num_ar', 'num_sa', 'num_alip' ]])).astype(float)\n",
    "X9 = np.column_stack((fp,oneD))\n",
    "Y9 = df1[\"activity\"].values\n",
    "X9.shape"
   ]
  },
  {
   "cell_type": "code",
   "execution_count": 49,
   "id": "ae305ebc",
   "metadata": {
    "execution": {
     "iopub.execute_input": "2022-10-16T12:32:18.843999Z",
     "iopub.status.busy": "2022-10-16T12:32:18.843789Z",
     "iopub.status.idle": "2022-10-16T12:32:18.850540Z",
     "shell.execute_reply": "2022-10-16T12:32:18.850248Z"
    }
   },
   "outputs": [
    {
     "name": "stdout",
     "output_type": "stream",
     "text": [
      "Shape of training data: (3593, 1033)\n",
      "Shape of test data: (899, 1033)\n"
     ]
    }
   ],
   "source": [
    "# Split the data into training and test set\n",
    "# Perform data splitting using 80/20 ratio\n",
    "X_train9, X_test9, Y_train9, Y_test9 = train_test_split(X9, Y9, test_size=0.2, random_state=42)\n",
    "\n",
    "# Print the shape of training and testing data\n",
    "print(\"Shape of training data:\", X_train9.shape)\n",
    "print(\"Shape of test data:\", X_test9.shape)\n",
    "# NBVAL_CHECK_OUTPUT"
   ]
  },
  {
   "cell_type": "code",
   "execution_count": 50,
   "id": "512c0eba",
   "metadata": {
    "execution": {
     "iopub.execute_input": "2022-10-16T12:32:18.851706Z",
     "iopub.status.busy": "2022-10-16T12:32:18.851589Z",
     "iopub.status.idle": "2022-10-16T12:35:38.264924Z",
     "shell.execute_reply": "2022-10-16T12:35:38.264581Z"
    }
   },
   "outputs": [
    {
     "name": "stderr",
     "output_type": "stream",
     "text": [
      " 90%|████████████████████████████████████████████████████████████████████████████████████████████████████████████████████████████████████████████████████████████                  | 26/29 [00:38<00:08,  2.95s/it]"
     ]
    },
    {
     "name": "stdout",
     "output_type": "stream",
     "text": [
      "[16:59:42] WARNING: ../src/learner.cc:1115: Starting in XGBoost 1.3.0, the default evaluation metric used with the objective 'binary:logistic' was changed from 'error' to 'logloss'. Explicitly set eval_metric if you'd like to restore the old behavior.\n"
     ]
    },
    {
     "name": "stderr",
     "output_type": "stream",
     "text": [
      "100%|██████████████████████████████████████████████████████████████████████████████████████████████████████████████████████████████████████████████████████████████████████████████| 29/29 [00:39<00:00,  1.36s/it]\n"
     ]
    }
   ],
   "source": [
    "clf9 = LazyClassifier(verbose=0,ignore_warnings=True, custom_metric=None)\n",
    "models9, predictions9 = clf9.fit(X_train9, X_test9, Y_train9, Y_test9)"
   ]
  },
  {
   "cell_type": "code",
   "execution_count": 51,
   "id": "aadd5ee4",
   "metadata": {
    "execution": {
     "iopub.execute_input": "2022-10-16T12:35:38.266421Z",
     "iopub.status.busy": "2022-10-16T12:35:38.266196Z",
     "iopub.status.idle": "2022-10-16T12:35:38.271588Z",
     "shell.execute_reply": "2022-10-16T12:35:38.271304Z"
    }
   },
   "outputs": [
    {
     "data": {
      "text/html": [
       "<div>\n",
       "<style scoped>\n",
       "    .dataframe tbody tr th:only-of-type {\n",
       "        vertical-align: middle;\n",
       "    }\n",
       "\n",
       "    .dataframe tbody tr th {\n",
       "        vertical-align: top;\n",
       "    }\n",
       "\n",
       "    .dataframe thead th {\n",
       "        text-align: right;\n",
       "    }\n",
       "</style>\n",
       "<table border=\"1\" class=\"dataframe\">\n",
       "  <thead>\n",
       "    <tr style=\"text-align: right;\">\n",
       "      <th></th>\n",
       "      <th>Accuracy</th>\n",
       "      <th>Balanced Accuracy</th>\n",
       "      <th>ROC AUC</th>\n",
       "      <th>F1 Score</th>\n",
       "      <th>Time Taken</th>\n",
       "    </tr>\n",
       "    <tr>\n",
       "      <th>Model</th>\n",
       "      <th></th>\n",
       "      <th></th>\n",
       "      <th></th>\n",
       "      <th></th>\n",
       "      <th></th>\n",
       "    </tr>\n",
       "  </thead>\n",
       "  <tbody>\n",
       "    <tr>\n",
       "      <th>RandomForestClassifier</th>\n",
       "      <td>0.83</td>\n",
       "      <td>0.83</td>\n",
       "      <td>0.83</td>\n",
       "      <td>0.83</td>\n",
       "      <td>0.60</td>\n",
       "    </tr>\n",
       "    <tr>\n",
       "      <th>ExtraTreesClassifier</th>\n",
       "      <td>0.83</td>\n",
       "      <td>0.83</td>\n",
       "      <td>0.83</td>\n",
       "      <td>0.83</td>\n",
       "      <td>0.77</td>\n",
       "    </tr>\n",
       "    <tr>\n",
       "      <th>XGBClassifier</th>\n",
       "      <td>0.83</td>\n",
       "      <td>0.83</td>\n",
       "      <td>0.83</td>\n",
       "      <td>0.83</td>\n",
       "      <td>0.91</td>\n",
       "    </tr>\n",
       "    <tr>\n",
       "      <th>NuSVC</th>\n",
       "      <td>0.83</td>\n",
       "      <td>0.82</td>\n",
       "      <td>0.82</td>\n",
       "      <td>0.83</td>\n",
       "      <td>9.20</td>\n",
       "    </tr>\n",
       "    <tr>\n",
       "      <th>LGBMClassifier</th>\n",
       "      <td>0.82</td>\n",
       "      <td>0.82</td>\n",
       "      <td>0.82</td>\n",
       "      <td>0.82</td>\n",
       "      <td>0.38</td>\n",
       "    </tr>\n",
       "    <tr>\n",
       "      <th>SVC</th>\n",
       "      <td>0.82</td>\n",
       "      <td>0.81</td>\n",
       "      <td>0.81</td>\n",
       "      <td>0.82</td>\n",
       "      <td>8.29</td>\n",
       "    </tr>\n",
       "    <tr>\n",
       "      <th>BaggingClassifier</th>\n",
       "      <td>0.81</td>\n",
       "      <td>0.81</td>\n",
       "      <td>0.81</td>\n",
       "      <td>0.81</td>\n",
       "      <td>1.28</td>\n",
       "    </tr>\n",
       "    <tr>\n",
       "      <th>QuadraticDiscriminantAnalysis</th>\n",
       "      <td>0.80</td>\n",
       "      <td>0.79</td>\n",
       "      <td>0.79</td>\n",
       "      <td>0.80</td>\n",
       "      <td>1.00</td>\n",
       "    </tr>\n",
       "    <tr>\n",
       "      <th>LinearDiscriminantAnalysis</th>\n",
       "      <td>0.79</td>\n",
       "      <td>0.79</td>\n",
       "      <td>0.79</td>\n",
       "      <td>0.79</td>\n",
       "      <td>0.68</td>\n",
       "    </tr>\n",
       "    <tr>\n",
       "      <th>KNeighborsClassifier</th>\n",
       "      <td>0.79</td>\n",
       "      <td>0.79</td>\n",
       "      <td>0.79</td>\n",
       "      <td>0.79</td>\n",
       "      <td>2.87</td>\n",
       "    </tr>\n",
       "  </tbody>\n",
       "</table>\n",
       "</div>"
      ],
      "text/plain": [
       "                               Accuracy  Balanced Accuracy  ROC AUC  F1 Score  \\\n",
       "Model                                                                           \n",
       "RandomForestClassifier             0.83               0.83     0.83      0.83   \n",
       "ExtraTreesClassifier               0.83               0.83     0.83      0.83   \n",
       "XGBClassifier                      0.83               0.83     0.83      0.83   \n",
       "NuSVC                              0.83               0.82     0.82      0.83   \n",
       "LGBMClassifier                     0.82               0.82     0.82      0.82   \n",
       "SVC                                0.82               0.81     0.81      0.82   \n",
       "BaggingClassifier                  0.81               0.81     0.81      0.81   \n",
       "QuadraticDiscriminantAnalysis      0.80               0.79     0.79      0.80   \n",
       "LinearDiscriminantAnalysis         0.79               0.79     0.79      0.79   \n",
       "KNeighborsClassifier               0.79               0.79     0.79      0.79   \n",
       "\n",
       "                               Time Taken  \n",
       "Model                                      \n",
       "RandomForestClassifier               0.60  \n",
       "ExtraTreesClassifier                 0.77  \n",
       "XGBClassifier                        0.91  \n",
       "NuSVC                                9.20  \n",
       "LGBMClassifier                       0.38  \n",
       "SVC                                  8.29  \n",
       "BaggingClassifier                    1.28  \n",
       "QuadraticDiscriminantAnalysis        1.00  \n",
       "LinearDiscriminantAnalysis           0.68  \n",
       "KNeighborsClassifier                 2.87  "
      ]
     },
     "execution_count": 51,
     "metadata": {},
     "output_type": "execute_result"
    }
   ],
   "source": [
    "predictions9.sort_values(by=\"F1 Score\", ascending=False).head(10)"
   ]
  },
  {
   "cell_type": "code",
   "execution_count": 52,
   "id": "8042de50",
   "metadata": {
    "execution": {
     "iopub.execute_input": "2022-10-16T12:35:38.272905Z",
     "iopub.status.busy": "2022-10-16T12:35:38.272669Z",
     "iopub.status.idle": "2022-10-16T12:35:38.275098Z",
     "shell.execute_reply": "2022-10-16T12:35:38.274821Z"
    }
   },
   "outputs": [],
   "source": [
    "predictions9.to_csv('LazyPredict_Morgan3_1Dadded.csv')"
   ]
  },
  {
   "cell_type": "code",
   "execution_count": 53,
   "id": "d6331b8b",
   "metadata": {
    "execution": {
     "iopub.execute_input": "2022-10-16T12:35:38.276352Z",
     "iopub.status.busy": "2022-10-16T12:35:38.276165Z",
     "iopub.status.idle": "2022-10-16T12:35:38.292745Z",
     "shell.execute_reply": "2022-10-16T12:35:38.292413Z"
    }
   },
   "outputs": [
    {
     "data": {
      "text/plain": [
       "(4492, 1033)"
      ]
     },
     "execution_count": 53,
     "metadata": {},
     "output_type": "execute_result"
    }
   ],
   "source": [
    "#with Morgan 1024 bits fingerprints with feautures\n",
    "fp = np.array(list((df1['fp_MorganF']))).astype(float)\n",
    "oneD = np.array((df1[['molecular_weight', 'n_rot','n_heavy', 'n_hba', 'n_hbd', 'logp', 'num_ar', 'num_sa', 'num_alip' ]])).astype(float)\n",
    "X10 = np.column_stack((fp,oneD))\n",
    "Y10 = df1[\"activity\"].values\n",
    "X10.shape"
   ]
  },
  {
   "cell_type": "code",
   "execution_count": 54,
   "id": "4178b4e4",
   "metadata": {
    "execution": {
     "iopub.execute_input": "2022-10-16T12:35:38.294179Z",
     "iopub.status.busy": "2022-10-16T12:35:38.293893Z",
     "iopub.status.idle": "2022-10-16T12:35:38.301026Z",
     "shell.execute_reply": "2022-10-16T12:35:38.300701Z"
    }
   },
   "outputs": [
    {
     "name": "stdout",
     "output_type": "stream",
     "text": [
      "Shape of training data: (3593, 1033)\n",
      "Shape of test data: (899, 1033)\n"
     ]
    }
   ],
   "source": [
    "# Split the data into training and test set\n",
    "# Perform data splitting using 80/20 ratio\n",
    "X_train10, X_test10, Y_train10, Y_test10 = train_test_split(X10, Y10, test_size=0.2, random_state=42)\n",
    "\n",
    "# Print the shape of training and testing data\n",
    "print(\"Shape of training data:\", X_train10.shape)\n",
    "print(\"Shape of test data:\", X_test10.shape)\n",
    "# NBVAL_CHECK_OUTPUT"
   ]
  },
  {
   "cell_type": "code",
   "execution_count": 55,
   "id": "5b68b7dd",
   "metadata": {
    "execution": {
     "iopub.execute_input": "2022-10-16T12:35:38.302210Z",
     "iopub.status.busy": "2022-10-16T12:35:38.302074Z",
     "iopub.status.idle": "2022-10-16T12:38:36.702998Z",
     "shell.execute_reply": "2022-10-16T12:38:36.702684Z"
    }
   },
   "outputs": [
    {
     "name": "stderr",
     "output_type": "stream",
     "text": [
      " 90%|████████████████████████████████████████████████████████████████████████████████████████████████████████████████████████████████████████████████████████████                  | 26/29 [00:37<00:08,  2.86s/it]"
     ]
    },
    {
     "name": "stdout",
     "output_type": "stream",
     "text": [
      "[17:00:21] WARNING: ../src/learner.cc:1115: Starting in XGBoost 1.3.0, the default evaluation metric used with the objective 'binary:logistic' was changed from 'error' to 'logloss'. Explicitly set eval_metric if you'd like to restore the old behavior.\n"
     ]
    },
    {
     "name": "stderr",
     "output_type": "stream",
     "text": [
      "100%|██████████████████████████████████████████████████████████████████████████████████████████████████████████████████████████████████████████████████████████████████████████████| 29/29 [00:39<00:00,  1.35s/it]\n"
     ]
    }
   ],
   "source": [
    "clf10 = LazyClassifier(verbose=0,ignore_warnings=True, custom_metric=None)\n",
    "models10, predictions10 = clf10.fit(X_train10, X_test10, Y_train10, Y_test10)"
   ]
  },
  {
   "cell_type": "code",
   "execution_count": 56,
   "id": "97599dea",
   "metadata": {
    "execution": {
     "iopub.execute_input": "2022-10-16T12:38:36.704293Z",
     "iopub.status.busy": "2022-10-16T12:38:36.704184Z",
     "iopub.status.idle": "2022-10-16T12:38:36.708862Z",
     "shell.execute_reply": "2022-10-16T12:38:36.708604Z"
    }
   },
   "outputs": [
    {
     "data": {
      "text/html": [
       "<div>\n",
       "<style scoped>\n",
       "    .dataframe tbody tr th:only-of-type {\n",
       "        vertical-align: middle;\n",
       "    }\n",
       "\n",
       "    .dataframe tbody tr th {\n",
       "        vertical-align: top;\n",
       "    }\n",
       "\n",
       "    .dataframe thead th {\n",
       "        text-align: right;\n",
       "    }\n",
       "</style>\n",
       "<table border=\"1\" class=\"dataframe\">\n",
       "  <thead>\n",
       "    <tr style=\"text-align: right;\">\n",
       "      <th></th>\n",
       "      <th>Accuracy</th>\n",
       "      <th>Balanced Accuracy</th>\n",
       "      <th>ROC AUC</th>\n",
       "      <th>F1 Score</th>\n",
       "      <th>Time Taken</th>\n",
       "    </tr>\n",
       "    <tr>\n",
       "      <th>Model</th>\n",
       "      <th></th>\n",
       "      <th></th>\n",
       "      <th></th>\n",
       "      <th></th>\n",
       "      <th></th>\n",
       "    </tr>\n",
       "  </thead>\n",
       "  <tbody>\n",
       "    <tr>\n",
       "      <th>RandomForestClassifier</th>\n",
       "      <td>0.84</td>\n",
       "      <td>0.83</td>\n",
       "      <td>0.83</td>\n",
       "      <td>0.84</td>\n",
       "      <td>0.59</td>\n",
       "    </tr>\n",
       "    <tr>\n",
       "      <th>ExtraTreesClassifier</th>\n",
       "      <td>0.84</td>\n",
       "      <td>0.83</td>\n",
       "      <td>0.83</td>\n",
       "      <td>0.84</td>\n",
       "      <td>0.69</td>\n",
       "    </tr>\n",
       "    <tr>\n",
       "      <th>NuSVC</th>\n",
       "      <td>0.83</td>\n",
       "      <td>0.82</td>\n",
       "      <td>0.82</td>\n",
       "      <td>0.83</td>\n",
       "      <td>9.03</td>\n",
       "    </tr>\n",
       "    <tr>\n",
       "      <th>LGBMClassifier</th>\n",
       "      <td>0.82</td>\n",
       "      <td>0.82</td>\n",
       "      <td>0.82</td>\n",
       "      <td>0.82</td>\n",
       "      <td>0.49</td>\n",
       "    </tr>\n",
       "    <tr>\n",
       "      <th>XGBClassifier</th>\n",
       "      <td>0.82</td>\n",
       "      <td>0.82</td>\n",
       "      <td>0.82</td>\n",
       "      <td>0.82</td>\n",
       "      <td>1.09</td>\n",
       "    </tr>\n",
       "    <tr>\n",
       "      <th>SVC</th>\n",
       "      <td>0.82</td>\n",
       "      <td>0.82</td>\n",
       "      <td>0.82</td>\n",
       "      <td>0.82</td>\n",
       "      <td>8.06</td>\n",
       "    </tr>\n",
       "    <tr>\n",
       "      <th>BaggingClassifier</th>\n",
       "      <td>0.82</td>\n",
       "      <td>0.82</td>\n",
       "      <td>0.82</td>\n",
       "      <td>0.82</td>\n",
       "      <td>1.17</td>\n",
       "    </tr>\n",
       "    <tr>\n",
       "      <th>QuadraticDiscriminantAnalysis</th>\n",
       "      <td>0.80</td>\n",
       "      <td>0.79</td>\n",
       "      <td>0.79</td>\n",
       "      <td>0.79</td>\n",
       "      <td>1.00</td>\n",
       "    </tr>\n",
       "    <tr>\n",
       "      <th>KNeighborsClassifier</th>\n",
       "      <td>0.78</td>\n",
       "      <td>0.78</td>\n",
       "      <td>0.78</td>\n",
       "      <td>0.78</td>\n",
       "      <td>2.86</td>\n",
       "    </tr>\n",
       "    <tr>\n",
       "      <th>DecisionTreeClassifier</th>\n",
       "      <td>0.78</td>\n",
       "      <td>0.78</td>\n",
       "      <td>0.78</td>\n",
       "      <td>0.78</td>\n",
       "      <td>0.24</td>\n",
       "    </tr>\n",
       "  </tbody>\n",
       "</table>\n",
       "</div>"
      ],
      "text/plain": [
       "                               Accuracy  Balanced Accuracy  ROC AUC  F1 Score  \\\n",
       "Model                                                                           \n",
       "RandomForestClassifier             0.84               0.83     0.83      0.84   \n",
       "ExtraTreesClassifier               0.84               0.83     0.83      0.84   \n",
       "NuSVC                              0.83               0.82     0.82      0.83   \n",
       "LGBMClassifier                     0.82               0.82     0.82      0.82   \n",
       "XGBClassifier                      0.82               0.82     0.82      0.82   \n",
       "SVC                                0.82               0.82     0.82      0.82   \n",
       "BaggingClassifier                  0.82               0.82     0.82      0.82   \n",
       "QuadraticDiscriminantAnalysis      0.80               0.79     0.79      0.79   \n",
       "KNeighborsClassifier               0.78               0.78     0.78      0.78   \n",
       "DecisionTreeClassifier             0.78               0.78     0.78      0.78   \n",
       "\n",
       "                               Time Taken  \n",
       "Model                                      \n",
       "RandomForestClassifier               0.59  \n",
       "ExtraTreesClassifier                 0.69  \n",
       "NuSVC                                9.03  \n",
       "LGBMClassifier                       0.49  \n",
       "XGBClassifier                        1.09  \n",
       "SVC                                  8.06  \n",
       "BaggingClassifier                    1.17  \n",
       "QuadraticDiscriminantAnalysis        1.00  \n",
       "KNeighborsClassifier                 2.86  \n",
       "DecisionTreeClassifier               0.24  "
      ]
     },
     "execution_count": 56,
     "metadata": {},
     "output_type": "execute_result"
    }
   ],
   "source": [
    "predictions10.sort_values(by=\"F1 Score\", ascending=False).head(10)"
   ]
  },
  {
   "cell_type": "code",
   "execution_count": 57,
   "id": "2aae7b7a",
   "metadata": {
    "execution": {
     "iopub.execute_input": "2022-10-16T12:38:36.709949Z",
     "iopub.status.busy": "2022-10-16T12:38:36.709848Z",
     "iopub.status.idle": "2022-10-16T12:38:36.712007Z",
     "shell.execute_reply": "2022-10-16T12:38:36.711762Z"
    }
   },
   "outputs": [],
   "source": [
    "predictions10.to_csv('LazyPredict_MorganF_1Dadded.csv')"
   ]
  },
  {
   "cell_type": "code",
   "execution_count": 58,
   "id": "d60089d8",
   "metadata": {
    "execution": {
     "iopub.execute_input": "2022-10-16T12:38:36.713094Z",
     "iopub.status.busy": "2022-10-16T12:38:36.712994Z",
     "iopub.status.idle": "2022-10-16T12:38:36.728484Z",
     "shell.execute_reply": "2022-10-16T12:38:36.728192Z"
    }
   },
   "outputs": [
    {
     "data": {
      "text/plain": [
       "(4492, 1033)"
      ]
     },
     "execution_count": 58,
     "metadata": {},
     "output_type": "execute_result"
    }
   ],
   "source": [
    "fp = np.array(list((df1['fp_MAP4']))).astype(float)\n",
    "oneD = np.array((df1[['molecular_weight', 'n_rot','n_heavy', 'n_hba', 'n_hbd', 'logp', 'num_ar', 'num_sa', 'num_alip' ]])).astype(float)\n",
    "X11 = np.column_stack((fp,oneD))\n",
    "Y11 = df1[\"activity\"].values\n",
    "X11.shape"
   ]
  },
  {
   "cell_type": "code",
   "execution_count": 59,
   "id": "2fb79272",
   "metadata": {
    "execution": {
     "iopub.execute_input": "2022-10-16T12:38:36.729796Z",
     "iopub.status.busy": "2022-10-16T12:38:36.729688Z",
     "iopub.status.idle": "2022-10-16T12:38:36.735284Z",
     "shell.execute_reply": "2022-10-16T12:38:36.735021Z"
    }
   },
   "outputs": [
    {
     "name": "stdout",
     "output_type": "stream",
     "text": [
      "Shape of training data: (3593, 1033)\n",
      "Shape of test data: (899, 1033)\n"
     ]
    }
   ],
   "source": [
    "# Split the data into training and test set\n",
    "# Perform data splitting using 80/20 ratio\n",
    "X_train11, X_test11, Y_train11, Y_test11 = train_test_split(X11, Y11, test_size=0.2, random_state=42)\n",
    "\n",
    "# Print the shape of training and testing data\n",
    "print(\"Shape of training data:\", X_train11.shape)\n",
    "print(\"Shape of test data:\", X_test11.shape)\n",
    "# NBVAL_CHECK_OUTPUT"
   ]
  },
  {
   "cell_type": "code",
   "execution_count": 60,
   "id": "6f6d94f8",
   "metadata": {
    "execution": {
     "iopub.execute_input": "2022-10-16T12:38:36.736456Z",
     "iopub.status.busy": "2022-10-16T12:38:36.736350Z",
     "iopub.status.idle": "2022-10-16T12:42:42.991062Z",
     "shell.execute_reply": "2022-10-16T12:42:42.990719Z"
    }
   },
   "outputs": [
    {
     "name": "stderr",
     "output_type": "stream",
     "text": [
      " 90%|████████████████████████████████████████████████████████████████████████████████████████████████████████████████████████████████████████████████████████████                  | 26/29 [01:04<00:09,  3.19s/it]"
     ]
    },
    {
     "name": "stdout",
     "output_type": "stream",
     "text": [
      "[17:01:27] WARNING: ../src/learner.cc:1115: Starting in XGBoost 1.3.0, the default evaluation metric used with the objective 'binary:logistic' was changed from 'error' to 'logloss'. Explicitly set eval_metric if you'd like to restore the old behavior.\n"
     ]
    },
    {
     "name": "stderr",
     "output_type": "stream",
     "text": [
      "100%|██████████████████████████████████████████████████████████████████████████████████████████████████████████████████████████████████████████████████████████████████████████████| 29/29 [01:08<00:00,  2.37s/it]\n"
     ]
    }
   ],
   "source": [
    "clf11 = LazyClassifier(verbose=0,ignore_warnings=True, custom_metric=None)\n",
    "models11, predictions11 = clf11.fit(X_train11, X_test11, Y_train11, Y_test11)"
   ]
  },
  {
   "cell_type": "code",
   "execution_count": 61,
   "id": "784ffe77",
   "metadata": {
    "execution": {
     "iopub.execute_input": "2022-10-16T12:42:42.992419Z",
     "iopub.status.busy": "2022-10-16T12:42:42.992277Z",
     "iopub.status.idle": "2022-10-16T12:42:42.996930Z",
     "shell.execute_reply": "2022-10-16T12:42:42.996645Z"
    }
   },
   "outputs": [
    {
     "data": {
      "text/html": [
       "<div>\n",
       "<style scoped>\n",
       "    .dataframe tbody tr th:only-of-type {\n",
       "        vertical-align: middle;\n",
       "    }\n",
       "\n",
       "    .dataframe tbody tr th {\n",
       "        vertical-align: top;\n",
       "    }\n",
       "\n",
       "    .dataframe thead th {\n",
       "        text-align: right;\n",
       "    }\n",
       "</style>\n",
       "<table border=\"1\" class=\"dataframe\">\n",
       "  <thead>\n",
       "    <tr style=\"text-align: right;\">\n",
       "      <th></th>\n",
       "      <th>Accuracy</th>\n",
       "      <th>Balanced Accuracy</th>\n",
       "      <th>ROC AUC</th>\n",
       "      <th>F1 Score</th>\n",
       "      <th>Time Taken</th>\n",
       "    </tr>\n",
       "    <tr>\n",
       "      <th>Model</th>\n",
       "      <th></th>\n",
       "      <th></th>\n",
       "      <th></th>\n",
       "      <th></th>\n",
       "      <th></th>\n",
       "    </tr>\n",
       "  </thead>\n",
       "  <tbody>\n",
       "    <tr>\n",
       "      <th>RandomForestClassifier</th>\n",
       "      <td>0.83</td>\n",
       "      <td>0.83</td>\n",
       "      <td>0.83</td>\n",
       "      <td>0.83</td>\n",
       "      <td>3.84</td>\n",
       "    </tr>\n",
       "    <tr>\n",
       "      <th>LGBMClassifier</th>\n",
       "      <td>0.83</td>\n",
       "      <td>0.82</td>\n",
       "      <td>0.82</td>\n",
       "      <td>0.83</td>\n",
       "      <td>2.59</td>\n",
       "    </tr>\n",
       "    <tr>\n",
       "      <th>XGBClassifier</th>\n",
       "      <td>0.82</td>\n",
       "      <td>0.82</td>\n",
       "      <td>0.82</td>\n",
       "      <td>0.82</td>\n",
       "      <td>2.00</td>\n",
       "    </tr>\n",
       "    <tr>\n",
       "      <th>ExtraTreesClassifier</th>\n",
       "      <td>0.81</td>\n",
       "      <td>0.81</td>\n",
       "      <td>0.81</td>\n",
       "      <td>0.81</td>\n",
       "      <td>0.86</td>\n",
       "    </tr>\n",
       "    <tr>\n",
       "      <th>KNeighborsClassifier</th>\n",
       "      <td>0.81</td>\n",
       "      <td>0.80</td>\n",
       "      <td>0.80</td>\n",
       "      <td>0.81</td>\n",
       "      <td>2.96</td>\n",
       "    </tr>\n",
       "    <tr>\n",
       "      <th>NuSVC</th>\n",
       "      <td>0.79</td>\n",
       "      <td>0.79</td>\n",
       "      <td>0.79</td>\n",
       "      <td>0.79</td>\n",
       "      <td>9.30</td>\n",
       "    </tr>\n",
       "    <tr>\n",
       "      <th>SVC</th>\n",
       "      <td>0.79</td>\n",
       "      <td>0.78</td>\n",
       "      <td>0.78</td>\n",
       "      <td>0.79</td>\n",
       "      <td>8.41</td>\n",
       "    </tr>\n",
       "    <tr>\n",
       "      <th>BaggingClassifier</th>\n",
       "      <td>0.77</td>\n",
       "      <td>0.77</td>\n",
       "      <td>0.77</td>\n",
       "      <td>0.77</td>\n",
       "      <td>13.73</td>\n",
       "    </tr>\n",
       "    <tr>\n",
       "      <th>QuadraticDiscriminantAnalysis</th>\n",
       "      <td>0.76</td>\n",
       "      <td>0.76</td>\n",
       "      <td>0.76</td>\n",
       "      <td>0.76</td>\n",
       "      <td>1.01</td>\n",
       "    </tr>\n",
       "    <tr>\n",
       "      <th>DecisionTreeClassifier</th>\n",
       "      <td>0.73</td>\n",
       "      <td>0.73</td>\n",
       "      <td>0.73</td>\n",
       "      <td>0.73</td>\n",
       "      <td>2.52</td>\n",
       "    </tr>\n",
       "  </tbody>\n",
       "</table>\n",
       "</div>"
      ],
      "text/plain": [
       "                               Accuracy  Balanced Accuracy  ROC AUC  F1 Score  \\\n",
       "Model                                                                           \n",
       "RandomForestClassifier             0.83               0.83     0.83      0.83   \n",
       "LGBMClassifier                     0.83               0.82     0.82      0.83   \n",
       "XGBClassifier                      0.82               0.82     0.82      0.82   \n",
       "ExtraTreesClassifier               0.81               0.81     0.81      0.81   \n",
       "KNeighborsClassifier               0.81               0.80     0.80      0.81   \n",
       "NuSVC                              0.79               0.79     0.79      0.79   \n",
       "SVC                                0.79               0.78     0.78      0.79   \n",
       "BaggingClassifier                  0.77               0.77     0.77      0.77   \n",
       "QuadraticDiscriminantAnalysis      0.76               0.76     0.76      0.76   \n",
       "DecisionTreeClassifier             0.73               0.73     0.73      0.73   \n",
       "\n",
       "                               Time Taken  \n",
       "Model                                      \n",
       "RandomForestClassifier               3.84  \n",
       "LGBMClassifier                       2.59  \n",
       "XGBClassifier                        2.00  \n",
       "ExtraTreesClassifier                 0.86  \n",
       "KNeighborsClassifier                 2.96  \n",
       "NuSVC                                9.30  \n",
       "SVC                                  8.41  \n",
       "BaggingClassifier                   13.73  \n",
       "QuadraticDiscriminantAnalysis        1.01  \n",
       "DecisionTreeClassifier               2.52  "
      ]
     },
     "execution_count": 61,
     "metadata": {},
     "output_type": "execute_result"
    }
   ],
   "source": [
    "predictions11.sort_values(by=\"F1 Score\", ascending=False).head(10)"
   ]
  },
  {
   "cell_type": "code",
   "execution_count": 62,
   "id": "0da625b4",
   "metadata": {
    "execution": {
     "iopub.execute_input": "2022-10-16T12:42:42.998071Z",
     "iopub.status.busy": "2022-10-16T12:42:42.997948Z",
     "iopub.status.idle": "2022-10-16T12:42:43.000200Z",
     "shell.execute_reply": "2022-10-16T12:42:42.999917Z"
    }
   },
   "outputs": [],
   "source": [
    "predictions11.to_csv('LazyPredict_MAP4_1Dadded.csv')"
   ]
  },
  {
   "cell_type": "markdown",
   "id": "09f734dd",
   "metadata": {},
   "source": [
    "### By combining 1D descriptors - 9 of them -  with fingerprints of 2048 bits"
   ]
  },
  {
   "cell_type": "code",
   "execution_count": 63,
   "id": "8b84c096",
   "metadata": {
    "execution": {
     "iopub.execute_input": "2022-10-16T12:42:43.001411Z",
     "iopub.status.busy": "2022-10-16T12:42:43.001291Z",
     "iopub.status.idle": "2022-10-16T12:42:43.024950Z",
     "shell.execute_reply": "2022-10-16T12:42:43.024617Z"
    }
   },
   "outputs": [
    {
     "data": {
      "text/plain": [
       "(4492, 2057)"
      ]
     },
     "execution_count": 63,
     "metadata": {},
     "output_type": "execute_result"
    }
   ],
   "source": [
    "#with Morgan 2048 bits fingerprints\n",
    "fp = np.array(list((df2['fp_Morgan3']))).astype(float)\n",
    "oneD = np.array((df2[['molecular_weight', 'n_rot','n_heavy', 'n_hba', 'n_hbd', 'logp', 'num_ar', 'num_sa', 'num_alip' ]])).astype(float)\n",
    "X12 = np.column_stack((fp,oneD))\n",
    "Y12 = df2[\"activity\"].values\n",
    "X12.shape"
   ]
  },
  {
   "cell_type": "code",
   "execution_count": 64,
   "id": "4defeadf",
   "metadata": {
    "execution": {
     "iopub.execute_input": "2022-10-16T12:42:43.026250Z",
     "iopub.status.busy": "2022-10-16T12:42:43.026120Z",
     "iopub.status.idle": "2022-10-16T12:42:43.037284Z",
     "shell.execute_reply": "2022-10-16T12:42:43.036950Z"
    }
   },
   "outputs": [
    {
     "name": "stdout",
     "output_type": "stream",
     "text": [
      "Shape of training data: (3593, 2057)\n",
      "Shape of test data: (899, 2057)\n"
     ]
    }
   ],
   "source": [
    "# Split the data into training and test set\n",
    "# Perform data splitting using 80/20 ratio\n",
    "X_train12, X_test12, Y_train12, Y_test12 = train_test_split(X12, Y12, test_size=0.2, random_state=42)\n",
    "\n",
    "# Print the shape of training and testing data\n",
    "print(\"Shape of training data:\", X_train12.shape)\n",
    "print(\"Shape of test data:\", X_test12.shape)\n",
    "# NBVAL_CHECK_OUTPUT"
   ]
  },
  {
   "cell_type": "code",
   "execution_count": 65,
   "id": "e9d7d547",
   "metadata": {
    "execution": {
     "iopub.execute_input": "2022-10-16T12:42:43.038614Z",
     "iopub.status.busy": "2022-10-16T12:42:43.038486Z",
     "iopub.status.idle": "2022-10-16T12:46:49.467003Z",
     "shell.execute_reply": "2022-10-16T12:46:49.466631Z"
    }
   },
   "outputs": [
    {
     "name": "stderr",
     "output_type": "stream",
     "text": [
      " 90%|████████████████████████████████████████████████████████████████████████████████████████████████████████████████████████████████████████████████████████████                  | 26/29 [01:24<00:19,  6.57s/it]"
     ]
    },
    {
     "name": "stdout",
     "output_type": "stream",
     "text": [
      "[17:02:56] WARNING: ../src/learner.cc:1115: Starting in XGBoost 1.3.0, the default evaluation metric used with the objective 'binary:logistic' was changed from 'error' to 'logloss'. Explicitly set eval_metric if you'd like to restore the old behavior.\n"
     ]
    },
    {
     "name": "stderr",
     "output_type": "stream",
     "text": [
      "100%|██████████████████████████████████████████████████████████████████████████████████████████████████████████████████████████████████████████████████████████████████████████████| 29/29 [01:27<00:00,  3.02s/it]\n"
     ]
    }
   ],
   "source": [
    "clf12 = LazyClassifier(verbose=0,ignore_warnings=True, custom_metric=None)\n",
    "models12, predictions12 = clf12.fit(X_train12, X_test12, Y_train12, Y_test12)"
   ]
  },
  {
   "cell_type": "code",
   "execution_count": 66,
   "id": "f30ead53",
   "metadata": {
    "execution": {
     "iopub.execute_input": "2022-10-16T12:46:49.468526Z",
     "iopub.status.busy": "2022-10-16T12:46:49.468337Z",
     "iopub.status.idle": "2022-10-16T12:46:49.474331Z",
     "shell.execute_reply": "2022-10-16T12:46:49.474016Z"
    }
   },
   "outputs": [
    {
     "data": {
      "text/html": [
       "<div>\n",
       "<style scoped>\n",
       "    .dataframe tbody tr th:only-of-type {\n",
       "        vertical-align: middle;\n",
       "    }\n",
       "\n",
       "    .dataframe tbody tr th {\n",
       "        vertical-align: top;\n",
       "    }\n",
       "\n",
       "    .dataframe thead th {\n",
       "        text-align: right;\n",
       "    }\n",
       "</style>\n",
       "<table border=\"1\" class=\"dataframe\">\n",
       "  <thead>\n",
       "    <tr style=\"text-align: right;\">\n",
       "      <th></th>\n",
       "      <th>Accuracy</th>\n",
       "      <th>Balanced Accuracy</th>\n",
       "      <th>ROC AUC</th>\n",
       "      <th>F1 Score</th>\n",
       "      <th>Time Taken</th>\n",
       "    </tr>\n",
       "    <tr>\n",
       "      <th>Model</th>\n",
       "      <th></th>\n",
       "      <th></th>\n",
       "      <th></th>\n",
       "      <th></th>\n",
       "      <th></th>\n",
       "    </tr>\n",
       "  </thead>\n",
       "  <tbody>\n",
       "    <tr>\n",
       "      <th>ExtraTreesClassifier</th>\n",
       "      <td>0.87</td>\n",
       "      <td>0.87</td>\n",
       "      <td>0.87</td>\n",
       "      <td>0.87</td>\n",
       "      <td>1.12</td>\n",
       "    </tr>\n",
       "    <tr>\n",
       "      <th>RandomForestClassifier</th>\n",
       "      <td>0.85</td>\n",
       "      <td>0.85</td>\n",
       "      <td>0.85</td>\n",
       "      <td>0.85</td>\n",
       "      <td>0.90</td>\n",
       "    </tr>\n",
       "    <tr>\n",
       "      <th>LGBMClassifier</th>\n",
       "      <td>0.85</td>\n",
       "      <td>0.84</td>\n",
       "      <td>0.84</td>\n",
       "      <td>0.85</td>\n",
       "      <td>0.96</td>\n",
       "    </tr>\n",
       "    <tr>\n",
       "      <th>XGBClassifier</th>\n",
       "      <td>0.84</td>\n",
       "      <td>0.84</td>\n",
       "      <td>0.84</td>\n",
       "      <td>0.84</td>\n",
       "      <td>2.04</td>\n",
       "    </tr>\n",
       "    <tr>\n",
       "      <th>BaggingClassifier</th>\n",
       "      <td>0.83</td>\n",
       "      <td>0.84</td>\n",
       "      <td>0.84</td>\n",
       "      <td>0.83</td>\n",
       "      <td>2.19</td>\n",
       "    </tr>\n",
       "    <tr>\n",
       "      <th>NuSVC</th>\n",
       "      <td>0.83</td>\n",
       "      <td>0.82</td>\n",
       "      <td>0.82</td>\n",
       "      <td>0.83</td>\n",
       "      <td>19.93</td>\n",
       "    </tr>\n",
       "    <tr>\n",
       "      <th>SVC</th>\n",
       "      <td>0.82</td>\n",
       "      <td>0.82</td>\n",
       "      <td>0.82</td>\n",
       "      <td>0.82</td>\n",
       "      <td>18.07</td>\n",
       "    </tr>\n",
       "    <tr>\n",
       "      <th>ExtraTreeClassifier</th>\n",
       "      <td>0.80</td>\n",
       "      <td>0.80</td>\n",
       "      <td>0.80</td>\n",
       "      <td>0.80</td>\n",
       "      <td>0.16</td>\n",
       "    </tr>\n",
       "    <tr>\n",
       "      <th>CalibratedClassifierCV</th>\n",
       "      <td>0.79</td>\n",
       "      <td>0.79</td>\n",
       "      <td>0.79</td>\n",
       "      <td>0.79</td>\n",
       "      <td>17.39</td>\n",
       "    </tr>\n",
       "    <tr>\n",
       "      <th>SGDClassifier</th>\n",
       "      <td>0.79</td>\n",
       "      <td>0.79</td>\n",
       "      <td>0.79</td>\n",
       "      <td>0.79</td>\n",
       "      <td>0.37</td>\n",
       "    </tr>\n",
       "  </tbody>\n",
       "</table>\n",
       "</div>"
      ],
      "text/plain": [
       "                        Accuracy  Balanced Accuracy  ROC AUC  F1 Score  \\\n",
       "Model                                                                    \n",
       "ExtraTreesClassifier        0.87               0.87     0.87      0.87   \n",
       "RandomForestClassifier      0.85               0.85     0.85      0.85   \n",
       "LGBMClassifier              0.85               0.84     0.84      0.85   \n",
       "XGBClassifier               0.84               0.84     0.84      0.84   \n",
       "BaggingClassifier           0.83               0.84     0.84      0.83   \n",
       "NuSVC                       0.83               0.82     0.82      0.83   \n",
       "SVC                         0.82               0.82     0.82      0.82   \n",
       "ExtraTreeClassifier         0.80               0.80     0.80      0.80   \n",
       "CalibratedClassifierCV      0.79               0.79     0.79      0.79   \n",
       "SGDClassifier               0.79               0.79     0.79      0.79   \n",
       "\n",
       "                        Time Taken  \n",
       "Model                               \n",
       "ExtraTreesClassifier          1.12  \n",
       "RandomForestClassifier        0.90  \n",
       "LGBMClassifier                0.96  \n",
       "XGBClassifier                 2.04  \n",
       "BaggingClassifier             2.19  \n",
       "NuSVC                        19.93  \n",
       "SVC                          18.07  \n",
       "ExtraTreeClassifier           0.16  \n",
       "CalibratedClassifierCV       17.39  \n",
       "SGDClassifier                 0.37  "
      ]
     },
     "execution_count": 66,
     "metadata": {},
     "output_type": "execute_result"
    }
   ],
   "source": [
    "predictions12.sort_values(by=\"F1 Score\", ascending=False).head(10)"
   ]
  },
  {
   "cell_type": "code",
   "execution_count": 67,
   "id": "a90d5bc1",
   "metadata": {
    "execution": {
     "iopub.execute_input": "2022-10-16T12:46:49.475695Z",
     "iopub.status.busy": "2022-10-16T12:46:49.475466Z",
     "iopub.status.idle": "2022-10-16T12:46:49.478067Z",
     "shell.execute_reply": "2022-10-16T12:46:49.477775Z"
    }
   },
   "outputs": [],
   "source": [
    "predictions12.to_csv('LazyPredict_Morgan3_2048_1Dadded.csv')"
   ]
  },
  {
   "cell_type": "code",
   "execution_count": 68,
   "id": "0ebda2df",
   "metadata": {
    "execution": {
     "iopub.execute_input": "2022-10-16T12:46:49.479403Z",
     "iopub.status.busy": "2022-10-16T12:46:49.479169Z",
     "iopub.status.idle": "2022-10-16T12:46:49.507860Z",
     "shell.execute_reply": "2022-10-16T12:46:49.507509Z"
    }
   },
   "outputs": [
    {
     "data": {
      "text/plain": [
       "(4492, 2057)"
      ]
     },
     "execution_count": 68,
     "metadata": {},
     "output_type": "execute_result"
    }
   ],
   "source": [
    "#with Morgan 2048 bits fingerprints with feautures\n",
    "fp = np.array(list((df2['fp_MorganF']))).astype(float)\n",
    "oneD = np.array((df2[['molecular_weight', 'n_rot','n_heavy', 'n_hba', 'n_hbd', 'logp', 'num_ar', 'num_sa', 'num_alip' ]])).astype(float)\n",
    "X13 = np.column_stack((fp,oneD))\n",
    "Y13 = df2[\"activity\"].values\n",
    "X13.shape"
   ]
  },
  {
   "cell_type": "code",
   "execution_count": 69,
   "id": "0121270b",
   "metadata": {
    "execution": {
     "iopub.execute_input": "2022-10-16T12:46:49.509229Z",
     "iopub.status.busy": "2022-10-16T12:46:49.509049Z",
     "iopub.status.idle": "2022-10-16T12:46:49.521523Z",
     "shell.execute_reply": "2022-10-16T12:46:49.521222Z"
    }
   },
   "outputs": [
    {
     "name": "stdout",
     "output_type": "stream",
     "text": [
      "Shape of training data: (3593, 2057)\n",
      "Shape of test data: (899, 2057)\n"
     ]
    }
   ],
   "source": [
    "# Split the data into training and test set\n",
    "# Perform data splitting using 80/20 ratio\n",
    "X_train13, X_test13, Y_train13, Y_test13 = train_test_split(X13, Y13, test_size=0.2, random_state=42)\n",
    "\n",
    "# Print the shape of training and testing data\n",
    "print(\"Shape of training data:\", X_train13.shape)\n",
    "print(\"Shape of test data:\", X_test13.shape)\n",
    "# NBVAL_CHECK_OUTPUT"
   ]
  },
  {
   "cell_type": "code",
   "execution_count": 70,
   "id": "4f03146f",
   "metadata": {
    "execution": {
     "iopub.execute_input": "2022-10-16T12:46:49.522768Z",
     "iopub.status.busy": "2022-10-16T12:46:49.522660Z",
     "iopub.status.idle": "2022-10-16T12:50:51.122974Z",
     "shell.execute_reply": "2022-10-16T12:50:51.122668Z"
    }
   },
   "outputs": [
    {
     "name": "stderr",
     "output_type": "stream",
     "text": [
      " 90%|████████████████████████████████████████████████████████████████████████████████████████████████████████████████████████████████████████████████████████████                  | 26/29 [01:22<00:18,  6.22s/it]"
     ]
    },
    {
     "name": "stdout",
     "output_type": "stream",
     "text": [
      "[17:04:22] WARNING: ../src/learner.cc:1115: Starting in XGBoost 1.3.0, the default evaluation metric used with the objective 'binary:logistic' was changed from 'error' to 'logloss'. Explicitly set eval_metric if you'd like to restore the old behavior.\n"
     ]
    },
    {
     "name": "stderr",
     "output_type": "stream",
     "text": [
      "100%|██████████████████████████████████████████████████████████████████████████████████████████████████████████████████████████████████████████████████████████████████████████████| 29/29 [01:26<00:00,  2.98s/it]\n"
     ]
    }
   ],
   "source": [
    "clf13 = LazyClassifier(verbose=0,ignore_warnings=True, custom_metric=None)\n",
    "models13, predictions13 = clf13.fit(X_train13, X_test13, Y_train13, Y_test13)"
   ]
  },
  {
   "cell_type": "code",
   "execution_count": 71,
   "id": "773b23e9",
   "metadata": {
    "execution": {
     "iopub.execute_input": "2022-10-16T12:50:51.124286Z",
     "iopub.status.busy": "2022-10-16T12:50:51.124176Z",
     "iopub.status.idle": "2022-10-16T12:50:51.128731Z",
     "shell.execute_reply": "2022-10-16T12:50:51.128486Z"
    }
   },
   "outputs": [
    {
     "data": {
      "text/html": [
       "<div>\n",
       "<style scoped>\n",
       "    .dataframe tbody tr th:only-of-type {\n",
       "        vertical-align: middle;\n",
       "    }\n",
       "\n",
       "    .dataframe tbody tr th {\n",
       "        vertical-align: top;\n",
       "    }\n",
       "\n",
       "    .dataframe thead th {\n",
       "        text-align: right;\n",
       "    }\n",
       "</style>\n",
       "<table border=\"1\" class=\"dataframe\">\n",
       "  <thead>\n",
       "    <tr style=\"text-align: right;\">\n",
       "      <th></th>\n",
       "      <th>Accuracy</th>\n",
       "      <th>Balanced Accuracy</th>\n",
       "      <th>ROC AUC</th>\n",
       "      <th>F1 Score</th>\n",
       "      <th>Time Taken</th>\n",
       "    </tr>\n",
       "    <tr>\n",
       "      <th>Model</th>\n",
       "      <th></th>\n",
       "      <th></th>\n",
       "      <th></th>\n",
       "      <th></th>\n",
       "      <th></th>\n",
       "    </tr>\n",
       "  </thead>\n",
       "  <tbody>\n",
       "    <tr>\n",
       "      <th>XGBClassifier</th>\n",
       "      <td>0.85</td>\n",
       "      <td>0.85</td>\n",
       "      <td>0.85</td>\n",
       "      <td>0.85</td>\n",
       "      <td>2.77</td>\n",
       "    </tr>\n",
       "    <tr>\n",
       "      <th>RandomForestClassifier</th>\n",
       "      <td>0.85</td>\n",
       "      <td>0.85</td>\n",
       "      <td>0.85</td>\n",
       "      <td>0.85</td>\n",
       "      <td>0.87</td>\n",
       "    </tr>\n",
       "    <tr>\n",
       "      <th>BaggingClassifier</th>\n",
       "      <td>0.84</td>\n",
       "      <td>0.84</td>\n",
       "      <td>0.84</td>\n",
       "      <td>0.84</td>\n",
       "      <td>2.10</td>\n",
       "    </tr>\n",
       "    <tr>\n",
       "      <th>ExtraTreesClassifier</th>\n",
       "      <td>0.84</td>\n",
       "      <td>0.84</td>\n",
       "      <td>0.84</td>\n",
       "      <td>0.84</td>\n",
       "      <td>1.05</td>\n",
       "    </tr>\n",
       "    <tr>\n",
       "      <th>LGBMClassifier</th>\n",
       "      <td>0.83</td>\n",
       "      <td>0.84</td>\n",
       "      <td>0.84</td>\n",
       "      <td>0.83</td>\n",
       "      <td>0.58</td>\n",
       "    </tr>\n",
       "    <tr>\n",
       "      <th>NuSVC</th>\n",
       "      <td>0.82</td>\n",
       "      <td>0.82</td>\n",
       "      <td>0.82</td>\n",
       "      <td>0.82</td>\n",
       "      <td>19.01</td>\n",
       "    </tr>\n",
       "    <tr>\n",
       "      <th>SVC</th>\n",
       "      <td>0.82</td>\n",
       "      <td>0.82</td>\n",
       "      <td>0.82</td>\n",
       "      <td>0.82</td>\n",
       "      <td>17.01</td>\n",
       "    </tr>\n",
       "    <tr>\n",
       "      <th>DecisionTreeClassifier</th>\n",
       "      <td>0.81</td>\n",
       "      <td>0.81</td>\n",
       "      <td>0.81</td>\n",
       "      <td>0.81</td>\n",
       "      <td>0.44</td>\n",
       "    </tr>\n",
       "    <tr>\n",
       "      <th>KNeighborsClassifier</th>\n",
       "      <td>0.80</td>\n",
       "      <td>0.80</td>\n",
       "      <td>0.80</td>\n",
       "      <td>0.80</td>\n",
       "      <td>5.60</td>\n",
       "    </tr>\n",
       "    <tr>\n",
       "      <th>ExtraTreeClassifier</th>\n",
       "      <td>0.79</td>\n",
       "      <td>0.79</td>\n",
       "      <td>0.79</td>\n",
       "      <td>0.79</td>\n",
       "      <td>0.15</td>\n",
       "    </tr>\n",
       "  </tbody>\n",
       "</table>\n",
       "</div>"
      ],
      "text/plain": [
       "                        Accuracy  Balanced Accuracy  ROC AUC  F1 Score  \\\n",
       "Model                                                                    \n",
       "XGBClassifier               0.85               0.85     0.85      0.85   \n",
       "RandomForestClassifier      0.85               0.85     0.85      0.85   \n",
       "BaggingClassifier           0.84               0.84     0.84      0.84   \n",
       "ExtraTreesClassifier        0.84               0.84     0.84      0.84   \n",
       "LGBMClassifier              0.83               0.84     0.84      0.83   \n",
       "NuSVC                       0.82               0.82     0.82      0.82   \n",
       "SVC                         0.82               0.82     0.82      0.82   \n",
       "DecisionTreeClassifier      0.81               0.81     0.81      0.81   \n",
       "KNeighborsClassifier        0.80               0.80     0.80      0.80   \n",
       "ExtraTreeClassifier         0.79               0.79     0.79      0.79   \n",
       "\n",
       "                        Time Taken  \n",
       "Model                               \n",
       "XGBClassifier                 2.77  \n",
       "RandomForestClassifier        0.87  \n",
       "BaggingClassifier             2.10  \n",
       "ExtraTreesClassifier          1.05  \n",
       "LGBMClassifier                0.58  \n",
       "NuSVC                        19.01  \n",
       "SVC                          17.01  \n",
       "DecisionTreeClassifier        0.44  \n",
       "KNeighborsClassifier          5.60  \n",
       "ExtraTreeClassifier           0.15  "
      ]
     },
     "execution_count": 71,
     "metadata": {},
     "output_type": "execute_result"
    }
   ],
   "source": [
    "predictions13.sort_values(by=\"F1 Score\", ascending=False).head(10)"
   ]
  },
  {
   "cell_type": "code",
   "execution_count": 72,
   "id": "2e5d45ec",
   "metadata": {
    "execution": {
     "iopub.execute_input": "2022-10-16T12:50:51.129914Z",
     "iopub.status.busy": "2022-10-16T12:50:51.129765Z",
     "iopub.status.idle": "2022-10-16T12:50:51.131962Z",
     "shell.execute_reply": "2022-10-16T12:50:51.131708Z"
    }
   },
   "outputs": [],
   "source": [
    "predictions13.to_csv('LazyPredict_MorganF_2048_1Dadded.csv')"
   ]
  },
  {
   "cell_type": "code",
   "execution_count": 73,
   "id": "828ae4d8",
   "metadata": {
    "execution": {
     "iopub.execute_input": "2022-10-16T12:50:51.133066Z",
     "iopub.status.busy": "2022-10-16T12:50:51.132937Z",
     "iopub.status.idle": "2022-10-16T12:50:51.156867Z",
     "shell.execute_reply": "2022-10-16T12:50:51.156575Z"
    }
   },
   "outputs": [
    {
     "data": {
      "text/plain": [
       "(4492, 2057)"
      ]
     },
     "execution_count": 73,
     "metadata": {},
     "output_type": "execute_result"
    }
   ],
   "source": [
    "#with MAP4 2048 bits fingerprints\n",
    "fp = np.array(list((df2['fp_MAP4']))).astype(float)\n",
    "oneD = np.array((df2[['molecular_weight', 'n_rot','n_heavy', 'n_hba', 'n_hbd', 'logp', 'num_ar', 'num_sa', 'num_alip' ]])).astype(float)\n",
    "X14 = np.column_stack((fp,oneD))\n",
    "Y14 = df2[\"activity\"].values\n",
    "X14.shape"
   ]
  },
  {
   "cell_type": "code",
   "execution_count": 74,
   "id": "f0d6541b",
   "metadata": {
    "execution": {
     "iopub.execute_input": "2022-10-16T12:50:51.158211Z",
     "iopub.status.busy": "2022-10-16T12:50:51.158038Z",
     "iopub.status.idle": "2022-10-16T12:50:51.167061Z",
     "shell.execute_reply": "2022-10-16T12:50:51.166774Z"
    }
   },
   "outputs": [
    {
     "name": "stdout",
     "output_type": "stream",
     "text": [
      "Shape of training data: (3593, 2057)\n",
      "Shape of test data: (899, 2057)\n"
     ]
    }
   ],
   "source": [
    "# Split the data into training and test set\n",
    "# Perform data splitting using 80/20 ratio\n",
    "X_train14, X_test14, Y_train14, Y_test14 = train_test_split(X14, Y14, test_size=0.2, random_state=42)\n",
    "\n",
    "# Print the shape of training and testing data\n",
    "print(\"Shape of training data:\", X_train14.shape)\n",
    "print(\"Shape of test data:\", X_test14.shape)\n",
    "# NBVAL_CHECK_OUTPUT"
   ]
  },
  {
   "cell_type": "code",
   "execution_count": 75,
   "id": "8811fffc",
   "metadata": {
    "execution": {
     "iopub.execute_input": "2022-10-16T12:50:51.168281Z",
     "iopub.status.busy": "2022-10-16T12:50:51.168151Z",
     "iopub.status.idle": "2022-10-16T12:56:46.772078Z",
     "shell.execute_reply": "2022-10-16T12:56:46.771687Z"
    }
   },
   "outputs": [
    {
     "name": "stderr",
     "output_type": "stream",
     "text": [
      " 90%|████████████████████████████████████████████████████████████████████████████████████████████████████████████████████████████████████████████████████████████                  | 26/29 [02:11<00:20,  6.92s/it]"
     ]
    },
    {
     "name": "stdout",
     "output_type": "stream",
     "text": [
      "[17:06:37] WARNING: ../src/learner.cc:1115: Starting in XGBoost 1.3.0, the default evaluation metric used with the objective 'binary:logistic' was changed from 'error' to 'logloss'. Explicitly set eval_metric if you'd like to restore the old behavior.\n"
     ]
    },
    {
     "name": "stderr",
     "output_type": "stream",
     "text": [
      "100%|██████████████████████████████████████████████████████████████████████████████████████████████████████████████████████████████████████████████████████████████████████████████| 29/29 [02:22<00:00,  4.92s/it]\n"
     ]
    }
   ],
   "source": [
    "clf14 = LazyClassifier(verbose=0,ignore_warnings=True, custom_metric=None)\n",
    "models14, predictions14 = clf14.fit(X_train14, X_test14, Y_train14, Y_test14)"
   ]
  },
  {
   "cell_type": "code",
   "execution_count": 76,
   "id": "4966a8ab",
   "metadata": {
    "execution": {
     "iopub.execute_input": "2022-10-16T12:56:46.773508Z",
     "iopub.status.busy": "2022-10-16T12:56:46.773389Z",
     "iopub.status.idle": "2022-10-16T12:56:46.778059Z",
     "shell.execute_reply": "2022-10-16T12:56:46.777775Z"
    }
   },
   "outputs": [
    {
     "data": {
      "text/html": [
       "<div>\n",
       "<style scoped>\n",
       "    .dataframe tbody tr th:only-of-type {\n",
       "        vertical-align: middle;\n",
       "    }\n",
       "\n",
       "    .dataframe tbody tr th {\n",
       "        vertical-align: top;\n",
       "    }\n",
       "\n",
       "    .dataframe thead th {\n",
       "        text-align: right;\n",
       "    }\n",
       "</style>\n",
       "<table border=\"1\" class=\"dataframe\">\n",
       "  <thead>\n",
       "    <tr style=\"text-align: right;\">\n",
       "      <th></th>\n",
       "      <th>Accuracy</th>\n",
       "      <th>Balanced Accuracy</th>\n",
       "      <th>ROC AUC</th>\n",
       "      <th>F1 Score</th>\n",
       "      <th>Time Taken</th>\n",
       "    </tr>\n",
       "    <tr>\n",
       "      <th>Model</th>\n",
       "      <th></th>\n",
       "      <th></th>\n",
       "      <th></th>\n",
       "      <th></th>\n",
       "      <th></th>\n",
       "    </tr>\n",
       "  </thead>\n",
       "  <tbody>\n",
       "    <tr>\n",
       "      <th>LGBMClassifier</th>\n",
       "      <td>0.84</td>\n",
       "      <td>0.84</td>\n",
       "      <td>0.84</td>\n",
       "      <td>0.84</td>\n",
       "      <td>6.72</td>\n",
       "    </tr>\n",
       "    <tr>\n",
       "      <th>XGBClassifier</th>\n",
       "      <td>0.84</td>\n",
       "      <td>0.84</td>\n",
       "      <td>0.84</td>\n",
       "      <td>0.84</td>\n",
       "      <td>3.88</td>\n",
       "    </tr>\n",
       "    <tr>\n",
       "      <th>RandomForestClassifier</th>\n",
       "      <td>0.83</td>\n",
       "      <td>0.83</td>\n",
       "      <td>0.83</td>\n",
       "      <td>0.83</td>\n",
       "      <td>5.38</td>\n",
       "    </tr>\n",
       "    <tr>\n",
       "      <th>ExtraTreesClassifier</th>\n",
       "      <td>0.83</td>\n",
       "      <td>0.83</td>\n",
       "      <td>0.83</td>\n",
       "      <td>0.83</td>\n",
       "      <td>1.30</td>\n",
       "    </tr>\n",
       "    <tr>\n",
       "      <th>NuSVC</th>\n",
       "      <td>0.82</td>\n",
       "      <td>0.82</td>\n",
       "      <td>0.82</td>\n",
       "      <td>0.82</td>\n",
       "      <td>19.17</td>\n",
       "    </tr>\n",
       "    <tr>\n",
       "      <th>KNeighborsClassifier</th>\n",
       "      <td>0.81</td>\n",
       "      <td>0.80</td>\n",
       "      <td>0.80</td>\n",
       "      <td>0.80</td>\n",
       "      <td>6.14</td>\n",
       "    </tr>\n",
       "    <tr>\n",
       "      <th>SVC</th>\n",
       "      <td>0.80</td>\n",
       "      <td>0.80</td>\n",
       "      <td>0.80</td>\n",
       "      <td>0.80</td>\n",
       "      <td>18.17</td>\n",
       "    </tr>\n",
       "    <tr>\n",
       "      <th>BaggingClassifier</th>\n",
       "      <td>0.80</td>\n",
       "      <td>0.80</td>\n",
       "      <td>0.80</td>\n",
       "      <td>0.80</td>\n",
       "      <td>26.14</td>\n",
       "    </tr>\n",
       "    <tr>\n",
       "      <th>AdaBoostClassifier</th>\n",
       "      <td>0.78</td>\n",
       "      <td>0.78</td>\n",
       "      <td>0.78</td>\n",
       "      <td>0.78</td>\n",
       "      <td>15.45</td>\n",
       "    </tr>\n",
       "    <tr>\n",
       "      <th>DecisionTreeClassifier</th>\n",
       "      <td>0.76</td>\n",
       "      <td>0.76</td>\n",
       "      <td>0.76</td>\n",
       "      <td>0.76</td>\n",
       "      <td>5.42</td>\n",
       "    </tr>\n",
       "  </tbody>\n",
       "</table>\n",
       "</div>"
      ],
      "text/plain": [
       "                        Accuracy  Balanced Accuracy  ROC AUC  F1 Score  \\\n",
       "Model                                                                    \n",
       "LGBMClassifier              0.84               0.84     0.84      0.84   \n",
       "XGBClassifier               0.84               0.84     0.84      0.84   \n",
       "RandomForestClassifier      0.83               0.83     0.83      0.83   \n",
       "ExtraTreesClassifier        0.83               0.83     0.83      0.83   \n",
       "NuSVC                       0.82               0.82     0.82      0.82   \n",
       "KNeighborsClassifier        0.81               0.80     0.80      0.80   \n",
       "SVC                         0.80               0.80     0.80      0.80   \n",
       "BaggingClassifier           0.80               0.80     0.80      0.80   \n",
       "AdaBoostClassifier          0.78               0.78     0.78      0.78   \n",
       "DecisionTreeClassifier      0.76               0.76     0.76      0.76   \n",
       "\n",
       "                        Time Taken  \n",
       "Model                               \n",
       "LGBMClassifier                6.72  \n",
       "XGBClassifier                 3.88  \n",
       "RandomForestClassifier        5.38  \n",
       "ExtraTreesClassifier          1.30  \n",
       "NuSVC                        19.17  \n",
       "KNeighborsClassifier          6.14  \n",
       "SVC                          18.17  \n",
       "BaggingClassifier            26.14  \n",
       "AdaBoostClassifier           15.45  \n",
       "DecisionTreeClassifier        5.42  "
      ]
     },
     "execution_count": 76,
     "metadata": {},
     "output_type": "execute_result"
    }
   ],
   "source": [
    "predictions14.sort_values(by=\"F1 Score\", ascending=False).head(10)"
   ]
  },
  {
   "cell_type": "code",
   "execution_count": 77,
   "id": "1b336810",
   "metadata": {
    "execution": {
     "iopub.execute_input": "2022-10-16T12:56:46.779336Z",
     "iopub.status.busy": "2022-10-16T12:56:46.779111Z",
     "iopub.status.idle": "2022-10-16T12:56:46.781410Z",
     "shell.execute_reply": "2022-10-16T12:56:46.781120Z"
    }
   },
   "outputs": [],
   "source": [
    "predictions14.to_csv('LazyPredict_MAP4_2048_1Dadded.csv')"
   ]
  }
 ],
 "metadata": {
  "kernelspec": {
   "display_name": "Python 3 (ipykernel)",
   "language": "python",
   "name": "python3"
  },
  "language_info": {
   "codemirror_mode": {
    "name": "ipython",
    "version": 3
   },
   "file_extension": ".py",
   "mimetype": "text/x-python",
   "name": "python",
   "nbconvert_exporter": "python",
   "pygments_lexer": "ipython3",
   "version": "3.8.13"
  }
 },
 "nbformat": 4,
 "nbformat_minor": 5
}
