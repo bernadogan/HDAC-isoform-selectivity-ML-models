{
 "cells": [
  {
   "cell_type": "code",
   "execution_count": 9,
   "id": "a5782b42",
   "metadata": {
    "execution": {
     "iopub.execute_input": "2022-10-16T13:05:54.397755Z",
     "iopub.status.busy": "2022-10-16T13:05:54.397583Z",
     "iopub.status.idle": "2022-10-16T13:05:55.231527Z",
     "shell.execute_reply": "2022-10-16T13:05:55.231245Z"
    }
   },
   "outputs": [],
   "source": [
    "import pandas as pd\n",
    "import numpy as np\n",
    "import matplotlib.pyplot as plt\n",
    "import seaborn as sns\n",
    "from sklearn.model_selection import train_test_split\n",
    "import lazypredict\n",
    "from lazypredict.Supervised import LazyClassifier\n",
    "from pathlib import Path\n",
    "import warnings\n",
    "warnings.filterwarnings('ignore')"
   ]
  },
  {
   "cell_type": "code",
   "execution_count": 10,
   "id": "c94d26f9",
   "metadata": {
    "execution": {
     "iopub.execute_input": "2022-10-16T13:05:55.233154Z",
     "iopub.status.busy": "2022-10-16T13:05:55.232985Z",
     "iopub.status.idle": "2022-10-16T13:05:55.235194Z",
     "shell.execute_reply": "2022-10-16T13:05:55.234954Z"
    }
   },
   "outputs": [],
   "source": [
    "# Set path to this notebook\n",
    "HERE = Path(_dh[-1])\n",
    "HDAC6 = Path(HERE).resolve().parents[1]/'input'\n",
    "output = HERE/'OUTPUT'"
   ]
  },
  {
   "cell_type": "code",
   "execution_count": 11,
   "id": "16d195ac",
   "metadata": {
    "execution": {
     "iopub.execute_input": "2022-10-16T13:05:55.236560Z",
     "iopub.status.busy": "2022-10-16T13:05:55.236460Z",
     "iopub.status.idle": "2022-10-16T13:05:55.278601Z",
     "shell.execute_reply": "2022-10-16T13:05:55.278311Z"
    }
   },
   "outputs": [
    {
     "data": {
      "text/html": [
       "<div>\n",
       "<style scoped>\n",
       "    .dataframe tbody tr th:only-of-type {\n",
       "        vertical-align: middle;\n",
       "    }\n",
       "\n",
       "    .dataframe tbody tr th {\n",
       "        vertical-align: top;\n",
       "    }\n",
       "\n",
       "    .dataframe thead th {\n",
       "        text-align: right;\n",
       "    }\n",
       "</style>\n",
       "<table border=\"1\" class=\"dataframe\">\n",
       "  <thead>\n",
       "    <tr style=\"text-align: right;\">\n",
       "      <th></th>\n",
       "      <th>molecule_chembl_id</th>\n",
       "      <th>fp_MACCS</th>\n",
       "      <th>fp_Morgan3</th>\n",
       "      <th>fp_MorganF</th>\n",
       "      <th>fp_MAP4</th>\n",
       "      <th>pChEMBL_HDAC6</th>\n",
       "    </tr>\n",
       "  </thead>\n",
       "  <tbody>\n",
       "    <tr>\n",
       "      <th>0</th>\n",
       "      <td>CHEMBL3339010</td>\n",
       "      <td>[0, 0, 0, 0, 0, 0, 0, 0, 0, 0, 0, 0, 0, 0, 0, ...</td>\n",
       "      <td>[0, 0, 0, 0, 0, 0, 0, 0, 0, 0, 0, 1, 0, 0, 0, ...</td>\n",
       "      <td>[1, 1, 1, 1, 1, 0, 1, 0, 1, 0, 1, 1, 0, 0, 0, ...</td>\n",
       "      <td>[1705, 4290185, 111326, 552416, 13986880, 2298...</td>\n",
       "      <td>7.62</td>\n",
       "    </tr>\n",
       "    <tr>\n",
       "      <th>1</th>\n",
       "      <td>CHEMBL3655945</td>\n",
       "      <td>[0, 0, 0, 0, 0, 0, 0, 0, 0, 0, 0, 0, 0, 0, 0, ...</td>\n",
       "      <td>[0, 0, 0, 0, 0, 0, 0, 0, 0, 0, 0, 0, 0, 0, 0, ...</td>\n",
       "      <td>[1, 1, 1, 1, 1, 0, 1, 0, 1, 1, 0, 0, 0, 0, 0, ...</td>\n",
       "      <td>[35600637, 2478511, 10872982, 16070626, 119321...</td>\n",
       "      <td>7.72</td>\n",
       "    </tr>\n",
       "    <tr>\n",
       "      <th>2</th>\n",
       "      <td>CHEMBL4070745</td>\n",
       "      <td>[0, 0, 0, 0, 0, 0, 0, 0, 0, 0, 0, 0, 0, 0, 0, ...</td>\n",
       "      <td>[0, 0, 0, 0, 0, 0, 0, 0, 0, 0, 0, 1, 0, 1, 0, ...</td>\n",
       "      <td>[1, 1, 1, 1, 1, 0, 1, 0, 0, 0, 1, 0, 0, 0, 0, ...</td>\n",
       "      <td>[5196932, 7212973, 3844537, 7125875, 28861, 15...</td>\n",
       "      <td>8.21</td>\n",
       "    </tr>\n",
       "    <tr>\n",
       "      <th>3</th>\n",
       "      <td>CHEMBL3104851</td>\n",
       "      <td>[0, 0, 0, 0, 0, 0, 0, 0, 0, 0, 0, 0, 0, 0, 0, ...</td>\n",
       "      <td>[0, 0, 0, 0, 0, 0, 0, 0, 0, 0, 0, 0, 0, 0, 0, ...</td>\n",
       "      <td>[1, 0, 1, 1, 1, 0, 0, 0, 0, 0, 0, 0, 0, 0, 0, ...</td>\n",
       "      <td>[18342286, 2349897, 17428153, 3351916, 5886681...</td>\n",
       "      <td>5.34</td>\n",
       "    </tr>\n",
       "    <tr>\n",
       "      <th>4</th>\n",
       "      <td>CHEMBL4465218</td>\n",
       "      <td>[0, 0, 0, 0, 0, 0, 0, 0, 0, 0, 0, 0, 0, 0, 0, ...</td>\n",
       "      <td>[0, 0, 0, 0, 0, 0, 0, 0, 0, 0, 0, 1, 0, 0, 0, ...</td>\n",
       "      <td>[1, 1, 1, 1, 1, 0, 0, 0, 0, 0, 0, 0, 0, 0, 0, ...</td>\n",
       "      <td>[3176507, 16443623, 1495766, 1162638, 13730070...</td>\n",
       "      <td>8.24</td>\n",
       "    </tr>\n",
       "  </tbody>\n",
       "</table>\n",
       "</div>"
      ],
      "text/plain": [
       "  molecule_chembl_id                                           fp_MACCS  \\\n",
       "0      CHEMBL3339010  [0, 0, 0, 0, 0, 0, 0, 0, 0, 0, 0, 0, 0, 0, 0, ...   \n",
       "1      CHEMBL3655945  [0, 0, 0, 0, 0, 0, 0, 0, 0, 0, 0, 0, 0, 0, 0, ...   \n",
       "2      CHEMBL4070745  [0, 0, 0, 0, 0, 0, 0, 0, 0, 0, 0, 0, 0, 0, 0, ...   \n",
       "3      CHEMBL3104851  [0, 0, 0, 0, 0, 0, 0, 0, 0, 0, 0, 0, 0, 0, 0, ...   \n",
       "4      CHEMBL4465218  [0, 0, 0, 0, 0, 0, 0, 0, 0, 0, 0, 0, 0, 0, 0, ...   \n",
       "\n",
       "                                          fp_Morgan3  \\\n",
       "0  [0, 0, 0, 0, 0, 0, 0, 0, 0, 0, 0, 1, 0, 0, 0, ...   \n",
       "1  [0, 0, 0, 0, 0, 0, 0, 0, 0, 0, 0, 0, 0, 0, 0, ...   \n",
       "2  [0, 0, 0, 0, 0, 0, 0, 0, 0, 0, 0, 1, 0, 1, 0, ...   \n",
       "3  [0, 0, 0, 0, 0, 0, 0, 0, 0, 0, 0, 0, 0, 0, 0, ...   \n",
       "4  [0, 0, 0, 0, 0, 0, 0, 0, 0, 0, 0, 1, 0, 0, 0, ...   \n",
       "\n",
       "                                          fp_MorganF  \\\n",
       "0  [1, 1, 1, 1, 1, 0, 1, 0, 1, 0, 1, 1, 0, 0, 0, ...   \n",
       "1  [1, 1, 1, 1, 1, 0, 1, 0, 1, 1, 0, 0, 0, 0, 0, ...   \n",
       "2  [1, 1, 1, 1, 1, 0, 1, 0, 0, 0, 1, 0, 0, 0, 0, ...   \n",
       "3  [1, 0, 1, 1, 1, 0, 0, 0, 0, 0, 0, 0, 0, 0, 0, ...   \n",
       "4  [1, 1, 1, 1, 1, 0, 0, 0, 0, 0, 0, 0, 0, 0, 0, ...   \n",
       "\n",
       "                                             fp_MAP4  pChEMBL_HDAC6  \n",
       "0  [1705, 4290185, 111326, 552416, 13986880, 2298...           7.62  \n",
       "1  [35600637, 2478511, 10872982, 16070626, 119321...           7.72  \n",
       "2  [5196932, 7212973, 3844537, 7125875, 28861, 15...           8.21  \n",
       "3  [18342286, 2349897, 17428153, 3351916, 5886681...           5.34  \n",
       "4  [3176507, 16443623, 1495766, 1162638, 13730070...           8.24  "
      ]
     },
     "execution_count": 11,
     "metadata": {},
     "output_type": "execute_result"
    }
   ],
   "source": [
    "df1 = pd.read_pickle(HDAC6/\"HDAC6_1024B.csv\")\n",
    "df1 = df1.sample(frac=1).reset_index(drop=True)\n",
    "df1.head(5)"
   ]
  },
  {
   "cell_type": "code",
   "execution_count": 12,
   "id": "a8f6e20b",
   "metadata": {
    "execution": {
     "iopub.execute_input": "2022-10-16T13:05:55.288886Z",
     "iopub.status.busy": "2022-10-16T13:05:55.288784Z",
     "iopub.status.idle": "2022-10-16T13:05:55.292148Z",
     "shell.execute_reply": "2022-10-16T13:05:55.291914Z"
    }
   },
   "outputs": [
    {
     "name": "stdout",
     "output_type": "stream",
     "text": [
      "Number of active compounds: 1837\n",
      "Number of inactive compounds: 1134\n"
     ]
    }
   ],
   "source": [
    "# Add column for activity\n",
    "df1[\"activity\"] = np.zeros(len(df1))\n",
    "\n",
    "# Mark every molecule as active with an pIC50 of >= 6.6, 0 otherwise\n",
    "df1.loc[df1[df1.pChEMBL_HDAC6 >= 6.6].index, \"activity\"] = 1.0\n",
    "\n",
    "# NBVAL_CHECK_OUTPUT\n",
    "print(\"Number of active compounds:\", int(df1.activity.sum()))\n",
    "print(\"Number of inactive compounds:\", len(df1) - int(df1.activity.sum()))"
   ]
  },
  {
   "cell_type": "markdown",
   "id": "5c59d3ae",
   "metadata": {},
   "source": [
    "#### By using MACCS fingerprints that are 166 bits "
   ]
  },
  {
   "cell_type": "code",
   "execution_count": 13,
   "id": "7b909b48",
   "metadata": {
    "execution": {
     "iopub.execute_input": "2022-10-16T13:05:55.308435Z",
     "iopub.status.busy": "2022-10-16T13:05:55.308281Z",
     "iopub.status.idle": "2022-10-16T13:05:55.312407Z",
     "shell.execute_reply": "2022-10-16T13:05:55.312162Z"
    }
   },
   "outputs": [],
   "source": [
    "X1 = np.array(list((df1['fp_MACCS']))).astype(float)\n",
    "#X.shape\n",
    "Y1 = df1[\"activity\"].values\n",
    "#y.shape"
   ]
  },
  {
   "cell_type": "code",
   "execution_count": 14,
   "id": "1597418b",
   "metadata": {
    "execution": {
     "iopub.execute_input": "2022-10-16T13:05:55.313622Z",
     "iopub.status.busy": "2022-10-16T13:05:55.313523Z",
     "iopub.status.idle": "2022-10-16T13:05:55.316842Z",
     "shell.execute_reply": "2022-10-16T13:05:55.316594Z"
    }
   },
   "outputs": [
    {
     "name": "stdout",
     "output_type": "stream",
     "text": [
      "Shape of training data: (2376, 167)\n",
      "Shape of test data: (595, 167)\n"
     ]
    }
   ],
   "source": [
    "# Split the data into training and test set\n",
    "# Perform data splitting using 80/20 ratio\n",
    "X_train1, X_test1, Y_train1, Y_test1 = train_test_split(X1, Y1, test_size=0.2, random_state=42)\n",
    "\n",
    "# Print the shape of training and testing data\n",
    "print(\"Shape of training data:\", X_train1.shape)\n",
    "print(\"Shape of test data:\", X_test1.shape)\n",
    "# NBVAL_CHECK_OUTPUT"
   ]
  },
  {
   "cell_type": "code",
   "execution_count": 15,
   "id": "6c7d9723",
   "metadata": {
    "execution": {
     "iopub.execute_input": "2022-10-16T13:05:55.318080Z",
     "iopub.status.busy": "2022-10-16T13:05:55.317919Z",
     "iopub.status.idle": "2022-10-16T13:08:10.332986Z",
     "shell.execute_reply": "2022-10-16T13:08:10.332672Z"
    }
   },
   "outputs": [
    {
     "name": "stderr",
     "output_type": "stream",
     "text": [
      " 90%|█████████████████████████████████████████████████████████████████████████▌        | 26/29 [00:12<00:01,  2.37it/s]"
     ]
    },
    {
     "name": "stdout",
     "output_type": "stream",
     "text": [
      "[15:49:00] WARNING: C:/Users/Administrator/workspace/xgboost-win64_release_1.5.1/src/learner.cc:1115: Starting in XGBoost 1.3.0, the default evaluation metric used with the objective 'binary:logistic' was changed from 'error' to 'logloss'. Explicitly set eval_metric if you'd like to restore the old behavior.\n"
     ]
    },
    {
     "name": "stderr",
     "output_type": "stream",
     "text": [
      "100%|██████████████████████████████████████████████████████████████████████████████████| 29/29 [00:12<00:00,  2.23it/s]\n"
     ]
    }
   ],
   "source": [
    "# Defines and builds the LazyClassifier\n",
    "clf1 =  LazyClassifier(verbose=0,ignore_warnings=True, custom_metric=None)\n",
    "model1,predictions1 = clf1.fit(X_train1, X_test1, Y_train1, Y_test1)"
   ]
  },
  {
   "cell_type": "code",
   "execution_count": 16,
   "id": "05fde095",
   "metadata": {
    "execution": {
     "iopub.execute_input": "2022-10-16T13:08:10.334293Z",
     "iopub.status.busy": "2022-10-16T13:08:10.334185Z",
     "iopub.status.idle": "2022-10-16T13:08:10.338579Z",
     "shell.execute_reply": "2022-10-16T13:08:10.338340Z"
    }
   },
   "outputs": [
    {
     "data": {
      "text/html": [
       "<div>\n",
       "<style scoped>\n",
       "    .dataframe tbody tr th:only-of-type {\n",
       "        vertical-align: middle;\n",
       "    }\n",
       "\n",
       "    .dataframe tbody tr th {\n",
       "        vertical-align: top;\n",
       "    }\n",
       "\n",
       "    .dataframe thead th {\n",
       "        text-align: right;\n",
       "    }\n",
       "</style>\n",
       "<table border=\"1\" class=\"dataframe\">\n",
       "  <thead>\n",
       "    <tr style=\"text-align: right;\">\n",
       "      <th></th>\n",
       "      <th>Accuracy</th>\n",
       "      <th>Balanced Accuracy</th>\n",
       "      <th>ROC AUC</th>\n",
       "      <th>F1 Score</th>\n",
       "      <th>Time Taken</th>\n",
       "    </tr>\n",
       "    <tr>\n",
       "      <th>Model</th>\n",
       "      <th></th>\n",
       "      <th></th>\n",
       "      <th></th>\n",
       "      <th></th>\n",
       "      <th></th>\n",
       "    </tr>\n",
       "  </thead>\n",
       "  <tbody>\n",
       "    <tr>\n",
       "      <th>BaggingClassifier</th>\n",
       "      <td>0.84</td>\n",
       "      <td>0.83</td>\n",
       "      <td>0.83</td>\n",
       "      <td>0.84</td>\n",
       "      <td>0.29</td>\n",
       "    </tr>\n",
       "    <tr>\n",
       "      <th>XGBClassifier</th>\n",
       "      <td>0.83</td>\n",
       "      <td>0.82</td>\n",
       "      <td>0.82</td>\n",
       "      <td>0.83</td>\n",
       "      <td>0.70</td>\n",
       "    </tr>\n",
       "    <tr>\n",
       "      <th>LGBMClassifier</th>\n",
       "      <td>0.83</td>\n",
       "      <td>0.81</td>\n",
       "      <td>0.81</td>\n",
       "      <td>0.83</td>\n",
       "      <td>0.27</td>\n",
       "    </tr>\n",
       "    <tr>\n",
       "      <th>ExtraTreesClassifier</th>\n",
       "      <td>0.83</td>\n",
       "      <td>0.81</td>\n",
       "      <td>0.81</td>\n",
       "      <td>0.82</td>\n",
       "      <td>0.56</td>\n",
       "    </tr>\n",
       "    <tr>\n",
       "      <th>RandomForestClassifier</th>\n",
       "      <td>0.82</td>\n",
       "      <td>0.81</td>\n",
       "      <td>0.81</td>\n",
       "      <td>0.82</td>\n",
       "      <td>0.59</td>\n",
       "    </tr>\n",
       "    <tr>\n",
       "      <th>SVC</th>\n",
       "      <td>0.82</td>\n",
       "      <td>0.80</td>\n",
       "      <td>0.80</td>\n",
       "      <td>0.82</td>\n",
       "      <td>1.12</td>\n",
       "    </tr>\n",
       "    <tr>\n",
       "      <th>NuSVC</th>\n",
       "      <td>0.82</td>\n",
       "      <td>0.80</td>\n",
       "      <td>0.80</td>\n",
       "      <td>0.82</td>\n",
       "      <td>1.35</td>\n",
       "    </tr>\n",
       "    <tr>\n",
       "      <th>KNeighborsClassifier</th>\n",
       "      <td>0.80</td>\n",
       "      <td>0.79</td>\n",
       "      <td>0.79</td>\n",
       "      <td>0.80</td>\n",
       "      <td>0.60</td>\n",
       "    </tr>\n",
       "    <tr>\n",
       "      <th>DecisionTreeClassifier</th>\n",
       "      <td>0.78</td>\n",
       "      <td>0.78</td>\n",
       "      <td>0.78</td>\n",
       "      <td>0.79</td>\n",
       "      <td>0.06</td>\n",
       "    </tr>\n",
       "    <tr>\n",
       "      <th>ExtraTreeClassifier</th>\n",
       "      <td>0.78</td>\n",
       "      <td>0.77</td>\n",
       "      <td>0.77</td>\n",
       "      <td>0.78</td>\n",
       "      <td>0.06</td>\n",
       "    </tr>\n",
       "  </tbody>\n",
       "</table>\n",
       "</div>"
      ],
      "text/plain": [
       "                        Accuracy  Balanced Accuracy  ROC AUC  F1 Score  \\\n",
       "Model                                                                    \n",
       "BaggingClassifier           0.84               0.83     0.83      0.84   \n",
       "XGBClassifier               0.83               0.82     0.82      0.83   \n",
       "LGBMClassifier              0.83               0.81     0.81      0.83   \n",
       "ExtraTreesClassifier        0.83               0.81     0.81      0.82   \n",
       "RandomForestClassifier      0.82               0.81     0.81      0.82   \n",
       "SVC                         0.82               0.80     0.80      0.82   \n",
       "NuSVC                       0.82               0.80     0.80      0.82   \n",
       "KNeighborsClassifier        0.80               0.79     0.79      0.80   \n",
       "DecisionTreeClassifier      0.78               0.78     0.78      0.79   \n",
       "ExtraTreeClassifier         0.78               0.77     0.77      0.78   \n",
       "\n",
       "                        Time Taken  \n",
       "Model                               \n",
       "BaggingClassifier             0.29  \n",
       "XGBClassifier                 0.70  \n",
       "LGBMClassifier                0.27  \n",
       "ExtraTreesClassifier          0.56  \n",
       "RandomForestClassifier        0.59  \n",
       "SVC                           1.12  \n",
       "NuSVC                         1.35  \n",
       "KNeighborsClassifier          0.60  \n",
       "DecisionTreeClassifier        0.06  \n",
       "ExtraTreeClassifier           0.06  "
      ]
     },
     "execution_count": 16,
     "metadata": {},
     "output_type": "execute_result"
    }
   ],
   "source": [
    "predictions1.sort_values(by=\"F1 Score\", ascending=False).head(10)"
   ]
  },
  {
   "cell_type": "markdown",
   "id": "78ef1632",
   "metadata": {},
   "source": [
    "### USING 1024 BITS FINGERPRINTS"
   ]
  },
  {
   "cell_type": "code",
   "execution_count": 17,
   "id": "ffe8b4e1",
   "metadata": {
    "execution": {
     "iopub.execute_input": "2022-10-16T13:08:10.343393Z",
     "iopub.status.busy": "2022-10-16T13:08:10.343223Z",
     "iopub.status.idle": "2022-10-16T13:08:10.350943Z",
     "shell.execute_reply": "2022-10-16T13:08:10.350585Z"
    }
   },
   "outputs": [],
   "source": [
    "#By using Morgan fingerprints with radius of 3 and 1024 bits\n",
    "X2 = np.array(list((df1['fp_Morgan3']))).astype(float)\n",
    "#X.shape\n",
    "Y2 = df1[\"activity\"].values\n",
    "#y.shape"
   ]
  },
  {
   "cell_type": "code",
   "execution_count": 18,
   "id": "3a28de69",
   "metadata": {
    "execution": {
     "iopub.execute_input": "2022-10-16T13:08:10.352254Z",
     "iopub.status.busy": "2022-10-16T13:08:10.352146Z",
     "iopub.status.idle": "2022-10-16T13:08:10.357017Z",
     "shell.execute_reply": "2022-10-16T13:08:10.356748Z"
    }
   },
   "outputs": [
    {
     "name": "stdout",
     "output_type": "stream",
     "text": [
      "Shape of training data: (2376, 1024)\n",
      "Shape of test data: (595, 1024)\n"
     ]
    }
   ],
   "source": [
    "# Split the data into training and test set\n",
    "# Perform data splitting using 80/20 ratio\n",
    "X_train2, X_test2, Y_train2, Y_test2 = train_test_split(X2, Y2, test_size=0.2, random_state=42)\n",
    "\n",
    "# Print the shape of training and testing data\n",
    "print(\"Shape of training data:\", X_train2.shape)\n",
    "print(\"Shape of test data:\", X_test2.shape)\n",
    "# NBVAL_CHECK_OUTPUT"
   ]
  },
  {
   "cell_type": "code",
   "execution_count": 19,
   "id": "5f84b274",
   "metadata": {
    "execution": {
     "iopub.execute_input": "2022-10-16T13:08:10.358107Z",
     "iopub.status.busy": "2022-10-16T13:08:10.358005Z",
     "iopub.status.idle": "2022-10-16T13:10:51.874082Z",
     "shell.execute_reply": "2022-10-16T13:10:51.873744Z"
    }
   },
   "outputs": [
    {
     "name": "stderr",
     "output_type": "stream",
     "text": [
      " 90%|█████████████████████████████████████████████████████████████████████████▌        | 26/29 [00:55<00:09,  3.14s/it]"
     ]
    },
    {
     "name": "stdout",
     "output_type": "stream",
     "text": [
      "[15:49:57] WARNING: C:/Users/Administrator/workspace/xgboost-win64_release_1.5.1/src/learner.cc:1115: Starting in XGBoost 1.3.0, the default evaluation metric used with the objective 'binary:logistic' was changed from 'error' to 'logloss'. Explicitly set eval_metric if you'd like to restore the old behavior.\n"
     ]
    },
    {
     "name": "stderr",
     "output_type": "stream",
     "text": [
      "100%|██████████████████████████████████████████████████████████████████████████████████| 29/29 [01:01<00:00,  2.11s/it]\n"
     ]
    }
   ],
   "source": [
    "clf2 = LazyClassifier(verbose=0,ignore_warnings=True, custom_metric=None)\n",
    "models2, predictions2 = clf2.fit(X_train2, X_test2, Y_train2, Y_test2)"
   ]
  },
  {
   "cell_type": "code",
   "execution_count": 20,
   "id": "557eab56",
   "metadata": {
    "execution": {
     "iopub.execute_input": "2022-10-16T13:10:51.875507Z",
     "iopub.status.busy": "2022-10-16T13:10:51.875372Z",
     "iopub.status.idle": "2022-10-16T13:10:51.879844Z",
     "shell.execute_reply": "2022-10-16T13:10:51.879609Z"
    }
   },
   "outputs": [
    {
     "data": {
      "text/html": [
       "<div>\n",
       "<style scoped>\n",
       "    .dataframe tbody tr th:only-of-type {\n",
       "        vertical-align: middle;\n",
       "    }\n",
       "\n",
       "    .dataframe tbody tr th {\n",
       "        vertical-align: top;\n",
       "    }\n",
       "\n",
       "    .dataframe thead th {\n",
       "        text-align: right;\n",
       "    }\n",
       "</style>\n",
       "<table border=\"1\" class=\"dataframe\">\n",
       "  <thead>\n",
       "    <tr style=\"text-align: right;\">\n",
       "      <th></th>\n",
       "      <th>Accuracy</th>\n",
       "      <th>Balanced Accuracy</th>\n",
       "      <th>ROC AUC</th>\n",
       "      <th>F1 Score</th>\n",
       "      <th>Time Taken</th>\n",
       "    </tr>\n",
       "    <tr>\n",
       "      <th>Model</th>\n",
       "      <th></th>\n",
       "      <th></th>\n",
       "      <th></th>\n",
       "      <th></th>\n",
       "      <th></th>\n",
       "    </tr>\n",
       "  </thead>\n",
       "  <tbody>\n",
       "    <tr>\n",
       "      <th>RandomForestClassifier</th>\n",
       "      <td>0.87</td>\n",
       "      <td>0.85</td>\n",
       "      <td>0.85</td>\n",
       "      <td>0.87</td>\n",
       "      <td>1.21</td>\n",
       "    </tr>\n",
       "    <tr>\n",
       "      <th>ExtraTreesClassifier</th>\n",
       "      <td>0.87</td>\n",
       "      <td>0.85</td>\n",
       "      <td>0.85</td>\n",
       "      <td>0.86</td>\n",
       "      <td>1.55</td>\n",
       "    </tr>\n",
       "    <tr>\n",
       "      <th>NuSVC</th>\n",
       "      <td>0.84</td>\n",
       "      <td>0.81</td>\n",
       "      <td>0.81</td>\n",
       "      <td>0.84</td>\n",
       "      <td>9.87</td>\n",
       "    </tr>\n",
       "    <tr>\n",
       "      <th>SVC</th>\n",
       "      <td>0.84</td>\n",
       "      <td>0.81</td>\n",
       "      <td>0.81</td>\n",
       "      <td>0.84</td>\n",
       "      <td>8.00</td>\n",
       "    </tr>\n",
       "    <tr>\n",
       "      <th>BaggingClassifier</th>\n",
       "      <td>0.84</td>\n",
       "      <td>0.82</td>\n",
       "      <td>0.82</td>\n",
       "      <td>0.84</td>\n",
       "      <td>2.99</td>\n",
       "    </tr>\n",
       "    <tr>\n",
       "      <th>XGBClassifier</th>\n",
       "      <td>0.83</td>\n",
       "      <td>0.81</td>\n",
       "      <td>0.81</td>\n",
       "      <td>0.83</td>\n",
       "      <td>4.24</td>\n",
       "    </tr>\n",
       "    <tr>\n",
       "      <th>LGBMClassifier</th>\n",
       "      <td>0.83</td>\n",
       "      <td>0.82</td>\n",
       "      <td>0.82</td>\n",
       "      <td>0.83</td>\n",
       "      <td>1.04</td>\n",
       "    </tr>\n",
       "    <tr>\n",
       "      <th>DecisionTreeClassifier</th>\n",
       "      <td>0.80</td>\n",
       "      <td>0.79</td>\n",
       "      <td>0.79</td>\n",
       "      <td>0.80</td>\n",
       "      <td>0.46</td>\n",
       "    </tr>\n",
       "    <tr>\n",
       "      <th>KNeighborsClassifier</th>\n",
       "      <td>0.79</td>\n",
       "      <td>0.76</td>\n",
       "      <td>0.76</td>\n",
       "      <td>0.79</td>\n",
       "      <td>3.53</td>\n",
       "    </tr>\n",
       "    <tr>\n",
       "      <th>RidgeClassifierCV</th>\n",
       "      <td>0.78</td>\n",
       "      <td>0.77</td>\n",
       "      <td>0.77</td>\n",
       "      <td>0.78</td>\n",
       "      <td>1.16</td>\n",
       "    </tr>\n",
       "  </tbody>\n",
       "</table>\n",
       "</div>"
      ],
      "text/plain": [
       "                        Accuracy  Balanced Accuracy  ROC AUC  F1 Score  \\\n",
       "Model                                                                    \n",
       "RandomForestClassifier      0.87               0.85     0.85      0.87   \n",
       "ExtraTreesClassifier        0.87               0.85     0.85      0.86   \n",
       "NuSVC                       0.84               0.81     0.81      0.84   \n",
       "SVC                         0.84               0.81     0.81      0.84   \n",
       "BaggingClassifier           0.84               0.82     0.82      0.84   \n",
       "XGBClassifier               0.83               0.81     0.81      0.83   \n",
       "LGBMClassifier              0.83               0.82     0.82      0.83   \n",
       "DecisionTreeClassifier      0.80               0.79     0.79      0.80   \n",
       "KNeighborsClassifier        0.79               0.76     0.76      0.79   \n",
       "RidgeClassifierCV           0.78               0.77     0.77      0.78   \n",
       "\n",
       "                        Time Taken  \n",
       "Model                               \n",
       "RandomForestClassifier        1.21  \n",
       "ExtraTreesClassifier          1.55  \n",
       "NuSVC                         9.87  \n",
       "SVC                           8.00  \n",
       "BaggingClassifier             2.99  \n",
       "XGBClassifier                 4.24  \n",
       "LGBMClassifier                1.04  \n",
       "DecisionTreeClassifier        0.46  \n",
       "KNeighborsClassifier          3.53  \n",
       "RidgeClassifierCV             1.16  "
      ]
     },
     "execution_count": 20,
     "metadata": {},
     "output_type": "execute_result"
    }
   ],
   "source": [
    "predictions2.sort_values(by=\"F1 Score\", ascending=False).head(10)"
   ]
  },
  {
   "cell_type": "code",
   "execution_count": 21,
   "id": "6677c15f",
   "metadata": {
    "execution": {
     "iopub.execute_input": "2022-10-16T13:10:51.884147Z",
     "iopub.status.busy": "2022-10-16T13:10:51.884045Z",
     "iopub.status.idle": "2022-10-16T13:10:51.889965Z",
     "shell.execute_reply": "2022-10-16T13:10:51.889638Z"
    }
   },
   "outputs": [],
   "source": [
    "#By using Morgan fingerprints with radius of 3 and 1024 bits and feautures\n",
    "X3 = np.array(list((df1['fp_MorganF']))).astype(float)\n",
    "#X.shape\n",
    "Y3 = df1[\"activity\"].values\n",
    "#y.shape"
   ]
  },
  {
   "cell_type": "code",
   "execution_count": 22,
   "id": "038fddb6",
   "metadata": {
    "execution": {
     "iopub.execute_input": "2022-10-16T13:10:51.891292Z",
     "iopub.status.busy": "2022-10-16T13:10:51.891185Z",
     "iopub.status.idle": "2022-10-16T13:10:51.896229Z",
     "shell.execute_reply": "2022-10-16T13:10:51.895949Z"
    }
   },
   "outputs": [
    {
     "name": "stdout",
     "output_type": "stream",
     "text": [
      "Shape of training data: (2376, 1024)\n",
      "Shape of test data: (595, 1024)\n"
     ]
    }
   ],
   "source": [
    "# Split the data into training and test set\n",
    "# Perform data splitting using 80/20 ratio\n",
    "X_train3, X_test3, Y_train3, Y_test3 = train_test_split(X3, Y3, test_size=0.2, random_state=42)\n",
    "\n",
    "# Print the shape of training and testing data\n",
    "print(\"Shape of training data:\", X_train3.shape)\n",
    "print(\"Shape of test data:\", X_test3.shape)\n",
    "# NBVAL_CHECK_OUTPUT"
   ]
  },
  {
   "cell_type": "code",
   "execution_count": 23,
   "id": "7cd3d92a",
   "metadata": {
    "execution": {
     "iopub.execute_input": "2022-10-16T13:10:51.897459Z",
     "iopub.status.busy": "2022-10-16T13:10:51.897276Z",
     "iopub.status.idle": "2022-10-16T13:13:51.586242Z",
     "shell.execute_reply": "2022-10-16T13:13:51.585944Z"
    }
   },
   "outputs": [
    {
     "name": "stderr",
     "output_type": "stream",
     "text": [
      " 90%|█████████████████████████████████████████████████████████████████████████▌        | 26/29 [00:50<00:09,  3.04s/it]"
     ]
    },
    {
     "name": "stdout",
     "output_type": "stream",
     "text": [
      "[15:50:53] WARNING: C:/Users/Administrator/workspace/xgboost-win64_release_1.5.1/src/learner.cc:1115: Starting in XGBoost 1.3.0, the default evaluation metric used with the objective 'binary:logistic' was changed from 'error' to 'logloss'. Explicitly set eval_metric if you'd like to restore the old behavior.\n"
     ]
    },
    {
     "name": "stderr",
     "output_type": "stream",
     "text": [
      "100%|██████████████████████████████████████████████████████████████████████████████████| 29/29 [00:56<00:00,  1.94s/it]\n"
     ]
    }
   ],
   "source": [
    "clf3 = LazyClassifier(verbose=0,ignore_warnings=True, custom_metric=None)\n",
    "models3, predictions3 = clf3.fit(X_train3, X_test3, Y_train3, Y_test3)"
   ]
  },
  {
   "cell_type": "code",
   "execution_count": 24,
   "id": "32cedba5",
   "metadata": {
    "execution": {
     "iopub.execute_input": "2022-10-16T13:13:51.587598Z",
     "iopub.status.busy": "2022-10-16T13:13:51.587490Z",
     "iopub.status.idle": "2022-10-16T13:13:51.591861Z",
     "shell.execute_reply": "2022-10-16T13:13:51.591630Z"
    }
   },
   "outputs": [
    {
     "data": {
      "text/html": [
       "<div>\n",
       "<style scoped>\n",
       "    .dataframe tbody tr th:only-of-type {\n",
       "        vertical-align: middle;\n",
       "    }\n",
       "\n",
       "    .dataframe tbody tr th {\n",
       "        vertical-align: top;\n",
       "    }\n",
       "\n",
       "    .dataframe thead th {\n",
       "        text-align: right;\n",
       "    }\n",
       "</style>\n",
       "<table border=\"1\" class=\"dataframe\">\n",
       "  <thead>\n",
       "    <tr style=\"text-align: right;\">\n",
       "      <th></th>\n",
       "      <th>Accuracy</th>\n",
       "      <th>Balanced Accuracy</th>\n",
       "      <th>ROC AUC</th>\n",
       "      <th>F1 Score</th>\n",
       "      <th>Time Taken</th>\n",
       "    </tr>\n",
       "    <tr>\n",
       "      <th>Model</th>\n",
       "      <th></th>\n",
       "      <th></th>\n",
       "      <th></th>\n",
       "      <th></th>\n",
       "      <th></th>\n",
       "    </tr>\n",
       "  </thead>\n",
       "  <tbody>\n",
       "    <tr>\n",
       "      <th>LGBMClassifier</th>\n",
       "      <td>0.86</td>\n",
       "      <td>0.84</td>\n",
       "      <td>0.84</td>\n",
       "      <td>0.86</td>\n",
       "      <td>1.68</td>\n",
       "    </tr>\n",
       "    <tr>\n",
       "      <th>BaggingClassifier</th>\n",
       "      <td>0.85</td>\n",
       "      <td>0.84</td>\n",
       "      <td>0.84</td>\n",
       "      <td>0.85</td>\n",
       "      <td>2.79</td>\n",
       "    </tr>\n",
       "    <tr>\n",
       "      <th>RandomForestClassifier</th>\n",
       "      <td>0.85</td>\n",
       "      <td>0.83</td>\n",
       "      <td>0.83</td>\n",
       "      <td>0.85</td>\n",
       "      <td>1.18</td>\n",
       "    </tr>\n",
       "    <tr>\n",
       "      <th>ExtraTreesClassifier</th>\n",
       "      <td>0.85</td>\n",
       "      <td>0.83</td>\n",
       "      <td>0.83</td>\n",
       "      <td>0.85</td>\n",
       "      <td>1.63</td>\n",
       "    </tr>\n",
       "    <tr>\n",
       "      <th>XGBClassifier</th>\n",
       "      <td>0.84</td>\n",
       "      <td>0.82</td>\n",
       "      <td>0.82</td>\n",
       "      <td>0.84</td>\n",
       "      <td>4.10</td>\n",
       "    </tr>\n",
       "    <tr>\n",
       "      <th>NuSVC</th>\n",
       "      <td>0.83</td>\n",
       "      <td>0.80</td>\n",
       "      <td>0.80</td>\n",
       "      <td>0.82</td>\n",
       "      <td>8.24</td>\n",
       "    </tr>\n",
       "    <tr>\n",
       "      <th>SVC</th>\n",
       "      <td>0.83</td>\n",
       "      <td>0.79</td>\n",
       "      <td>0.79</td>\n",
       "      <td>0.82</td>\n",
       "      <td>7.52</td>\n",
       "    </tr>\n",
       "    <tr>\n",
       "      <th>AdaBoostClassifier</th>\n",
       "      <td>0.82</td>\n",
       "      <td>0.80</td>\n",
       "      <td>0.80</td>\n",
       "      <td>0.82</td>\n",
       "      <td>2.97</td>\n",
       "    </tr>\n",
       "    <tr>\n",
       "      <th>DecisionTreeClassifier</th>\n",
       "      <td>0.79</td>\n",
       "      <td>0.78</td>\n",
       "      <td>0.78</td>\n",
       "      <td>0.79</td>\n",
       "      <td>0.44</td>\n",
       "    </tr>\n",
       "    <tr>\n",
       "      <th>ExtraTreeClassifier</th>\n",
       "      <td>0.79</td>\n",
       "      <td>0.77</td>\n",
       "      <td>0.77</td>\n",
       "      <td>0.79</td>\n",
       "      <td>0.18</td>\n",
       "    </tr>\n",
       "  </tbody>\n",
       "</table>\n",
       "</div>"
      ],
      "text/plain": [
       "                        Accuracy  Balanced Accuracy  ROC AUC  F1 Score  \\\n",
       "Model                                                                    \n",
       "LGBMClassifier              0.86               0.84     0.84      0.86   \n",
       "BaggingClassifier           0.85               0.84     0.84      0.85   \n",
       "RandomForestClassifier      0.85               0.83     0.83      0.85   \n",
       "ExtraTreesClassifier        0.85               0.83     0.83      0.85   \n",
       "XGBClassifier               0.84               0.82     0.82      0.84   \n",
       "NuSVC                       0.83               0.80     0.80      0.82   \n",
       "SVC                         0.83               0.79     0.79      0.82   \n",
       "AdaBoostClassifier          0.82               0.80     0.80      0.82   \n",
       "DecisionTreeClassifier      0.79               0.78     0.78      0.79   \n",
       "ExtraTreeClassifier         0.79               0.77     0.77      0.79   \n",
       "\n",
       "                        Time Taken  \n",
       "Model                               \n",
       "LGBMClassifier                1.68  \n",
       "BaggingClassifier             2.79  \n",
       "RandomForestClassifier        1.18  \n",
       "ExtraTreesClassifier          1.63  \n",
       "XGBClassifier                 4.10  \n",
       "NuSVC                         8.24  \n",
       "SVC                           7.52  \n",
       "AdaBoostClassifier            2.97  \n",
       "DecisionTreeClassifier        0.44  \n",
       "ExtraTreeClassifier           0.18  "
      ]
     },
     "execution_count": 24,
     "metadata": {},
     "output_type": "execute_result"
    }
   ],
   "source": [
    "predictions3.sort_values(by=\"F1 Score\", ascending=False).head(10)"
   ]
  },
  {
   "cell_type": "code",
   "execution_count": 25,
   "id": "e9c9899d",
   "metadata": {
    "execution": {
     "iopub.execute_input": "2022-10-16T13:13:51.596012Z",
     "iopub.status.busy": "2022-10-16T13:13:51.595913Z",
     "iopub.status.idle": "2022-10-16T13:13:51.601673Z",
     "shell.execute_reply": "2022-10-16T13:13:51.601341Z"
    }
   },
   "outputs": [],
   "source": [
    "#By using MAP4 fingerprints with 1024 bits\n",
    "X4 = np.array(list((df1['fp_MAP4']))).astype(float)\n",
    "#X.shape\n",
    "Y4 = df1[\"activity\"].values\n",
    "#y.shape"
   ]
  },
  {
   "cell_type": "code",
   "execution_count": 26,
   "id": "0d21006a",
   "metadata": {
    "execution": {
     "iopub.execute_input": "2022-10-16T13:13:51.602971Z",
     "iopub.status.busy": "2022-10-16T13:13:51.602866Z",
     "iopub.status.idle": "2022-10-16T13:13:51.608176Z",
     "shell.execute_reply": "2022-10-16T13:13:51.607923Z"
    }
   },
   "outputs": [
    {
     "name": "stdout",
     "output_type": "stream",
     "text": [
      "Shape of training data: (2376, 1024)\n",
      "Shape of test data: (595, 1024)\n"
     ]
    }
   ],
   "source": [
    "# Split the data into training and test set\n",
    "# Perform data splitting using 80/20 ratio\n",
    "X_train4, X_test4, Y_train4, Y_test4 = train_test_split(X4, Y4, test_size=0.2, random_state=42)\n",
    "\n",
    "# Print the shape of training and testing data\n",
    "print(\"Shape of training data:\", X_train4.shape)\n",
    "print(\"Shape of test data:\", X_test4.shape)\n",
    "# NBVAL_CHECK_OUTPUT"
   ]
  },
  {
   "cell_type": "code",
   "execution_count": 27,
   "id": "956dd5c2",
   "metadata": {
    "execution": {
     "iopub.execute_input": "2022-10-16T13:13:51.609329Z",
     "iopub.status.busy": "2022-10-16T13:13:51.609160Z",
     "iopub.status.idle": "2022-10-16T13:17:18.883720Z",
     "shell.execute_reply": "2022-10-16T13:17:18.883287Z"
    }
   },
   "outputs": [
    {
     "name": "stderr",
     "output_type": "stream",
     "text": [
      " 90%|█████████████████████████████████████████████████████████████████████████▌        | 26/29 [01:36<00:11,  3.92s/it]"
     ]
    },
    {
     "name": "stdout",
     "output_type": "stream",
     "text": [
      "[15:52:36] WARNING: C:/Users/Administrator/workspace/xgboost-win64_release_1.5.1/src/learner.cc:1115: Starting in XGBoost 1.3.0, the default evaluation metric used with the objective 'binary:logistic' was changed from 'error' to 'logloss'. Explicitly set eval_metric if you'd like to restore the old behavior.\n"
     ]
    },
    {
     "name": "stderr",
     "output_type": "stream",
     "text": [
      "100%|██████████████████████████████████████████████████████████████████████████████████| 29/29 [02:03<00:00,  4.25s/it]\n"
     ]
    }
   ],
   "source": [
    "# Defines and builds the lazyclassifier\n",
    "clf4 = LazyClassifier(verbose=0,ignore_warnings=True, custom_metric=None)\n",
    "models4, predictions4 = clf4.fit(X_train4, X_test4, Y_train4, Y_test4)"
   ]
  },
  {
   "cell_type": "code",
   "execution_count": 28,
   "id": "7c2e1c7f",
   "metadata": {
    "execution": {
     "iopub.execute_input": "2022-10-16T13:17:18.885194Z",
     "iopub.status.busy": "2022-10-16T13:17:18.885036Z",
     "iopub.status.idle": "2022-10-16T13:17:18.890017Z",
     "shell.execute_reply": "2022-10-16T13:17:18.889718Z"
    }
   },
   "outputs": [
    {
     "data": {
      "text/html": [
       "<div>\n",
       "<style scoped>\n",
       "    .dataframe tbody tr th:only-of-type {\n",
       "        vertical-align: middle;\n",
       "    }\n",
       "\n",
       "    .dataframe tbody tr th {\n",
       "        vertical-align: top;\n",
       "    }\n",
       "\n",
       "    .dataframe thead th {\n",
       "        text-align: right;\n",
       "    }\n",
       "</style>\n",
       "<table border=\"1\" class=\"dataframe\">\n",
       "  <thead>\n",
       "    <tr style=\"text-align: right;\">\n",
       "      <th></th>\n",
       "      <th>Accuracy</th>\n",
       "      <th>Balanced Accuracy</th>\n",
       "      <th>ROC AUC</th>\n",
       "      <th>F1 Score</th>\n",
       "      <th>Time Taken</th>\n",
       "    </tr>\n",
       "    <tr>\n",
       "      <th>Model</th>\n",
       "      <th></th>\n",
       "      <th></th>\n",
       "      <th></th>\n",
       "      <th></th>\n",
       "      <th></th>\n",
       "    </tr>\n",
       "  </thead>\n",
       "  <tbody>\n",
       "    <tr>\n",
       "      <th>LGBMClassifier</th>\n",
       "      <td>0.85</td>\n",
       "      <td>0.83</td>\n",
       "      <td>0.83</td>\n",
       "      <td>0.85</td>\n",
       "      <td>15.61</td>\n",
       "    </tr>\n",
       "    <tr>\n",
       "      <th>RandomForestClassifier</th>\n",
       "      <td>0.85</td>\n",
       "      <td>0.82</td>\n",
       "      <td>0.82</td>\n",
       "      <td>0.84</td>\n",
       "      <td>6.07</td>\n",
       "    </tr>\n",
       "    <tr>\n",
       "      <th>XGBClassifier</th>\n",
       "      <td>0.84</td>\n",
       "      <td>0.82</td>\n",
       "      <td>0.82</td>\n",
       "      <td>0.84</td>\n",
       "      <td>10.95</td>\n",
       "    </tr>\n",
       "    <tr>\n",
       "      <th>BaggingClassifier</th>\n",
       "      <td>0.82</td>\n",
       "      <td>0.81</td>\n",
       "      <td>0.81</td>\n",
       "      <td>0.82</td>\n",
       "      <td>24.23</td>\n",
       "    </tr>\n",
       "    <tr>\n",
       "      <th>ExtraTreesClassifier</th>\n",
       "      <td>0.82</td>\n",
       "      <td>0.78</td>\n",
       "      <td>0.78</td>\n",
       "      <td>0.81</td>\n",
       "      <td>2.05</td>\n",
       "    </tr>\n",
       "    <tr>\n",
       "      <th>KNeighborsClassifier</th>\n",
       "      <td>0.80</td>\n",
       "      <td>0.77</td>\n",
       "      <td>0.77</td>\n",
       "      <td>0.79</td>\n",
       "      <td>4.96</td>\n",
       "    </tr>\n",
       "    <tr>\n",
       "      <th>NuSVC</th>\n",
       "      <td>0.79</td>\n",
       "      <td>0.76</td>\n",
       "      <td>0.76</td>\n",
       "      <td>0.79</td>\n",
       "      <td>8.95</td>\n",
       "    </tr>\n",
       "    <tr>\n",
       "      <th>AdaBoostClassifier</th>\n",
       "      <td>0.79</td>\n",
       "      <td>0.76</td>\n",
       "      <td>0.76</td>\n",
       "      <td>0.78</td>\n",
       "      <td>11.70</td>\n",
       "    </tr>\n",
       "    <tr>\n",
       "      <th>SVC</th>\n",
       "      <td>0.78</td>\n",
       "      <td>0.74</td>\n",
       "      <td>0.74</td>\n",
       "      <td>0.77</td>\n",
       "      <td>9.13</td>\n",
       "    </tr>\n",
       "    <tr>\n",
       "      <th>DecisionTreeClassifier</th>\n",
       "      <td>0.77</td>\n",
       "      <td>0.75</td>\n",
       "      <td>0.75</td>\n",
       "      <td>0.77</td>\n",
       "      <td>2.33</td>\n",
       "    </tr>\n",
       "  </tbody>\n",
       "</table>\n",
       "</div>"
      ],
      "text/plain": [
       "                        Accuracy  Balanced Accuracy  ROC AUC  F1 Score  \\\n",
       "Model                                                                    \n",
       "LGBMClassifier              0.85               0.83     0.83      0.85   \n",
       "RandomForestClassifier      0.85               0.82     0.82      0.84   \n",
       "XGBClassifier               0.84               0.82     0.82      0.84   \n",
       "BaggingClassifier           0.82               0.81     0.81      0.82   \n",
       "ExtraTreesClassifier        0.82               0.78     0.78      0.81   \n",
       "KNeighborsClassifier        0.80               0.77     0.77      0.79   \n",
       "NuSVC                       0.79               0.76     0.76      0.79   \n",
       "AdaBoostClassifier          0.79               0.76     0.76      0.78   \n",
       "SVC                         0.78               0.74     0.74      0.77   \n",
       "DecisionTreeClassifier      0.77               0.75     0.75      0.77   \n",
       "\n",
       "                        Time Taken  \n",
       "Model                               \n",
       "LGBMClassifier               15.61  \n",
       "RandomForestClassifier        6.07  \n",
       "XGBClassifier                10.95  \n",
       "BaggingClassifier            24.23  \n",
       "ExtraTreesClassifier          2.05  \n",
       "KNeighborsClassifier          4.96  \n",
       "NuSVC                         8.95  \n",
       "AdaBoostClassifier           11.70  \n",
       "SVC                           9.13  \n",
       "DecisionTreeClassifier        2.33  "
      ]
     },
     "execution_count": 28,
     "metadata": {},
     "output_type": "execute_result"
    }
   ],
   "source": [
    "predictions4.sort_values(by=\"F1 Score\", ascending=False).head(10)"
   ]
  },
  {
   "cell_type": "markdown",
   "id": "137ad30b",
   "metadata": {},
   "source": [
    "## USE 2048 BITS FINGERPRINTS"
   ]
  },
  {
   "cell_type": "code",
   "execution_count": 29,
   "id": "832cec48",
   "metadata": {
    "execution": {
     "iopub.execute_input": "2022-10-16T13:17:18.894473Z",
     "iopub.status.busy": "2022-10-16T13:17:18.894371Z",
     "iopub.status.idle": "2022-10-16T13:17:18.936264Z",
     "shell.execute_reply": "2022-10-16T13:17:18.935925Z"
    }
   },
   "outputs": [
    {
     "data": {
      "text/html": [
       "<div>\n",
       "<style scoped>\n",
       "    .dataframe tbody tr th:only-of-type {\n",
       "        vertical-align: middle;\n",
       "    }\n",
       "\n",
       "    .dataframe tbody tr th {\n",
       "        vertical-align: top;\n",
       "    }\n",
       "\n",
       "    .dataframe thead th {\n",
       "        text-align: right;\n",
       "    }\n",
       "</style>\n",
       "<table border=\"1\" class=\"dataframe\">\n",
       "  <thead>\n",
       "    <tr style=\"text-align: right;\">\n",
       "      <th></th>\n",
       "      <th>molecule_chembl_id</th>\n",
       "      <th>fp_Morgan3</th>\n",
       "      <th>fp_MorganF</th>\n",
       "      <th>fp_MAP4</th>\n",
       "      <th>pChEMBL_HDAC6</th>\n",
       "    </tr>\n",
       "  </thead>\n",
       "  <tbody>\n",
       "    <tr>\n",
       "      <th>0</th>\n",
       "      <td>CHEMBL4162826</td>\n",
       "      <td>[0, 0, 0, 1, 0, 0, 0, 0, 0, 0, 0, 0, 0, 0, 0, ...</td>\n",
       "      <td>[1, 1, 1, 1, 1, 0, 1, 0, 0, 0, 0, 0, 0, 0, 0, ...</td>\n",
       "      <td>[5976924, 11099288, 6095547, 7501117, 9204552,...</td>\n",
       "      <td>8.22</td>\n",
       "    </tr>\n",
       "    <tr>\n",
       "      <th>1</th>\n",
       "      <td>CHEMBL4217166</td>\n",
       "      <td>[0, 0, 0, 0, 0, 0, 0, 0, 0, 1, 0, 0, 0, 0, 0, ...</td>\n",
       "      <td>[1, 1, 1, 1, 1, 1, 1, 0, 0, 0, 0, 0, 0, 0, 0, ...</td>\n",
       "      <td>[960441, 7687405, 1457796, 4020886, 3402370, 1...</td>\n",
       "      <td>6.72</td>\n",
       "    </tr>\n",
       "    <tr>\n",
       "      <th>2</th>\n",
       "      <td>CHEMBL2312168</td>\n",
       "      <td>[0, 0, 0, 0, 0, 0, 0, 0, 0, 0, 0, 1, 0, 1, 0, ...</td>\n",
       "      <td>[1, 1, 1, 1, 1, 0, 0, 0, 0, 0, 0, 0, 0, 0, 0, ...</td>\n",
       "      <td>[4828773, 16948577, 8033062, 52924930, 583588,...</td>\n",
       "      <td>7.30</td>\n",
       "    </tr>\n",
       "    <tr>\n",
       "      <th>3</th>\n",
       "      <td>CHEMBL4537466</td>\n",
       "      <td>[0, 0, 0, 0, 0, 1, 0, 0, 0, 0, 0, 0, 0, 0, 0, ...</td>\n",
       "      <td>[1, 1, 1, 1, 1, 0, 0, 0, 1, 0, 0, 1, 0, 0, 0, ...</td>\n",
       "      <td>[4681989, 3821889, 137380, 6078715, 11250182, ...</td>\n",
       "      <td>8.01</td>\n",
       "    </tr>\n",
       "    <tr>\n",
       "      <th>4</th>\n",
       "      <td>CHEMBL253309</td>\n",
       "      <td>[1, 1, 0, 0, 0, 1, 0, 0, 0, 0, 0, 0, 0, 0, 0, ...</td>\n",
       "      <td>[1, 1, 1, 0, 1, 0, 1, 0, 0, 0, 0, 0, 0, 0, 0, ...</td>\n",
       "      <td>[145521, 1787454, 2475943, 2937747, 3299882, 2...</td>\n",
       "      <td>6.64</td>\n",
       "    </tr>\n",
       "    <tr>\n",
       "      <th>...</th>\n",
       "      <td>...</td>\n",
       "      <td>...</td>\n",
       "      <td>...</td>\n",
       "      <td>...</td>\n",
       "      <td>...</td>\n",
       "    </tr>\n",
       "    <tr>\n",
       "      <th>2966</th>\n",
       "      <td>CHEMBL4078721</td>\n",
       "      <td>[0, 1, 0, 0, 0, 0, 0, 0, 0, 0, 0, 0, 0, 0, 0, ...</td>\n",
       "      <td>[1, 1, 1, 1, 1, 0, 1, 0, 0, 0, 0, 0, 0, 0, 0, ...</td>\n",
       "      <td>[11130522, 9724804, 1959173, 1535176, 3310692,...</td>\n",
       "      <td>5.55</td>\n",
       "    </tr>\n",
       "    <tr>\n",
       "      <th>2967</th>\n",
       "      <td>CHEMBL4593948</td>\n",
       "      <td>[0, 1, 0, 0, 0, 0, 0, 0, 0, 0, 0, 0, 0, 0, 0, ...</td>\n",
       "      <td>[1, 1, 1, 1, 1, 0, 1, 0, 0, 0, 0, 0, 0, 0, 0, ...</td>\n",
       "      <td>[5155069, 9016152, 1578989, 8623717, 23971717,...</td>\n",
       "      <td>5.44</td>\n",
       "    </tr>\n",
       "    <tr>\n",
       "      <th>2968</th>\n",
       "      <td>CHEMBL1812335</td>\n",
       "      <td>[0, 1, 0, 0, 0, 0, 0, 0, 0, 0, 0, 0, 0, 0, 0, ...</td>\n",
       "      <td>[1, 0, 1, 0, 1, 0, 0, 0, 1, 0, 0, 0, 0, 0, 0, ...</td>\n",
       "      <td>[16425928, 17077509, 11223021, 13354224, 86723...</td>\n",
       "      <td>4.52</td>\n",
       "    </tr>\n",
       "    <tr>\n",
       "      <th>2969</th>\n",
       "      <td>CHEMBL3758451</td>\n",
       "      <td>[0, 0, 1, 0, 0, 0, 0, 0, 1, 0, 0, 0, 0, 0, 0, ...</td>\n",
       "      <td>[1, 1, 1, 1, 1, 1, 1, 0, 0, 0, 0, 0, 0, 0, 0, ...</td>\n",
       "      <td>[30954026, 45888749, 8033062, 7467572, 1920889...</td>\n",
       "      <td>6.62</td>\n",
       "    </tr>\n",
       "    <tr>\n",
       "      <th>2970</th>\n",
       "      <td>CHEMBL2048750</td>\n",
       "      <td>[0, 0, 0, 0, 0, 0, 0, 0, 0, 0, 0, 0, 0, 0, 0, ...</td>\n",
       "      <td>[1, 1, 1, 1, 1, 0, 1, 0, 0, 0, 0, 0, 0, 0, 0, ...</td>\n",
       "      <td>[4229322, 1506859, 2107370, 10345668, 1993176,...</td>\n",
       "      <td>7.34</td>\n",
       "    </tr>\n",
       "  </tbody>\n",
       "</table>\n",
       "<p>2971 rows × 5 columns</p>\n",
       "</div>"
      ],
      "text/plain": [
       "     molecule_chembl_id                                         fp_Morgan3  \\\n",
       "0         CHEMBL4162826  [0, 0, 0, 1, 0, 0, 0, 0, 0, 0, 0, 0, 0, 0, 0, ...   \n",
       "1         CHEMBL4217166  [0, 0, 0, 0, 0, 0, 0, 0, 0, 1, 0, 0, 0, 0, 0, ...   \n",
       "2         CHEMBL2312168  [0, 0, 0, 0, 0, 0, 0, 0, 0, 0, 0, 1, 0, 1, 0, ...   \n",
       "3         CHEMBL4537466  [0, 0, 0, 0, 0, 1, 0, 0, 0, 0, 0, 0, 0, 0, 0, ...   \n",
       "4          CHEMBL253309  [1, 1, 0, 0, 0, 1, 0, 0, 0, 0, 0, 0, 0, 0, 0, ...   \n",
       "...                 ...                                                ...   \n",
       "2966      CHEMBL4078721  [0, 1, 0, 0, 0, 0, 0, 0, 0, 0, 0, 0, 0, 0, 0, ...   \n",
       "2967      CHEMBL4593948  [0, 1, 0, 0, 0, 0, 0, 0, 0, 0, 0, 0, 0, 0, 0, ...   \n",
       "2968      CHEMBL1812335  [0, 1, 0, 0, 0, 0, 0, 0, 0, 0, 0, 0, 0, 0, 0, ...   \n",
       "2969      CHEMBL3758451  [0, 0, 1, 0, 0, 0, 0, 0, 1, 0, 0, 0, 0, 0, 0, ...   \n",
       "2970      CHEMBL2048750  [0, 0, 0, 0, 0, 0, 0, 0, 0, 0, 0, 0, 0, 0, 0, ...   \n",
       "\n",
       "                                             fp_MorganF  \\\n",
       "0     [1, 1, 1, 1, 1, 0, 1, 0, 0, 0, 0, 0, 0, 0, 0, ...   \n",
       "1     [1, 1, 1, 1, 1, 1, 1, 0, 0, 0, 0, 0, 0, 0, 0, ...   \n",
       "2     [1, 1, 1, 1, 1, 0, 0, 0, 0, 0, 0, 0, 0, 0, 0, ...   \n",
       "3     [1, 1, 1, 1, 1, 0, 0, 0, 1, 0, 0, 1, 0, 0, 0, ...   \n",
       "4     [1, 1, 1, 0, 1, 0, 1, 0, 0, 0, 0, 0, 0, 0, 0, ...   \n",
       "...                                                 ...   \n",
       "2966  [1, 1, 1, 1, 1, 0, 1, 0, 0, 0, 0, 0, 0, 0, 0, ...   \n",
       "2967  [1, 1, 1, 1, 1, 0, 1, 0, 0, 0, 0, 0, 0, 0, 0, ...   \n",
       "2968  [1, 0, 1, 0, 1, 0, 0, 0, 1, 0, 0, 0, 0, 0, 0, ...   \n",
       "2969  [1, 1, 1, 1, 1, 1, 1, 0, 0, 0, 0, 0, 0, 0, 0, ...   \n",
       "2970  [1, 1, 1, 1, 1, 0, 1, 0, 0, 0, 0, 0, 0, 0, 0, ...   \n",
       "\n",
       "                                                fp_MAP4  pChEMBL_HDAC6  \n",
       "0     [5976924, 11099288, 6095547, 7501117, 9204552,...           8.22  \n",
       "1     [960441, 7687405, 1457796, 4020886, 3402370, 1...           6.72  \n",
       "2     [4828773, 16948577, 8033062, 52924930, 583588,...           7.30  \n",
       "3     [4681989, 3821889, 137380, 6078715, 11250182, ...           8.01  \n",
       "4     [145521, 1787454, 2475943, 2937747, 3299882, 2...           6.64  \n",
       "...                                                 ...            ...  \n",
       "2966  [11130522, 9724804, 1959173, 1535176, 3310692,...           5.55  \n",
       "2967  [5155069, 9016152, 1578989, 8623717, 23971717,...           5.44  \n",
       "2968  [16425928, 17077509, 11223021, 13354224, 86723...           4.52  \n",
       "2969  [30954026, 45888749, 8033062, 7467572, 1920889...           6.62  \n",
       "2970  [4229322, 1506859, 2107370, 10345668, 1993176,...           7.34  \n",
       "\n",
       "[2971 rows x 5 columns]"
      ]
     },
     "execution_count": 29,
     "metadata": {},
     "output_type": "execute_result"
    }
   ],
   "source": [
    "df2 = pd.read_pickle(HDAC6/\"HDAC6_2048B.csv\")\n",
    "df2 = df2.sample(frac=1).reset_index(drop=True)\n",
    "df2"
   ]
  },
  {
   "cell_type": "code",
   "execution_count": 31,
   "id": "a364760d",
   "metadata": {
    "execution": {
     "iopub.execute_input": "2022-10-16T13:17:18.937481Z",
     "iopub.status.busy": "2022-10-16T13:17:18.937339Z",
     "iopub.status.idle": "2022-10-16T13:17:18.941073Z",
     "shell.execute_reply": "2022-10-16T13:17:18.940758Z"
    }
   },
   "outputs": [
    {
     "name": "stdout",
     "output_type": "stream",
     "text": [
      "Number of active compounds: 1837\n",
      "Number of inactive compounds: 1134\n"
     ]
    }
   ],
   "source": [
    "# Add column for activity\n",
    "df2[\"activity\"] = np.zeros(len(df2))\n",
    "\n",
    "# Mark every molecule as active with an pIC50 of >= 6.6, 0 otherwise\n",
    "df2.loc[df2[df2.pChEMBL_HDAC6 >= 6.6].index, \"activity\"] = 1.0\n",
    "\n",
    "# NBVAL_CHECK_OUTPUT\n",
    "print(\"Number of active compounds:\", int(df2.activity.sum()))\n",
    "print(\"Number of inactive compounds:\", len(df2) - int(df2.activity.sum()))"
   ]
  },
  {
   "cell_type": "code",
   "execution_count": 32,
   "id": "1b2dd0c7",
   "metadata": {
    "execution": {
     "iopub.execute_input": "2022-10-16T13:17:18.942260Z",
     "iopub.status.busy": "2022-10-16T13:17:18.942098Z",
     "iopub.status.idle": "2022-10-16T13:17:18.952787Z",
     "shell.execute_reply": "2022-10-16T13:17:18.952357Z"
    }
   },
   "outputs": [],
   "source": [
    "#2048 bits Morgan fingerprints with radius of 3\n",
    "X5 = np.array(list((df2['fp_Morgan3']))).astype(float)\n",
    "#X.shape\n",
    "Y5 = df2[\"activity\"].values\n",
    "#y.shape"
   ]
  },
  {
   "cell_type": "code",
   "execution_count": 33,
   "id": "96dafe9d",
   "metadata": {
    "execution": {
     "iopub.execute_input": "2022-10-16T13:17:18.954155Z",
     "iopub.status.busy": "2022-10-16T13:17:18.954022Z",
     "iopub.status.idle": "2022-10-16T13:17:18.962008Z",
     "shell.execute_reply": "2022-10-16T13:17:18.961578Z"
    }
   },
   "outputs": [
    {
     "name": "stdout",
     "output_type": "stream",
     "text": [
      "Shape of training data: (2376, 2048)\n",
      "Shape of test data: (595, 2048)\n"
     ]
    }
   ],
   "source": [
    "# Split the data into training and test set\n",
    "# Perform data splitting using 80/20 ratio\n",
    "X_train5, X_test5, Y_train5, Y_test5 = train_test_split(X5, Y5, test_size=0.2, random_state=42)\n",
    "\n",
    "# Print the shape of training and testing data\n",
    "print(\"Shape of training data:\", X_train5.shape)\n",
    "print(\"Shape of test data:\", X_test5.shape)\n",
    "# NBVAL_CHECK_OUTPUT"
   ]
  },
  {
   "cell_type": "code",
   "execution_count": 34,
   "id": "06f96090",
   "metadata": {
    "execution": {
     "iopub.execute_input": "2022-10-16T13:17:18.963318Z",
     "iopub.status.busy": "2022-10-16T13:17:18.963187Z",
     "iopub.status.idle": "2022-10-16T13:20:45.708963Z",
     "shell.execute_reply": "2022-10-16T13:20:45.708628Z"
    }
   },
   "outputs": [
    {
     "name": "stderr",
     "output_type": "stream",
     "text": [
      " 90%|█████████████████████████████████████████████████████████████████████████▌        | 26/29 [01:55<00:21,  7.13s/it]"
     ]
    },
    {
     "name": "stdout",
     "output_type": "stream",
     "text": [
      "[15:58:02] WARNING: C:/Users/Administrator/workspace/xgboost-win64_release_1.5.1/src/learner.cc:1115: Starting in XGBoost 1.3.0, the default evaluation metric used with the objective 'binary:logistic' was changed from 'error' to 'logloss'. Explicitly set eval_metric if you'd like to restore the old behavior.\n"
     ]
    },
    {
     "name": "stderr",
     "output_type": "stream",
     "text": [
      "100%|██████████████████████████████████████████████████████████████████████████████████| 29/29 [02:04<00:00,  4.29s/it]\n"
     ]
    }
   ],
   "source": [
    "clf5 = LazyClassifier(verbose=0,ignore_warnings=True, custom_metric=None)\n",
    "models5, predictions5 = clf5.fit(X_train5, X_test5, Y_train5, Y_test5)"
   ]
  },
  {
   "cell_type": "code",
   "execution_count": 35,
   "id": "a788d0a0",
   "metadata": {
    "execution": {
     "iopub.execute_input": "2022-10-16T13:20:45.710372Z",
     "iopub.status.busy": "2022-10-16T13:20:45.710175Z",
     "iopub.status.idle": "2022-10-16T13:20:45.714808Z",
     "shell.execute_reply": "2022-10-16T13:20:45.714565Z"
    }
   },
   "outputs": [
    {
     "data": {
      "text/html": [
       "<div>\n",
       "<style scoped>\n",
       "    .dataframe tbody tr th:only-of-type {\n",
       "        vertical-align: middle;\n",
       "    }\n",
       "\n",
       "    .dataframe tbody tr th {\n",
       "        vertical-align: top;\n",
       "    }\n",
       "\n",
       "    .dataframe thead th {\n",
       "        text-align: right;\n",
       "    }\n",
       "</style>\n",
       "<table border=\"1\" class=\"dataframe\">\n",
       "  <thead>\n",
       "    <tr style=\"text-align: right;\">\n",
       "      <th></th>\n",
       "      <th>Accuracy</th>\n",
       "      <th>Balanced Accuracy</th>\n",
       "      <th>ROC AUC</th>\n",
       "      <th>F1 Score</th>\n",
       "      <th>Time Taken</th>\n",
       "    </tr>\n",
       "    <tr>\n",
       "      <th>Model</th>\n",
       "      <th></th>\n",
       "      <th></th>\n",
       "      <th></th>\n",
       "      <th></th>\n",
       "      <th></th>\n",
       "    </tr>\n",
       "  </thead>\n",
       "  <tbody>\n",
       "    <tr>\n",
       "      <th>ExtraTreesClassifier</th>\n",
       "      <td>0.86</td>\n",
       "      <td>0.85</td>\n",
       "      <td>0.85</td>\n",
       "      <td>0.86</td>\n",
       "      <td>2.73</td>\n",
       "    </tr>\n",
       "    <tr>\n",
       "      <th>RandomForestClassifier</th>\n",
       "      <td>0.85</td>\n",
       "      <td>0.84</td>\n",
       "      <td>0.84</td>\n",
       "      <td>0.85</td>\n",
       "      <td>1.97</td>\n",
       "    </tr>\n",
       "    <tr>\n",
       "      <th>XGBClassifier</th>\n",
       "      <td>0.85</td>\n",
       "      <td>0.84</td>\n",
       "      <td>0.84</td>\n",
       "      <td>0.85</td>\n",
       "      <td>6.13</td>\n",
       "    </tr>\n",
       "    <tr>\n",
       "      <th>LGBMClassifier</th>\n",
       "      <td>0.85</td>\n",
       "      <td>0.84</td>\n",
       "      <td>0.84</td>\n",
       "      <td>0.85</td>\n",
       "      <td>2.86</td>\n",
       "    </tr>\n",
       "    <tr>\n",
       "      <th>SVC</th>\n",
       "      <td>0.84</td>\n",
       "      <td>0.82</td>\n",
       "      <td>0.82</td>\n",
       "      <td>0.84</td>\n",
       "      <td>17.90</td>\n",
       "    </tr>\n",
       "    <tr>\n",
       "      <th>NuSVC</th>\n",
       "      <td>0.84</td>\n",
       "      <td>0.82</td>\n",
       "      <td>0.82</td>\n",
       "      <td>0.84</td>\n",
       "      <td>17.77</td>\n",
       "    </tr>\n",
       "    <tr>\n",
       "      <th>BaggingClassifier</th>\n",
       "      <td>0.83</td>\n",
       "      <td>0.82</td>\n",
       "      <td>0.82</td>\n",
       "      <td>0.83</td>\n",
       "      <td>6.67</td>\n",
       "    </tr>\n",
       "    <tr>\n",
       "      <th>DecisionTreeClassifier</th>\n",
       "      <td>0.82</td>\n",
       "      <td>0.81</td>\n",
       "      <td>0.81</td>\n",
       "      <td>0.82</td>\n",
       "      <td>1.18</td>\n",
       "    </tr>\n",
       "    <tr>\n",
       "      <th>BernoulliNB</th>\n",
       "      <td>0.81</td>\n",
       "      <td>0.80</td>\n",
       "      <td>0.80</td>\n",
       "      <td>0.81</td>\n",
       "      <td>0.44</td>\n",
       "    </tr>\n",
       "    <tr>\n",
       "      <th>NearestCentroid</th>\n",
       "      <td>0.81</td>\n",
       "      <td>0.79</td>\n",
       "      <td>0.79</td>\n",
       "      <td>0.81</td>\n",
       "      <td>0.37</td>\n",
       "    </tr>\n",
       "  </tbody>\n",
       "</table>\n",
       "</div>"
      ],
      "text/plain": [
       "                        Accuracy  Balanced Accuracy  ROC AUC  F1 Score  \\\n",
       "Model                                                                    \n",
       "ExtraTreesClassifier        0.86               0.85     0.85      0.86   \n",
       "RandomForestClassifier      0.85               0.84     0.84      0.85   \n",
       "XGBClassifier               0.85               0.84     0.84      0.85   \n",
       "LGBMClassifier              0.85               0.84     0.84      0.85   \n",
       "SVC                         0.84               0.82     0.82      0.84   \n",
       "NuSVC                       0.84               0.82     0.82      0.84   \n",
       "BaggingClassifier           0.83               0.82     0.82      0.83   \n",
       "DecisionTreeClassifier      0.82               0.81     0.81      0.82   \n",
       "BernoulliNB                 0.81               0.80     0.80      0.81   \n",
       "NearestCentroid             0.81               0.79     0.79      0.81   \n",
       "\n",
       "                        Time Taken  \n",
       "Model                               \n",
       "ExtraTreesClassifier          2.73  \n",
       "RandomForestClassifier        1.97  \n",
       "XGBClassifier                 6.13  \n",
       "LGBMClassifier                2.86  \n",
       "SVC                          17.90  \n",
       "NuSVC                        17.77  \n",
       "BaggingClassifier             6.67  \n",
       "DecisionTreeClassifier        1.18  \n",
       "BernoulliNB                   0.44  \n",
       "NearestCentroid               0.37  "
      ]
     },
     "execution_count": 35,
     "metadata": {},
     "output_type": "execute_result"
    }
   ],
   "source": [
    "predictions5.sort_values(by=\"F1 Score\", ascending=False).head(10)"
   ]
  },
  {
   "cell_type": "code",
   "execution_count": 36,
   "id": "98206b37",
   "metadata": {
    "execution": {
     "iopub.execute_input": "2022-10-16T13:20:45.719071Z",
     "iopub.status.busy": "2022-10-16T13:20:45.718972Z",
     "iopub.status.idle": "2022-10-16T13:20:45.728743Z",
     "shell.execute_reply": "2022-10-16T13:20:45.728402Z"
    }
   },
   "outputs": [],
   "source": [
    "#2048 bits Morgan fingerprints with feautures\n",
    "X6 = np.array(list((df2['fp_MorganF']))).astype(float)\n",
    "#X.shape\n",
    "Y6 = df2[\"activity\"].values\n",
    "#y.shape"
   ]
  },
  {
   "cell_type": "code",
   "execution_count": 37,
   "id": "9ad46f2d",
   "metadata": {
    "execution": {
     "iopub.execute_input": "2022-10-16T13:20:45.730292Z",
     "iopub.status.busy": "2022-10-16T13:20:45.730164Z",
     "iopub.status.idle": "2022-10-16T13:20:45.738930Z",
     "shell.execute_reply": "2022-10-16T13:20:45.738659Z"
    }
   },
   "outputs": [
    {
     "name": "stdout",
     "output_type": "stream",
     "text": [
      "Shape of training data: (2376, 2048)\n",
      "Shape of test data: (595, 2048)\n"
     ]
    }
   ],
   "source": [
    "# Split the data into training and test set\n",
    "# Perform data splitting using 80/20 ratio\n",
    "X_train6, X_test6, Y_train6, Y_test6 = train_test_split(X6, Y6, test_size=0.2, random_state=42)\n",
    "\n",
    "# Print the shape of training and testing data\n",
    "print(\"Shape of training data:\", X_train6.shape)\n",
    "print(\"Shape of test data:\", X_test6.shape)\n",
    "# NBVAL_CHECK_OUTPUT"
   ]
  },
  {
   "cell_type": "code",
   "execution_count": 38,
   "id": "34689bb2",
   "metadata": {
    "execution": {
     "iopub.execute_input": "2022-10-16T13:20:45.740097Z",
     "iopub.status.busy": "2022-10-16T13:20:45.739989Z",
     "iopub.status.idle": "2022-10-16T13:23:58.411351Z",
     "shell.execute_reply": "2022-10-16T13:23:58.411021Z"
    }
   },
   "outputs": [
    {
     "name": "stderr",
     "output_type": "stream",
     "text": [
      " 90%|█████████████████████████████████████████████████████████████████████████▌        | 26/29 [01:51<00:18,  6.17s/it]"
     ]
    },
    {
     "name": "stdout",
     "output_type": "stream",
     "text": [
      "[16:00:03] WARNING: C:/Users/Administrator/workspace/xgboost-win64_release_1.5.1/src/learner.cc:1115: Starting in XGBoost 1.3.0, the default evaluation metric used with the objective 'binary:logistic' was changed from 'error' to 'logloss'. Explicitly set eval_metric if you'd like to restore the old behavior.\n"
     ]
    },
    {
     "name": "stderr",
     "output_type": "stream",
     "text": [
      "100%|██████████████████████████████████████████████████████████████████████████████████| 29/29 [01:58<00:00,  4.09s/it]\n"
     ]
    }
   ],
   "source": [
    "clf6 = LazyClassifier(verbose=0,ignore_warnings=True, custom_metric=None)\n",
    "models6, predictions6 = clf6.fit(X_train6, X_test6, Y_train6, Y_test6)"
   ]
  },
  {
   "cell_type": "code",
   "execution_count": 39,
   "id": "53a54756",
   "metadata": {
    "execution": {
     "iopub.execute_input": "2022-10-16T13:23:58.412697Z",
     "iopub.status.busy": "2022-10-16T13:23:58.412573Z",
     "iopub.status.idle": "2022-10-16T13:23:58.416981Z",
     "shell.execute_reply": "2022-10-16T13:23:58.416729Z"
    }
   },
   "outputs": [
    {
     "data": {
      "text/html": [
       "<div>\n",
       "<style scoped>\n",
       "    .dataframe tbody tr th:only-of-type {\n",
       "        vertical-align: middle;\n",
       "    }\n",
       "\n",
       "    .dataframe tbody tr th {\n",
       "        vertical-align: top;\n",
       "    }\n",
       "\n",
       "    .dataframe thead th {\n",
       "        text-align: right;\n",
       "    }\n",
       "</style>\n",
       "<table border=\"1\" class=\"dataframe\">\n",
       "  <thead>\n",
       "    <tr style=\"text-align: right;\">\n",
       "      <th></th>\n",
       "      <th>Accuracy</th>\n",
       "      <th>Balanced Accuracy</th>\n",
       "      <th>ROC AUC</th>\n",
       "      <th>F1 Score</th>\n",
       "      <th>Time Taken</th>\n",
       "    </tr>\n",
       "    <tr>\n",
       "      <th>Model</th>\n",
       "      <th></th>\n",
       "      <th></th>\n",
       "      <th></th>\n",
       "      <th></th>\n",
       "      <th></th>\n",
       "    </tr>\n",
       "  </thead>\n",
       "  <tbody>\n",
       "    <tr>\n",
       "      <th>ExtraTreesClassifier</th>\n",
       "      <td>0.85</td>\n",
       "      <td>0.83</td>\n",
       "      <td>0.83</td>\n",
       "      <td>0.84</td>\n",
       "      <td>3.80</td>\n",
       "    </tr>\n",
       "    <tr>\n",
       "      <th>BaggingClassifier</th>\n",
       "      <td>0.84</td>\n",
       "      <td>0.83</td>\n",
       "      <td>0.83</td>\n",
       "      <td>0.84</td>\n",
       "      <td>5.25</td>\n",
       "    </tr>\n",
       "    <tr>\n",
       "      <th>RandomForestClassifier</th>\n",
       "      <td>0.84</td>\n",
       "      <td>0.82</td>\n",
       "      <td>0.82</td>\n",
       "      <td>0.84</td>\n",
       "      <td>1.95</td>\n",
       "    </tr>\n",
       "    <tr>\n",
       "      <th>LGBMClassifier</th>\n",
       "      <td>0.83</td>\n",
       "      <td>0.82</td>\n",
       "      <td>0.82</td>\n",
       "      <td>0.83</td>\n",
       "      <td>1.28</td>\n",
       "    </tr>\n",
       "    <tr>\n",
       "      <th>XGBClassifier</th>\n",
       "      <td>0.83</td>\n",
       "      <td>0.81</td>\n",
       "      <td>0.81</td>\n",
       "      <td>0.83</td>\n",
       "      <td>5.92</td>\n",
       "    </tr>\n",
       "    <tr>\n",
       "      <th>DecisionTreeClassifier</th>\n",
       "      <td>0.82</td>\n",
       "      <td>0.81</td>\n",
       "      <td>0.81</td>\n",
       "      <td>0.82</td>\n",
       "      <td>1.11</td>\n",
       "    </tr>\n",
       "    <tr>\n",
       "      <th>NuSVC</th>\n",
       "      <td>0.82</td>\n",
       "      <td>0.79</td>\n",
       "      <td>0.79</td>\n",
       "      <td>0.82</td>\n",
       "      <td>17.44</td>\n",
       "    </tr>\n",
       "    <tr>\n",
       "      <th>SVC</th>\n",
       "      <td>0.82</td>\n",
       "      <td>0.79</td>\n",
       "      <td>0.79</td>\n",
       "      <td>0.81</td>\n",
       "      <td>15.14</td>\n",
       "    </tr>\n",
       "    <tr>\n",
       "      <th>ExtraTreeClassifier</th>\n",
       "      <td>0.81</td>\n",
       "      <td>0.79</td>\n",
       "      <td>0.79</td>\n",
       "      <td>0.80</td>\n",
       "      <td>0.34</td>\n",
       "    </tr>\n",
       "    <tr>\n",
       "      <th>KNeighborsClassifier</th>\n",
       "      <td>0.79</td>\n",
       "      <td>0.75</td>\n",
       "      <td>0.75</td>\n",
       "      <td>0.78</td>\n",
       "      <td>6.71</td>\n",
       "    </tr>\n",
       "  </tbody>\n",
       "</table>\n",
       "</div>"
      ],
      "text/plain": [
       "                        Accuracy  Balanced Accuracy  ROC AUC  F1 Score  \\\n",
       "Model                                                                    \n",
       "ExtraTreesClassifier        0.85               0.83     0.83      0.84   \n",
       "BaggingClassifier           0.84               0.83     0.83      0.84   \n",
       "RandomForestClassifier      0.84               0.82     0.82      0.84   \n",
       "LGBMClassifier              0.83               0.82     0.82      0.83   \n",
       "XGBClassifier               0.83               0.81     0.81      0.83   \n",
       "DecisionTreeClassifier      0.82               0.81     0.81      0.82   \n",
       "NuSVC                       0.82               0.79     0.79      0.82   \n",
       "SVC                         0.82               0.79     0.79      0.81   \n",
       "ExtraTreeClassifier         0.81               0.79     0.79      0.80   \n",
       "KNeighborsClassifier        0.79               0.75     0.75      0.78   \n",
       "\n",
       "                        Time Taken  \n",
       "Model                               \n",
       "ExtraTreesClassifier          3.80  \n",
       "BaggingClassifier             5.25  \n",
       "RandomForestClassifier        1.95  \n",
       "LGBMClassifier                1.28  \n",
       "XGBClassifier                 5.92  \n",
       "DecisionTreeClassifier        1.11  \n",
       "NuSVC                        17.44  \n",
       "SVC                          15.14  \n",
       "ExtraTreeClassifier           0.34  \n",
       "KNeighborsClassifier          6.71  "
      ]
     },
     "execution_count": 39,
     "metadata": {},
     "output_type": "execute_result"
    }
   ],
   "source": [
    "predictions6.sort_values(by=\"F1 Score\", ascending=False).head(10)"
   ]
  },
  {
   "cell_type": "code",
   "execution_count": 40,
   "id": "b6400fb5",
   "metadata": {
    "execution": {
     "iopub.execute_input": "2022-10-16T13:23:58.421101Z",
     "iopub.status.busy": "2022-10-16T13:23:58.420985Z",
     "iopub.status.idle": "2022-10-16T13:23:58.430978Z",
     "shell.execute_reply": "2022-10-16T13:23:58.430631Z"
    }
   },
   "outputs": [],
   "source": [
    "#2048 bits MAP4 fingerprints\n",
    "X7 = np.array(list((df2['fp_MAP4']))).astype(float)\n",
    "#X.shape\n",
    "Y7 = df2[\"activity\"].values\n",
    "#y.shape"
   ]
  },
  {
   "cell_type": "code",
   "execution_count": 41,
   "id": "93648d5d",
   "metadata": {
    "execution": {
     "iopub.execute_input": "2022-10-16T13:23:58.432355Z",
     "iopub.status.busy": "2022-10-16T13:23:58.432211Z",
     "iopub.status.idle": "2022-10-16T13:23:58.440980Z",
     "shell.execute_reply": "2022-10-16T13:23:58.440688Z"
    }
   },
   "outputs": [
    {
     "name": "stdout",
     "output_type": "stream",
     "text": [
      "Shape of training data: (2376, 2048)\n",
      "Shape of test data: (595, 2048)\n"
     ]
    }
   ],
   "source": [
    "# Split the data into training and test set\n",
    "# Perform data splitting using 80/20 ratio\n",
    "X_train7, X_test7, Y_train7, Y_test7 = train_test_split(X7, Y7, test_size=0.2, random_state=42)\n",
    "\n",
    "# Print the shape of training and testing data\n",
    "print(\"Shape of training data:\", X_train7.shape)\n",
    "print(\"Shape of test data:\", X_test7.shape)\n",
    "# NBVAL_CHECK_OUTPUT"
   ]
  },
  {
   "cell_type": "code",
   "execution_count": 42,
   "id": "5950c58f",
   "metadata": {
    "execution": {
     "iopub.execute_input": "2022-10-16T13:23:58.442116Z",
     "iopub.status.busy": "2022-10-16T13:23:58.441989Z",
     "iopub.status.idle": "2022-10-16T13:28:44.226708Z",
     "shell.execute_reply": "2022-10-16T13:28:44.226241Z"
    }
   },
   "outputs": [
    {
     "name": "stderr",
     "output_type": "stream",
     "text": [
      " 90%|█████████████████████████████████████████████████████████████████████████▌        | 26/29 [02:45<00:20,  6.93s/it]"
     ]
    },
    {
     "name": "stdout",
     "output_type": "stream",
     "text": [
      "[16:02:56] WARNING: C:/Users/Administrator/workspace/xgboost-win64_release_1.5.1/src/learner.cc:1115: Starting in XGBoost 1.3.0, the default evaluation metric used with the objective 'binary:logistic' was changed from 'error' to 'logloss'. Explicitly set eval_metric if you'd like to restore the old behavior.\n"
     ]
    },
    {
     "name": "stderr",
     "output_type": "stream",
     "text": [
      "100%|██████████████████████████████████████████████████████████████████████████████████| 29/29 [03:30<00:00,  7.26s/it]\n"
     ]
    }
   ],
   "source": [
    "# Defines and builds the lazyclassifier\n",
    "clf7 = LazyClassifier(verbose=0,ignore_warnings=True, custom_metric=None)\n",
    "models7, predictions7 = clf7.fit(X_train7, X_test7, Y_train7, Y_test7)"
   ]
  },
  {
   "cell_type": "code",
   "execution_count": 43,
   "id": "a447e411",
   "metadata": {
    "execution": {
     "iopub.execute_input": "2022-10-16T13:28:44.228148Z",
     "iopub.status.busy": "2022-10-16T13:28:44.228013Z",
     "iopub.status.idle": "2022-10-16T13:28:44.233675Z",
     "shell.execute_reply": "2022-10-16T13:28:44.233347Z"
    }
   },
   "outputs": [
    {
     "data": {
      "text/html": [
       "<div>\n",
       "<style scoped>\n",
       "    .dataframe tbody tr th:only-of-type {\n",
       "        vertical-align: middle;\n",
       "    }\n",
       "\n",
       "    .dataframe tbody tr th {\n",
       "        vertical-align: top;\n",
       "    }\n",
       "\n",
       "    .dataframe thead th {\n",
       "        text-align: right;\n",
       "    }\n",
       "</style>\n",
       "<table border=\"1\" class=\"dataframe\">\n",
       "  <thead>\n",
       "    <tr style=\"text-align: right;\">\n",
       "      <th></th>\n",
       "      <th>Accuracy</th>\n",
       "      <th>Balanced Accuracy</th>\n",
       "      <th>ROC AUC</th>\n",
       "      <th>F1 Score</th>\n",
       "      <th>Time Taken</th>\n",
       "    </tr>\n",
       "    <tr>\n",
       "      <th>Model</th>\n",
       "      <th></th>\n",
       "      <th></th>\n",
       "      <th></th>\n",
       "      <th></th>\n",
       "      <th></th>\n",
       "    </tr>\n",
       "  </thead>\n",
       "  <tbody>\n",
       "    <tr>\n",
       "      <th>XGBClassifier</th>\n",
       "      <td>0.86</td>\n",
       "      <td>0.84</td>\n",
       "      <td>0.84</td>\n",
       "      <td>0.86</td>\n",
       "      <td>16.52</td>\n",
       "    </tr>\n",
       "    <tr>\n",
       "      <th>LGBMClassifier</th>\n",
       "      <td>0.86</td>\n",
       "      <td>0.84</td>\n",
       "      <td>0.84</td>\n",
       "      <td>0.85</td>\n",
       "      <td>28.59</td>\n",
       "    </tr>\n",
       "    <tr>\n",
       "      <th>RandomForestClassifier</th>\n",
       "      <td>0.84</td>\n",
       "      <td>0.82</td>\n",
       "      <td>0.82</td>\n",
       "      <td>0.84</td>\n",
       "      <td>6.80</td>\n",
       "    </tr>\n",
       "    <tr>\n",
       "      <th>ExtraTreesClassifier</th>\n",
       "      <td>0.82</td>\n",
       "      <td>0.79</td>\n",
       "      <td>0.79</td>\n",
       "      <td>0.82</td>\n",
       "      <td>2.49</td>\n",
       "    </tr>\n",
       "    <tr>\n",
       "      <th>NuSVC</th>\n",
       "      <td>0.80</td>\n",
       "      <td>0.78</td>\n",
       "      <td>0.78</td>\n",
       "      <td>0.80</td>\n",
       "      <td>16.67</td>\n",
       "    </tr>\n",
       "    <tr>\n",
       "      <th>BaggingClassifier</th>\n",
       "      <td>0.80</td>\n",
       "      <td>0.79</td>\n",
       "      <td>0.79</td>\n",
       "      <td>0.80</td>\n",
       "      <td>34.46</td>\n",
       "    </tr>\n",
       "    <tr>\n",
       "      <th>AdaBoostClassifier</th>\n",
       "      <td>0.79</td>\n",
       "      <td>0.77</td>\n",
       "      <td>0.77</td>\n",
       "      <td>0.79</td>\n",
       "      <td>21.12</td>\n",
       "    </tr>\n",
       "    <tr>\n",
       "      <th>SVC</th>\n",
       "      <td>0.79</td>\n",
       "      <td>0.75</td>\n",
       "      <td>0.75</td>\n",
       "      <td>0.78</td>\n",
       "      <td>16.13</td>\n",
       "    </tr>\n",
       "    <tr>\n",
       "      <th>KNeighborsClassifier</th>\n",
       "      <td>0.78</td>\n",
       "      <td>0.75</td>\n",
       "      <td>0.75</td>\n",
       "      <td>0.77</td>\n",
       "      <td>7.35</td>\n",
       "    </tr>\n",
       "    <tr>\n",
       "      <th>Perceptron</th>\n",
       "      <td>0.77</td>\n",
       "      <td>0.75</td>\n",
       "      <td>0.75</td>\n",
       "      <td>0.77</td>\n",
       "      <td>0.54</td>\n",
       "    </tr>\n",
       "  </tbody>\n",
       "</table>\n",
       "</div>"
      ],
      "text/plain": [
       "                        Accuracy  Balanced Accuracy  ROC AUC  F1 Score  \\\n",
       "Model                                                                    \n",
       "XGBClassifier               0.86               0.84     0.84      0.86   \n",
       "LGBMClassifier              0.86               0.84     0.84      0.85   \n",
       "RandomForestClassifier      0.84               0.82     0.82      0.84   \n",
       "ExtraTreesClassifier        0.82               0.79     0.79      0.82   \n",
       "NuSVC                       0.80               0.78     0.78      0.80   \n",
       "BaggingClassifier           0.80               0.79     0.79      0.80   \n",
       "AdaBoostClassifier          0.79               0.77     0.77      0.79   \n",
       "SVC                         0.79               0.75     0.75      0.78   \n",
       "KNeighborsClassifier        0.78               0.75     0.75      0.77   \n",
       "Perceptron                  0.77               0.75     0.75      0.77   \n",
       "\n",
       "                        Time Taken  \n",
       "Model                               \n",
       "XGBClassifier                16.52  \n",
       "LGBMClassifier               28.59  \n",
       "RandomForestClassifier        6.80  \n",
       "ExtraTreesClassifier          2.49  \n",
       "NuSVC                        16.67  \n",
       "BaggingClassifier            34.46  \n",
       "AdaBoostClassifier           21.12  \n",
       "SVC                          16.13  \n",
       "KNeighborsClassifier          7.35  \n",
       "Perceptron                    0.54  "
      ]
     },
     "execution_count": 43,
     "metadata": {},
     "output_type": "execute_result"
    }
   ],
   "source": [
    "predictions7.sort_values(by=\"F1 Score\", ascending=False).head(10)"
   ]
  },
  {
   "cell_type": "code",
   "execution_count": 44,
   "id": "06640f15",
   "metadata": {},
   "outputs": [],
   "source": [
    "with pd.ExcelWriter(output/\"LazyPredictResults.xlsx\") as writer:\n",
    "   \n",
    "    # use to_excel function and specify the sheet_name and index \n",
    "    # to store the dataframe in specified sheet\n",
    "    predictions1.to_excel(writer, sheet_name=\"MACCS\", )\n",
    "    predictions2.to_excel(writer, sheet_name=\"Morgan 1024 Bits\", )\n",
    "    predictions3.to_excel(writer, sheet_name=\"MorganF 1024 Bits\", )\n",
    "    predictions4.to_excel(writer, sheet_name=\"MAP4 1024 Bits\", )\n",
    "    predictions5.to_excel(writer, sheet_name=\"Morgan 2048 Bits\", )\n",
    "    predictions6.to_excel(writer, sheet_name=\"MorganF 2048 Bits\", )\n",
    "    predictions7.to_excel(writer, sheet_name=\"MAP4 2048 Bits\", )\n",
    "    "
   ]
  }
 ],
 "metadata": {
  "kernelspec": {
   "display_name": "Python 3 (ipykernel)",
   "language": "python",
   "name": "python3"
  },
  "language_info": {
   "codemirror_mode": {
    "name": "ipython",
    "version": 3
   },
   "file_extension": ".py",
   "mimetype": "text/x-python",
   "name": "python",
   "nbconvert_exporter": "python",
   "pygments_lexer": "ipython3",
   "version": "3.8.13"
  }
 },
 "nbformat": 4,
 "nbformat_minor": 5
}
