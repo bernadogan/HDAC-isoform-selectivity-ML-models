{
 "cells": [
  {
   "cell_type": "code",
   "execution_count": 1,
   "id": "a5782b42",
   "metadata": {
    "execution": {
     "iopub.execute_input": "2022-10-16T13:05:54.397755Z",
     "iopub.status.busy": "2022-10-16T13:05:54.397583Z",
     "iopub.status.idle": "2022-10-16T13:05:55.231527Z",
     "shell.execute_reply": "2022-10-16T13:05:55.231245Z"
    }
   },
   "outputs": [
    {
     "name": "stderr",
     "output_type": "stream",
     "text": [
      "/home/arma/anaconda3/envs/teachopencadd/lib/python3.9/site-packages/sklearn/utils/deprecation.py:143: FutureWarning: The sklearn.utils.testing module is  deprecated in version 0.22 and will be removed in version 0.24. The corresponding classes / functions should instead be imported from sklearn.utils. Anything that cannot be imported from sklearn.utils is now part of the private API.\n",
      "  warnings.warn(message, FutureWarning)\n",
      "/home/arma/anaconda3/envs/teachopencadd/lib/python3.9/site-packages/xgboost/compat.py:36: FutureWarning: pandas.Int64Index is deprecated and will be removed from pandas in a future version. Use pandas.Index with the appropriate dtype instead.\n",
      "  from pandas import MultiIndex, Int64Index\n"
     ]
    }
   ],
   "source": [
    "import pandas as pd\n",
    "import numpy as np\n",
    "import matplotlib.pyplot as plt\n",
    "import seaborn as sns\n",
    "from sklearn.model_selection import train_test_split\n",
    "import lazypredict\n",
    "from lazypredict.Supervised import LazyClassifier\n",
    "from pathlib import Path\n",
    "import warnings\n",
    "warnings.filterwarnings('ignore')"
   ]
  },
  {
   "cell_type": "code",
   "execution_count": 4,
   "id": "c94d26f9",
   "metadata": {
    "execution": {
     "iopub.execute_input": "2022-10-16T13:05:55.233154Z",
     "iopub.status.busy": "2022-10-16T13:05:55.232985Z",
     "iopub.status.idle": "2022-10-16T13:05:55.235194Z",
     "shell.execute_reply": "2022-10-16T13:05:55.234954Z"
    }
   },
   "outputs": [
    {
     "data": {
      "text/plain": [
       "PosixPath('/home/arma/hDAC/HDAC/Activity/HDAC6/input')"
      ]
     },
     "execution_count": 4,
     "metadata": {},
     "output_type": "execute_result"
    }
   ],
   "source": [
    "# Set path to this notebook\n",
    "HERE = Path(_dh[-1])\n",
    "levels_up = 3\n",
    "HDAC6= HERE.parents[levels_up-1]/'input'\n",
    "HDAC6"
   ]
  },
  {
   "cell_type": "code",
   "execution_count": 5,
   "id": "16d195ac",
   "metadata": {
    "execution": {
     "iopub.execute_input": "2022-10-16T13:05:55.236560Z",
     "iopub.status.busy": "2022-10-16T13:05:55.236460Z",
     "iopub.status.idle": "2022-10-16T13:05:55.278601Z",
     "shell.execute_reply": "2022-10-16T13:05:55.278311Z"
    }
   },
   "outputs": [
    {
     "data": {
      "text/html": [
       "<div>\n",
       "<style scoped>\n",
       "    .dataframe tbody tr th:only-of-type {\n",
       "        vertical-align: middle;\n",
       "    }\n",
       "\n",
       "    .dataframe tbody tr th {\n",
       "        vertical-align: top;\n",
       "    }\n",
       "\n",
       "    .dataframe thead th {\n",
       "        text-align: right;\n",
       "    }\n",
       "</style>\n",
       "<table border=\"1\" class=\"dataframe\">\n",
       "  <thead>\n",
       "    <tr style=\"text-align: right;\">\n",
       "      <th></th>\n",
       "      <th>molecule_chembl_id</th>\n",
       "      <th>fp_MACCS</th>\n",
       "      <th>fp_Morgan3</th>\n",
       "      <th>fp_MorganF</th>\n",
       "      <th>fp_MAP4</th>\n",
       "      <th>molecular_weight</th>\n",
       "      <th>n_rot</th>\n",
       "      <th>n_heavy</th>\n",
       "      <th>n_hba</th>\n",
       "      <th>n_hbd</th>\n",
       "      <th>logp</th>\n",
       "      <th>num_ar</th>\n",
       "      <th>num_sa</th>\n",
       "      <th>num_alip</th>\n",
       "      <th>pchembl</th>\n",
       "    </tr>\n",
       "  </thead>\n",
       "  <tbody>\n",
       "    <tr>\n",
       "      <th>0</th>\n",
       "      <td>CHEMBL504040</td>\n",
       "      <td>[0, 0, 0, 0, 0, 0, 0, 0, 0, 0, 0, 0, 0, 0, 0, ...</td>\n",
       "      <td>[0, 0, 0, 0, 0, 0, 0, 0, 0, 0, 0, 1, 0, 0, 0, ...</td>\n",
       "      <td>[1, 1, 1, 1, 1, 0, 1, 0, 0, 0, 0, 0, 0, 0, 0, ...</td>\n",
       "      <td>[100053, 10511, 1733887, 904525, 692898, 28201...</td>\n",
       "      <td>876.56</td>\n",
       "      <td>14.00</td>\n",
       "      <td>62.00</td>\n",
       "      <td>16.00</td>\n",
       "      <td>7.00</td>\n",
       "      <td>3.26</td>\n",
       "      <td>2.00</td>\n",
       "      <td>2.00</td>\n",
       "      <td>2.00</td>\n",
       "      <td>6.93</td>\n",
       "    </tr>\n",
       "    <tr>\n",
       "      <th>1</th>\n",
       "      <td>CHEMBL4282673</td>\n",
       "      <td>[0, 0, 0, 1, 0, 0, 0, 0, 0, 0, 0, 0, 0, 0, 0, ...</td>\n",
       "      <td>[0, 0, 0, 0, 0, 0, 0, 0, 0, 0, 0, 1, 0, 0, 0, ...</td>\n",
       "      <td>[1, 1, 1, 1, 1, 0, 1, 0, 0, 0, 0, 0, 0, 0, 0, ...</td>\n",
       "      <td>[13333824, 47126, 2064333, 12474601, 6528194, ...</td>\n",
       "      <td>342.05</td>\n",
       "      <td>7.00</td>\n",
       "      <td>20.00</td>\n",
       "      <td>4.00</td>\n",
       "      <td>2.00</td>\n",
       "      <td>1.51</td>\n",
       "      <td>2.00</td>\n",
       "      <td>0.00</td>\n",
       "      <td>0.00</td>\n",
       "      <td>7.72</td>\n",
       "    </tr>\n",
       "    <tr>\n",
       "      <th>2</th>\n",
       "      <td>CHEMBL4070745</td>\n",
       "      <td>[0, 0, 0, 0, 0, 0, 0, 0, 0, 0, 0, 0, 0, 0, 0, ...</td>\n",
       "      <td>[0, 0, 0, 0, 0, 0, 0, 0, 0, 0, 0, 1, 0, 1, 0, ...</td>\n",
       "      <td>[1, 1, 1, 1, 1, 0, 1, 0, 0, 0, 1, 0, 0, 0, 0, ...</td>\n",
       "      <td>[5196932, 7212973, 3844537, 7125875, 28861, 15...</td>\n",
       "      <td>362.16</td>\n",
       "      <td>9.00</td>\n",
       "      <td>26.00</td>\n",
       "      <td>6.00</td>\n",
       "      <td>4.00</td>\n",
       "      <td>2.36</td>\n",
       "      <td>2.00</td>\n",
       "      <td>0.00</td>\n",
       "      <td>0.00</td>\n",
       "      <td>8.21</td>\n",
       "    </tr>\n",
       "    <tr>\n",
       "      <th>3</th>\n",
       "      <td>CHEMBL466459</td>\n",
       "      <td>[0, 0, 0, 0, 0, 0, 0, 0, 0, 0, 0, 0, 0, 0, 0, ...</td>\n",
       "      <td>[0, 0, 0, 0, 0, 0, 0, 0, 0, 0, 0, 0, 0, 0, 0, ...</td>\n",
       "      <td>[1, 1, 1, 1, 1, 0, 1, 0, 0, 0, 1, 1, 0, 0, 0, ...</td>\n",
       "      <td>[1122035, 1085935, 836109, 12913187, 19372760,...</td>\n",
       "      <td>562.18</td>\n",
       "      <td>8.00</td>\n",
       "      <td>41.00</td>\n",
       "      <td>10.00</td>\n",
       "      <td>5.00</td>\n",
       "      <td>3.83</td>\n",
       "      <td>4.00</td>\n",
       "      <td>0.00</td>\n",
       "      <td>0.00</td>\n",
       "      <td>5.77</td>\n",
       "    </tr>\n",
       "    <tr>\n",
       "      <th>4</th>\n",
       "      <td>CHEMBL3110005</td>\n",
       "      <td>[0, 0, 0, 0, 0, 0, 0, 0, 0, 0, 0, 0, 0, 0, 0, ...</td>\n",
       "      <td>[0, 0, 0, 0, 0, 0, 0, 0, 0, 0, 0, 0, 0, 0, 0, ...</td>\n",
       "      <td>[1, 1, 1, 1, 1, 0, 0, 0, 0, 0, 0, 0, 0, 0, 0, ...</td>\n",
       "      <td>[13333824, 28470141, 37247964, 73736535, 36956...</td>\n",
       "      <td>253.11</td>\n",
       "      <td>3.00</td>\n",
       "      <td>19.00</td>\n",
       "      <td>2.00</td>\n",
       "      <td>2.00</td>\n",
       "      <td>2.69</td>\n",
       "      <td>2.00</td>\n",
       "      <td>1.00</td>\n",
       "      <td>1.00</td>\n",
       "      <td>5.01</td>\n",
       "    </tr>\n",
       "  </tbody>\n",
       "</table>\n",
       "</div>"
      ],
      "text/plain": [
       "  molecule_chembl_id                                           fp_MACCS  \\\n",
       "0       CHEMBL504040  [0, 0, 0, 0, 0, 0, 0, 0, 0, 0, 0, 0, 0, 0, 0, ...   \n",
       "1      CHEMBL4282673  [0, 0, 0, 1, 0, 0, 0, 0, 0, 0, 0, 0, 0, 0, 0, ...   \n",
       "2      CHEMBL4070745  [0, 0, 0, 0, 0, 0, 0, 0, 0, 0, 0, 0, 0, 0, 0, ...   \n",
       "3       CHEMBL466459  [0, 0, 0, 0, 0, 0, 0, 0, 0, 0, 0, 0, 0, 0, 0, ...   \n",
       "4      CHEMBL3110005  [0, 0, 0, 0, 0, 0, 0, 0, 0, 0, 0, 0, 0, 0, 0, ...   \n",
       "\n",
       "                                          fp_Morgan3  \\\n",
       "0  [0, 0, 0, 0, 0, 0, 0, 0, 0, 0, 0, 1, 0, 0, 0, ...   \n",
       "1  [0, 0, 0, 0, 0, 0, 0, 0, 0, 0, 0, 1, 0, 0, 0, ...   \n",
       "2  [0, 0, 0, 0, 0, 0, 0, 0, 0, 0, 0, 1, 0, 1, 0, ...   \n",
       "3  [0, 0, 0, 0, 0, 0, 0, 0, 0, 0, 0, 0, 0, 0, 0, ...   \n",
       "4  [0, 0, 0, 0, 0, 0, 0, 0, 0, 0, 0, 0, 0, 0, 0, ...   \n",
       "\n",
       "                                          fp_MorganF  \\\n",
       "0  [1, 1, 1, 1, 1, 0, 1, 0, 0, 0, 0, 0, 0, 0, 0, ...   \n",
       "1  [1, 1, 1, 1, 1, 0, 1, 0, 0, 0, 0, 0, 0, 0, 0, ...   \n",
       "2  [1, 1, 1, 1, 1, 0, 1, 0, 0, 0, 1, 0, 0, 0, 0, ...   \n",
       "3  [1, 1, 1, 1, 1, 0, 1, 0, 0, 0, 1, 1, 0, 0, 0, ...   \n",
       "4  [1, 1, 1, 1, 1, 0, 0, 0, 0, 0, 0, 0, 0, 0, 0, ...   \n",
       "\n",
       "                                             fp_MAP4  molecular_weight  n_rot  \\\n",
       "0  [100053, 10511, 1733887, 904525, 692898, 28201...            876.56  14.00   \n",
       "1  [13333824, 47126, 2064333, 12474601, 6528194, ...            342.05   7.00   \n",
       "2  [5196932, 7212973, 3844537, 7125875, 28861, 15...            362.16   9.00   \n",
       "3  [1122035, 1085935, 836109, 12913187, 19372760,...            562.18   8.00   \n",
       "4  [13333824, 28470141, 37247964, 73736535, 36956...            253.11   3.00   \n",
       "\n",
       "   n_heavy  n_hba  n_hbd  logp  num_ar  num_sa  num_alip  pchembl  \n",
       "0    62.00  16.00   7.00  3.26    2.00    2.00      2.00     6.93  \n",
       "1    20.00   4.00   2.00  1.51    2.00    0.00      0.00     7.72  \n",
       "2    26.00   6.00   4.00  2.36    2.00    0.00      0.00     8.21  \n",
       "3    41.00  10.00   5.00  3.83    4.00    0.00      0.00     5.77  \n",
       "4    19.00   2.00   2.00  2.69    2.00    1.00      1.00     5.01  "
      ]
     },
     "execution_count": 5,
     "metadata": {},
     "output_type": "execute_result"
    }
   ],
   "source": [
    "df1 = pd.read_pickle(HDAC6/\"HDAC6_1024B.csv\")\n",
    "df1 = df1.sample(frac=1).reset_index(drop=True)\n",
    "df1.head(5)"
   ]
  },
  {
   "cell_type": "code",
   "execution_count": 6,
   "id": "3811c8ab",
   "metadata": {
    "execution": {
     "iopub.execute_input": "2022-10-16T13:05:55.280228Z",
     "iopub.status.busy": "2022-10-16T13:05:55.280109Z",
     "iopub.status.idle": "2022-10-16T13:05:55.287521Z",
     "shell.execute_reply": "2022-10-16T13:05:55.287279Z"
    }
   },
   "outputs": [
    {
     "data": {
      "text/html": [
       "<div>\n",
       "<style scoped>\n",
       "    .dataframe tbody tr th:only-of-type {\n",
       "        vertical-align: middle;\n",
       "    }\n",
       "\n",
       "    .dataframe tbody tr th {\n",
       "        vertical-align: top;\n",
       "    }\n",
       "\n",
       "    .dataframe thead th {\n",
       "        text-align: right;\n",
       "    }\n",
       "</style>\n",
       "<table border=\"1\" class=\"dataframe\">\n",
       "  <thead>\n",
       "    <tr style=\"text-align: right;\">\n",
       "      <th></th>\n",
       "      <th>molecule_chembl_id</th>\n",
       "      <th>fp_MACCS</th>\n",
       "      <th>fp_Morgan3</th>\n",
       "      <th>fp_MorganF</th>\n",
       "      <th>fp_MAP4</th>\n",
       "      <th>molecular_weight</th>\n",
       "      <th>n_rot</th>\n",
       "      <th>n_heavy</th>\n",
       "      <th>n_hba</th>\n",
       "      <th>n_hbd</th>\n",
       "      <th>logp</th>\n",
       "      <th>num_ar</th>\n",
       "      <th>num_sa</th>\n",
       "      <th>num_alip</th>\n",
       "      <th>pchembl</th>\n",
       "    </tr>\n",
       "  </thead>\n",
       "  <tbody>\n",
       "    <tr>\n",
       "      <th>2030</th>\n",
       "      <td>CHEMBL2105763</td>\n",
       "      <td>[0, 0, 0, 0, 0, 0, 0, 0, 0, 0, 0, 0, 0, 0, 0, ...</td>\n",
       "      <td>[0, 0, 0, 0, 0, 0, 0, 0, 0, 0, 0, 0, 0, 0, 0, ...</td>\n",
       "      <td>[1, 1, 1, 1, 1, 0, 1, 0, 0, 0, 0, 0, 0, 0, 0, ...</td>\n",
       "      <td>[4277439, 2478511, 1683617, 1179055, 492964, 2...</td>\n",
       "      <td>394.21</td>\n",
       "      <td>6.00</td>\n",
       "      <td>29.00</td>\n",
       "      <td>7.00</td>\n",
       "      <td>3.00</td>\n",
       "      <td>2.09</td>\n",
       "      <td>3.00</td>\n",
       "      <td>1.00</td>\n",
       "      <td>1.00</td>\n",
       "      <td>6.46</td>\n",
       "    </tr>\n",
       "  </tbody>\n",
       "</table>\n",
       "</div>"
      ],
      "text/plain": [
       "     molecule_chembl_id                                           fp_MACCS  \\\n",
       "2030      CHEMBL2105763  [0, 0, 0, 0, 0, 0, 0, 0, 0, 0, 0, 0, 0, 0, 0, ...   \n",
       "\n",
       "                                             fp_Morgan3  \\\n",
       "2030  [0, 0, 0, 0, 0, 0, 0, 0, 0, 0, 0, 0, 0, 0, 0, ...   \n",
       "\n",
       "                                             fp_MorganF  \\\n",
       "2030  [1, 1, 1, 1, 1, 0, 1, 0, 0, 0, 0, 0, 0, 0, 0, ...   \n",
       "\n",
       "                                                fp_MAP4  molecular_weight  \\\n",
       "2030  [4277439, 2478511, 1683617, 1179055, 492964, 2...            394.21   \n",
       "\n",
       "      n_rot  n_heavy  n_hba  n_hbd  logp  num_ar  num_sa  num_alip  pchembl  \n",
       "2030   6.00    29.00   7.00   3.00  2.09    3.00    1.00      1.00     6.46  "
      ]
     },
     "execution_count": 6,
     "metadata": {},
     "output_type": "execute_result"
    }
   ],
   "source": [
    "df1[df1['molecule_chembl_id'] == 'CHEMBL2105763']"
   ]
  },
  {
   "cell_type": "code",
   "execution_count": 7,
   "id": "a8f6e20b",
   "metadata": {
    "execution": {
     "iopub.execute_input": "2022-10-16T13:05:55.288886Z",
     "iopub.status.busy": "2022-10-16T13:05:55.288784Z",
     "iopub.status.idle": "2022-10-16T13:05:55.292148Z",
     "shell.execute_reply": "2022-10-16T13:05:55.291914Z"
    }
   },
   "outputs": [
    {
     "name": "stdout",
     "output_type": "stream",
     "text": [
      "Number of active compounds: 1837\n",
      "Number of inactive compounds: 1134\n"
     ]
    }
   ],
   "source": [
    "# Add column for activity\n",
    "df1[\"activity\"] = np.zeros(len(df1))\n",
    "\n",
    "# Mark every molecule as active with an pIC50 of >= 6.6, 0 otherwise\n",
    "df1.loc[df1[df1.pchembl >= 6.6].index, \"activity\"] = 1.0\n",
    "\n",
    "# NBVAL_CHECK_OUTPUT\n",
    "print(\"Number of active compounds:\", int(df1.activity.sum()))\n",
    "print(\"Number of inactive compounds:\", len(df1) - int(df1.activity.sum()))"
   ]
  },
  {
   "cell_type": "code",
   "execution_count": 8,
   "id": "75cdb440",
   "metadata": {
    "execution": {
     "iopub.execute_input": "2022-10-16T13:05:55.293555Z",
     "iopub.status.busy": "2022-10-16T13:05:55.293367Z",
     "iopub.status.idle": "2022-10-16T13:05:55.307073Z",
     "shell.execute_reply": "2022-10-16T13:05:55.306844Z"
    }
   },
   "outputs": [
    {
     "data": {
      "text/html": [
       "<div>\n",
       "<style scoped>\n",
       "    .dataframe tbody tr th:only-of-type {\n",
       "        vertical-align: middle;\n",
       "    }\n",
       "\n",
       "    .dataframe tbody tr th {\n",
       "        vertical-align: top;\n",
       "    }\n",
       "\n",
       "    .dataframe thead th {\n",
       "        text-align: right;\n",
       "    }\n",
       "</style>\n",
       "<table border=\"1\" class=\"dataframe\">\n",
       "  <thead>\n",
       "    <tr style=\"text-align: right;\">\n",
       "      <th></th>\n",
       "      <th>molecule_chembl_id</th>\n",
       "      <th>fp_MACCS</th>\n",
       "      <th>fp_Morgan3</th>\n",
       "      <th>fp_MorganF</th>\n",
       "      <th>fp_MAP4</th>\n",
       "      <th>molecular_weight</th>\n",
       "      <th>n_rot</th>\n",
       "      <th>n_heavy</th>\n",
       "      <th>n_hba</th>\n",
       "      <th>n_hbd</th>\n",
       "      <th>logp</th>\n",
       "      <th>num_ar</th>\n",
       "      <th>num_sa</th>\n",
       "      <th>num_alip</th>\n",
       "      <th>pchembl</th>\n",
       "      <th>activity</th>\n",
       "    </tr>\n",
       "  </thead>\n",
       "  <tbody>\n",
       "    <tr>\n",
       "      <th>0</th>\n",
       "      <td>CHEMBL504040</td>\n",
       "      <td>[0, 0, 0, 0, 0, 0, 0, 0, 0, 0, 0, 0, 0, 0, 0, ...</td>\n",
       "      <td>[0, 0, 0, 0, 0, 0, 0, 0, 0, 0, 0, 1, 0, 0, 0, ...</td>\n",
       "      <td>[1, 1, 1, 1, 1, 0, 1, 0, 0, 0, 0, 0, 0, 0, 0, ...</td>\n",
       "      <td>[100053, 10511, 1733887, 904525, 692898, 28201...</td>\n",
       "      <td>876.56</td>\n",
       "      <td>14.00</td>\n",
       "      <td>62.00</td>\n",
       "      <td>16.00</td>\n",
       "      <td>7.00</td>\n",
       "      <td>3.26</td>\n",
       "      <td>2.00</td>\n",
       "      <td>2.00</td>\n",
       "      <td>2.00</td>\n",
       "      <td>6.93</td>\n",
       "      <td>1.00</td>\n",
       "    </tr>\n",
       "    <tr>\n",
       "      <th>1</th>\n",
       "      <td>CHEMBL4282673</td>\n",
       "      <td>[0, 0, 0, 1, 0, 0, 0, 0, 0, 0, 0, 0, 0, 0, 0, ...</td>\n",
       "      <td>[0, 0, 0, 0, 0, 0, 0, 0, 0, 0, 0, 1, 0, 0, 0, ...</td>\n",
       "      <td>[1, 1, 1, 1, 1, 0, 1, 0, 0, 0, 0, 0, 0, 0, 0, ...</td>\n",
       "      <td>[13333824, 47126, 2064333, 12474601, 6528194, ...</td>\n",
       "      <td>342.05</td>\n",
       "      <td>7.00</td>\n",
       "      <td>20.00</td>\n",
       "      <td>4.00</td>\n",
       "      <td>2.00</td>\n",
       "      <td>1.51</td>\n",
       "      <td>2.00</td>\n",
       "      <td>0.00</td>\n",
       "      <td>0.00</td>\n",
       "      <td>7.72</td>\n",
       "      <td>1.00</td>\n",
       "    </tr>\n",
       "    <tr>\n",
       "      <th>2</th>\n",
       "      <td>CHEMBL4070745</td>\n",
       "      <td>[0, 0, 0, 0, 0, 0, 0, 0, 0, 0, 0, 0, 0, 0, 0, ...</td>\n",
       "      <td>[0, 0, 0, 0, 0, 0, 0, 0, 0, 0, 0, 1, 0, 1, 0, ...</td>\n",
       "      <td>[1, 1, 1, 1, 1, 0, 1, 0, 0, 0, 1, 0, 0, 0, 0, ...</td>\n",
       "      <td>[5196932, 7212973, 3844537, 7125875, 28861, 15...</td>\n",
       "      <td>362.16</td>\n",
       "      <td>9.00</td>\n",
       "      <td>26.00</td>\n",
       "      <td>6.00</td>\n",
       "      <td>4.00</td>\n",
       "      <td>2.36</td>\n",
       "      <td>2.00</td>\n",
       "      <td>0.00</td>\n",
       "      <td>0.00</td>\n",
       "      <td>8.21</td>\n",
       "      <td>1.00</td>\n",
       "    </tr>\n",
       "    <tr>\n",
       "      <th>3</th>\n",
       "      <td>CHEMBL466459</td>\n",
       "      <td>[0, 0, 0, 0, 0, 0, 0, 0, 0, 0, 0, 0, 0, 0, 0, ...</td>\n",
       "      <td>[0, 0, 0, 0, 0, 0, 0, 0, 0, 0, 0, 0, 0, 0, 0, ...</td>\n",
       "      <td>[1, 1, 1, 1, 1, 0, 1, 0, 0, 0, 1, 1, 0, 0, 0, ...</td>\n",
       "      <td>[1122035, 1085935, 836109, 12913187, 19372760,...</td>\n",
       "      <td>562.18</td>\n",
       "      <td>8.00</td>\n",
       "      <td>41.00</td>\n",
       "      <td>10.00</td>\n",
       "      <td>5.00</td>\n",
       "      <td>3.83</td>\n",
       "      <td>4.00</td>\n",
       "      <td>0.00</td>\n",
       "      <td>0.00</td>\n",
       "      <td>5.77</td>\n",
       "      <td>0.00</td>\n",
       "    </tr>\n",
       "    <tr>\n",
       "      <th>4</th>\n",
       "      <td>CHEMBL3110005</td>\n",
       "      <td>[0, 0, 0, 0, 0, 0, 0, 0, 0, 0, 0, 0, 0, 0, 0, ...</td>\n",
       "      <td>[0, 0, 0, 0, 0, 0, 0, 0, 0, 0, 0, 0, 0, 0, 0, ...</td>\n",
       "      <td>[1, 1, 1, 1, 1, 0, 0, 0, 0, 0, 0, 0, 0, 0, 0, ...</td>\n",
       "      <td>[13333824, 28470141, 37247964, 73736535, 36956...</td>\n",
       "      <td>253.11</td>\n",
       "      <td>3.00</td>\n",
       "      <td>19.00</td>\n",
       "      <td>2.00</td>\n",
       "      <td>2.00</td>\n",
       "      <td>2.69</td>\n",
       "      <td>2.00</td>\n",
       "      <td>1.00</td>\n",
       "      <td>1.00</td>\n",
       "      <td>5.01</td>\n",
       "      <td>0.00</td>\n",
       "    </tr>\n",
       "  </tbody>\n",
       "</table>\n",
       "</div>"
      ],
      "text/plain": [
       "  molecule_chembl_id                                           fp_MACCS  \\\n",
       "0       CHEMBL504040  [0, 0, 0, 0, 0, 0, 0, 0, 0, 0, 0, 0, 0, 0, 0, ...   \n",
       "1      CHEMBL4282673  [0, 0, 0, 1, 0, 0, 0, 0, 0, 0, 0, 0, 0, 0, 0, ...   \n",
       "2      CHEMBL4070745  [0, 0, 0, 0, 0, 0, 0, 0, 0, 0, 0, 0, 0, 0, 0, ...   \n",
       "3       CHEMBL466459  [0, 0, 0, 0, 0, 0, 0, 0, 0, 0, 0, 0, 0, 0, 0, ...   \n",
       "4      CHEMBL3110005  [0, 0, 0, 0, 0, 0, 0, 0, 0, 0, 0, 0, 0, 0, 0, ...   \n",
       "\n",
       "                                          fp_Morgan3  \\\n",
       "0  [0, 0, 0, 0, 0, 0, 0, 0, 0, 0, 0, 1, 0, 0, 0, ...   \n",
       "1  [0, 0, 0, 0, 0, 0, 0, 0, 0, 0, 0, 1, 0, 0, 0, ...   \n",
       "2  [0, 0, 0, 0, 0, 0, 0, 0, 0, 0, 0, 1, 0, 1, 0, ...   \n",
       "3  [0, 0, 0, 0, 0, 0, 0, 0, 0, 0, 0, 0, 0, 0, 0, ...   \n",
       "4  [0, 0, 0, 0, 0, 0, 0, 0, 0, 0, 0, 0, 0, 0, 0, ...   \n",
       "\n",
       "                                          fp_MorganF  \\\n",
       "0  [1, 1, 1, 1, 1, 0, 1, 0, 0, 0, 0, 0, 0, 0, 0, ...   \n",
       "1  [1, 1, 1, 1, 1, 0, 1, 0, 0, 0, 0, 0, 0, 0, 0, ...   \n",
       "2  [1, 1, 1, 1, 1, 0, 1, 0, 0, 0, 1, 0, 0, 0, 0, ...   \n",
       "3  [1, 1, 1, 1, 1, 0, 1, 0, 0, 0, 1, 1, 0, 0, 0, ...   \n",
       "4  [1, 1, 1, 1, 1, 0, 0, 0, 0, 0, 0, 0, 0, 0, 0, ...   \n",
       "\n",
       "                                             fp_MAP4  molecular_weight  n_rot  \\\n",
       "0  [100053, 10511, 1733887, 904525, 692898, 28201...            876.56  14.00   \n",
       "1  [13333824, 47126, 2064333, 12474601, 6528194, ...            342.05   7.00   \n",
       "2  [5196932, 7212973, 3844537, 7125875, 28861, 15...            362.16   9.00   \n",
       "3  [1122035, 1085935, 836109, 12913187, 19372760,...            562.18   8.00   \n",
       "4  [13333824, 28470141, 37247964, 73736535, 36956...            253.11   3.00   \n",
       "\n",
       "   n_heavy  n_hba  n_hbd  logp  num_ar  num_sa  num_alip  pchembl  activity  \n",
       "0    62.00  16.00   7.00  3.26    2.00    2.00      2.00     6.93      1.00  \n",
       "1    20.00   4.00   2.00  1.51    2.00    0.00      0.00     7.72      1.00  \n",
       "2    26.00   6.00   4.00  2.36    2.00    0.00      0.00     8.21      1.00  \n",
       "3    41.00  10.00   5.00  3.83    4.00    0.00      0.00     5.77      0.00  \n",
       "4    19.00   2.00   2.00  2.69    2.00    1.00      1.00     5.01      0.00  "
      ]
     },
     "execution_count": 8,
     "metadata": {},
     "output_type": "execute_result"
    }
   ],
   "source": [
    "df1.head(5)"
   ]
  },
  {
   "cell_type": "markdown",
   "id": "5c59d3ae",
   "metadata": {},
   "source": [
    "#### By using MACCS fingerprints that are 166 bits "
   ]
  },
  {
   "cell_type": "code",
   "execution_count": 9,
   "id": "7b909b48",
   "metadata": {
    "execution": {
     "iopub.execute_input": "2022-10-16T13:05:55.308435Z",
     "iopub.status.busy": "2022-10-16T13:05:55.308281Z",
     "iopub.status.idle": "2022-10-16T13:05:55.312407Z",
     "shell.execute_reply": "2022-10-16T13:05:55.312162Z"
    }
   },
   "outputs": [],
   "source": [
    "X1 = np.array(list((df1['fp_MACCS']))).astype(float)\n",
    "#X.shape\n",
    "Y1 = df1[\"activity\"].values\n",
    "#y.shape"
   ]
  },
  {
   "cell_type": "code",
   "execution_count": 10,
   "id": "1597418b",
   "metadata": {
    "execution": {
     "iopub.execute_input": "2022-10-16T13:05:55.313622Z",
     "iopub.status.busy": "2022-10-16T13:05:55.313523Z",
     "iopub.status.idle": "2022-10-16T13:05:55.316842Z",
     "shell.execute_reply": "2022-10-16T13:05:55.316594Z"
    }
   },
   "outputs": [
    {
     "name": "stdout",
     "output_type": "stream",
     "text": [
      "Shape of training data: (2376, 167)\n",
      "Shape of test data: (595, 167)\n"
     ]
    }
   ],
   "source": [
    "# Split the data into training and test set\n",
    "# Perform data splitting using 80/20 ratio\n",
    "X_train1, X_test1, Y_train1, Y_test1 = train_test_split(X1, Y1, test_size=0.2, random_state=42)\n",
    "\n",
    "# Print the shape of training and testing data\n",
    "print(\"Shape of training data:\", X_train1.shape)\n",
    "print(\"Shape of test data:\", X_test1.shape)\n",
    "# NBVAL_CHECK_OUTPUT"
   ]
  },
  {
   "cell_type": "code",
   "execution_count": 11,
   "id": "6c7d9723",
   "metadata": {
    "execution": {
     "iopub.execute_input": "2022-10-16T13:05:55.318080Z",
     "iopub.status.busy": "2022-10-16T13:05:55.317919Z",
     "iopub.status.idle": "2022-10-16T13:08:10.332986Z",
     "shell.execute_reply": "2022-10-16T13:08:10.332672Z"
    }
   },
   "outputs": [
    {
     "name": "stderr",
     "output_type": "stream",
     "text": [
      " 90%|████████████████████████████████████████████████████████████████████████████████████████████████████████████████████████████████████████████████████████████                  | 26/29 [00:07<00:01,  2.75it/s]"
     ]
    },
    {
     "name": "stdout",
     "output_type": "stream",
     "text": [
      "[19:03:57] WARNING: ../src/learner.cc:1115: Starting in XGBoost 1.3.0, the default evaluation metric used with the objective 'binary:logistic' was changed from 'error' to 'logloss'. Explicitly set eval_metric if you'd like to restore the old behavior.\n"
     ]
    },
    {
     "name": "stderr",
     "output_type": "stream",
     "text": [
      "100%|██████████████████████████████████████████████████████████████████████████████████████████████████████████████████████████████████████████████████████████████████████████████| 29/29 [02:17<00:00,  4.74s/it]\n"
     ]
    }
   ],
   "source": [
    "# Defines and builds the LazyClassifier\n",
    "clf1 =  LazyClassifier(verbose=0,ignore_warnings=True, custom_metric=None)\n",
    "model1,predictions1 = clf1.fit(X_train1, X_test1, Y_train1, Y_test1)"
   ]
  },
  {
   "cell_type": "code",
   "execution_count": 12,
   "id": "05fde095",
   "metadata": {
    "execution": {
     "iopub.execute_input": "2022-10-16T13:08:10.334293Z",
     "iopub.status.busy": "2022-10-16T13:08:10.334185Z",
     "iopub.status.idle": "2022-10-16T13:08:10.338579Z",
     "shell.execute_reply": "2022-10-16T13:08:10.338340Z"
    }
   },
   "outputs": [
    {
     "data": {
      "text/html": [
       "<div>\n",
       "<style scoped>\n",
       "    .dataframe tbody tr th:only-of-type {\n",
       "        vertical-align: middle;\n",
       "    }\n",
       "\n",
       "    .dataframe tbody tr th {\n",
       "        vertical-align: top;\n",
       "    }\n",
       "\n",
       "    .dataframe thead th {\n",
       "        text-align: right;\n",
       "    }\n",
       "</style>\n",
       "<table border=\"1\" class=\"dataframe\">\n",
       "  <thead>\n",
       "    <tr style=\"text-align: right;\">\n",
       "      <th></th>\n",
       "      <th>Accuracy</th>\n",
       "      <th>Balanced Accuracy</th>\n",
       "      <th>ROC AUC</th>\n",
       "      <th>F1 Score</th>\n",
       "      <th>Time Taken</th>\n",
       "    </tr>\n",
       "    <tr>\n",
       "      <th>Model</th>\n",
       "      <th></th>\n",
       "      <th></th>\n",
       "      <th></th>\n",
       "      <th></th>\n",
       "      <th></th>\n",
       "    </tr>\n",
       "  </thead>\n",
       "  <tbody>\n",
       "    <tr>\n",
       "      <th>LGBMClassifier</th>\n",
       "      <td>0.83</td>\n",
       "      <td>0.82</td>\n",
       "      <td>0.82</td>\n",
       "      <td>0.83</td>\n",
       "      <td>57.03</td>\n",
       "    </tr>\n",
       "    <tr>\n",
       "      <th>RandomForestClassifier</th>\n",
       "      <td>0.82</td>\n",
       "      <td>0.81</td>\n",
       "      <td>0.81</td>\n",
       "      <td>0.82</td>\n",
       "      <td>0.27</td>\n",
       "    </tr>\n",
       "    <tr>\n",
       "      <th>BaggingClassifier</th>\n",
       "      <td>0.82</td>\n",
       "      <td>0.81</td>\n",
       "      <td>0.81</td>\n",
       "      <td>0.82</td>\n",
       "      <td>0.18</td>\n",
       "    </tr>\n",
       "    <tr>\n",
       "      <th>XGBClassifier</th>\n",
       "      <td>0.82</td>\n",
       "      <td>0.81</td>\n",
       "      <td>0.81</td>\n",
       "      <td>0.82</td>\n",
       "      <td>72.59</td>\n",
       "    </tr>\n",
       "    <tr>\n",
       "      <th>ExtraTreesClassifier</th>\n",
       "      <td>0.81</td>\n",
       "      <td>0.81</td>\n",
       "      <td>0.81</td>\n",
       "      <td>0.81</td>\n",
       "      <td>0.34</td>\n",
       "    </tr>\n",
       "    <tr>\n",
       "      <th>KNeighborsClassifier</th>\n",
       "      <td>0.81</td>\n",
       "      <td>0.80</td>\n",
       "      <td>0.80</td>\n",
       "      <td>0.81</td>\n",
       "      <td>0.28</td>\n",
       "    </tr>\n",
       "    <tr>\n",
       "      <th>NuSVC</th>\n",
       "      <td>0.81</td>\n",
       "      <td>0.79</td>\n",
       "      <td>0.79</td>\n",
       "      <td>0.81</td>\n",
       "      <td>0.69</td>\n",
       "    </tr>\n",
       "    <tr>\n",
       "      <th>SVC</th>\n",
       "      <td>0.81</td>\n",
       "      <td>0.79</td>\n",
       "      <td>0.79</td>\n",
       "      <td>0.81</td>\n",
       "      <td>0.72</td>\n",
       "    </tr>\n",
       "    <tr>\n",
       "      <th>DecisionTreeClassifier</th>\n",
       "      <td>0.79</td>\n",
       "      <td>0.78</td>\n",
       "      <td>0.78</td>\n",
       "      <td>0.79</td>\n",
       "      <td>0.04</td>\n",
       "    </tr>\n",
       "    <tr>\n",
       "      <th>ExtraTreeClassifier</th>\n",
       "      <td>0.78</td>\n",
       "      <td>0.78</td>\n",
       "      <td>0.78</td>\n",
       "      <td>0.78</td>\n",
       "      <td>0.02</td>\n",
       "    </tr>\n",
       "  </tbody>\n",
       "</table>\n",
       "</div>"
      ],
      "text/plain": [
       "                        Accuracy  Balanced Accuracy  ROC AUC  F1 Score  \\\n",
       "Model                                                                    \n",
       "LGBMClassifier              0.83               0.82     0.82      0.83   \n",
       "RandomForestClassifier      0.82               0.81     0.81      0.82   \n",
       "BaggingClassifier           0.82               0.81     0.81      0.82   \n",
       "XGBClassifier               0.82               0.81     0.81      0.82   \n",
       "ExtraTreesClassifier        0.81               0.81     0.81      0.81   \n",
       "KNeighborsClassifier        0.81               0.80     0.80      0.81   \n",
       "NuSVC                       0.81               0.79     0.79      0.81   \n",
       "SVC                         0.81               0.79     0.79      0.81   \n",
       "DecisionTreeClassifier      0.79               0.78     0.78      0.79   \n",
       "ExtraTreeClassifier         0.78               0.78     0.78      0.78   \n",
       "\n",
       "                        Time Taken  \n",
       "Model                               \n",
       "LGBMClassifier               57.03  \n",
       "RandomForestClassifier        0.27  \n",
       "BaggingClassifier             0.18  \n",
       "XGBClassifier                72.59  \n",
       "ExtraTreesClassifier          0.34  \n",
       "KNeighborsClassifier          0.28  \n",
       "NuSVC                         0.69  \n",
       "SVC                           0.72  \n",
       "DecisionTreeClassifier        0.04  \n",
       "ExtraTreeClassifier           0.02  "
      ]
     },
     "execution_count": 12,
     "metadata": {},
     "output_type": "execute_result"
    }
   ],
   "source": [
    "predictions1.sort_values(by=\"F1 Score\", ascending=False).head(10)"
   ]
  },
  {
   "cell_type": "code",
   "execution_count": 13,
   "id": "944cc58b",
   "metadata": {
    "execution": {
     "iopub.execute_input": "2022-10-16T13:08:10.339687Z",
     "iopub.status.busy": "2022-10-16T13:08:10.339586Z",
     "iopub.status.idle": "2022-10-16T13:08:10.342049Z",
     "shell.execute_reply": "2022-10-16T13:08:10.341792Z"
    }
   },
   "outputs": [],
   "source": [
    "predictions1.to_csv('LazyPredict_MACCS.csv')"
   ]
  },
  {
   "cell_type": "markdown",
   "id": "78ef1632",
   "metadata": {},
   "source": [
    "### USING 1024 BITS FINGERPRINTS"
   ]
  },
  {
   "cell_type": "code",
   "execution_count": 14,
   "id": "ffe8b4e1",
   "metadata": {
    "execution": {
     "iopub.execute_input": "2022-10-16T13:08:10.343393Z",
     "iopub.status.busy": "2022-10-16T13:08:10.343223Z",
     "iopub.status.idle": "2022-10-16T13:08:10.350943Z",
     "shell.execute_reply": "2022-10-16T13:08:10.350585Z"
    }
   },
   "outputs": [],
   "source": [
    "#By using Morgan fingerprints with radius of 3 and 1024 bits\n",
    "X2 = np.array(list((df1['fp_Morgan3']))).astype(float)\n",
    "#X.shape\n",
    "Y2 = df1[\"activity\"].values\n",
    "#y.shape"
   ]
  },
  {
   "cell_type": "code",
   "execution_count": 15,
   "id": "3a28de69",
   "metadata": {
    "execution": {
     "iopub.execute_input": "2022-10-16T13:08:10.352254Z",
     "iopub.status.busy": "2022-10-16T13:08:10.352146Z",
     "iopub.status.idle": "2022-10-16T13:08:10.357017Z",
     "shell.execute_reply": "2022-10-16T13:08:10.356748Z"
    }
   },
   "outputs": [
    {
     "name": "stdout",
     "output_type": "stream",
     "text": [
      "Shape of training data: (2376, 1024)\n",
      "Shape of test data: (595, 1024)\n"
     ]
    }
   ],
   "source": [
    "# Split the data into training and test set\n",
    "# Perform data splitting using 80/20 ratio\n",
    "X_train2, X_test2, Y_train2, Y_test2 = train_test_split(X2, Y2, test_size=0.2, random_state=42)\n",
    "\n",
    "# Print the shape of training and testing data\n",
    "print(\"Shape of training data:\", X_train2.shape)\n",
    "print(\"Shape of test data:\", X_test2.shape)\n",
    "# NBVAL_CHECK_OUTPUT"
   ]
  },
  {
   "cell_type": "code",
   "execution_count": 16,
   "id": "5f84b274",
   "metadata": {
    "execution": {
     "iopub.execute_input": "2022-10-16T13:08:10.358107Z",
     "iopub.status.busy": "2022-10-16T13:08:10.358005Z",
     "iopub.status.idle": "2022-10-16T13:10:51.874082Z",
     "shell.execute_reply": "2022-10-16T13:10:51.873744Z"
    }
   },
   "outputs": [
    {
     "name": "stderr",
     "output_type": "stream",
     "text": [
      " 90%|████████████████████████████████████████████████████████████████████████████████████████████████████████████████████████████████████████████████████████████                  | 26/29 [00:27<00:05,  1.75s/it]"
     ]
    },
    {
     "name": "stdout",
     "output_type": "stream",
     "text": [
      "[19:06:34] WARNING: ../src/learner.cc:1115: Starting in XGBoost 1.3.0, the default evaluation metric used with the objective 'binary:logistic' was changed from 'error' to 'logloss'. Explicitly set eval_metric if you'd like to restore the old behavior.\n"
     ]
    },
    {
     "name": "stderr",
     "output_type": "stream",
     "text": [
      "100%|██████████████████████████████████████████████████████████████████████████████████████████████████████████████████████████████████████████████████████████████████████████████| 29/29 [03:25<00:00,  7.08s/it]\n"
     ]
    }
   ],
   "source": [
    "clf2 = LazyClassifier(verbose=0,ignore_warnings=True, custom_metric=None)\n",
    "models2, predictions2 = clf2.fit(X_train2, X_test2, Y_train2, Y_test2)"
   ]
  },
  {
   "cell_type": "code",
   "execution_count": 17,
   "id": "557eab56",
   "metadata": {
    "execution": {
     "iopub.execute_input": "2022-10-16T13:10:51.875507Z",
     "iopub.status.busy": "2022-10-16T13:10:51.875372Z",
     "iopub.status.idle": "2022-10-16T13:10:51.879844Z",
     "shell.execute_reply": "2022-10-16T13:10:51.879609Z"
    }
   },
   "outputs": [
    {
     "data": {
      "text/html": [
       "<div>\n",
       "<style scoped>\n",
       "    .dataframe tbody tr th:only-of-type {\n",
       "        vertical-align: middle;\n",
       "    }\n",
       "\n",
       "    .dataframe tbody tr th {\n",
       "        vertical-align: top;\n",
       "    }\n",
       "\n",
       "    .dataframe thead th {\n",
       "        text-align: right;\n",
       "    }\n",
       "</style>\n",
       "<table border=\"1\" class=\"dataframe\">\n",
       "  <thead>\n",
       "    <tr style=\"text-align: right;\">\n",
       "      <th></th>\n",
       "      <th>Accuracy</th>\n",
       "      <th>Balanced Accuracy</th>\n",
       "      <th>ROC AUC</th>\n",
       "      <th>F1 Score</th>\n",
       "      <th>Time Taken</th>\n",
       "    </tr>\n",
       "    <tr>\n",
       "      <th>Model</th>\n",
       "      <th></th>\n",
       "      <th></th>\n",
       "      <th></th>\n",
       "      <th></th>\n",
       "      <th></th>\n",
       "    </tr>\n",
       "  </thead>\n",
       "  <tbody>\n",
       "    <tr>\n",
       "      <th>RandomForestClassifier</th>\n",
       "      <td>0.85</td>\n",
       "      <td>0.83</td>\n",
       "      <td>0.83</td>\n",
       "      <td>0.84</td>\n",
       "      <td>0.60</td>\n",
       "    </tr>\n",
       "    <tr>\n",
       "      <th>ExtraTreesClassifier</th>\n",
       "      <td>0.84</td>\n",
       "      <td>0.82</td>\n",
       "      <td>0.82</td>\n",
       "      <td>0.84</td>\n",
       "      <td>0.75</td>\n",
       "    </tr>\n",
       "    <tr>\n",
       "      <th>LGBMClassifier</th>\n",
       "      <td>0.83</td>\n",
       "      <td>0.82</td>\n",
       "      <td>0.82</td>\n",
       "      <td>0.83</td>\n",
       "      <td>148.83</td>\n",
       "    </tr>\n",
       "    <tr>\n",
       "      <th>XGBClassifier</th>\n",
       "      <td>0.82</td>\n",
       "      <td>0.80</td>\n",
       "      <td>0.80</td>\n",
       "      <td>0.82</td>\n",
       "      <td>28.81</td>\n",
       "    </tr>\n",
       "    <tr>\n",
       "      <th>BaggingClassifier</th>\n",
       "      <td>0.82</td>\n",
       "      <td>0.81</td>\n",
       "      <td>0.81</td>\n",
       "      <td>0.82</td>\n",
       "      <td>0.88</td>\n",
       "    </tr>\n",
       "    <tr>\n",
       "      <th>SVC</th>\n",
       "      <td>0.80</td>\n",
       "      <td>0.78</td>\n",
       "      <td>0.78</td>\n",
       "      <td>0.80</td>\n",
       "      <td>3.87</td>\n",
       "    </tr>\n",
       "    <tr>\n",
       "      <th>NuSVC</th>\n",
       "      <td>0.80</td>\n",
       "      <td>0.78</td>\n",
       "      <td>0.78</td>\n",
       "      <td>0.80</td>\n",
       "      <td>4.33</td>\n",
       "    </tr>\n",
       "    <tr>\n",
       "      <th>DecisionTreeClassifier</th>\n",
       "      <td>0.77</td>\n",
       "      <td>0.76</td>\n",
       "      <td>0.76</td>\n",
       "      <td>0.78</td>\n",
       "      <td>0.27</td>\n",
       "    </tr>\n",
       "    <tr>\n",
       "      <th>RidgeClassifierCV</th>\n",
       "      <td>0.77</td>\n",
       "      <td>0.76</td>\n",
       "      <td>0.76</td>\n",
       "      <td>0.77</td>\n",
       "      <td>1.81</td>\n",
       "    </tr>\n",
       "    <tr>\n",
       "      <th>KNeighborsClassifier</th>\n",
       "      <td>0.77</td>\n",
       "      <td>0.76</td>\n",
       "      <td>0.76</td>\n",
       "      <td>0.77</td>\n",
       "      <td>1.56</td>\n",
       "    </tr>\n",
       "  </tbody>\n",
       "</table>\n",
       "</div>"
      ],
      "text/plain": [
       "                        Accuracy  Balanced Accuracy  ROC AUC  F1 Score  \\\n",
       "Model                                                                    \n",
       "RandomForestClassifier      0.85               0.83     0.83      0.84   \n",
       "ExtraTreesClassifier        0.84               0.82     0.82      0.84   \n",
       "LGBMClassifier              0.83               0.82     0.82      0.83   \n",
       "XGBClassifier               0.82               0.80     0.80      0.82   \n",
       "BaggingClassifier           0.82               0.81     0.81      0.82   \n",
       "SVC                         0.80               0.78     0.78      0.80   \n",
       "NuSVC                       0.80               0.78     0.78      0.80   \n",
       "DecisionTreeClassifier      0.77               0.76     0.76      0.78   \n",
       "RidgeClassifierCV           0.77               0.76     0.76      0.77   \n",
       "KNeighborsClassifier        0.77               0.76     0.76      0.77   \n",
       "\n",
       "                        Time Taken  \n",
       "Model                               \n",
       "RandomForestClassifier        0.60  \n",
       "ExtraTreesClassifier          0.75  \n",
       "LGBMClassifier              148.83  \n",
       "XGBClassifier                28.81  \n",
       "BaggingClassifier             0.88  \n",
       "SVC                           3.87  \n",
       "NuSVC                         4.33  \n",
       "DecisionTreeClassifier        0.27  \n",
       "RidgeClassifierCV             1.81  \n",
       "KNeighborsClassifier          1.56  "
      ]
     },
     "execution_count": 17,
     "metadata": {},
     "output_type": "execute_result"
    }
   ],
   "source": [
    "predictions2.sort_values(by=\"F1 Score\", ascending=False).head(10)"
   ]
  },
  {
   "cell_type": "code",
   "execution_count": 18,
   "id": "aab840ef",
   "metadata": {
    "execution": {
     "iopub.execute_input": "2022-10-16T13:10:51.880959Z",
     "iopub.status.busy": "2022-10-16T13:10:51.880841Z",
     "iopub.status.idle": "2022-10-16T13:10:51.882961Z",
     "shell.execute_reply": "2022-10-16T13:10:51.882714Z"
    }
   },
   "outputs": [],
   "source": [
    "predictions2.to_csv('LazyPredict_Morgan3.csv')"
   ]
  },
  {
   "cell_type": "code",
   "execution_count": 19,
   "id": "6677c15f",
   "metadata": {
    "execution": {
     "iopub.execute_input": "2022-10-16T13:10:51.884147Z",
     "iopub.status.busy": "2022-10-16T13:10:51.884045Z",
     "iopub.status.idle": "2022-10-16T13:10:51.889965Z",
     "shell.execute_reply": "2022-10-16T13:10:51.889638Z"
    }
   },
   "outputs": [],
   "source": [
    "#By using Morgan fingerprints with radius of 3 and 1024 bits and feautures\n",
    "X3 = np.array(list((df1['fp_MorganF']))).astype(float)\n",
    "#X.shape\n",
    "Y3 = df1[\"activity\"].values\n",
    "#y.shape"
   ]
  },
  {
   "cell_type": "code",
   "execution_count": 20,
   "id": "038fddb6",
   "metadata": {
    "execution": {
     "iopub.execute_input": "2022-10-16T13:10:51.891292Z",
     "iopub.status.busy": "2022-10-16T13:10:51.891185Z",
     "iopub.status.idle": "2022-10-16T13:10:51.896229Z",
     "shell.execute_reply": "2022-10-16T13:10:51.895949Z"
    }
   },
   "outputs": [
    {
     "name": "stdout",
     "output_type": "stream",
     "text": [
      "Shape of training data: (2376, 1024)\n",
      "Shape of test data: (595, 1024)\n"
     ]
    }
   ],
   "source": [
    "# Split the data into training and test set\n",
    "# Perform data splitting using 80/20 ratio\n",
    "X_train3, X_test3, Y_train3, Y_test3 = train_test_split(X3, Y3, test_size=0.2, random_state=42)\n",
    "\n",
    "# Print the shape of training and testing data\n",
    "print(\"Shape of training data:\", X_train3.shape)\n",
    "print(\"Shape of test data:\", X_test3.shape)\n",
    "# NBVAL_CHECK_OUTPUT"
   ]
  },
  {
   "cell_type": "code",
   "execution_count": 21,
   "id": "7cd3d92a",
   "metadata": {
    "execution": {
     "iopub.execute_input": "2022-10-16T13:10:51.897459Z",
     "iopub.status.busy": "2022-10-16T13:10:51.897276Z",
     "iopub.status.idle": "2022-10-16T13:13:51.586242Z",
     "shell.execute_reply": "2022-10-16T13:13:51.585944Z"
    }
   },
   "outputs": [
    {
     "name": "stderr",
     "output_type": "stream",
     "text": [
      " 90%|████████████████████████████████████████████████████████████████████████████████████████████████████████████████████████████████████████████████████████████                  | 26/29 [00:39<00:06,  2.17s/it]"
     ]
    },
    {
     "name": "stdout",
     "output_type": "stream",
     "text": [
      "[19:10:11] WARNING: ../src/learner.cc:1115: Starting in XGBoost 1.3.0, the default evaluation metric used with the objective 'binary:logistic' was changed from 'error' to 'logloss'. Explicitly set eval_metric if you'd like to restore the old behavior.\n"
     ]
    },
    {
     "name": "stderr",
     "output_type": "stream",
     "text": [
      "100%|██████████████████████████████████████████████████████████████████████████████████████████████████████████████████████████████████████████████████████████████████████████████| 29/29 [04:32<00:00,  9.41s/it]\n"
     ]
    }
   ],
   "source": [
    "clf3 = LazyClassifier(verbose=0,ignore_warnings=True, custom_metric=None)\n",
    "models3, predictions3 = clf3.fit(X_train3, X_test3, Y_train3, Y_test3)"
   ]
  },
  {
   "cell_type": "code",
   "execution_count": 22,
   "id": "32cedba5",
   "metadata": {
    "execution": {
     "iopub.execute_input": "2022-10-16T13:13:51.587598Z",
     "iopub.status.busy": "2022-10-16T13:13:51.587490Z",
     "iopub.status.idle": "2022-10-16T13:13:51.591861Z",
     "shell.execute_reply": "2022-10-16T13:13:51.591630Z"
    }
   },
   "outputs": [
    {
     "data": {
      "text/html": [
       "<div>\n",
       "<style scoped>\n",
       "    .dataframe tbody tr th:only-of-type {\n",
       "        vertical-align: middle;\n",
       "    }\n",
       "\n",
       "    .dataframe tbody tr th {\n",
       "        vertical-align: top;\n",
       "    }\n",
       "\n",
       "    .dataframe thead th {\n",
       "        text-align: right;\n",
       "    }\n",
       "</style>\n",
       "<table border=\"1\" class=\"dataframe\">\n",
       "  <thead>\n",
       "    <tr style=\"text-align: right;\">\n",
       "      <th></th>\n",
       "      <th>Accuracy</th>\n",
       "      <th>Balanced Accuracy</th>\n",
       "      <th>ROC AUC</th>\n",
       "      <th>F1 Score</th>\n",
       "      <th>Time Taken</th>\n",
       "    </tr>\n",
       "    <tr>\n",
       "      <th>Model</th>\n",
       "      <th></th>\n",
       "      <th></th>\n",
       "      <th></th>\n",
       "      <th></th>\n",
       "      <th></th>\n",
       "    </tr>\n",
       "  </thead>\n",
       "  <tbody>\n",
       "    <tr>\n",
       "      <th>XGBClassifier</th>\n",
       "      <td>0.84</td>\n",
       "      <td>0.83</td>\n",
       "      <td>0.83</td>\n",
       "      <td>0.84</td>\n",
       "      <td>47.65</td>\n",
       "    </tr>\n",
       "    <tr>\n",
       "      <th>RandomForestClassifier</th>\n",
       "      <td>0.84</td>\n",
       "      <td>0.83</td>\n",
       "      <td>0.83</td>\n",
       "      <td>0.84</td>\n",
       "      <td>0.77</td>\n",
       "    </tr>\n",
       "    <tr>\n",
       "      <th>LGBMClassifier</th>\n",
       "      <td>0.83</td>\n",
       "      <td>0.83</td>\n",
       "      <td>0.83</td>\n",
       "      <td>0.83</td>\n",
       "      <td>185.92</td>\n",
       "    </tr>\n",
       "    <tr>\n",
       "      <th>ExtraTreesClassifier</th>\n",
       "      <td>0.83</td>\n",
       "      <td>0.82</td>\n",
       "      <td>0.82</td>\n",
       "      <td>0.83</td>\n",
       "      <td>1.07</td>\n",
       "    </tr>\n",
       "    <tr>\n",
       "      <th>BaggingClassifier</th>\n",
       "      <td>0.83</td>\n",
       "      <td>0.83</td>\n",
       "      <td>0.83</td>\n",
       "      <td>0.83</td>\n",
       "      <td>1.02</td>\n",
       "    </tr>\n",
       "    <tr>\n",
       "      <th>DecisionTreeClassifier</th>\n",
       "      <td>0.81</td>\n",
       "      <td>0.81</td>\n",
       "      <td>0.81</td>\n",
       "      <td>0.81</td>\n",
       "      <td>0.34</td>\n",
       "    </tr>\n",
       "    <tr>\n",
       "      <th>NuSVC</th>\n",
       "      <td>0.80</td>\n",
       "      <td>0.78</td>\n",
       "      <td>0.78</td>\n",
       "      <td>0.80</td>\n",
       "      <td>4.72</td>\n",
       "    </tr>\n",
       "    <tr>\n",
       "      <th>SVC</th>\n",
       "      <td>0.80</td>\n",
       "      <td>0.78</td>\n",
       "      <td>0.78</td>\n",
       "      <td>0.80</td>\n",
       "      <td>4.05</td>\n",
       "    </tr>\n",
       "    <tr>\n",
       "      <th>RidgeClassifierCV</th>\n",
       "      <td>0.77</td>\n",
       "      <td>0.77</td>\n",
       "      <td>0.77</td>\n",
       "      <td>0.77</td>\n",
       "      <td>3.83</td>\n",
       "    </tr>\n",
       "    <tr>\n",
       "      <th>KNeighborsClassifier</th>\n",
       "      <td>0.78</td>\n",
       "      <td>0.75</td>\n",
       "      <td>0.75</td>\n",
       "      <td>0.77</td>\n",
       "      <td>1.77</td>\n",
       "    </tr>\n",
       "  </tbody>\n",
       "</table>\n",
       "</div>"
      ],
      "text/plain": [
       "                        Accuracy  Balanced Accuracy  ROC AUC  F1 Score  \\\n",
       "Model                                                                    \n",
       "XGBClassifier               0.84               0.83     0.83      0.84   \n",
       "RandomForestClassifier      0.84               0.83     0.83      0.84   \n",
       "LGBMClassifier              0.83               0.83     0.83      0.83   \n",
       "ExtraTreesClassifier        0.83               0.82     0.82      0.83   \n",
       "BaggingClassifier           0.83               0.83     0.83      0.83   \n",
       "DecisionTreeClassifier      0.81               0.81     0.81      0.81   \n",
       "NuSVC                       0.80               0.78     0.78      0.80   \n",
       "SVC                         0.80               0.78     0.78      0.80   \n",
       "RidgeClassifierCV           0.77               0.77     0.77      0.77   \n",
       "KNeighborsClassifier        0.78               0.75     0.75      0.77   \n",
       "\n",
       "                        Time Taken  \n",
       "Model                               \n",
       "XGBClassifier                47.65  \n",
       "RandomForestClassifier        0.77  \n",
       "LGBMClassifier              185.92  \n",
       "ExtraTreesClassifier          1.07  \n",
       "BaggingClassifier             1.02  \n",
       "DecisionTreeClassifier        0.34  \n",
       "NuSVC                         4.72  \n",
       "SVC                           4.05  \n",
       "RidgeClassifierCV             3.83  \n",
       "KNeighborsClassifier          1.77  "
      ]
     },
     "execution_count": 22,
     "metadata": {},
     "output_type": "execute_result"
    }
   ],
   "source": [
    "predictions3.sort_values(by=\"F1 Score\", ascending=False).head(10)"
   ]
  },
  {
   "cell_type": "code",
   "execution_count": 23,
   "id": "f904c492",
   "metadata": {
    "execution": {
     "iopub.execute_input": "2022-10-16T13:13:51.593043Z",
     "iopub.status.busy": "2022-10-16T13:13:51.592846Z",
     "iopub.status.idle": "2022-10-16T13:13:51.594937Z",
     "shell.execute_reply": "2022-10-16T13:13:51.594672Z"
    }
   },
   "outputs": [],
   "source": [
    "predictions3.to_csv('LazyPredict_MorganF.csv')"
   ]
  },
  {
   "cell_type": "code",
   "execution_count": 24,
   "id": "e9c9899d",
   "metadata": {
    "execution": {
     "iopub.execute_input": "2022-10-16T13:13:51.596012Z",
     "iopub.status.busy": "2022-10-16T13:13:51.595913Z",
     "iopub.status.idle": "2022-10-16T13:13:51.601673Z",
     "shell.execute_reply": "2022-10-16T13:13:51.601341Z"
    }
   },
   "outputs": [],
   "source": [
    "#By using MAP4 fingerprints with 1024 bits\n",
    "X4 = np.array(list((df1['fp_MAP4']))).astype(float)\n",
    "#X.shape\n",
    "Y4 = df1[\"activity\"].values\n",
    "#y.shape"
   ]
  },
  {
   "cell_type": "code",
   "execution_count": 25,
   "id": "0d21006a",
   "metadata": {
    "execution": {
     "iopub.execute_input": "2022-10-16T13:13:51.602971Z",
     "iopub.status.busy": "2022-10-16T13:13:51.602866Z",
     "iopub.status.idle": "2022-10-16T13:13:51.608176Z",
     "shell.execute_reply": "2022-10-16T13:13:51.607923Z"
    }
   },
   "outputs": [
    {
     "name": "stdout",
     "output_type": "stream",
     "text": [
      "Shape of training data: (2376, 1024)\n",
      "Shape of test data: (595, 1024)\n"
     ]
    }
   ],
   "source": [
    "# Split the data into training and test set\n",
    "# Perform data splitting using 80/20 ratio\n",
    "X_train4, X_test4, Y_train4, Y_test4 = train_test_split(X4, Y4, test_size=0.2, random_state=42)\n",
    "\n",
    "# Print the shape of training and testing data\n",
    "print(\"Shape of training data:\", X_train4.shape)\n",
    "print(\"Shape of test data:\", X_test4.shape)\n",
    "# NBVAL_CHECK_OUTPUT"
   ]
  },
  {
   "cell_type": "code",
   "execution_count": 26,
   "id": "956dd5c2",
   "metadata": {
    "execution": {
     "iopub.execute_input": "2022-10-16T13:13:51.609329Z",
     "iopub.status.busy": "2022-10-16T13:13:51.609160Z",
     "iopub.status.idle": "2022-10-16T13:17:18.883720Z",
     "shell.execute_reply": "2022-10-16T13:17:18.883287Z"
    }
   },
   "outputs": [
    {
     "name": "stderr",
     "output_type": "stream",
     "text": [
      " 90%|████████████████████████████████████████████████████████████████████████████████████████████████████████████████████████████████████████████████████████████                  | 26/29 [01:07<00:09,  3.27s/it]"
     ]
    },
    {
     "name": "stdout",
     "output_type": "stream",
     "text": [
      "[19:15:13] WARNING: ../src/learner.cc:1115: Starting in XGBoost 1.3.0, the default evaluation metric used with the objective 'binary:logistic' was changed from 'error' to 'logloss'. Explicitly set eval_metric if you'd like to restore the old behavior.\n"
     ]
    },
    {
     "name": "stderr",
     "output_type": "stream",
     "text": [
      "100%|██████████████████████████████████████████████████████████████████████████████████████████████████████████████████████████████████████████████████████████████████████████████| 29/29 [05:01<00:00, 10.41s/it]\n"
     ]
    }
   ],
   "source": [
    "# Defines and builds the lazyclassifier\n",
    "clf4 = LazyClassifier(verbose=0,ignore_warnings=True, custom_metric=None)\n",
    "models4, predictions4 = clf4.fit(X_train4, X_test4, Y_train4, Y_test4)"
   ]
  },
  {
   "cell_type": "code",
   "execution_count": 27,
   "id": "7c2e1c7f",
   "metadata": {
    "execution": {
     "iopub.execute_input": "2022-10-16T13:17:18.885194Z",
     "iopub.status.busy": "2022-10-16T13:17:18.885036Z",
     "iopub.status.idle": "2022-10-16T13:17:18.890017Z",
     "shell.execute_reply": "2022-10-16T13:17:18.889718Z"
    }
   },
   "outputs": [
    {
     "data": {
      "text/html": [
       "<div>\n",
       "<style scoped>\n",
       "    .dataframe tbody tr th:only-of-type {\n",
       "        vertical-align: middle;\n",
       "    }\n",
       "\n",
       "    .dataframe tbody tr th {\n",
       "        vertical-align: top;\n",
       "    }\n",
       "\n",
       "    .dataframe thead th {\n",
       "        text-align: right;\n",
       "    }\n",
       "</style>\n",
       "<table border=\"1\" class=\"dataframe\">\n",
       "  <thead>\n",
       "    <tr style=\"text-align: right;\">\n",
       "      <th></th>\n",
       "      <th>Accuracy</th>\n",
       "      <th>Balanced Accuracy</th>\n",
       "      <th>ROC AUC</th>\n",
       "      <th>F1 Score</th>\n",
       "      <th>Time Taken</th>\n",
       "    </tr>\n",
       "    <tr>\n",
       "      <th>Model</th>\n",
       "      <th></th>\n",
       "      <th></th>\n",
       "      <th></th>\n",
       "      <th></th>\n",
       "      <th></th>\n",
       "    </tr>\n",
       "  </thead>\n",
       "  <tbody>\n",
       "    <tr>\n",
       "      <th>LGBMClassifier</th>\n",
       "      <td>0.82</td>\n",
       "      <td>0.81</td>\n",
       "      <td>0.81</td>\n",
       "      <td>0.82</td>\n",
       "      <td>178.60</td>\n",
       "    </tr>\n",
       "    <tr>\n",
       "      <th>ExtraTreesClassifier</th>\n",
       "      <td>0.82</td>\n",
       "      <td>0.80</td>\n",
       "      <td>0.80</td>\n",
       "      <td>0.82</td>\n",
       "      <td>0.92</td>\n",
       "    </tr>\n",
       "    <tr>\n",
       "      <th>XGBClassifier</th>\n",
       "      <td>0.81</td>\n",
       "      <td>0.80</td>\n",
       "      <td>0.80</td>\n",
       "      <td>0.81</td>\n",
       "      <td>55.48</td>\n",
       "    </tr>\n",
       "    <tr>\n",
       "      <th>RandomForestClassifier</th>\n",
       "      <td>0.81</td>\n",
       "      <td>0.79</td>\n",
       "      <td>0.79</td>\n",
       "      <td>0.81</td>\n",
       "      <td>2.94</td>\n",
       "    </tr>\n",
       "    <tr>\n",
       "      <th>BaggingClassifier</th>\n",
       "      <td>0.79</td>\n",
       "      <td>0.78</td>\n",
       "      <td>0.78</td>\n",
       "      <td>0.79</td>\n",
       "      <td>10.69</td>\n",
       "    </tr>\n",
       "    <tr>\n",
       "      <th>KNeighborsClassifier</th>\n",
       "      <td>0.78</td>\n",
       "      <td>0.75</td>\n",
       "      <td>0.75</td>\n",
       "      <td>0.77</td>\n",
       "      <td>1.86</td>\n",
       "    </tr>\n",
       "    <tr>\n",
       "      <th>AdaBoostClassifier</th>\n",
       "      <td>0.76</td>\n",
       "      <td>0.75</td>\n",
       "      <td>0.75</td>\n",
       "      <td>0.77</td>\n",
       "      <td>6.60</td>\n",
       "    </tr>\n",
       "    <tr>\n",
       "      <th>NuSVC</th>\n",
       "      <td>0.76</td>\n",
       "      <td>0.74</td>\n",
       "      <td>0.74</td>\n",
       "      <td>0.76</td>\n",
       "      <td>4.72</td>\n",
       "    </tr>\n",
       "    <tr>\n",
       "      <th>DecisionTreeClassifier</th>\n",
       "      <td>0.75</td>\n",
       "      <td>0.73</td>\n",
       "      <td>0.73</td>\n",
       "      <td>0.75</td>\n",
       "      <td>1.78</td>\n",
       "    </tr>\n",
       "    <tr>\n",
       "      <th>RidgeClassifierCV</th>\n",
       "      <td>0.74</td>\n",
       "      <td>0.72</td>\n",
       "      <td>0.72</td>\n",
       "      <td>0.74</td>\n",
       "      <td>8.19</td>\n",
       "    </tr>\n",
       "  </tbody>\n",
       "</table>\n",
       "</div>"
      ],
      "text/plain": [
       "                        Accuracy  Balanced Accuracy  ROC AUC  F1 Score  \\\n",
       "Model                                                                    \n",
       "LGBMClassifier              0.82               0.81     0.81      0.82   \n",
       "ExtraTreesClassifier        0.82               0.80     0.80      0.82   \n",
       "XGBClassifier               0.81               0.80     0.80      0.81   \n",
       "RandomForestClassifier      0.81               0.79     0.79      0.81   \n",
       "BaggingClassifier           0.79               0.78     0.78      0.79   \n",
       "KNeighborsClassifier        0.78               0.75     0.75      0.77   \n",
       "AdaBoostClassifier          0.76               0.75     0.75      0.77   \n",
       "NuSVC                       0.76               0.74     0.74      0.76   \n",
       "DecisionTreeClassifier      0.75               0.73     0.73      0.75   \n",
       "RidgeClassifierCV           0.74               0.72     0.72      0.74   \n",
       "\n",
       "                        Time Taken  \n",
       "Model                               \n",
       "LGBMClassifier              178.60  \n",
       "ExtraTreesClassifier          0.92  \n",
       "XGBClassifier                55.48  \n",
       "RandomForestClassifier        2.94  \n",
       "BaggingClassifier            10.69  \n",
       "KNeighborsClassifier          1.86  \n",
       "AdaBoostClassifier            6.60  \n",
       "NuSVC                         4.72  \n",
       "DecisionTreeClassifier        1.78  \n",
       "RidgeClassifierCV             8.19  "
      ]
     },
     "execution_count": 27,
     "metadata": {},
     "output_type": "execute_result"
    }
   ],
   "source": [
    "predictions4.sort_values(by=\"F1 Score\", ascending=False).head(10)"
   ]
  },
  {
   "cell_type": "code",
   "execution_count": 28,
   "id": "e5309235",
   "metadata": {
    "execution": {
     "iopub.execute_input": "2022-10-16T13:17:18.891174Z",
     "iopub.status.busy": "2022-10-16T13:17:18.891070Z",
     "iopub.status.idle": "2022-10-16T13:17:18.893323Z",
     "shell.execute_reply": "2022-10-16T13:17:18.893031Z"
    }
   },
   "outputs": [],
   "source": [
    "predictions4.to_csv('LazyPredict_MAP4.csv')"
   ]
  },
  {
   "cell_type": "markdown",
   "id": "137ad30b",
   "metadata": {},
   "source": [
    "## USE 2048 BITS FINGERPRINTS"
   ]
  },
  {
   "cell_type": "code",
   "execution_count": 29,
   "id": "832cec48",
   "metadata": {
    "execution": {
     "iopub.execute_input": "2022-10-16T13:17:18.894473Z",
     "iopub.status.busy": "2022-10-16T13:17:18.894371Z",
     "iopub.status.idle": "2022-10-16T13:17:18.936264Z",
     "shell.execute_reply": "2022-10-16T13:17:18.935925Z"
    }
   },
   "outputs": [
    {
     "data": {
      "text/html": [
       "<div>\n",
       "<style scoped>\n",
       "    .dataframe tbody tr th:only-of-type {\n",
       "        vertical-align: middle;\n",
       "    }\n",
       "\n",
       "    .dataframe tbody tr th {\n",
       "        vertical-align: top;\n",
       "    }\n",
       "\n",
       "    .dataframe thead th {\n",
       "        text-align: right;\n",
       "    }\n",
       "</style>\n",
       "<table border=\"1\" class=\"dataframe\">\n",
       "  <thead>\n",
       "    <tr style=\"text-align: right;\">\n",
       "      <th></th>\n",
       "      <th>molecule_chembl_id</th>\n",
       "      <th>fp_Morgan3</th>\n",
       "      <th>fp_MorganF</th>\n",
       "      <th>fp_MAP4</th>\n",
       "      <th>molecular_weight</th>\n",
       "      <th>n_rot</th>\n",
       "      <th>n_heavy</th>\n",
       "      <th>n_hba</th>\n",
       "      <th>n_hbd</th>\n",
       "      <th>logp</th>\n",
       "      <th>num_ar</th>\n",
       "      <th>num_sa</th>\n",
       "      <th>num_alip</th>\n",
       "      <th>pchembl</th>\n",
       "    </tr>\n",
       "  </thead>\n",
       "  <tbody>\n",
       "    <tr>\n",
       "      <th>0</th>\n",
       "      <td>CHEMBL99</td>\n",
       "      <td>[0, 1, 0, 0, 0, 0, 0, 0, 0, 0, 0, 0, 0, 0, 0, ...</td>\n",
       "      <td>[1, 1, 1, 1, 1, 0, 0, 0, 0, 0, 0, 0, 0, 0, 0, ...</td>\n",
       "      <td>[13333824, 3429503, 7998790, 6649368, 8735147,...</td>\n",
       "      <td>302.16</td>\n",
       "      <td>6.00</td>\n",
       "      <td>22.00</td>\n",
       "      <td>4.00</td>\n",
       "      <td>2.00</td>\n",
       "      <td>2.58</td>\n",
       "      <td>1.00</td>\n",
       "      <td>0.00</td>\n",
       "      <td>0.00</td>\n",
       "      <td>9.00</td>\n",
       "    </tr>\n",
       "    <tr>\n",
       "      <th>1</th>\n",
       "      <td>CHEMBL4286053</td>\n",
       "      <td>[0, 0, 0, 0, 0, 0, 0, 0, 0, 0, 0, 1, 0, 0, 0, ...</td>\n",
       "      <td>[1, 1, 1, 1, 1, 0, 1, 0, 0, 0, 0, 0, 0, 0, 0, ...</td>\n",
       "      <td>[10514595, 47126, 2064333, 12474601, 24666102,...</td>\n",
       "      <td>314.02</td>\n",
       "      <td>5.00</td>\n",
       "      <td>18.00</td>\n",
       "      <td>4.00</td>\n",
       "      <td>2.00</td>\n",
       "      <td>0.73</td>\n",
       "      <td>2.00</td>\n",
       "      <td>0.00</td>\n",
       "      <td>0.00</td>\n",
       "      <td>6.45</td>\n",
       "    </tr>\n",
       "    <tr>\n",
       "      <th>2</th>\n",
       "      <td>CHEMBL1097369</td>\n",
       "      <td>[0, 0, 1, 0, 0, 0, 0, 0, 0, 0, 0, 0, 0, 0, 0, ...</td>\n",
       "      <td>[1, 1, 1, 1, 1, 0, 1, 0, 0, 0, 0, 0, 0, 0, 0, ...</td>\n",
       "      <td>[13333824, 10427556, 6095547, 5213123, 2452922...</td>\n",
       "      <td>361.18</td>\n",
       "      <td>4.00</td>\n",
       "      <td>27.00</td>\n",
       "      <td>4.00</td>\n",
       "      <td>2.00</td>\n",
       "      <td>4.73</td>\n",
       "      <td>3.00</td>\n",
       "      <td>1.00</td>\n",
       "      <td>1.00</td>\n",
       "      <td>7.60</td>\n",
       "    </tr>\n",
       "    <tr>\n",
       "      <th>3</th>\n",
       "      <td>CHEMBL3908767</td>\n",
       "      <td>[0, 0, 0, 0, 0, 0, 0, 0, 0, 0, 0, 0, 0, 0, 0, ...</td>\n",
       "      <td>[1, 1, 1, 1, 1, 1, 1, 0, 0, 0, 0, 0, 0, 0, 0, ...</td>\n",
       "      <td>[2032543, 26371649, 3707928, 4020886, 501966, ...</td>\n",
       "      <td>397.18</td>\n",
       "      <td>6.00</td>\n",
       "      <td>29.00</td>\n",
       "      <td>7.00</td>\n",
       "      <td>3.00</td>\n",
       "      <td>1.89</td>\n",
       "      <td>3.00</td>\n",
       "      <td>1.00</td>\n",
       "      <td>1.00</td>\n",
       "      <td>5.27</td>\n",
       "    </tr>\n",
       "    <tr>\n",
       "      <th>4</th>\n",
       "      <td>CHEMBL4174193</td>\n",
       "      <td>[0, 1, 0, 1, 0, 0, 0, 0, 0, 0, 0, 0, 0, 0, 0, ...</td>\n",
       "      <td>[1, 1, 1, 1, 1, 0, 0, 0, 0, 0, 0, 1, 0, 0, 0, ...</td>\n",
       "      <td>[5976924, 3429503, 4246646, 453610, 9204552, 2...</td>\n",
       "      <td>341.17</td>\n",
       "      <td>6.00</td>\n",
       "      <td>25.00</td>\n",
       "      <td>3.00</td>\n",
       "      <td>3.00</td>\n",
       "      <td>3.50</td>\n",
       "      <td>2.00</td>\n",
       "      <td>0.00</td>\n",
       "      <td>0.00</td>\n",
       "      <td>7.92</td>\n",
       "    </tr>\n",
       "    <tr>\n",
       "      <th>...</th>\n",
       "      <td>...</td>\n",
       "      <td>...</td>\n",
       "      <td>...</td>\n",
       "      <td>...</td>\n",
       "      <td>...</td>\n",
       "      <td>...</td>\n",
       "      <td>...</td>\n",
       "      <td>...</td>\n",
       "      <td>...</td>\n",
       "      <td>...</td>\n",
       "      <td>...</td>\n",
       "      <td>...</td>\n",
       "      <td>...</td>\n",
       "      <td>...</td>\n",
       "    </tr>\n",
       "    <tr>\n",
       "      <th>2966</th>\n",
       "      <td>CHEMBL4162282</td>\n",
       "      <td>[0, 0, 0, 1, 0, 0, 0, 0, 0, 0, 0, 0, 0, 0, 0, ...</td>\n",
       "      <td>[1, 1, 1, 1, 1, 0, 0, 0, 0, 0, 0, 1, 0, 0, 0, ...</td>\n",
       "      <td>[4813367, 3821889, 8033062, 6078715, 583588, 2...</td>\n",
       "      <td>460.21</td>\n",
       "      <td>8.00</td>\n",
       "      <td>34.00</td>\n",
       "      <td>5.00</td>\n",
       "      <td>3.00</td>\n",
       "      <td>3.46</td>\n",
       "      <td>3.00</td>\n",
       "      <td>0.00</td>\n",
       "      <td>0.00</td>\n",
       "      <td>8.52</td>\n",
       "    </tr>\n",
       "    <tr>\n",
       "      <th>2967</th>\n",
       "      <td>CHEMBL140525</td>\n",
       "      <td>[0, 1, 0, 0, 0, 0, 0, 0, 0, 0, 0, 0, 0, 0, 0, ...</td>\n",
       "      <td>[1, 1, 1, 1, 1, 0, 1, 0, 0, 0, 0, 1, 0, 0, 0, ...</td>\n",
       "      <td>[5547132, 1675066, 3082320, 3724449, 7332227, ...</td>\n",
       "      <td>485.21</td>\n",
       "      <td>11.00</td>\n",
       "      <td>36.00</td>\n",
       "      <td>6.00</td>\n",
       "      <td>3.00</td>\n",
       "      <td>4.38</td>\n",
       "      <td>4.00</td>\n",
       "      <td>0.00</td>\n",
       "      <td>0.00</td>\n",
       "      <td>6.11</td>\n",
       "    </tr>\n",
       "    <tr>\n",
       "      <th>2968</th>\n",
       "      <td>CHEMBL3891420</td>\n",
       "      <td>[0, 0, 0, 0, 0, 0, 0, 0, 0, 0, 0, 0, 0, 0, 0, ...</td>\n",
       "      <td>[1, 1, 1, 1, 1, 1, 1, 0, 0, 1, 0, 0, 0, 0, 0, ...</td>\n",
       "      <td>[4681989, 2349897, 3921740, 116276, 4556712, 2...</td>\n",
       "      <td>470.21</td>\n",
       "      <td>6.00</td>\n",
       "      <td>35.00</td>\n",
       "      <td>6.00</td>\n",
       "      <td>4.00</td>\n",
       "      <td>3.25</td>\n",
       "      <td>4.00</td>\n",
       "      <td>1.00</td>\n",
       "      <td>1.00</td>\n",
       "      <td>8.55</td>\n",
       "    </tr>\n",
       "    <tr>\n",
       "      <th>2969</th>\n",
       "      <td>CHEMBL4447317</td>\n",
       "      <td>[0, 0, 0, 0, 0, 0, 0, 0, 0, 0, 0, 0, 0, 0, 0, ...</td>\n",
       "      <td>[1, 1, 1, 1, 1, 0, 0, 0, 1, 0, 0, 0, 0, 0, 0, ...</td>\n",
       "      <td>[8980709, 7477158, 5660089, 7541421, 1206207, ...</td>\n",
       "      <td>701.12</td>\n",
       "      <td>10.00</td>\n",
       "      <td>48.00</td>\n",
       "      <td>5.00</td>\n",
       "      <td>2.00</td>\n",
       "      <td>6.55</td>\n",
       "      <td>4.00</td>\n",
       "      <td>0.00</td>\n",
       "      <td>0.00</td>\n",
       "      <td>6.82</td>\n",
       "    </tr>\n",
       "    <tr>\n",
       "      <th>2970</th>\n",
       "      <td>CHEMBL3357478</td>\n",
       "      <td>[0, 0, 0, 0, 0, 0, 0, 0, 0, 0, 0, 0, 0, 0, 0, ...</td>\n",
       "      <td>[1, 1, 1, 1, 1, 0, 1, 0, 0, 1, 0, 0, 0, 0, 0, ...</td>\n",
       "      <td>[3356504, 4126377, 4542507, 1561872, 10609042,...</td>\n",
       "      <td>360.16</td>\n",
       "      <td>4.00</td>\n",
       "      <td>27.00</td>\n",
       "      <td>5.00</td>\n",
       "      <td>3.00</td>\n",
       "      <td>3.23</td>\n",
       "      <td>3.00</td>\n",
       "      <td>0.00</td>\n",
       "      <td>1.00</td>\n",
       "      <td>5.88</td>\n",
       "    </tr>\n",
       "  </tbody>\n",
       "</table>\n",
       "<p>2971 rows × 14 columns</p>\n",
       "</div>"
      ],
      "text/plain": [
       "     molecule_chembl_id                                         fp_Morgan3  \\\n",
       "0              CHEMBL99  [0, 1, 0, 0, 0, 0, 0, 0, 0, 0, 0, 0, 0, 0, 0, ...   \n",
       "1         CHEMBL4286053  [0, 0, 0, 0, 0, 0, 0, 0, 0, 0, 0, 1, 0, 0, 0, ...   \n",
       "2         CHEMBL1097369  [0, 0, 1, 0, 0, 0, 0, 0, 0, 0, 0, 0, 0, 0, 0, ...   \n",
       "3         CHEMBL3908767  [0, 0, 0, 0, 0, 0, 0, 0, 0, 0, 0, 0, 0, 0, 0, ...   \n",
       "4         CHEMBL4174193  [0, 1, 0, 1, 0, 0, 0, 0, 0, 0, 0, 0, 0, 0, 0, ...   \n",
       "...                 ...                                                ...   \n",
       "2966      CHEMBL4162282  [0, 0, 0, 1, 0, 0, 0, 0, 0, 0, 0, 0, 0, 0, 0, ...   \n",
       "2967       CHEMBL140525  [0, 1, 0, 0, 0, 0, 0, 0, 0, 0, 0, 0, 0, 0, 0, ...   \n",
       "2968      CHEMBL3891420  [0, 0, 0, 0, 0, 0, 0, 0, 0, 0, 0, 0, 0, 0, 0, ...   \n",
       "2969      CHEMBL4447317  [0, 0, 0, 0, 0, 0, 0, 0, 0, 0, 0, 0, 0, 0, 0, ...   \n",
       "2970      CHEMBL3357478  [0, 0, 0, 0, 0, 0, 0, 0, 0, 0, 0, 0, 0, 0, 0, ...   \n",
       "\n",
       "                                             fp_MorganF  \\\n",
       "0     [1, 1, 1, 1, 1, 0, 0, 0, 0, 0, 0, 0, 0, 0, 0, ...   \n",
       "1     [1, 1, 1, 1, 1, 0, 1, 0, 0, 0, 0, 0, 0, 0, 0, ...   \n",
       "2     [1, 1, 1, 1, 1, 0, 1, 0, 0, 0, 0, 0, 0, 0, 0, ...   \n",
       "3     [1, 1, 1, 1, 1, 1, 1, 0, 0, 0, 0, 0, 0, 0, 0, ...   \n",
       "4     [1, 1, 1, 1, 1, 0, 0, 0, 0, 0, 0, 1, 0, 0, 0, ...   \n",
       "...                                                 ...   \n",
       "2966  [1, 1, 1, 1, 1, 0, 0, 0, 0, 0, 0, 1, 0, 0, 0, ...   \n",
       "2967  [1, 1, 1, 1, 1, 0, 1, 0, 0, 0, 0, 1, 0, 0, 0, ...   \n",
       "2968  [1, 1, 1, 1, 1, 1, 1, 0, 0, 1, 0, 0, 0, 0, 0, ...   \n",
       "2969  [1, 1, 1, 1, 1, 0, 0, 0, 1, 0, 0, 0, 0, 0, 0, ...   \n",
       "2970  [1, 1, 1, 1, 1, 0, 1, 0, 0, 1, 0, 0, 0, 0, 0, ...   \n",
       "\n",
       "                                                fp_MAP4  molecular_weight  \\\n",
       "0     [13333824, 3429503, 7998790, 6649368, 8735147,...            302.16   \n",
       "1     [10514595, 47126, 2064333, 12474601, 24666102,...            314.02   \n",
       "2     [13333824, 10427556, 6095547, 5213123, 2452922...            361.18   \n",
       "3     [2032543, 26371649, 3707928, 4020886, 501966, ...            397.18   \n",
       "4     [5976924, 3429503, 4246646, 453610, 9204552, 2...            341.17   \n",
       "...                                                 ...               ...   \n",
       "2966  [4813367, 3821889, 8033062, 6078715, 583588, 2...            460.21   \n",
       "2967  [5547132, 1675066, 3082320, 3724449, 7332227, ...            485.21   \n",
       "2968  [4681989, 2349897, 3921740, 116276, 4556712, 2...            470.21   \n",
       "2969  [8980709, 7477158, 5660089, 7541421, 1206207, ...            701.12   \n",
       "2970  [3356504, 4126377, 4542507, 1561872, 10609042,...            360.16   \n",
       "\n",
       "      n_rot  n_heavy  n_hba  n_hbd  logp  num_ar  num_sa  num_alip  pchembl  \n",
       "0      6.00    22.00   4.00   2.00  2.58    1.00    0.00      0.00     9.00  \n",
       "1      5.00    18.00   4.00   2.00  0.73    2.00    0.00      0.00     6.45  \n",
       "2      4.00    27.00   4.00   2.00  4.73    3.00    1.00      1.00     7.60  \n",
       "3      6.00    29.00   7.00   3.00  1.89    3.00    1.00      1.00     5.27  \n",
       "4      6.00    25.00   3.00   3.00  3.50    2.00    0.00      0.00     7.92  \n",
       "...     ...      ...    ...    ...   ...     ...     ...       ...      ...  \n",
       "2966   8.00    34.00   5.00   3.00  3.46    3.00    0.00      0.00     8.52  \n",
       "2967  11.00    36.00   6.00   3.00  4.38    4.00    0.00      0.00     6.11  \n",
       "2968   6.00    35.00   6.00   4.00  3.25    4.00    1.00      1.00     8.55  \n",
       "2969  10.00    48.00   5.00   2.00  6.55    4.00    0.00      0.00     6.82  \n",
       "2970   4.00    27.00   5.00   3.00  3.23    3.00    0.00      1.00     5.88  \n",
       "\n",
       "[2971 rows x 14 columns]"
      ]
     },
     "execution_count": 29,
     "metadata": {},
     "output_type": "execute_result"
    }
   ],
   "source": [
    "df2 = pd.read_pickle(HDAC6/\"HDAC6_2048B.csv\")\n",
    "df2 = df2.sample(frac=1).reset_index(drop=True)\n",
    "df2"
   ]
  },
  {
   "cell_type": "code",
   "execution_count": 30,
   "id": "a364760d",
   "metadata": {
    "execution": {
     "iopub.execute_input": "2022-10-16T13:17:18.937481Z",
     "iopub.status.busy": "2022-10-16T13:17:18.937339Z",
     "iopub.status.idle": "2022-10-16T13:17:18.941073Z",
     "shell.execute_reply": "2022-10-16T13:17:18.940758Z"
    }
   },
   "outputs": [
    {
     "name": "stdout",
     "output_type": "stream",
     "text": [
      "Number of active compounds: 1837\n",
      "Number of inactive compounds: 1134\n"
     ]
    }
   ],
   "source": [
    "# Add column for activity\n",
    "df2[\"activity\"] = np.zeros(len(df2))\n",
    "\n",
    "# Mark every molecule as active with an pIC50 of >= 6.6, 0 otherwise\n",
    "df2.loc[df2[df2.pchembl >= 6.6].index, \"activity\"] = 1.0\n",
    "\n",
    "# NBVAL_CHECK_OUTPUT\n",
    "print(\"Number of active compounds:\", int(df2.activity.sum()))\n",
    "print(\"Number of inactive compounds:\", len(df2) - int(df2.activity.sum()))"
   ]
  },
  {
   "cell_type": "code",
   "execution_count": 31,
   "id": "1b2dd0c7",
   "metadata": {
    "execution": {
     "iopub.execute_input": "2022-10-16T13:17:18.942260Z",
     "iopub.status.busy": "2022-10-16T13:17:18.942098Z",
     "iopub.status.idle": "2022-10-16T13:17:18.952787Z",
     "shell.execute_reply": "2022-10-16T13:17:18.952357Z"
    }
   },
   "outputs": [],
   "source": [
    "#2048 bits Morgan fingerprints with radius of 3\n",
    "X5 = np.array(list((df2['fp_Morgan3']))).astype(float)\n",
    "#X.shape\n",
    "Y5 = df2[\"activity\"].values\n",
    "#y.shape"
   ]
  },
  {
   "cell_type": "code",
   "execution_count": 32,
   "id": "96dafe9d",
   "metadata": {
    "execution": {
     "iopub.execute_input": "2022-10-16T13:17:18.954155Z",
     "iopub.status.busy": "2022-10-16T13:17:18.954022Z",
     "iopub.status.idle": "2022-10-16T13:17:18.962008Z",
     "shell.execute_reply": "2022-10-16T13:17:18.961578Z"
    }
   },
   "outputs": [
    {
     "name": "stdout",
     "output_type": "stream",
     "text": [
      "Shape of training data: (2376, 2048)\n",
      "Shape of test data: (595, 2048)\n"
     ]
    }
   ],
   "source": [
    "# Split the data into training and test set\n",
    "# Perform data splitting using 80/20 ratio\n",
    "X_train5, X_test5, Y_train5, Y_test5 = train_test_split(X5, Y5, test_size=0.2, random_state=42)\n",
    "\n",
    "# Print the shape of training and testing data\n",
    "print(\"Shape of training data:\", X_train5.shape)\n",
    "print(\"Shape of test data:\", X_test5.shape)\n",
    "# NBVAL_CHECK_OUTPUT"
   ]
  },
  {
   "cell_type": "code",
   "execution_count": 33,
   "id": "06f96090",
   "metadata": {
    "execution": {
     "iopub.execute_input": "2022-10-16T13:17:18.963318Z",
     "iopub.status.busy": "2022-10-16T13:17:18.963187Z",
     "iopub.status.idle": "2022-10-16T13:20:45.708963Z",
     "shell.execute_reply": "2022-10-16T13:20:45.708628Z"
    }
   },
   "outputs": [
    {
     "name": "stderr",
     "output_type": "stream",
     "text": [
      " 90%|████████████████████████████████████████████████████████████████████████████████████████████████████████████████████████████████████████████████████████████                  | 26/29 [01:35<00:17,  5.86s/it]"
     ]
    },
    {
     "name": "stdout",
     "output_type": "stream",
     "text": [
      "[19:20:43] WARNING: ../src/learner.cc:1115: Starting in XGBoost 1.3.0, the default evaluation metric used with the objective 'binary:logistic' was changed from 'error' to 'logloss'. Explicitly set eval_metric if you'd like to restore the old behavior.\n"
     ]
    },
    {
     "name": "stderr",
     "output_type": "stream",
     "text": [
      "100%|██████████████████████████████████████████████████████████████████████████████████████████████████████████████████████████████████████████████████████████████████████████████| 29/29 [05:28<00:00, 11.34s/it]\n"
     ]
    }
   ],
   "source": [
    "clf5 = LazyClassifier(verbose=0,ignore_warnings=True, custom_metric=None)\n",
    "models5, predictions5 = clf5.fit(X_train5, X_test5, Y_train5, Y_test5)"
   ]
  },
  {
   "cell_type": "code",
   "execution_count": 34,
   "id": "a788d0a0",
   "metadata": {
    "execution": {
     "iopub.execute_input": "2022-10-16T13:20:45.710372Z",
     "iopub.status.busy": "2022-10-16T13:20:45.710175Z",
     "iopub.status.idle": "2022-10-16T13:20:45.714808Z",
     "shell.execute_reply": "2022-10-16T13:20:45.714565Z"
    }
   },
   "outputs": [
    {
     "data": {
      "text/html": [
       "<div>\n",
       "<style scoped>\n",
       "    .dataframe tbody tr th:only-of-type {\n",
       "        vertical-align: middle;\n",
       "    }\n",
       "\n",
       "    .dataframe tbody tr th {\n",
       "        vertical-align: top;\n",
       "    }\n",
       "\n",
       "    .dataframe thead th {\n",
       "        text-align: right;\n",
       "    }\n",
       "</style>\n",
       "<table border=\"1\" class=\"dataframe\">\n",
       "  <thead>\n",
       "    <tr style=\"text-align: right;\">\n",
       "      <th></th>\n",
       "      <th>Accuracy</th>\n",
       "      <th>Balanced Accuracy</th>\n",
       "      <th>ROC AUC</th>\n",
       "      <th>F1 Score</th>\n",
       "      <th>Time Taken</th>\n",
       "    </tr>\n",
       "    <tr>\n",
       "      <th>Model</th>\n",
       "      <th></th>\n",
       "      <th></th>\n",
       "      <th></th>\n",
       "      <th></th>\n",
       "      <th></th>\n",
       "    </tr>\n",
       "  </thead>\n",
       "  <tbody>\n",
       "    <tr>\n",
       "      <th>RandomForestClassifier</th>\n",
       "      <td>0.87</td>\n",
       "      <td>0.86</td>\n",
       "      <td>0.86</td>\n",
       "      <td>0.87</td>\n",
       "      <td>1.13</td>\n",
       "    </tr>\n",
       "    <tr>\n",
       "      <th>ExtraTreesClassifier</th>\n",
       "      <td>0.86</td>\n",
       "      <td>0.85</td>\n",
       "      <td>0.85</td>\n",
       "      <td>0.86</td>\n",
       "      <td>1.71</td>\n",
       "    </tr>\n",
       "    <tr>\n",
       "      <th>LGBMClassifier</th>\n",
       "      <td>0.85</td>\n",
       "      <td>0.84</td>\n",
       "      <td>0.84</td>\n",
       "      <td>0.85</td>\n",
       "      <td>188.07</td>\n",
       "    </tr>\n",
       "    <tr>\n",
       "      <th>XGBClassifier</th>\n",
       "      <td>0.84</td>\n",
       "      <td>0.83</td>\n",
       "      <td>0.83</td>\n",
       "      <td>0.84</td>\n",
       "      <td>45.16</td>\n",
       "    </tr>\n",
       "    <tr>\n",
       "      <th>NuSVC</th>\n",
       "      <td>0.84</td>\n",
       "      <td>0.82</td>\n",
       "      <td>0.82</td>\n",
       "      <td>0.84</td>\n",
       "      <td>10.12</td>\n",
       "    </tr>\n",
       "    <tr>\n",
       "      <th>SVC</th>\n",
       "      <td>0.84</td>\n",
       "      <td>0.81</td>\n",
       "      <td>0.81</td>\n",
       "      <td>0.83</td>\n",
       "      <td>9.57</td>\n",
       "    </tr>\n",
       "    <tr>\n",
       "      <th>BaggingClassifier</th>\n",
       "      <td>0.82</td>\n",
       "      <td>0.81</td>\n",
       "      <td>0.81</td>\n",
       "      <td>0.82</td>\n",
       "      <td>2.93</td>\n",
       "    </tr>\n",
       "    <tr>\n",
       "      <th>BernoulliNB</th>\n",
       "      <td>0.81</td>\n",
       "      <td>0.81</td>\n",
       "      <td>0.81</td>\n",
       "      <td>0.82</td>\n",
       "      <td>0.15</td>\n",
       "    </tr>\n",
       "    <tr>\n",
       "      <th>CalibratedClassifierCV</th>\n",
       "      <td>0.82</td>\n",
       "      <td>0.78</td>\n",
       "      <td>0.78</td>\n",
       "      <td>0.81</td>\n",
       "      <td>15.76</td>\n",
       "    </tr>\n",
       "    <tr>\n",
       "      <th>NearestCentroid</th>\n",
       "      <td>0.81</td>\n",
       "      <td>0.80</td>\n",
       "      <td>0.80</td>\n",
       "      <td>0.81</td>\n",
       "      <td>0.15</td>\n",
       "    </tr>\n",
       "  </tbody>\n",
       "</table>\n",
       "</div>"
      ],
      "text/plain": [
       "                        Accuracy  Balanced Accuracy  ROC AUC  F1 Score  \\\n",
       "Model                                                                    \n",
       "RandomForestClassifier      0.87               0.86     0.86      0.87   \n",
       "ExtraTreesClassifier        0.86               0.85     0.85      0.86   \n",
       "LGBMClassifier              0.85               0.84     0.84      0.85   \n",
       "XGBClassifier               0.84               0.83     0.83      0.84   \n",
       "NuSVC                       0.84               0.82     0.82      0.84   \n",
       "SVC                         0.84               0.81     0.81      0.83   \n",
       "BaggingClassifier           0.82               0.81     0.81      0.82   \n",
       "BernoulliNB                 0.81               0.81     0.81      0.82   \n",
       "CalibratedClassifierCV      0.82               0.78     0.78      0.81   \n",
       "NearestCentroid             0.81               0.80     0.80      0.81   \n",
       "\n",
       "                        Time Taken  \n",
       "Model                               \n",
       "RandomForestClassifier        1.13  \n",
       "ExtraTreesClassifier          1.71  \n",
       "LGBMClassifier              188.07  \n",
       "XGBClassifier                45.16  \n",
       "NuSVC                        10.12  \n",
       "SVC                           9.57  \n",
       "BaggingClassifier             2.93  \n",
       "BernoulliNB                   0.15  \n",
       "CalibratedClassifierCV       15.76  \n",
       "NearestCentroid               0.15  "
      ]
     },
     "execution_count": 34,
     "metadata": {},
     "output_type": "execute_result"
    }
   ],
   "source": [
    "predictions5.sort_values(by=\"F1 Score\", ascending=False).head(10)"
   ]
  },
  {
   "cell_type": "code",
   "execution_count": 35,
   "id": "656838a0",
   "metadata": {
    "execution": {
     "iopub.execute_input": "2022-10-16T13:20:45.716010Z",
     "iopub.status.busy": "2022-10-16T13:20:45.715804Z",
     "iopub.status.idle": "2022-10-16T13:20:45.717955Z",
     "shell.execute_reply": "2022-10-16T13:20:45.717720Z"
    }
   },
   "outputs": [],
   "source": [
    "predictions5.to_csv('LazyPredict_Morgan3_2048.csv')"
   ]
  },
  {
   "cell_type": "code",
   "execution_count": 36,
   "id": "98206b37",
   "metadata": {
    "execution": {
     "iopub.execute_input": "2022-10-16T13:20:45.719071Z",
     "iopub.status.busy": "2022-10-16T13:20:45.718972Z",
     "iopub.status.idle": "2022-10-16T13:20:45.728743Z",
     "shell.execute_reply": "2022-10-16T13:20:45.728402Z"
    }
   },
   "outputs": [],
   "source": [
    "#2048 bits Morgan fingerprints with feautures\n",
    "X6 = np.array(list((df2['fp_MorganF']))).astype(float)\n",
    "#X.shape\n",
    "Y6 = df2[\"activity\"].values\n",
    "#y.shape"
   ]
  },
  {
   "cell_type": "code",
   "execution_count": 37,
   "id": "9ad46f2d",
   "metadata": {
    "execution": {
     "iopub.execute_input": "2022-10-16T13:20:45.730292Z",
     "iopub.status.busy": "2022-10-16T13:20:45.730164Z",
     "iopub.status.idle": "2022-10-16T13:20:45.738930Z",
     "shell.execute_reply": "2022-10-16T13:20:45.738659Z"
    }
   },
   "outputs": [
    {
     "name": "stdout",
     "output_type": "stream",
     "text": [
      "Shape of training data: (2376, 2048)\n",
      "Shape of test data: (595, 2048)\n"
     ]
    }
   ],
   "source": [
    "# Split the data into training and test set\n",
    "# Perform data splitting using 80/20 ratio\n",
    "X_train6, X_test6, Y_train6, Y_test6 = train_test_split(X6, Y6, test_size=0.2, random_state=42)\n",
    "\n",
    "# Print the shape of training and testing data\n",
    "print(\"Shape of training data:\", X_train6.shape)\n",
    "print(\"Shape of test data:\", X_test6.shape)\n",
    "# NBVAL_CHECK_OUTPUT"
   ]
  },
  {
   "cell_type": "code",
   "execution_count": 38,
   "id": "34689bb2",
   "metadata": {
    "execution": {
     "iopub.execute_input": "2022-10-16T13:20:45.740097Z",
     "iopub.status.busy": "2022-10-16T13:20:45.739989Z",
     "iopub.status.idle": "2022-10-16T13:23:58.411351Z",
     "shell.execute_reply": "2022-10-16T13:23:58.411021Z"
    }
   },
   "outputs": [
    {
     "name": "stderr",
     "output_type": "stream",
     "text": [
      " 90%|████████████████████████████████████████████████████████████████████████████████████████████████████████████████████████████████████████████████████████████                  | 26/29 [01:23<00:16,  5.59s/it]"
     ]
    },
    {
     "name": "stdout",
     "output_type": "stream",
     "text": [
      "[19:26:00] WARNING: ../src/learner.cc:1115: Starting in XGBoost 1.3.0, the default evaluation metric used with the objective 'binary:logistic' was changed from 'error' to 'logloss'. Explicitly set eval_metric if you'd like to restore the old behavior.\n"
     ]
    },
    {
     "name": "stderr",
     "output_type": "stream",
     "text": [
      "100%|██████████████████████████████████████████████████████████████████████████████████████████████████████████████████████████████████████████████████████████████████████████████| 29/29 [04:43<00:00,  9.78s/it]\n"
     ]
    }
   ],
   "source": [
    "clf6 = LazyClassifier(verbose=0,ignore_warnings=True, custom_metric=None)\n",
    "models6, predictions6 = clf6.fit(X_train6, X_test6, Y_train6, Y_test6)"
   ]
  },
  {
   "cell_type": "code",
   "execution_count": 39,
   "id": "53a54756",
   "metadata": {
    "execution": {
     "iopub.execute_input": "2022-10-16T13:23:58.412697Z",
     "iopub.status.busy": "2022-10-16T13:23:58.412573Z",
     "iopub.status.idle": "2022-10-16T13:23:58.416981Z",
     "shell.execute_reply": "2022-10-16T13:23:58.416729Z"
    }
   },
   "outputs": [
    {
     "data": {
      "text/html": [
       "<div>\n",
       "<style scoped>\n",
       "    .dataframe tbody tr th:only-of-type {\n",
       "        vertical-align: middle;\n",
       "    }\n",
       "\n",
       "    .dataframe tbody tr th {\n",
       "        vertical-align: top;\n",
       "    }\n",
       "\n",
       "    .dataframe thead th {\n",
       "        text-align: right;\n",
       "    }\n",
       "</style>\n",
       "<table border=\"1\" class=\"dataframe\">\n",
       "  <thead>\n",
       "    <tr style=\"text-align: right;\">\n",
       "      <th></th>\n",
       "      <th>Accuracy</th>\n",
       "      <th>Balanced Accuracy</th>\n",
       "      <th>ROC AUC</th>\n",
       "      <th>F1 Score</th>\n",
       "      <th>Time Taken</th>\n",
       "    </tr>\n",
       "    <tr>\n",
       "      <th>Model</th>\n",
       "      <th></th>\n",
       "      <th></th>\n",
       "      <th></th>\n",
       "      <th></th>\n",
       "      <th></th>\n",
       "    </tr>\n",
       "  </thead>\n",
       "  <tbody>\n",
       "    <tr>\n",
       "      <th>RandomForestClassifier</th>\n",
       "      <td>0.87</td>\n",
       "      <td>0.85</td>\n",
       "      <td>0.85</td>\n",
       "      <td>0.86</td>\n",
       "      <td>1.09</td>\n",
       "    </tr>\n",
       "    <tr>\n",
       "      <th>LGBMClassifier</th>\n",
       "      <td>0.86</td>\n",
       "      <td>0.85</td>\n",
       "      <td>0.85</td>\n",
       "      <td>0.86</td>\n",
       "      <td>158.22</td>\n",
       "    </tr>\n",
       "    <tr>\n",
       "      <th>ExtraTreesClassifier</th>\n",
       "      <td>0.86</td>\n",
       "      <td>0.85</td>\n",
       "      <td>0.85</td>\n",
       "      <td>0.86</td>\n",
       "      <td>1.46</td>\n",
       "    </tr>\n",
       "    <tr>\n",
       "      <th>XGBClassifier</th>\n",
       "      <td>0.85</td>\n",
       "      <td>0.84</td>\n",
       "      <td>0.84</td>\n",
       "      <td>0.85</td>\n",
       "      <td>41.53</td>\n",
       "    </tr>\n",
       "    <tr>\n",
       "      <th>BaggingClassifier</th>\n",
       "      <td>0.83</td>\n",
       "      <td>0.82</td>\n",
       "      <td>0.82</td>\n",
       "      <td>0.83</td>\n",
       "      <td>2.08</td>\n",
       "    </tr>\n",
       "    <tr>\n",
       "      <th>SVC</th>\n",
       "      <td>0.83</td>\n",
       "      <td>0.80</td>\n",
       "      <td>0.80</td>\n",
       "      <td>0.83</td>\n",
       "      <td>8.83</td>\n",
       "    </tr>\n",
       "    <tr>\n",
       "      <th>AdaBoostClassifier</th>\n",
       "      <td>0.83</td>\n",
       "      <td>0.81</td>\n",
       "      <td>0.81</td>\n",
       "      <td>0.83</td>\n",
       "      <td>2.50</td>\n",
       "    </tr>\n",
       "    <tr>\n",
       "      <th>NuSVC</th>\n",
       "      <td>0.83</td>\n",
       "      <td>0.80</td>\n",
       "      <td>0.80</td>\n",
       "      <td>0.82</td>\n",
       "      <td>10.08</td>\n",
       "    </tr>\n",
       "    <tr>\n",
       "      <th>NearestCentroid</th>\n",
       "      <td>0.81</td>\n",
       "      <td>0.81</td>\n",
       "      <td>0.81</td>\n",
       "      <td>0.81</td>\n",
       "      <td>0.16</td>\n",
       "    </tr>\n",
       "    <tr>\n",
       "      <th>BernoulliNB</th>\n",
       "      <td>0.80</td>\n",
       "      <td>0.80</td>\n",
       "      <td>0.80</td>\n",
       "      <td>0.81</td>\n",
       "      <td>0.16</td>\n",
       "    </tr>\n",
       "  </tbody>\n",
       "</table>\n",
       "</div>"
      ],
      "text/plain": [
       "                        Accuracy  Balanced Accuracy  ROC AUC  F1 Score  \\\n",
       "Model                                                                    \n",
       "RandomForestClassifier      0.87               0.85     0.85      0.86   \n",
       "LGBMClassifier              0.86               0.85     0.85      0.86   \n",
       "ExtraTreesClassifier        0.86               0.85     0.85      0.86   \n",
       "XGBClassifier               0.85               0.84     0.84      0.85   \n",
       "BaggingClassifier           0.83               0.82     0.82      0.83   \n",
       "SVC                         0.83               0.80     0.80      0.83   \n",
       "AdaBoostClassifier          0.83               0.81     0.81      0.83   \n",
       "NuSVC                       0.83               0.80     0.80      0.82   \n",
       "NearestCentroid             0.81               0.81     0.81      0.81   \n",
       "BernoulliNB                 0.80               0.80     0.80      0.81   \n",
       "\n",
       "                        Time Taken  \n",
       "Model                               \n",
       "RandomForestClassifier        1.09  \n",
       "LGBMClassifier              158.22  \n",
       "ExtraTreesClassifier          1.46  \n",
       "XGBClassifier                41.53  \n",
       "BaggingClassifier             2.08  \n",
       "SVC                           8.83  \n",
       "AdaBoostClassifier            2.50  \n",
       "NuSVC                        10.08  \n",
       "NearestCentroid               0.16  \n",
       "BernoulliNB                   0.16  "
      ]
     },
     "execution_count": 39,
     "metadata": {},
     "output_type": "execute_result"
    }
   ],
   "source": [
    "predictions6.sort_values(by=\"F1 Score\", ascending=False).head(10)"
   ]
  },
  {
   "cell_type": "code",
   "execution_count": 40,
   "id": "24c16b06",
   "metadata": {
    "execution": {
     "iopub.execute_input": "2022-10-16T13:23:58.418150Z",
     "iopub.status.busy": "2022-10-16T13:23:58.417955Z",
     "iopub.status.idle": "2022-10-16T13:23:58.420043Z",
     "shell.execute_reply": "2022-10-16T13:23:58.419796Z"
    }
   },
   "outputs": [],
   "source": [
    "predictions6.to_csv('LazyPredict_MorganF_2048.csv')"
   ]
  },
  {
   "cell_type": "code",
   "execution_count": 41,
   "id": "b6400fb5",
   "metadata": {
    "execution": {
     "iopub.execute_input": "2022-10-16T13:23:58.421101Z",
     "iopub.status.busy": "2022-10-16T13:23:58.420985Z",
     "iopub.status.idle": "2022-10-16T13:23:58.430978Z",
     "shell.execute_reply": "2022-10-16T13:23:58.430631Z"
    }
   },
   "outputs": [],
   "source": [
    "#2048 bits MAP4 fingerprints\n",
    "X7 = np.array(list((df2['fp_MAP4']))).astype(float)\n",
    "#X.shape\n",
    "Y7 = df2[\"activity\"].values\n",
    "#y.shape"
   ]
  },
  {
   "cell_type": "code",
   "execution_count": 42,
   "id": "93648d5d",
   "metadata": {
    "execution": {
     "iopub.execute_input": "2022-10-16T13:23:58.432355Z",
     "iopub.status.busy": "2022-10-16T13:23:58.432211Z",
     "iopub.status.idle": "2022-10-16T13:23:58.440980Z",
     "shell.execute_reply": "2022-10-16T13:23:58.440688Z"
    }
   },
   "outputs": [
    {
     "name": "stdout",
     "output_type": "stream",
     "text": [
      "Shape of training data: (2376, 2048)\n",
      "Shape of test data: (595, 2048)\n"
     ]
    }
   ],
   "source": [
    "# Split the data into training and test set\n",
    "# Perform data splitting using 80/20 ratio\n",
    "X_train7, X_test7, Y_train7, Y_test7 = train_test_split(X7, Y7, test_size=0.2, random_state=42)\n",
    "\n",
    "# Print the shape of training and testing data\n",
    "print(\"Shape of training data:\", X_train7.shape)\n",
    "print(\"Shape of test data:\", X_test7.shape)\n",
    "# NBVAL_CHECK_OUTPUT"
   ]
  },
  {
   "cell_type": "code",
   "execution_count": 43,
   "id": "5950c58f",
   "metadata": {
    "execution": {
     "iopub.execute_input": "2022-10-16T13:23:58.442116Z",
     "iopub.status.busy": "2022-10-16T13:23:58.441989Z",
     "iopub.status.idle": "2022-10-16T13:28:44.226708Z",
     "shell.execute_reply": "2022-10-16T13:28:44.226241Z"
    }
   },
   "outputs": [
    {
     "name": "stderr",
     "output_type": "stream",
     "text": [
      " 90%|████████████████████████████████████████████████████████████████████████████████████████████████████████████████████████████████████████████████████████████                  | 26/29 [02:08<00:16,  5.42s/it]"
     ]
    },
    {
     "name": "stdout",
     "output_type": "stream",
     "text": [
      "[19:31:28] WARNING: ../src/learner.cc:1115: Starting in XGBoost 1.3.0, the default evaluation metric used with the objective 'binary:logistic' was changed from 'error' to 'logloss'. Explicitly set eval_metric if you'd like to restore the old behavior.\n"
     ]
    },
    {
     "name": "stderr",
     "output_type": "stream",
     "text": [
      "100%|██████████████████████████████████████████████████████████████████████████████████████████████████████████████████████████████████████████████████████████████████████████████| 29/29 [06:49<00:00, 14.13s/it]\n"
     ]
    }
   ],
   "source": [
    "# Defines and builds the lazyclassifier\n",
    "clf7 = LazyClassifier(verbose=0,ignore_warnings=True, custom_metric=None)\n",
    "models7, predictions7 = clf7.fit(X_train7, X_test7, Y_train7, Y_test7)"
   ]
  },
  {
   "cell_type": "code",
   "execution_count": 44,
   "id": "a447e411",
   "metadata": {
    "execution": {
     "iopub.execute_input": "2022-10-16T13:28:44.228148Z",
     "iopub.status.busy": "2022-10-16T13:28:44.228013Z",
     "iopub.status.idle": "2022-10-16T13:28:44.233675Z",
     "shell.execute_reply": "2022-10-16T13:28:44.233347Z"
    }
   },
   "outputs": [
    {
     "data": {
      "text/html": [
       "<div>\n",
       "<style scoped>\n",
       "    .dataframe tbody tr th:only-of-type {\n",
       "        vertical-align: middle;\n",
       "    }\n",
       "\n",
       "    .dataframe tbody tr th {\n",
       "        vertical-align: top;\n",
       "    }\n",
       "\n",
       "    .dataframe thead th {\n",
       "        text-align: right;\n",
       "    }\n",
       "</style>\n",
       "<table border=\"1\" class=\"dataframe\">\n",
       "  <thead>\n",
       "    <tr style=\"text-align: right;\">\n",
       "      <th></th>\n",
       "      <th>Accuracy</th>\n",
       "      <th>Balanced Accuracy</th>\n",
       "      <th>ROC AUC</th>\n",
       "      <th>F1 Score</th>\n",
       "      <th>Time Taken</th>\n",
       "    </tr>\n",
       "    <tr>\n",
       "      <th>Model</th>\n",
       "      <th></th>\n",
       "      <th></th>\n",
       "      <th></th>\n",
       "      <th></th>\n",
       "      <th></th>\n",
       "    </tr>\n",
       "  </thead>\n",
       "  <tbody>\n",
       "    <tr>\n",
       "      <th>RandomForestClassifier</th>\n",
       "      <td>0.85</td>\n",
       "      <td>0.83</td>\n",
       "      <td>0.83</td>\n",
       "      <td>0.85</td>\n",
       "      <td>4.47</td>\n",
       "    </tr>\n",
       "    <tr>\n",
       "      <th>LGBMClassifier</th>\n",
       "      <td>0.84</td>\n",
       "      <td>0.83</td>\n",
       "      <td>0.83</td>\n",
       "      <td>0.84</td>\n",
       "      <td>230.08</td>\n",
       "    </tr>\n",
       "    <tr>\n",
       "      <th>XGBClassifier</th>\n",
       "      <td>0.84</td>\n",
       "      <td>0.83</td>\n",
       "      <td>0.83</td>\n",
       "      <td>0.84</td>\n",
       "      <td>51.35</td>\n",
       "    </tr>\n",
       "    <tr>\n",
       "      <th>ExtraTreesClassifier</th>\n",
       "      <td>0.83</td>\n",
       "      <td>0.81</td>\n",
       "      <td>0.81</td>\n",
       "      <td>0.83</td>\n",
       "      <td>1.57</td>\n",
       "    </tr>\n",
       "    <tr>\n",
       "      <th>BaggingClassifier</th>\n",
       "      <td>0.82</td>\n",
       "      <td>0.81</td>\n",
       "      <td>0.81</td>\n",
       "      <td>0.82</td>\n",
       "      <td>24.43</td>\n",
       "    </tr>\n",
       "    <tr>\n",
       "      <th>NuSVC</th>\n",
       "      <td>0.82</td>\n",
       "      <td>0.80</td>\n",
       "      <td>0.80</td>\n",
       "      <td>0.82</td>\n",
       "      <td>10.13</td>\n",
       "    </tr>\n",
       "    <tr>\n",
       "      <th>KNeighborsClassifier</th>\n",
       "      <td>0.81</td>\n",
       "      <td>0.79</td>\n",
       "      <td>0.79</td>\n",
       "      <td>0.81</td>\n",
       "      <td>3.65</td>\n",
       "    </tr>\n",
       "    <tr>\n",
       "      <th>SVC</th>\n",
       "      <td>0.81</td>\n",
       "      <td>0.79</td>\n",
       "      <td>0.79</td>\n",
       "      <td>0.81</td>\n",
       "      <td>8.82</td>\n",
       "    </tr>\n",
       "    <tr>\n",
       "      <th>AdaBoostClassifier</th>\n",
       "      <td>0.81</td>\n",
       "      <td>0.80</td>\n",
       "      <td>0.80</td>\n",
       "      <td>0.81</td>\n",
       "      <td>13.77</td>\n",
       "    </tr>\n",
       "    <tr>\n",
       "      <th>LogisticRegression</th>\n",
       "      <td>0.79</td>\n",
       "      <td>0.77</td>\n",
       "      <td>0.77</td>\n",
       "      <td>0.79</td>\n",
       "      <td>0.93</td>\n",
       "    </tr>\n",
       "  </tbody>\n",
       "</table>\n",
       "</div>"
      ],
      "text/plain": [
       "                        Accuracy  Balanced Accuracy  ROC AUC  F1 Score  \\\n",
       "Model                                                                    \n",
       "RandomForestClassifier      0.85               0.83     0.83      0.85   \n",
       "LGBMClassifier              0.84               0.83     0.83      0.84   \n",
       "XGBClassifier               0.84               0.83     0.83      0.84   \n",
       "ExtraTreesClassifier        0.83               0.81     0.81      0.83   \n",
       "BaggingClassifier           0.82               0.81     0.81      0.82   \n",
       "NuSVC                       0.82               0.80     0.80      0.82   \n",
       "KNeighborsClassifier        0.81               0.79     0.79      0.81   \n",
       "SVC                         0.81               0.79     0.79      0.81   \n",
       "AdaBoostClassifier          0.81               0.80     0.80      0.81   \n",
       "LogisticRegression          0.79               0.77     0.77      0.79   \n",
       "\n",
       "                        Time Taken  \n",
       "Model                               \n",
       "RandomForestClassifier        4.47  \n",
       "LGBMClassifier              230.08  \n",
       "XGBClassifier                51.35  \n",
       "ExtraTreesClassifier          1.57  \n",
       "BaggingClassifier            24.43  \n",
       "NuSVC                        10.13  \n",
       "KNeighborsClassifier          3.65  \n",
       "SVC                           8.82  \n",
       "AdaBoostClassifier           13.77  \n",
       "LogisticRegression            0.93  "
      ]
     },
     "execution_count": 44,
     "metadata": {},
     "output_type": "execute_result"
    }
   ],
   "source": [
    "predictions7.sort_values(by=\"F1 Score\", ascending=False).head(10)"
   ]
  },
  {
   "cell_type": "code",
   "execution_count": 45,
   "id": "3122c49f",
   "metadata": {
    "execution": {
     "iopub.execute_input": "2022-10-16T13:28:44.234887Z",
     "iopub.status.busy": "2022-10-16T13:28:44.234761Z",
     "iopub.status.idle": "2022-10-16T13:28:44.237300Z",
     "shell.execute_reply": "2022-10-16T13:28:44.236970Z"
    }
   },
   "outputs": [],
   "source": [
    "predictions7.to_csv('LazyPredict_MAP4_2048.csv')"
   ]
  },
  {
   "cell_type": "markdown",
   "id": "ec3baf4f",
   "metadata": {},
   "source": [
    "### By combining 1D descriptors - 9 of them -  with fingerprints of 1024 bits"
   ]
  },
  {
   "cell_type": "code",
   "execution_count": 46,
   "id": "86bea132",
   "metadata": {
    "execution": {
     "iopub.execute_input": "2022-10-16T13:28:44.238606Z",
     "iopub.status.busy": "2022-10-16T13:28:44.238484Z",
     "iopub.status.idle": "2022-10-16T13:28:44.245270Z",
     "shell.execute_reply": "2022-10-16T13:28:44.244944Z"
    }
   },
   "outputs": [
    {
     "data": {
      "text/plain": [
       "(2971, 176)"
      ]
     },
     "execution_count": 46,
     "metadata": {},
     "output_type": "execute_result"
    }
   ],
   "source": [
    "fp = np.array(list((df1['fp_MACCS']))).astype(float)\n",
    "oneD = np.array((df1[['molecular_weight', 'n_rot','n_heavy', 'n_hba', 'n_hbd', 'logp', 'num_ar', 'num_sa', 'num_alip' ]])).astype(float)\n",
    "X8 = np.column_stack((fp,oneD))\n",
    "Y8 = df1[\"activity\"].values\n",
    "X8.shape"
   ]
  },
  {
   "cell_type": "code",
   "execution_count": 47,
   "id": "77954df9",
   "metadata": {
    "execution": {
     "iopub.execute_input": "2022-10-16T13:28:44.246470Z",
     "iopub.status.busy": "2022-10-16T13:28:44.246349Z",
     "iopub.status.idle": "2022-10-16T13:28:44.249622Z",
     "shell.execute_reply": "2022-10-16T13:28:44.249291Z"
    }
   },
   "outputs": [
    {
     "name": "stdout",
     "output_type": "stream",
     "text": [
      "Shape of training data: (2376, 176)\n",
      "Shape of test data: (595, 176)\n"
     ]
    }
   ],
   "source": [
    "# Split the data into training and test set\n",
    "# Perform data splitting using 80/20 ratio\n",
    "X_train8, X_test8, Y_train8, Y_test8 = train_test_split(X8, Y8, test_size=0.2, random_state=42)\n",
    "\n",
    "# Print the shape of training and testing data\n",
    "print(\"Shape of training data:\", X_train8.shape)\n",
    "print(\"Shape of test data:\", X_test8.shape)\n",
    "# NBVAL_CHECK_OUTPUT"
   ]
  },
  {
   "cell_type": "code",
   "execution_count": 48,
   "id": "76c01796",
   "metadata": {
    "execution": {
     "iopub.execute_input": "2022-10-16T13:28:44.250923Z",
     "iopub.status.busy": "2022-10-16T13:28:44.250656Z",
     "iopub.status.idle": "2022-10-16T13:31:24.551051Z",
     "shell.execute_reply": "2022-10-16T13:31:24.550712Z"
    }
   },
   "outputs": [
    {
     "name": "stderr",
     "output_type": "stream",
     "text": [
      " 90%|████████████████████████████████████████████████████████████████████████████████████████████████████████████████████████████████████████████████████████████                  | 26/29 [00:09<00:01,  2.19it/s]"
     ]
    },
    {
     "name": "stdout",
     "output_type": "stream",
     "text": [
      "[19:36:18] WARNING: ../src/learner.cc:1115: Starting in XGBoost 1.3.0, the default evaluation metric used with the objective 'binary:logistic' was changed from 'error' to 'logloss'. Explicitly set eval_metric if you'd like to restore the old behavior.\n"
     ]
    },
    {
     "name": "stderr",
     "output_type": "stream",
     "text": [
      "100%|██████████████████████████████████████████████████████████████████████████████████████████████████████████████████████████████████████████████████████████████████████████████| 29/29 [04:00<00:00,  8.30s/it]\n"
     ]
    }
   ],
   "source": [
    "# Defines and builds the lazyclassifier\n",
    "clf8 = LazyClassifier(verbose=0,ignore_warnings=True, custom_metric=None)\n",
    "models8, predictions8 = clf8.fit(X_train8, X_test8, Y_train8, Y_test8)"
   ]
  },
  {
   "cell_type": "code",
   "execution_count": 49,
   "id": "45b0123c",
   "metadata": {
    "execution": {
     "iopub.execute_input": "2022-10-16T13:31:24.552498Z",
     "iopub.status.busy": "2022-10-16T13:31:24.552315Z",
     "iopub.status.idle": "2022-10-16T13:31:24.556967Z",
     "shell.execute_reply": "2022-10-16T13:31:24.556725Z"
    }
   },
   "outputs": [
    {
     "data": {
      "text/html": [
       "<div>\n",
       "<style scoped>\n",
       "    .dataframe tbody tr th:only-of-type {\n",
       "        vertical-align: middle;\n",
       "    }\n",
       "\n",
       "    .dataframe tbody tr th {\n",
       "        vertical-align: top;\n",
       "    }\n",
       "\n",
       "    .dataframe thead th {\n",
       "        text-align: right;\n",
       "    }\n",
       "</style>\n",
       "<table border=\"1\" class=\"dataframe\">\n",
       "  <thead>\n",
       "    <tr style=\"text-align: right;\">\n",
       "      <th></th>\n",
       "      <th>Accuracy</th>\n",
       "      <th>Balanced Accuracy</th>\n",
       "      <th>ROC AUC</th>\n",
       "      <th>F1 Score</th>\n",
       "      <th>Time Taken</th>\n",
       "    </tr>\n",
       "    <tr>\n",
       "      <th>Model</th>\n",
       "      <th></th>\n",
       "      <th></th>\n",
       "      <th></th>\n",
       "      <th></th>\n",
       "      <th></th>\n",
       "    </tr>\n",
       "  </thead>\n",
       "  <tbody>\n",
       "    <tr>\n",
       "      <th>ExtraTreesClassifier</th>\n",
       "      <td>0.83</td>\n",
       "      <td>0.83</td>\n",
       "      <td>0.83</td>\n",
       "      <td>0.83</td>\n",
       "      <td>0.27</td>\n",
       "    </tr>\n",
       "    <tr>\n",
       "      <th>LGBMClassifier</th>\n",
       "      <td>0.83</td>\n",
       "      <td>0.81</td>\n",
       "      <td>0.81</td>\n",
       "      <td>0.83</td>\n",
       "      <td>175.11</td>\n",
       "    </tr>\n",
       "    <tr>\n",
       "      <th>RandomForestClassifier</th>\n",
       "      <td>0.83</td>\n",
       "      <td>0.81</td>\n",
       "      <td>0.81</td>\n",
       "      <td>0.82</td>\n",
       "      <td>0.30</td>\n",
       "    </tr>\n",
       "    <tr>\n",
       "      <th>KNeighborsClassifier</th>\n",
       "      <td>0.82</td>\n",
       "      <td>0.81</td>\n",
       "      <td>0.81</td>\n",
       "      <td>0.82</td>\n",
       "      <td>0.28</td>\n",
       "    </tr>\n",
       "    <tr>\n",
       "      <th>XGBClassifier</th>\n",
       "      <td>0.82</td>\n",
       "      <td>0.81</td>\n",
       "      <td>0.81</td>\n",
       "      <td>0.82</td>\n",
       "      <td>56.62</td>\n",
       "    </tr>\n",
       "    <tr>\n",
       "      <th>SVC</th>\n",
       "      <td>0.81</td>\n",
       "      <td>0.79</td>\n",
       "      <td>0.79</td>\n",
       "      <td>0.81</td>\n",
       "      <td>0.85</td>\n",
       "    </tr>\n",
       "    <tr>\n",
       "      <th>NuSVC</th>\n",
       "      <td>0.81</td>\n",
       "      <td>0.79</td>\n",
       "      <td>0.79</td>\n",
       "      <td>0.81</td>\n",
       "      <td>0.72</td>\n",
       "    </tr>\n",
       "    <tr>\n",
       "      <th>BaggingClassifier</th>\n",
       "      <td>0.79</td>\n",
       "      <td>0.79</td>\n",
       "      <td>0.79</td>\n",
       "      <td>0.79</td>\n",
       "      <td>0.22</td>\n",
       "    </tr>\n",
       "    <tr>\n",
       "      <th>ExtraTreeClassifier</th>\n",
       "      <td>0.78</td>\n",
       "      <td>0.79</td>\n",
       "      <td>0.79</td>\n",
       "      <td>0.79</td>\n",
       "      <td>0.02</td>\n",
       "    </tr>\n",
       "    <tr>\n",
       "      <th>RidgeClassifier</th>\n",
       "      <td>0.78</td>\n",
       "      <td>0.76</td>\n",
       "      <td>0.76</td>\n",
       "      <td>0.78</td>\n",
       "      <td>0.13</td>\n",
       "    </tr>\n",
       "  </tbody>\n",
       "</table>\n",
       "</div>"
      ],
      "text/plain": [
       "                        Accuracy  Balanced Accuracy  ROC AUC  F1 Score  \\\n",
       "Model                                                                    \n",
       "ExtraTreesClassifier        0.83               0.83     0.83      0.83   \n",
       "LGBMClassifier              0.83               0.81     0.81      0.83   \n",
       "RandomForestClassifier      0.83               0.81     0.81      0.82   \n",
       "KNeighborsClassifier        0.82               0.81     0.81      0.82   \n",
       "XGBClassifier               0.82               0.81     0.81      0.82   \n",
       "SVC                         0.81               0.79     0.79      0.81   \n",
       "NuSVC                       0.81               0.79     0.79      0.81   \n",
       "BaggingClassifier           0.79               0.79     0.79      0.79   \n",
       "ExtraTreeClassifier         0.78               0.79     0.79      0.79   \n",
       "RidgeClassifier             0.78               0.76     0.76      0.78   \n",
       "\n",
       "                        Time Taken  \n",
       "Model                               \n",
       "ExtraTreesClassifier          0.27  \n",
       "LGBMClassifier              175.11  \n",
       "RandomForestClassifier        0.30  \n",
       "KNeighborsClassifier          0.28  \n",
       "XGBClassifier                56.62  \n",
       "SVC                           0.85  \n",
       "NuSVC                         0.72  \n",
       "BaggingClassifier             0.22  \n",
       "ExtraTreeClassifier           0.02  \n",
       "RidgeClassifier               0.13  "
      ]
     },
     "execution_count": 49,
     "metadata": {},
     "output_type": "execute_result"
    }
   ],
   "source": [
    "predictions8.sort_values(by=\"F1 Score\", ascending=False).head(10)"
   ]
  },
  {
   "cell_type": "code",
   "execution_count": 50,
   "id": "9ded912c",
   "metadata": {
    "execution": {
     "iopub.execute_input": "2022-10-16T13:31:24.558156Z",
     "iopub.status.busy": "2022-10-16T13:31:24.557952Z",
     "iopub.status.idle": "2022-10-16T13:31:24.560151Z",
     "shell.execute_reply": "2022-10-16T13:31:24.559888Z"
    }
   },
   "outputs": [],
   "source": [
    "predictions8.to_csv('LazyPredict_MACCS_1Dadded.csv')"
   ]
  },
  {
   "cell_type": "code",
   "execution_count": 51,
   "id": "134519d7",
   "metadata": {
    "execution": {
     "iopub.execute_input": "2022-10-16T13:31:24.561326Z",
     "iopub.status.busy": "2022-10-16T13:31:24.561116Z",
     "iopub.status.idle": "2022-10-16T13:31:24.571029Z",
     "shell.execute_reply": "2022-10-16T13:31:24.570637Z"
    }
   },
   "outputs": [
    {
     "data": {
      "text/plain": [
       "(2971, 1033)"
      ]
     },
     "execution_count": 51,
     "metadata": {},
     "output_type": "execute_result"
    }
   ],
   "source": [
    "#with Morgan 1024 bits fingerprints\n",
    "fp = np.array(list((df1['fp_Morgan3']))).astype(float)\n",
    "oneD = np.array((df1[['molecular_weight', 'n_rot','n_heavy', 'n_hba', 'n_hbd', 'logp', 'num_ar', 'num_sa', 'num_alip' ]])).astype(float)\n",
    "X9 = np.column_stack((fp,oneD))\n",
    "Y9 = df1[\"activity\"].values\n",
    "X9.shape"
   ]
  },
  {
   "cell_type": "code",
   "execution_count": 52,
   "id": "ae305ebc",
   "metadata": {
    "execution": {
     "iopub.execute_input": "2022-10-16T13:31:24.572312Z",
     "iopub.status.busy": "2022-10-16T13:31:24.572204Z",
     "iopub.status.idle": "2022-10-16T13:31:24.576716Z",
     "shell.execute_reply": "2022-10-16T13:31:24.576457Z"
    }
   },
   "outputs": [
    {
     "name": "stdout",
     "output_type": "stream",
     "text": [
      "Shape of training data: (2376, 1033)\n",
      "Shape of test data: (595, 1033)\n"
     ]
    }
   ],
   "source": [
    "# Split the data into training and test set\n",
    "# Perform data splitting using 80/20 ratio\n",
    "X_train9, X_test9, Y_train9, Y_test9 = train_test_split(X9, Y9, test_size=0.2, random_state=42)\n",
    "\n",
    "# Print the shape of training and testing data\n",
    "print(\"Shape of training data:\", X_train9.shape)\n",
    "print(\"Shape of test data:\", X_test9.shape)\n",
    "# NBVAL_CHECK_OUTPUT"
   ]
  },
  {
   "cell_type": "code",
   "execution_count": 53,
   "id": "512c0eba",
   "metadata": {
    "execution": {
     "iopub.execute_input": "2022-10-16T13:31:24.577918Z",
     "iopub.status.busy": "2022-10-16T13:31:24.577817Z",
     "iopub.status.idle": "2022-10-16T13:34:12.869862Z",
     "shell.execute_reply": "2022-10-16T13:34:12.869479Z"
    }
   },
   "outputs": [
    {
     "name": "stderr",
     "output_type": "stream",
     "text": [
      " 90%|████████████████████████████████████████████████████████████████████████████████████████████████████████████████████████████████████████████████████████████                  | 26/29 [00:40<00:08,  2.70s/it]"
     ]
    },
    {
     "name": "stdout",
     "output_type": "stream",
     "text": [
      "[19:40:51] WARNING: ../src/learner.cc:1115: Starting in XGBoost 1.3.0, the default evaluation metric used with the objective 'binary:logistic' was changed from 'error' to 'logloss'. Explicitly set eval_metric if you'd like to restore the old behavior.\n"
     ]
    },
    {
     "name": "stderr",
     "output_type": "stream",
     "text": [
      "100%|██████████████████████████████████████████████████████████████████████████████████████████████████████████████████████████████████████████████████████████████████████████████| 29/29 [04:39<00:00,  9.64s/it]\n"
     ]
    }
   ],
   "source": [
    "clf9 = LazyClassifier(verbose=0,ignore_warnings=True, custom_metric=None)\n",
    "models9, predictions9 = clf9.fit(X_train9, X_test9, Y_train9, Y_test9)"
   ]
  },
  {
   "cell_type": "code",
   "execution_count": 54,
   "id": "aadd5ee4",
   "metadata": {
    "execution": {
     "iopub.execute_input": "2022-10-16T13:34:12.871230Z",
     "iopub.status.busy": "2022-10-16T13:34:12.871119Z",
     "iopub.status.idle": "2022-10-16T13:34:12.875743Z",
     "shell.execute_reply": "2022-10-16T13:34:12.875458Z"
    }
   },
   "outputs": [
    {
     "data": {
      "text/html": [
       "<div>\n",
       "<style scoped>\n",
       "    .dataframe tbody tr th:only-of-type {\n",
       "        vertical-align: middle;\n",
       "    }\n",
       "\n",
       "    .dataframe tbody tr th {\n",
       "        vertical-align: top;\n",
       "    }\n",
       "\n",
       "    .dataframe thead th {\n",
       "        text-align: right;\n",
       "    }\n",
       "</style>\n",
       "<table border=\"1\" class=\"dataframe\">\n",
       "  <thead>\n",
       "    <tr style=\"text-align: right;\">\n",
       "      <th></th>\n",
       "      <th>Accuracy</th>\n",
       "      <th>Balanced Accuracy</th>\n",
       "      <th>ROC AUC</th>\n",
       "      <th>F1 Score</th>\n",
       "      <th>Time Taken</th>\n",
       "    </tr>\n",
       "    <tr>\n",
       "      <th>Model</th>\n",
       "      <th></th>\n",
       "      <th></th>\n",
       "      <th></th>\n",
       "      <th></th>\n",
       "      <th></th>\n",
       "    </tr>\n",
       "  </thead>\n",
       "  <tbody>\n",
       "    <tr>\n",
       "      <th>RandomForestClassifier</th>\n",
       "      <td>0.84</td>\n",
       "      <td>0.82</td>\n",
       "      <td>0.82</td>\n",
       "      <td>0.84</td>\n",
       "      <td>0.54</td>\n",
       "    </tr>\n",
       "    <tr>\n",
       "      <th>ExtraTreesClassifier</th>\n",
       "      <td>0.83</td>\n",
       "      <td>0.81</td>\n",
       "      <td>0.81</td>\n",
       "      <td>0.83</td>\n",
       "      <td>0.75</td>\n",
       "    </tr>\n",
       "    <tr>\n",
       "      <th>BaggingClassifier</th>\n",
       "      <td>0.82</td>\n",
       "      <td>0.82</td>\n",
       "      <td>0.82</td>\n",
       "      <td>0.82</td>\n",
       "      <td>0.83</td>\n",
       "    </tr>\n",
       "    <tr>\n",
       "      <th>LGBMClassifier</th>\n",
       "      <td>0.82</td>\n",
       "      <td>0.81</td>\n",
       "      <td>0.81</td>\n",
       "      <td>0.82</td>\n",
       "      <td>187.97</td>\n",
       "    </tr>\n",
       "    <tr>\n",
       "      <th>XGBClassifier</th>\n",
       "      <td>0.82</td>\n",
       "      <td>0.80</td>\n",
       "      <td>0.80</td>\n",
       "      <td>0.82</td>\n",
       "      <td>50.82</td>\n",
       "    </tr>\n",
       "    <tr>\n",
       "      <th>SVC</th>\n",
       "      <td>0.81</td>\n",
       "      <td>0.79</td>\n",
       "      <td>0.79</td>\n",
       "      <td>0.80</td>\n",
       "      <td>4.13</td>\n",
       "    </tr>\n",
       "    <tr>\n",
       "      <th>NuSVC</th>\n",
       "      <td>0.80</td>\n",
       "      <td>0.78</td>\n",
       "      <td>0.78</td>\n",
       "      <td>0.80</td>\n",
       "      <td>4.69</td>\n",
       "    </tr>\n",
       "    <tr>\n",
       "      <th>DecisionTreeClassifier</th>\n",
       "      <td>0.79</td>\n",
       "      <td>0.78</td>\n",
       "      <td>0.78</td>\n",
       "      <td>0.79</td>\n",
       "      <td>0.19</td>\n",
       "    </tr>\n",
       "    <tr>\n",
       "      <th>RidgeClassifierCV</th>\n",
       "      <td>0.77</td>\n",
       "      <td>0.76</td>\n",
       "      <td>0.76</td>\n",
       "      <td>0.77</td>\n",
       "      <td>5.95</td>\n",
       "    </tr>\n",
       "    <tr>\n",
       "      <th>LinearDiscriminantAnalysis</th>\n",
       "      <td>0.77</td>\n",
       "      <td>0.75</td>\n",
       "      <td>0.75</td>\n",
       "      <td>0.77</td>\n",
       "      <td>4.96</td>\n",
       "    </tr>\n",
       "  </tbody>\n",
       "</table>\n",
       "</div>"
      ],
      "text/plain": [
       "                            Accuracy  Balanced Accuracy  ROC AUC  F1 Score  \\\n",
       "Model                                                                        \n",
       "RandomForestClassifier          0.84               0.82     0.82      0.84   \n",
       "ExtraTreesClassifier            0.83               0.81     0.81      0.83   \n",
       "BaggingClassifier               0.82               0.82     0.82      0.82   \n",
       "LGBMClassifier                  0.82               0.81     0.81      0.82   \n",
       "XGBClassifier                   0.82               0.80     0.80      0.82   \n",
       "SVC                             0.81               0.79     0.79      0.80   \n",
       "NuSVC                           0.80               0.78     0.78      0.80   \n",
       "DecisionTreeClassifier          0.79               0.78     0.78      0.79   \n",
       "RidgeClassifierCV               0.77               0.76     0.76      0.77   \n",
       "LinearDiscriminantAnalysis      0.77               0.75     0.75      0.77   \n",
       "\n",
       "                            Time Taken  \n",
       "Model                                   \n",
       "RandomForestClassifier            0.54  \n",
       "ExtraTreesClassifier              0.75  \n",
       "BaggingClassifier                 0.83  \n",
       "LGBMClassifier                  187.97  \n",
       "XGBClassifier                    50.82  \n",
       "SVC                               4.13  \n",
       "NuSVC                             4.69  \n",
       "DecisionTreeClassifier            0.19  \n",
       "RidgeClassifierCV                 5.95  \n",
       "LinearDiscriminantAnalysis        4.96  "
      ]
     },
     "execution_count": 54,
     "metadata": {},
     "output_type": "execute_result"
    }
   ],
   "source": [
    "predictions9.sort_values(by=\"F1 Score\", ascending=False).head(10)"
   ]
  },
  {
   "cell_type": "code",
   "execution_count": 55,
   "id": "a96990d6",
   "metadata": {
    "execution": {
     "iopub.execute_input": "2022-10-16T13:34:12.876939Z",
     "iopub.status.busy": "2022-10-16T13:34:12.876769Z",
     "iopub.status.idle": "2022-10-16T13:34:12.879000Z",
     "shell.execute_reply": "2022-10-16T13:34:12.878713Z"
    }
   },
   "outputs": [],
   "source": [
    "predictions9.to_csv('LazyPredict_Morgan3_1Dadded.csv')"
   ]
  },
  {
   "cell_type": "code",
   "execution_count": 56,
   "id": "d6331b8b",
   "metadata": {
    "execution": {
     "iopub.execute_input": "2022-10-16T13:34:12.880139Z",
     "iopub.status.busy": "2022-10-16T13:34:12.880015Z",
     "iopub.status.idle": "2022-10-16T13:34:12.889537Z",
     "shell.execute_reply": "2022-10-16T13:34:12.889181Z"
    }
   },
   "outputs": [
    {
     "data": {
      "text/plain": [
       "(2971, 1033)"
      ]
     },
     "execution_count": 56,
     "metadata": {},
     "output_type": "execute_result"
    }
   ],
   "source": [
    "#with Morgan 1024 bits fingerprints with feautures\n",
    "fp = np.array(list((df1['fp_MorganF']))).astype(float)\n",
    "oneD = np.array((df1[['molecular_weight', 'n_rot','n_heavy', 'n_hba', 'n_hbd', 'logp', 'num_ar', 'num_sa', 'num_alip' ]])).astype(float)\n",
    "X10 = np.column_stack((fp,oneD))\n",
    "Y10 = df1[\"activity\"].values\n",
    "X10.shape"
   ]
  },
  {
   "cell_type": "code",
   "execution_count": 57,
   "id": "4178b4e4",
   "metadata": {
    "execution": {
     "iopub.execute_input": "2022-10-16T13:34:12.890793Z",
     "iopub.status.busy": "2022-10-16T13:34:12.890662Z",
     "iopub.status.idle": "2022-10-16T13:34:12.895232Z",
     "shell.execute_reply": "2022-10-16T13:34:12.894921Z"
    }
   },
   "outputs": [
    {
     "name": "stdout",
     "output_type": "stream",
     "text": [
      "Shape of training data: (2376, 1033)\n",
      "Shape of test data: (595, 1033)\n"
     ]
    }
   ],
   "source": [
    "# Split the data into training and test set\n",
    "# Perform data splitting using 80/20 ratio\n",
    "X_train10, X_test10, Y_train10, Y_test10 = train_test_split(X10, Y10, test_size=0.2, random_state=42)\n",
    "\n",
    "# Print the shape of training and testing data\n",
    "print(\"Shape of training data:\", X_train10.shape)\n",
    "print(\"Shape of test data:\", X_test10.shape)\n",
    "# NBVAL_CHECK_OUTPUT"
   ]
  },
  {
   "cell_type": "code",
   "execution_count": 58,
   "id": "5b68b7dd",
   "metadata": {
    "execution": {
     "iopub.execute_input": "2022-10-16T13:34:12.896361Z",
     "iopub.status.busy": "2022-10-16T13:34:12.896258Z",
     "iopub.status.idle": "2022-10-16T13:36:49.518181Z",
     "shell.execute_reply": "2022-10-16T13:36:49.517833Z"
    }
   },
   "outputs": [
    {
     "name": "stderr",
     "output_type": "stream",
     "text": [
      " 90%|████████████████████████████████████████████████████████████████████████████████████████████████████████████████████████████████████████████████████████████                  | 26/29 [00:44<00:08,  2.73s/it]"
     ]
    },
    {
     "name": "stdout",
     "output_type": "stream",
     "text": [
      "[19:45:35] WARNING: ../src/learner.cc:1115: Starting in XGBoost 1.3.0, the default evaluation metric used with the objective 'binary:logistic' was changed from 'error' to 'logloss'. Explicitly set eval_metric if you'd like to restore the old behavior.\n"
     ]
    },
    {
     "name": "stderr",
     "output_type": "stream",
     "text": [
      "100%|██████████████████████████████████████████████████████████████████████████████████████████████████████████████████████████████████████████████████████████████████████████████| 29/29 [04:39<00:00,  9.63s/it]\n"
     ]
    }
   ],
   "source": [
    "clf10 = LazyClassifier(verbose=0,ignore_warnings=True, custom_metric=None)\n",
    "models10, predictions10 = clf10.fit(X_train10, X_test10, Y_train10, Y_test10)"
   ]
  },
  {
   "cell_type": "code",
   "execution_count": 59,
   "id": "97599dea",
   "metadata": {
    "execution": {
     "iopub.execute_input": "2022-10-16T13:36:49.519589Z",
     "iopub.status.busy": "2022-10-16T13:36:49.519400Z",
     "iopub.status.idle": "2022-10-16T13:36:49.524241Z",
     "shell.execute_reply": "2022-10-16T13:36:49.523944Z"
    }
   },
   "outputs": [
    {
     "data": {
      "text/html": [
       "<div>\n",
       "<style scoped>\n",
       "    .dataframe tbody tr th:only-of-type {\n",
       "        vertical-align: middle;\n",
       "    }\n",
       "\n",
       "    .dataframe tbody tr th {\n",
       "        vertical-align: top;\n",
       "    }\n",
       "\n",
       "    .dataframe thead th {\n",
       "        text-align: right;\n",
       "    }\n",
       "</style>\n",
       "<table border=\"1\" class=\"dataframe\">\n",
       "  <thead>\n",
       "    <tr style=\"text-align: right;\">\n",
       "      <th></th>\n",
       "      <th>Accuracy</th>\n",
       "      <th>Balanced Accuracy</th>\n",
       "      <th>ROC AUC</th>\n",
       "      <th>F1 Score</th>\n",
       "      <th>Time Taken</th>\n",
       "    </tr>\n",
       "    <tr>\n",
       "      <th>Model</th>\n",
       "      <th></th>\n",
       "      <th></th>\n",
       "      <th></th>\n",
       "      <th></th>\n",
       "      <th></th>\n",
       "    </tr>\n",
       "  </thead>\n",
       "  <tbody>\n",
       "    <tr>\n",
       "      <th>RandomForestClassifier</th>\n",
       "      <td>0.84</td>\n",
       "      <td>0.83</td>\n",
       "      <td>0.83</td>\n",
       "      <td>0.84</td>\n",
       "      <td>0.54</td>\n",
       "    </tr>\n",
       "    <tr>\n",
       "      <th>LGBMClassifier</th>\n",
       "      <td>0.84</td>\n",
       "      <td>0.83</td>\n",
       "      <td>0.83</td>\n",
       "      <td>0.84</td>\n",
       "      <td>184.90</td>\n",
       "    </tr>\n",
       "    <tr>\n",
       "      <th>ExtraTreesClassifier</th>\n",
       "      <td>0.84</td>\n",
       "      <td>0.82</td>\n",
       "      <td>0.82</td>\n",
       "      <td>0.84</td>\n",
       "      <td>0.56</td>\n",
       "    </tr>\n",
       "    <tr>\n",
       "      <th>XGBClassifier</th>\n",
       "      <td>0.83</td>\n",
       "      <td>0.83</td>\n",
       "      <td>0.83</td>\n",
       "      <td>0.83</td>\n",
       "      <td>49.59</td>\n",
       "    </tr>\n",
       "    <tr>\n",
       "      <th>BaggingClassifier</th>\n",
       "      <td>0.82</td>\n",
       "      <td>0.82</td>\n",
       "      <td>0.82</td>\n",
       "      <td>0.83</td>\n",
       "      <td>0.86</td>\n",
       "    </tr>\n",
       "    <tr>\n",
       "      <th>DecisionTreeClassifier</th>\n",
       "      <td>0.81</td>\n",
       "      <td>0.81</td>\n",
       "      <td>0.81</td>\n",
       "      <td>0.81</td>\n",
       "      <td>0.18</td>\n",
       "    </tr>\n",
       "    <tr>\n",
       "      <th>NuSVC</th>\n",
       "      <td>0.80</td>\n",
       "      <td>0.78</td>\n",
       "      <td>0.78</td>\n",
       "      <td>0.80</td>\n",
       "      <td>4.71</td>\n",
       "    </tr>\n",
       "    <tr>\n",
       "      <th>SVC</th>\n",
       "      <td>0.80</td>\n",
       "      <td>0.78</td>\n",
       "      <td>0.78</td>\n",
       "      <td>0.80</td>\n",
       "      <td>4.06</td>\n",
       "    </tr>\n",
       "    <tr>\n",
       "      <th>RidgeClassifierCV</th>\n",
       "      <td>0.77</td>\n",
       "      <td>0.77</td>\n",
       "      <td>0.77</td>\n",
       "      <td>0.78</td>\n",
       "      <td>5.98</td>\n",
       "    </tr>\n",
       "    <tr>\n",
       "      <th>KNeighborsClassifier</th>\n",
       "      <td>0.77</td>\n",
       "      <td>0.75</td>\n",
       "      <td>0.75</td>\n",
       "      <td>0.77</td>\n",
       "      <td>1.64</td>\n",
       "    </tr>\n",
       "  </tbody>\n",
       "</table>\n",
       "</div>"
      ],
      "text/plain": [
       "                        Accuracy  Balanced Accuracy  ROC AUC  F1 Score  \\\n",
       "Model                                                                    \n",
       "RandomForestClassifier      0.84               0.83     0.83      0.84   \n",
       "LGBMClassifier              0.84               0.83     0.83      0.84   \n",
       "ExtraTreesClassifier        0.84               0.82     0.82      0.84   \n",
       "XGBClassifier               0.83               0.83     0.83      0.83   \n",
       "BaggingClassifier           0.82               0.82     0.82      0.83   \n",
       "DecisionTreeClassifier      0.81               0.81     0.81      0.81   \n",
       "NuSVC                       0.80               0.78     0.78      0.80   \n",
       "SVC                         0.80               0.78     0.78      0.80   \n",
       "RidgeClassifierCV           0.77               0.77     0.77      0.78   \n",
       "KNeighborsClassifier        0.77               0.75     0.75      0.77   \n",
       "\n",
       "                        Time Taken  \n",
       "Model                               \n",
       "RandomForestClassifier        0.54  \n",
       "LGBMClassifier              184.90  \n",
       "ExtraTreesClassifier          0.56  \n",
       "XGBClassifier                49.59  \n",
       "BaggingClassifier             0.86  \n",
       "DecisionTreeClassifier        0.18  \n",
       "NuSVC                         4.71  \n",
       "SVC                           4.06  \n",
       "RidgeClassifierCV             5.98  \n",
       "KNeighborsClassifier          1.64  "
      ]
     },
     "execution_count": 59,
     "metadata": {},
     "output_type": "execute_result"
    }
   ],
   "source": [
    "predictions10.sort_values(by=\"F1 Score\", ascending=False).head(10)"
   ]
  },
  {
   "cell_type": "code",
   "execution_count": 60,
   "id": "2aae7b7a",
   "metadata": {
    "execution": {
     "iopub.execute_input": "2022-10-16T13:36:49.525379Z",
     "iopub.status.busy": "2022-10-16T13:36:49.525267Z",
     "iopub.status.idle": "2022-10-16T13:36:49.527624Z",
     "shell.execute_reply": "2022-10-16T13:36:49.527328Z"
    }
   },
   "outputs": [],
   "source": [
    "predictions10.to_csv('LazyPredict_MorganF_1Dadded.csv')"
   ]
  },
  {
   "cell_type": "code",
   "execution_count": 61,
   "id": "d60089d8",
   "metadata": {
    "execution": {
     "iopub.execute_input": "2022-10-16T13:36:49.528859Z",
     "iopub.status.busy": "2022-10-16T13:36:49.528631Z",
     "iopub.status.idle": "2022-10-16T13:36:49.539386Z",
     "shell.execute_reply": "2022-10-16T13:36:49.539043Z"
    }
   },
   "outputs": [
    {
     "data": {
      "text/plain": [
       "(2971, 1033)"
      ]
     },
     "execution_count": 61,
     "metadata": {},
     "output_type": "execute_result"
    }
   ],
   "source": [
    "fp = np.array(list((df1['fp_MAP4']))).astype(float)\n",
    "oneD = np.array((df1[['molecular_weight', 'n_rot','n_heavy', 'n_hba', 'n_hbd', 'logp', 'num_ar', 'num_sa', 'num_alip' ]])).astype(float)\n",
    "X11 = np.column_stack((fp,oneD))\n",
    "Y11 = df1[\"activity\"].values\n",
    "X11.shape"
   ]
  },
  {
   "cell_type": "code",
   "execution_count": 62,
   "id": "2fb79272",
   "metadata": {
    "execution": {
     "iopub.execute_input": "2022-10-16T13:36:49.540683Z",
     "iopub.status.busy": "2022-10-16T13:36:49.540569Z",
     "iopub.status.idle": "2022-10-16T13:36:49.545141Z",
     "shell.execute_reply": "2022-10-16T13:36:49.544846Z"
    }
   },
   "outputs": [
    {
     "name": "stdout",
     "output_type": "stream",
     "text": [
      "Shape of training data: (2376, 1033)\n",
      "Shape of test data: (595, 1033)\n"
     ]
    }
   ],
   "source": [
    "# Split the data into training and test set\n",
    "# Perform data splitting using 80/20 ratio\n",
    "X_train11, X_test11, Y_train11, Y_test11 = train_test_split(X11, Y11, test_size=0.2, random_state=42)\n",
    "\n",
    "# Print the shape of training and testing data\n",
    "print(\"Shape of training data:\", X_train11.shape)\n",
    "print(\"Shape of test data:\", X_test11.shape)\n",
    "# NBVAL_CHECK_OUTPUT"
   ]
  },
  {
   "cell_type": "code",
   "execution_count": 63,
   "id": "6f6d94f8",
   "metadata": {
    "execution": {
     "iopub.execute_input": "2022-10-16T13:36:49.546308Z",
     "iopub.status.busy": "2022-10-16T13:36:49.546200Z",
     "iopub.status.idle": "2022-10-16T13:40:18.286136Z",
     "shell.execute_reply": "2022-10-16T13:40:18.285780Z"
    }
   },
   "outputs": [
    {
     "name": "stderr",
     "output_type": "stream",
     "text": [
      " 90%|████████████████████████████████████████████████████████████████████████████████████████████████████████████████████████████████████████████████████████████                  | 26/29 [01:00<00:07,  2.37s/it]"
     ]
    },
    {
     "name": "stdout",
     "output_type": "stream",
     "text": [
      "[19:50:30] WARNING: ../src/learner.cc:1115: Starting in XGBoost 1.3.0, the default evaluation metric used with the objective 'binary:logistic' was changed from 'error' to 'logloss'. Explicitly set eval_metric if you'd like to restore the old behavior.\n"
     ]
    },
    {
     "name": "stderr",
     "output_type": "stream",
     "text": [
      "100%|██████████████████████████████████████████████████████████████████████████████████████████████████████████████████████████████████████████████████████████████████████████████| 29/29 [04:57<00:00, 10.25s/it]\n"
     ]
    }
   ],
   "source": [
    "clf11 = LazyClassifier(verbose=0,ignore_warnings=True, custom_metric=None)\n",
    "models11, predictions11 = clf11.fit(X_train11, X_test11, Y_train11, Y_test11)"
   ]
  },
  {
   "cell_type": "code",
   "execution_count": 64,
   "id": "784ffe77",
   "metadata": {
    "execution": {
     "iopub.execute_input": "2022-10-16T13:40:18.287486Z",
     "iopub.status.busy": "2022-10-16T13:40:18.287376Z",
     "iopub.status.idle": "2022-10-16T13:40:18.291854Z",
     "shell.execute_reply": "2022-10-16T13:40:18.291595Z"
    }
   },
   "outputs": [
    {
     "data": {
      "text/html": [
       "<div>\n",
       "<style scoped>\n",
       "    .dataframe tbody tr th:only-of-type {\n",
       "        vertical-align: middle;\n",
       "    }\n",
       "\n",
       "    .dataframe tbody tr th {\n",
       "        vertical-align: top;\n",
       "    }\n",
       "\n",
       "    .dataframe thead th {\n",
       "        text-align: right;\n",
       "    }\n",
       "</style>\n",
       "<table border=\"1\" class=\"dataframe\">\n",
       "  <thead>\n",
       "    <tr style=\"text-align: right;\">\n",
       "      <th></th>\n",
       "      <th>Accuracy</th>\n",
       "      <th>Balanced Accuracy</th>\n",
       "      <th>ROC AUC</th>\n",
       "      <th>F1 Score</th>\n",
       "      <th>Time Taken</th>\n",
       "    </tr>\n",
       "    <tr>\n",
       "      <th>Model</th>\n",
       "      <th></th>\n",
       "      <th></th>\n",
       "      <th></th>\n",
       "      <th></th>\n",
       "      <th></th>\n",
       "    </tr>\n",
       "  </thead>\n",
       "  <tbody>\n",
       "    <tr>\n",
       "      <th>LGBMClassifier</th>\n",
       "      <td>0.83</td>\n",
       "      <td>0.81</td>\n",
       "      <td>0.81</td>\n",
       "      <td>0.83</td>\n",
       "      <td>181.22</td>\n",
       "    </tr>\n",
       "    <tr>\n",
       "      <th>ExtraTreesClassifier</th>\n",
       "      <td>0.82</td>\n",
       "      <td>0.79</td>\n",
       "      <td>0.79</td>\n",
       "      <td>0.81</td>\n",
       "      <td>1.02</td>\n",
       "    </tr>\n",
       "    <tr>\n",
       "      <th>RandomForestClassifier</th>\n",
       "      <td>0.82</td>\n",
       "      <td>0.79</td>\n",
       "      <td>0.79</td>\n",
       "      <td>0.81</td>\n",
       "      <td>2.96</td>\n",
       "    </tr>\n",
       "    <tr>\n",
       "      <th>XGBClassifier</th>\n",
       "      <td>0.81</td>\n",
       "      <td>0.80</td>\n",
       "      <td>0.80</td>\n",
       "      <td>0.81</td>\n",
       "      <td>55.05</td>\n",
       "    </tr>\n",
       "    <tr>\n",
       "      <th>BaggingClassifier</th>\n",
       "      <td>0.78</td>\n",
       "      <td>0.77</td>\n",
       "      <td>0.77</td>\n",
       "      <td>0.78</td>\n",
       "      <td>10.61</td>\n",
       "    </tr>\n",
       "    <tr>\n",
       "      <th>KNeighborsClassifier</th>\n",
       "      <td>0.78</td>\n",
       "      <td>0.76</td>\n",
       "      <td>0.76</td>\n",
       "      <td>0.78</td>\n",
       "      <td>2.31</td>\n",
       "    </tr>\n",
       "    <tr>\n",
       "      <th>AdaBoostClassifier</th>\n",
       "      <td>0.76</td>\n",
       "      <td>0.75</td>\n",
       "      <td>0.75</td>\n",
       "      <td>0.77</td>\n",
       "      <td>6.06</td>\n",
       "    </tr>\n",
       "    <tr>\n",
       "      <th>NuSVC</th>\n",
       "      <td>0.77</td>\n",
       "      <td>0.74</td>\n",
       "      <td>0.74</td>\n",
       "      <td>0.77</td>\n",
       "      <td>4.63</td>\n",
       "    </tr>\n",
       "    <tr>\n",
       "      <th>SVC</th>\n",
       "      <td>0.76</td>\n",
       "      <td>0.73</td>\n",
       "      <td>0.73</td>\n",
       "      <td>0.76</td>\n",
       "      <td>4.28</td>\n",
       "    </tr>\n",
       "    <tr>\n",
       "      <th>RidgeClassifierCV</th>\n",
       "      <td>0.74</td>\n",
       "      <td>0.73</td>\n",
       "      <td>0.73</td>\n",
       "      <td>0.74</td>\n",
       "      <td>1.32</td>\n",
       "    </tr>\n",
       "  </tbody>\n",
       "</table>\n",
       "</div>"
      ],
      "text/plain": [
       "                        Accuracy  Balanced Accuracy  ROC AUC  F1 Score  \\\n",
       "Model                                                                    \n",
       "LGBMClassifier              0.83               0.81     0.81      0.83   \n",
       "ExtraTreesClassifier        0.82               0.79     0.79      0.81   \n",
       "RandomForestClassifier      0.82               0.79     0.79      0.81   \n",
       "XGBClassifier               0.81               0.80     0.80      0.81   \n",
       "BaggingClassifier           0.78               0.77     0.77      0.78   \n",
       "KNeighborsClassifier        0.78               0.76     0.76      0.78   \n",
       "AdaBoostClassifier          0.76               0.75     0.75      0.77   \n",
       "NuSVC                       0.77               0.74     0.74      0.77   \n",
       "SVC                         0.76               0.73     0.73      0.76   \n",
       "RidgeClassifierCV           0.74               0.73     0.73      0.74   \n",
       "\n",
       "                        Time Taken  \n",
       "Model                               \n",
       "LGBMClassifier              181.22  \n",
       "ExtraTreesClassifier          1.02  \n",
       "RandomForestClassifier        2.96  \n",
       "XGBClassifier                55.05  \n",
       "BaggingClassifier            10.61  \n",
       "KNeighborsClassifier          2.31  \n",
       "AdaBoostClassifier            6.06  \n",
       "NuSVC                         4.63  \n",
       "SVC                           4.28  \n",
       "RidgeClassifierCV             1.32  "
      ]
     },
     "execution_count": 64,
     "metadata": {},
     "output_type": "execute_result"
    }
   ],
   "source": [
    "predictions11.sort_values(by=\"F1 Score\", ascending=False).head(10)"
   ]
  },
  {
   "cell_type": "code",
   "execution_count": 65,
   "id": "0da625b4",
   "metadata": {
    "execution": {
     "iopub.execute_input": "2022-10-16T13:40:18.292950Z",
     "iopub.status.busy": "2022-10-16T13:40:18.292848Z",
     "iopub.status.idle": "2022-10-16T13:40:18.294928Z",
     "shell.execute_reply": "2022-10-16T13:40:18.294686Z"
    }
   },
   "outputs": [],
   "source": [
    "predictions11.to_csv('LazyPredict_MAP4_1Dadded.csv')"
   ]
  },
  {
   "cell_type": "markdown",
   "id": "09f734dd",
   "metadata": {},
   "source": [
    "### By combining 1D descriptors - 9 of them -  with fingerprints of 2048 bits"
   ]
  },
  {
   "cell_type": "code",
   "execution_count": 66,
   "id": "8b84c096",
   "metadata": {
    "execution": {
     "iopub.execute_input": "2022-10-16T13:40:18.296038Z",
     "iopub.status.busy": "2022-10-16T13:40:18.295937Z",
     "iopub.status.idle": "2022-10-16T13:40:18.312563Z",
     "shell.execute_reply": "2022-10-16T13:40:18.312276Z"
    }
   },
   "outputs": [
    {
     "data": {
      "text/plain": [
       "(2971, 2057)"
      ]
     },
     "execution_count": 66,
     "metadata": {},
     "output_type": "execute_result"
    }
   ],
   "source": [
    "#with Morgan 2048 bits fingerprints\n",
    "fp = np.array(list((df2['fp_Morgan3']))).astype(float)\n",
    "oneD = np.array((df2[['molecular_weight', 'n_rot','n_heavy', 'n_hba', 'n_hbd', 'logp', 'num_ar', 'num_sa', 'num_alip' ]])).astype(float)\n",
    "X12 = np.column_stack((fp,oneD))\n",
    "Y12 = df2[\"activity\"].values\n",
    "X12.shape"
   ]
  },
  {
   "cell_type": "code",
   "execution_count": 67,
   "id": "4defeadf",
   "metadata": {
    "execution": {
     "iopub.execute_input": "2022-10-16T13:40:18.313756Z",
     "iopub.status.busy": "2022-10-16T13:40:18.313649Z",
     "iopub.status.idle": "2022-10-16T13:40:18.320200Z",
     "shell.execute_reply": "2022-10-16T13:40:18.319929Z"
    }
   },
   "outputs": [
    {
     "name": "stdout",
     "output_type": "stream",
     "text": [
      "Shape of training data: (2376, 2057)\n",
      "Shape of test data: (595, 2057)\n"
     ]
    }
   ],
   "source": [
    "# Split the data into training and test set\n",
    "# Perform data splitting using 80/20 ratio\n",
    "X_train12, X_test12, Y_train12, Y_test12 = train_test_split(X12, Y12, test_size=0.2, random_state=42)\n",
    "\n",
    "# Print the shape of training and testing data\n",
    "print(\"Shape of training data:\", X_train12.shape)\n",
    "print(\"Shape of test data:\", X_test12.shape)\n",
    "# NBVAL_CHECK_OUTPUT"
   ]
  },
  {
   "cell_type": "code",
   "execution_count": 68,
   "id": "e9d7d547",
   "metadata": {
    "execution": {
     "iopub.execute_input": "2022-10-16T13:40:18.321315Z",
     "iopub.status.busy": "2022-10-16T13:40:18.321209Z",
     "iopub.status.idle": "2022-10-16T13:43:41.969467Z",
     "shell.execute_reply": "2022-10-16T13:43:41.969077Z"
    }
   },
   "outputs": [
    {
     "name": "stderr",
     "output_type": "stream",
     "text": [
      " 90%|████████████████████████████████████████████████████████████████████████████████████████████████████████████████████████████████████████████████████████████                  | 26/29 [01:34<00:18,  6.24s/it]"
     ]
    },
    {
     "name": "stdout",
     "output_type": "stream",
     "text": [
      "[19:56:01] WARNING: ../src/learner.cc:1115: Starting in XGBoost 1.3.0, the default evaluation metric used with the objective 'binary:logistic' was changed from 'error' to 'logloss'. Explicitly set eval_metric if you'd like to restore the old behavior.\n"
     ]
    },
    {
     "name": "stderr",
     "output_type": "stream",
     "text": [
      "100%|██████████████████████████████████████████████████████████████████████████████████████████████████████████████████████████████████████████████████████████████████████████████| 29/29 [03:43<00:00,  7.69s/it]\n"
     ]
    }
   ],
   "source": [
    "clf12 = LazyClassifier(verbose=0,ignore_warnings=True, custom_metric=None)\n",
    "models12, predictions12 = clf12.fit(X_train12, X_test12, Y_train12, Y_test12)"
   ]
  },
  {
   "cell_type": "code",
   "execution_count": 69,
   "id": "f30ead53",
   "metadata": {
    "execution": {
     "iopub.execute_input": "2022-10-16T13:43:41.970819Z",
     "iopub.status.busy": "2022-10-16T13:43:41.970708Z",
     "iopub.status.idle": "2022-10-16T13:43:41.975376Z",
     "shell.execute_reply": "2022-10-16T13:43:41.975087Z"
    }
   },
   "outputs": [
    {
     "data": {
      "text/html": [
       "<div>\n",
       "<style scoped>\n",
       "    .dataframe tbody tr th:only-of-type {\n",
       "        vertical-align: middle;\n",
       "    }\n",
       "\n",
       "    .dataframe tbody tr th {\n",
       "        vertical-align: top;\n",
       "    }\n",
       "\n",
       "    .dataframe thead th {\n",
       "        text-align: right;\n",
       "    }\n",
       "</style>\n",
       "<table border=\"1\" class=\"dataframe\">\n",
       "  <thead>\n",
       "    <tr style=\"text-align: right;\">\n",
       "      <th></th>\n",
       "      <th>Accuracy</th>\n",
       "      <th>Balanced Accuracy</th>\n",
       "      <th>ROC AUC</th>\n",
       "      <th>F1 Score</th>\n",
       "      <th>Time Taken</th>\n",
       "    </tr>\n",
       "    <tr>\n",
       "      <th>Model</th>\n",
       "      <th></th>\n",
       "      <th></th>\n",
       "      <th></th>\n",
       "      <th></th>\n",
       "      <th></th>\n",
       "    </tr>\n",
       "  </thead>\n",
       "  <tbody>\n",
       "    <tr>\n",
       "      <th>ExtraTreesClassifier</th>\n",
       "      <td>0.87</td>\n",
       "      <td>0.86</td>\n",
       "      <td>0.86</td>\n",
       "      <td>0.87</td>\n",
       "      <td>1.02</td>\n",
       "    </tr>\n",
       "    <tr>\n",
       "      <th>RandomForestClassifier</th>\n",
       "      <td>0.87</td>\n",
       "      <td>0.85</td>\n",
       "      <td>0.85</td>\n",
       "      <td>0.86</td>\n",
       "      <td>0.73</td>\n",
       "    </tr>\n",
       "    <tr>\n",
       "      <th>XGBClassifier</th>\n",
       "      <td>0.85</td>\n",
       "      <td>0.84</td>\n",
       "      <td>0.84</td>\n",
       "      <td>0.85</td>\n",
       "      <td>45.84</td>\n",
       "    </tr>\n",
       "    <tr>\n",
       "      <th>LGBMClassifier</th>\n",
       "      <td>0.85</td>\n",
       "      <td>0.84</td>\n",
       "      <td>0.84</td>\n",
       "      <td>0.85</td>\n",
       "      <td>82.29</td>\n",
       "    </tr>\n",
       "    <tr>\n",
       "      <th>BaggingClassifier</th>\n",
       "      <td>0.85</td>\n",
       "      <td>0.84</td>\n",
       "      <td>0.84</td>\n",
       "      <td>0.85</td>\n",
       "      <td>1.74</td>\n",
       "    </tr>\n",
       "    <tr>\n",
       "      <th>NuSVC</th>\n",
       "      <td>0.84</td>\n",
       "      <td>0.82</td>\n",
       "      <td>0.82</td>\n",
       "      <td>0.84</td>\n",
       "      <td>10.17</td>\n",
       "    </tr>\n",
       "    <tr>\n",
       "      <th>SVC</th>\n",
       "      <td>0.83</td>\n",
       "      <td>0.81</td>\n",
       "      <td>0.81</td>\n",
       "      <td>0.83</td>\n",
       "      <td>9.75</td>\n",
       "    </tr>\n",
       "    <tr>\n",
       "      <th>CalibratedClassifierCV</th>\n",
       "      <td>0.82</td>\n",
       "      <td>0.79</td>\n",
       "      <td>0.79</td>\n",
       "      <td>0.81</td>\n",
       "      <td>15.07</td>\n",
       "    </tr>\n",
       "    <tr>\n",
       "      <th>NearestCentroid</th>\n",
       "      <td>0.81</td>\n",
       "      <td>0.81</td>\n",
       "      <td>0.81</td>\n",
       "      <td>0.81</td>\n",
       "      <td>0.16</td>\n",
       "    </tr>\n",
       "    <tr>\n",
       "      <th>DecisionTreeClassifier</th>\n",
       "      <td>0.81</td>\n",
       "      <td>0.80</td>\n",
       "      <td>0.80</td>\n",
       "      <td>0.81</td>\n",
       "      <td>0.38</td>\n",
       "    </tr>\n",
       "  </tbody>\n",
       "</table>\n",
       "</div>"
      ],
      "text/plain": [
       "                        Accuracy  Balanced Accuracy  ROC AUC  F1 Score  \\\n",
       "Model                                                                    \n",
       "ExtraTreesClassifier        0.87               0.86     0.86      0.87   \n",
       "RandomForestClassifier      0.87               0.85     0.85      0.86   \n",
       "XGBClassifier               0.85               0.84     0.84      0.85   \n",
       "LGBMClassifier              0.85               0.84     0.84      0.85   \n",
       "BaggingClassifier           0.85               0.84     0.84      0.85   \n",
       "NuSVC                       0.84               0.82     0.82      0.84   \n",
       "SVC                         0.83               0.81     0.81      0.83   \n",
       "CalibratedClassifierCV      0.82               0.79     0.79      0.81   \n",
       "NearestCentroid             0.81               0.81     0.81      0.81   \n",
       "DecisionTreeClassifier      0.81               0.80     0.80      0.81   \n",
       "\n",
       "                        Time Taken  \n",
       "Model                               \n",
       "ExtraTreesClassifier          1.02  \n",
       "RandomForestClassifier        0.73  \n",
       "XGBClassifier                45.84  \n",
       "LGBMClassifier               82.29  \n",
       "BaggingClassifier             1.74  \n",
       "NuSVC                        10.17  \n",
       "SVC                           9.75  \n",
       "CalibratedClassifierCV       15.07  \n",
       "NearestCentroid               0.16  \n",
       "DecisionTreeClassifier        0.38  "
      ]
     },
     "execution_count": 69,
     "metadata": {},
     "output_type": "execute_result"
    }
   ],
   "source": [
    "predictions12.sort_values(by=\"F1 Score\", ascending=False).head(10)"
   ]
  },
  {
   "cell_type": "code",
   "execution_count": 70,
   "id": "a90d5bc1",
   "metadata": {
    "execution": {
     "iopub.execute_input": "2022-10-16T13:43:41.976509Z",
     "iopub.status.busy": "2022-10-16T13:43:41.976405Z",
     "iopub.status.idle": "2022-10-16T13:43:41.978673Z",
     "shell.execute_reply": "2022-10-16T13:43:41.978359Z"
    }
   },
   "outputs": [],
   "source": [
    "predictions12.to_csv('LazyPredict_Morgan3_2048_1Dadded.csv')"
   ]
  },
  {
   "cell_type": "code",
   "execution_count": 71,
   "id": "0ebda2df",
   "metadata": {
    "execution": {
     "iopub.execute_input": "2022-10-16T13:43:41.979780Z",
     "iopub.status.busy": "2022-10-16T13:43:41.979678Z",
     "iopub.status.idle": "2022-10-16T13:43:41.996681Z",
     "shell.execute_reply": "2022-10-16T13:43:41.996323Z"
    }
   },
   "outputs": [
    {
     "data": {
      "text/plain": [
       "(2971, 2057)"
      ]
     },
     "execution_count": 71,
     "metadata": {},
     "output_type": "execute_result"
    }
   ],
   "source": [
    "#with Morgan 2048 bits fingerprints with feautures\n",
    "fp = np.array(list((df2['fp_MorganF']))).astype(float)\n",
    "oneD = np.array((df2[['molecular_weight', 'n_rot','n_heavy', 'n_hba', 'n_hbd', 'logp', 'num_ar', 'num_sa', 'num_alip' ]])).astype(float)\n",
    "X13 = np.column_stack((fp,oneD))\n",
    "Y13 = df2[\"activity\"].values\n",
    "X13.shape"
   ]
  },
  {
   "cell_type": "code",
   "execution_count": 72,
   "id": "0121270b",
   "metadata": {
    "execution": {
     "iopub.execute_input": "2022-10-16T13:43:41.997996Z",
     "iopub.status.busy": "2022-10-16T13:43:41.997888Z",
     "iopub.status.idle": "2022-10-16T13:43:42.004635Z",
     "shell.execute_reply": "2022-10-16T13:43:42.004282Z"
    }
   },
   "outputs": [
    {
     "name": "stdout",
     "output_type": "stream",
     "text": [
      "Shape of training data: (2376, 2057)\n",
      "Shape of test data: (595, 2057)\n"
     ]
    }
   ],
   "source": [
    "# Split the data into training and test set\n",
    "# Perform data splitting using 80/20 ratio\n",
    "X_train13, X_test13, Y_train13, Y_test13 = train_test_split(X13, Y13, test_size=0.2, random_state=42)\n",
    "\n",
    "# Print the shape of training and testing data\n",
    "print(\"Shape of training data:\", X_train13.shape)\n",
    "print(\"Shape of test data:\", X_test13.shape)\n",
    "# NBVAL_CHECK_OUTPUT"
   ]
  },
  {
   "cell_type": "code",
   "execution_count": 73,
   "id": "4f03146f",
   "metadata": {
    "execution": {
     "iopub.execute_input": "2022-10-16T13:43:42.005991Z",
     "iopub.status.busy": "2022-10-16T13:43:42.005743Z",
     "iopub.status.idle": "2022-10-16T13:47:07.249285Z",
     "shell.execute_reply": "2022-10-16T13:47:07.248884Z"
    }
   },
   "outputs": [
    {
     "name": "stderr",
     "output_type": "stream",
     "text": [
      " 90%|████████████████████████████████████████████████████████████████████████████████████████████████████████████████████████████████████████████████████████████                  | 26/29 [01:39<00:20,  6.71s/it]"
     ]
    },
    {
     "name": "stdout",
     "output_type": "stream",
     "text": [
      "[19:59:49] WARNING: ../src/learner.cc:1115: Starting in XGBoost 1.3.0, the default evaluation metric used with the objective 'binary:logistic' was changed from 'error' to 'logloss'. Explicitly set eval_metric if you'd like to restore the old behavior.\n"
     ]
    },
    {
     "name": "stderr",
     "output_type": "stream",
     "text": [
      "100%|██████████████████████████████████████████████████████████████████████████████████████████████████████████████████████████████████████████████████████████████████████████████| 29/29 [05:03<00:00, 10.48s/it]\n"
     ]
    }
   ],
   "source": [
    "clf13 = LazyClassifier(verbose=0,ignore_warnings=True, custom_metric=None)\n",
    "models13, predictions13 = clf13.fit(X_train13, X_test13, Y_train13, Y_test13)"
   ]
  },
  {
   "cell_type": "code",
   "execution_count": 74,
   "id": "773b23e9",
   "metadata": {
    "execution": {
     "iopub.execute_input": "2022-10-16T13:47:07.250748Z",
     "iopub.status.busy": "2022-10-16T13:47:07.250578Z",
     "iopub.status.idle": "2022-10-16T13:47:07.255372Z",
     "shell.execute_reply": "2022-10-16T13:47:07.255075Z"
    }
   },
   "outputs": [
    {
     "data": {
      "text/html": [
       "<div>\n",
       "<style scoped>\n",
       "    .dataframe tbody tr th:only-of-type {\n",
       "        vertical-align: middle;\n",
       "    }\n",
       "\n",
       "    .dataframe tbody tr th {\n",
       "        vertical-align: top;\n",
       "    }\n",
       "\n",
       "    .dataframe thead th {\n",
       "        text-align: right;\n",
       "    }\n",
       "</style>\n",
       "<table border=\"1\" class=\"dataframe\">\n",
       "  <thead>\n",
       "    <tr style=\"text-align: right;\">\n",
       "      <th></th>\n",
       "      <th>Accuracy</th>\n",
       "      <th>Balanced Accuracy</th>\n",
       "      <th>ROC AUC</th>\n",
       "      <th>F1 Score</th>\n",
       "      <th>Time Taken</th>\n",
       "    </tr>\n",
       "    <tr>\n",
       "      <th>Model</th>\n",
       "      <th></th>\n",
       "      <th></th>\n",
       "      <th></th>\n",
       "      <th></th>\n",
       "      <th></th>\n",
       "    </tr>\n",
       "  </thead>\n",
       "  <tbody>\n",
       "    <tr>\n",
       "      <th>RandomForestClassifier</th>\n",
       "      <td>0.87</td>\n",
       "      <td>0.85</td>\n",
       "      <td>0.85</td>\n",
       "      <td>0.87</td>\n",
       "      <td>0.73</td>\n",
       "    </tr>\n",
       "    <tr>\n",
       "      <th>ExtraTreesClassifier</th>\n",
       "      <td>0.86</td>\n",
       "      <td>0.84</td>\n",
       "      <td>0.84</td>\n",
       "      <td>0.86</td>\n",
       "      <td>0.93</td>\n",
       "    </tr>\n",
       "    <tr>\n",
       "      <th>LGBMClassifier</th>\n",
       "      <td>0.86</td>\n",
       "      <td>0.84</td>\n",
       "      <td>0.84</td>\n",
       "      <td>0.86</td>\n",
       "      <td>158.63</td>\n",
       "    </tr>\n",
       "    <tr>\n",
       "      <th>XGBClassifier</th>\n",
       "      <td>0.85</td>\n",
       "      <td>0.84</td>\n",
       "      <td>0.84</td>\n",
       "      <td>0.85</td>\n",
       "      <td>45.61</td>\n",
       "    </tr>\n",
       "    <tr>\n",
       "      <th>BaggingClassifier</th>\n",
       "      <td>0.83</td>\n",
       "      <td>0.82</td>\n",
       "      <td>0.82</td>\n",
       "      <td>0.83</td>\n",
       "      <td>1.49</td>\n",
       "    </tr>\n",
       "    <tr>\n",
       "      <th>SVC</th>\n",
       "      <td>0.83</td>\n",
       "      <td>0.81</td>\n",
       "      <td>0.81</td>\n",
       "      <td>0.83</td>\n",
       "      <td>8.69</td>\n",
       "    </tr>\n",
       "    <tr>\n",
       "      <th>NuSVC</th>\n",
       "      <td>0.83</td>\n",
       "      <td>0.80</td>\n",
       "      <td>0.80</td>\n",
       "      <td>0.83</td>\n",
       "      <td>10.42</td>\n",
       "    </tr>\n",
       "    <tr>\n",
       "      <th>AdaBoostClassifier</th>\n",
       "      <td>0.83</td>\n",
       "      <td>0.81</td>\n",
       "      <td>0.81</td>\n",
       "      <td>0.83</td>\n",
       "      <td>1.39</td>\n",
       "    </tr>\n",
       "    <tr>\n",
       "      <th>NearestCentroid</th>\n",
       "      <td>0.81</td>\n",
       "      <td>0.81</td>\n",
       "      <td>0.81</td>\n",
       "      <td>0.81</td>\n",
       "      <td>0.18</td>\n",
       "    </tr>\n",
       "    <tr>\n",
       "      <th>LogisticRegression</th>\n",
       "      <td>0.81</td>\n",
       "      <td>0.79</td>\n",
       "      <td>0.79</td>\n",
       "      <td>0.81</td>\n",
       "      <td>0.52</td>\n",
       "    </tr>\n",
       "  </tbody>\n",
       "</table>\n",
       "</div>"
      ],
      "text/plain": [
       "                        Accuracy  Balanced Accuracy  ROC AUC  F1 Score  \\\n",
       "Model                                                                    \n",
       "RandomForestClassifier      0.87               0.85     0.85      0.87   \n",
       "ExtraTreesClassifier        0.86               0.84     0.84      0.86   \n",
       "LGBMClassifier              0.86               0.84     0.84      0.86   \n",
       "XGBClassifier               0.85               0.84     0.84      0.85   \n",
       "BaggingClassifier           0.83               0.82     0.82      0.83   \n",
       "SVC                         0.83               0.81     0.81      0.83   \n",
       "NuSVC                       0.83               0.80     0.80      0.83   \n",
       "AdaBoostClassifier          0.83               0.81     0.81      0.83   \n",
       "NearestCentroid             0.81               0.81     0.81      0.81   \n",
       "LogisticRegression          0.81               0.79     0.79      0.81   \n",
       "\n",
       "                        Time Taken  \n",
       "Model                               \n",
       "RandomForestClassifier        0.73  \n",
       "ExtraTreesClassifier          0.93  \n",
       "LGBMClassifier              158.63  \n",
       "XGBClassifier                45.61  \n",
       "BaggingClassifier             1.49  \n",
       "SVC                           8.69  \n",
       "NuSVC                        10.42  \n",
       "AdaBoostClassifier            1.39  \n",
       "NearestCentroid               0.18  \n",
       "LogisticRegression            0.52  "
      ]
     },
     "execution_count": 74,
     "metadata": {},
     "output_type": "execute_result"
    }
   ],
   "source": [
    "predictions13.sort_values(by=\"F1 Score\", ascending=False).head(10)"
   ]
  },
  {
   "cell_type": "code",
   "execution_count": 75,
   "id": "2e5d45ec",
   "metadata": {
    "execution": {
     "iopub.execute_input": "2022-10-16T13:47:07.256699Z",
     "iopub.status.busy": "2022-10-16T13:47:07.256454Z",
     "iopub.status.idle": "2022-10-16T13:47:07.258842Z",
     "shell.execute_reply": "2022-10-16T13:47:07.258510Z"
    }
   },
   "outputs": [],
   "source": [
    "predictions13.to_csv('LazyPredict_MorganF_2048_1Dadded.csv')"
   ]
  },
  {
   "cell_type": "code",
   "execution_count": 76,
   "id": "828ae4d8",
   "metadata": {
    "execution": {
     "iopub.execute_input": "2022-10-16T13:47:07.259990Z",
     "iopub.status.busy": "2022-10-16T13:47:07.259887Z",
     "iopub.status.idle": "2022-10-16T13:47:07.277146Z",
     "shell.execute_reply": "2022-10-16T13:47:07.276774Z"
    }
   },
   "outputs": [
    {
     "data": {
      "text/plain": [
       "(2971, 2057)"
      ]
     },
     "execution_count": 76,
     "metadata": {},
     "output_type": "execute_result"
    }
   ],
   "source": [
    "#with MAP4 2048 bits fingerprints\n",
    "fp = np.array(list((df2['fp_MAP4']))).astype(float)\n",
    "oneD = np.array((df2[['molecular_weight', 'n_rot','n_heavy', 'n_hba', 'n_hbd', 'logp', 'num_ar', 'num_sa', 'num_alip' ]])).astype(float)\n",
    "X14 = np.column_stack((fp,oneD))\n",
    "Y14 = df2[\"activity\"].values\n",
    "X14.shape"
   ]
  },
  {
   "cell_type": "code",
   "execution_count": 77,
   "id": "f0d6541b",
   "metadata": {
    "execution": {
     "iopub.execute_input": "2022-10-16T13:47:07.278586Z",
     "iopub.status.busy": "2022-10-16T13:47:07.278451Z",
     "iopub.status.idle": "2022-10-16T13:47:07.287290Z",
     "shell.execute_reply": "2022-10-16T13:47:07.286881Z"
    }
   },
   "outputs": [
    {
     "name": "stdout",
     "output_type": "stream",
     "text": [
      "Shape of training data: (2376, 2057)\n",
      "Shape of test data: (595, 2057)\n"
     ]
    }
   ],
   "source": [
    "# Split the data into training and test set\n",
    "# Perform data splitting using 80/20 ratio\n",
    "X_train14, X_test14, Y_train14, Y_test14 = train_test_split(X14, Y14, test_size=0.2, random_state=42)\n",
    "\n",
    "# Print the shape of training and testing data\n",
    "print(\"Shape of training data:\", X_train14.shape)\n",
    "print(\"Shape of test data:\", X_test14.shape)\n",
    "# NBVAL_CHECK_OUTPUT"
   ]
  },
  {
   "cell_type": "code",
   "execution_count": 78,
   "id": "8811fffc",
   "metadata": {
    "execution": {
     "iopub.execute_input": "2022-10-16T13:47:07.288710Z",
     "iopub.status.busy": "2022-10-16T13:47:07.288599Z",
     "iopub.status.idle": "2022-10-16T13:51:47.514555Z",
     "shell.execute_reply": "2022-10-16T13:51:47.514149Z"
    }
   },
   "outputs": [
    {
     "name": "stderr",
     "output_type": "stream",
     "text": [
      " 90%|████████████████████████████████████████████████████████████████████████████████████████████████████████████████████████████████████████████████████████████                  | 26/29 [02:11<00:17,  5.83s/it]"
     ]
    },
    {
     "name": "stdout",
     "output_type": "stream",
     "text": [
      "[20:05:25] WARNING: ../src/learner.cc:1115: Starting in XGBoost 1.3.0, the default evaluation metric used with the objective 'binary:logistic' was changed from 'error' to 'logloss'. Explicitly set eval_metric if you'd like to restore the old behavior.\n"
     ]
    },
    {
     "name": "stderr",
     "output_type": "stream",
     "text": [
      "100%|██████████████████████████████████████████████████████████████████████████████████████████████████████████████████████████████████████████████████████████████████████████████| 29/29 [06:57<00:00, 14.40s/it]\n"
     ]
    }
   ],
   "source": [
    "clf14 = LazyClassifier(verbose=0,ignore_warnings=True, custom_metric=None)\n",
    "models14, predictions14 = clf14.fit(X_train14, X_test14, Y_train14, Y_test14)"
   ]
  },
  {
   "cell_type": "code",
   "execution_count": 79,
   "id": "4966a8ab",
   "metadata": {
    "execution": {
     "iopub.execute_input": "2022-10-16T13:51:47.515988Z",
     "iopub.status.busy": "2022-10-16T13:51:47.515876Z",
     "iopub.status.idle": "2022-10-16T13:51:47.520556Z",
     "shell.execute_reply": "2022-10-16T13:51:47.520262Z"
    }
   },
   "outputs": [
    {
     "data": {
      "text/html": [
       "<div>\n",
       "<style scoped>\n",
       "    .dataframe tbody tr th:only-of-type {\n",
       "        vertical-align: middle;\n",
       "    }\n",
       "\n",
       "    .dataframe tbody tr th {\n",
       "        vertical-align: top;\n",
       "    }\n",
       "\n",
       "    .dataframe thead th {\n",
       "        text-align: right;\n",
       "    }\n",
       "</style>\n",
       "<table border=\"1\" class=\"dataframe\">\n",
       "  <thead>\n",
       "    <tr style=\"text-align: right;\">\n",
       "      <th></th>\n",
       "      <th>Accuracy</th>\n",
       "      <th>Balanced Accuracy</th>\n",
       "      <th>ROC AUC</th>\n",
       "      <th>F1 Score</th>\n",
       "      <th>Time Taken</th>\n",
       "    </tr>\n",
       "    <tr>\n",
       "      <th>Model</th>\n",
       "      <th></th>\n",
       "      <th></th>\n",
       "      <th></th>\n",
       "      <th></th>\n",
       "      <th></th>\n",
       "    </tr>\n",
       "  </thead>\n",
       "  <tbody>\n",
       "    <tr>\n",
       "      <th>RandomForestClassifier</th>\n",
       "      <td>0.85</td>\n",
       "      <td>0.83</td>\n",
       "      <td>0.83</td>\n",
       "      <td>0.85</td>\n",
       "      <td>4.34</td>\n",
       "    </tr>\n",
       "    <tr>\n",
       "      <th>LGBMClassifier</th>\n",
       "      <td>0.85</td>\n",
       "      <td>0.83</td>\n",
       "      <td>0.83</td>\n",
       "      <td>0.85</td>\n",
       "      <td>229.84</td>\n",
       "    </tr>\n",
       "    <tr>\n",
       "      <th>XGBClassifier</th>\n",
       "      <td>0.84</td>\n",
       "      <td>0.82</td>\n",
       "      <td>0.82</td>\n",
       "      <td>0.84</td>\n",
       "      <td>56.57</td>\n",
       "    </tr>\n",
       "    <tr>\n",
       "      <th>ExtraTreesClassifier</th>\n",
       "      <td>0.83</td>\n",
       "      <td>0.81</td>\n",
       "      <td>0.81</td>\n",
       "      <td>0.83</td>\n",
       "      <td>1.12</td>\n",
       "    </tr>\n",
       "    <tr>\n",
       "      <th>NuSVC</th>\n",
       "      <td>0.83</td>\n",
       "      <td>0.81</td>\n",
       "      <td>0.81</td>\n",
       "      <td>0.83</td>\n",
       "      <td>10.11</td>\n",
       "    </tr>\n",
       "    <tr>\n",
       "      <th>KNeighborsClassifier</th>\n",
       "      <td>0.82</td>\n",
       "      <td>0.79</td>\n",
       "      <td>0.79</td>\n",
       "      <td>0.81</td>\n",
       "      <td>4.57</td>\n",
       "    </tr>\n",
       "    <tr>\n",
       "      <th>BaggingClassifier</th>\n",
       "      <td>0.81</td>\n",
       "      <td>0.80</td>\n",
       "      <td>0.80</td>\n",
       "      <td>0.81</td>\n",
       "      <td>22.56</td>\n",
       "    </tr>\n",
       "    <tr>\n",
       "      <th>SVC</th>\n",
       "      <td>0.81</td>\n",
       "      <td>0.79</td>\n",
       "      <td>0.79</td>\n",
       "      <td>0.81</td>\n",
       "      <td>8.95</td>\n",
       "    </tr>\n",
       "    <tr>\n",
       "      <th>AdaBoostClassifier</th>\n",
       "      <td>0.81</td>\n",
       "      <td>0.80</td>\n",
       "      <td>0.80</td>\n",
       "      <td>0.81</td>\n",
       "      <td>12.52</td>\n",
       "    </tr>\n",
       "    <tr>\n",
       "      <th>LogisticRegression</th>\n",
       "      <td>0.79</td>\n",
       "      <td>0.77</td>\n",
       "      <td>0.77</td>\n",
       "      <td>0.79</td>\n",
       "      <td>1.18</td>\n",
       "    </tr>\n",
       "  </tbody>\n",
       "</table>\n",
       "</div>"
      ],
      "text/plain": [
       "                        Accuracy  Balanced Accuracy  ROC AUC  F1 Score  \\\n",
       "Model                                                                    \n",
       "RandomForestClassifier      0.85               0.83     0.83      0.85   \n",
       "LGBMClassifier              0.85               0.83     0.83      0.85   \n",
       "XGBClassifier               0.84               0.82     0.82      0.84   \n",
       "ExtraTreesClassifier        0.83               0.81     0.81      0.83   \n",
       "NuSVC                       0.83               0.81     0.81      0.83   \n",
       "KNeighborsClassifier        0.82               0.79     0.79      0.81   \n",
       "BaggingClassifier           0.81               0.80     0.80      0.81   \n",
       "SVC                         0.81               0.79     0.79      0.81   \n",
       "AdaBoostClassifier          0.81               0.80     0.80      0.81   \n",
       "LogisticRegression          0.79               0.77     0.77      0.79   \n",
       "\n",
       "                        Time Taken  \n",
       "Model                               \n",
       "RandomForestClassifier        4.34  \n",
       "LGBMClassifier              229.84  \n",
       "XGBClassifier                56.57  \n",
       "ExtraTreesClassifier          1.12  \n",
       "NuSVC                        10.11  \n",
       "KNeighborsClassifier          4.57  \n",
       "BaggingClassifier            22.56  \n",
       "SVC                           8.95  \n",
       "AdaBoostClassifier           12.52  \n",
       "LogisticRegression            1.18  "
      ]
     },
     "execution_count": 79,
     "metadata": {},
     "output_type": "execute_result"
    }
   ],
   "source": [
    "predictions14.sort_values(by=\"F1 Score\", ascending=False).head(10)"
   ]
  },
  {
   "cell_type": "code",
   "execution_count": 80,
   "id": "1b336810",
   "metadata": {
    "execution": {
     "iopub.execute_input": "2022-10-16T13:51:47.521719Z",
     "iopub.status.busy": "2022-10-16T13:51:47.521615Z",
     "iopub.status.idle": "2022-10-16T13:51:47.523875Z",
     "shell.execute_reply": "2022-10-16T13:51:47.523581Z"
    }
   },
   "outputs": [],
   "source": [
    "predictions14.to_csv('LazyPredict_MAP4_2048_1Dadded.csv')"
   ]
  }
 ],
 "metadata": {
  "kernelspec": {
   "display_name": "Python 3 (ipykernel)",
   "language": "python",
   "name": "python3"
  },
  "language_info": {
   "codemirror_mode": {
    "name": "ipython",
    "version": 3
   },
   "file_extension": ".py",
   "mimetype": "text/x-python",
   "name": "python",
   "nbconvert_exporter": "python",
   "pygments_lexer": "ipython3",
   "version": "3.8.13"
  }
 },
 "nbformat": 4,
 "nbformat_minor": 5
}
